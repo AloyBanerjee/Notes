{
 "cells": [
  {
   "cell_type": "markdown",
   "metadata": {},
   "source": [
    "#### Import Libraries"
   ]
  },
  {
   "cell_type": "code",
   "execution_count": 63,
   "metadata": {},
   "outputs": [],
   "source": [
    "import numpy as np \n",
    "import pandas as pd\n",
    "import json\n",
    "import os \n",
    "from dotenv import load_dotenv  "
   ]
  },
  {
   "cell_type": "code",
   "execution_count": 65,
   "metadata": {},
   "outputs": [
    {
     "data": {
      "text/plain": [
       "True"
      ]
     },
     "execution_count": 65,
     "metadata": {},
     "output_type": "execute_result"
    }
   ],
   "source": [
    "load_dotenv()"
   ]
  },
  {
   "cell_type": "code",
   "execution_count": 68,
   "metadata": {},
   "outputs": [],
   "source": [
    "os.environ['GEMINI_API_KEY'] = os.getenv('GEMINI_API_KEY')\n",
    "os.environ['OPENAI_API_KEY'] = os.getenv('OPENAI_API_KEY')\n",
    "os.environ['GROQ_API_KEY'] = os.getenv('GROQ_API_KEY')"
   ]
  },
  {
   "cell_type": "markdown",
   "metadata": {},
   "source": [
    "#### Load Data "
   ]
  },
  {
   "cell_type": "code",
   "execution_count": 2,
   "metadata": {},
   "outputs": [],
   "source": [
    "maude_data = pd.read_excel(r'Data\\fda_device_data - Subset.xlsx')"
   ]
  },
  {
   "cell_type": "code",
   "execution_count": 3,
   "metadata": {},
   "outputs": [
    {
     "data": {
      "text/html": [
       "<div>\n",
       "<style scoped>\n",
       "    .dataframe tbody tr th:only-of-type {\n",
       "        vertical-align: middle;\n",
       "    }\n",
       "\n",
       "    .dataframe tbody tr th {\n",
       "        vertical-align: top;\n",
       "    }\n",
       "\n",
       "    .dataframe thead th {\n",
       "        text-align: right;\n",
       "    }\n",
       "</style>\n",
       "<table border=\"1\" class=\"dataframe\">\n",
       "  <thead>\n",
       "    <tr style=\"text-align: right;\">\n",
       "      <th></th>\n",
       "      <th>event_type</th>\n",
       "      <th>date_of_event</th>\n",
       "      <th>product_problems</th>\n",
       "      <th>complaint_txt</th>\n",
       "      <th>follow_up</th>\n",
       "      <th>manufacturer_narrative</th>\n",
       "      <th>device_generic_name</th>\n",
       "      <th>device_manufacturer_name</th>\n",
       "      <th>device_model_number</th>\n",
       "      <th>device_lot_number</th>\n",
       "      <th>device_report_product_code</th>\n",
       "      <th>expiration_date_of_device</th>\n",
       "      <th>date_returned_to_manufacturer</th>\n",
       "      <th>device_availability</th>\n",
       "      <th>device_operator</th>\n",
       "      <th>device_name</th>\n",
       "    </tr>\n",
       "  </thead>\n",
       "  <tbody>\n",
       "    <tr>\n",
       "      <th>0</th>\n",
       "      <td>Malfunction</td>\n",
       "      <td>20200418</td>\n",
       "      <td>['Battery Problem', 'Power Problem']</td>\n",
       "      <td>INFORMATION RECEIVED BY MEDTRONIC INDICATED TH...</td>\n",
       "      <td>NaN</td>\n",
       "      <td>(B)(4). CURRENTLY IT IS UNKNOWN WHETHER OR NOT...</td>\n",
       "      <td>ARTIFICIAL PANCREAS DEVICE SYSTEM, THRESHOLD S...</td>\n",
       "      <td>MEDTRONIC PUERTO RICO OPERATIONS CO.</td>\n",
       "      <td>MMT-1715K</td>\n",
       "      <td>HG1B44Y</td>\n",
       "      <td>OZO</td>\n",
       "      <td>NaN</td>\n",
       "      <td>20200429.0</td>\n",
       "      <td>Device was returned to manufacturer</td>\n",
       "      <td>LAY USER/PATIENT</td>\n",
       "      <td>Automated Insulin Dosing , Threshold Suspend</td>\n",
       "    </tr>\n",
       "    <tr>\n",
       "      <th>1</th>\n",
       "      <td>Malfunction</td>\n",
       "      <td>20200421</td>\n",
       "      <td>['Excess Flow or Over-Infusion', 'Battery Prob...</td>\n",
       "      <td>INFORMATION RECEIVED BY MEDTRONIC INDICATED TH...</td>\n",
       "      <td>NaN</td>\n",
       "      <td>CURRENTLY IT IS UNKNOWN WHETHER OR NOT THE DEV...</td>\n",
       "      <td>PUMP, INFUSION, INSULIN, TO BE USED WITH INVAS...</td>\n",
       "      <td>MEDTRONIC MINIMED</td>\n",
       "      <td>MMT-XXX</td>\n",
       "      <td>NaN</td>\n",
       "      <td>OYC</td>\n",
       "      <td>NaN</td>\n",
       "      <td>NaN</td>\n",
       "      <td>No</td>\n",
       "      <td>LAY USER/PATIENT</td>\n",
       "      <td>Pump, Infusion, Insulin, To Be Used With Invas...</td>\n",
       "    </tr>\n",
       "  </tbody>\n",
       "</table>\n",
       "</div>"
      ],
      "text/plain": [
       "    event_type  date_of_event  \\\n",
       "0  Malfunction       20200418   \n",
       "1  Malfunction       20200421   \n",
       "\n",
       "                                    product_problems  \\\n",
       "0               ['Battery Problem', 'Power Problem']   \n",
       "1  ['Excess Flow or Over-Infusion', 'Battery Prob...   \n",
       "\n",
       "                                       complaint_txt follow_up  \\\n",
       "0  INFORMATION RECEIVED BY MEDTRONIC INDICATED TH...       NaN   \n",
       "1  INFORMATION RECEIVED BY MEDTRONIC INDICATED TH...       NaN   \n",
       "\n",
       "                              manufacturer_narrative  \\\n",
       "0  (B)(4). CURRENTLY IT IS UNKNOWN WHETHER OR NOT...   \n",
       "1  CURRENTLY IT IS UNKNOWN WHETHER OR NOT THE DEV...   \n",
       "\n",
       "                                 device_generic_name  \\\n",
       "0  ARTIFICIAL PANCREAS DEVICE SYSTEM, THRESHOLD S...   \n",
       "1  PUMP, INFUSION, INSULIN, TO BE USED WITH INVAS...   \n",
       "\n",
       "               device_manufacturer_name device_model_number device_lot_number  \\\n",
       "0  MEDTRONIC PUERTO RICO OPERATIONS CO.           MMT-1715K           HG1B44Y   \n",
       "1                     MEDTRONIC MINIMED             MMT-XXX               NaN   \n",
       "\n",
       "  device_report_product_code  expiration_date_of_device  \\\n",
       "0                        OZO                        NaN   \n",
       "1                        OYC                        NaN   \n",
       "\n",
       "   date_returned_to_manufacturer                  device_availability  \\\n",
       "0                     20200429.0  Device was returned to manufacturer   \n",
       "1                            NaN                                   No   \n",
       "\n",
       "    device_operator                                        device_name  \n",
       "0  LAY USER/PATIENT       Automated Insulin Dosing , Threshold Suspend  \n",
       "1  LAY USER/PATIENT  Pump, Infusion, Insulin, To Be Used With Invas...  "
      ]
     },
     "execution_count": 3,
     "metadata": {},
     "output_type": "execute_result"
    }
   ],
   "source": [
    "maude_data.head(2)"
   ]
  },
  {
   "cell_type": "markdown",
   "metadata": {},
   "source": [
    "#### Data Pre-Processing"
   ]
  },
  {
   "cell_type": "code",
   "execution_count": 4,
   "metadata": {},
   "outputs": [
    {
     "data": {
      "text/html": [
       "<div>\n",
       "<style scoped>\n",
       "    .dataframe tbody tr th:only-of-type {\n",
       "        vertical-align: middle;\n",
       "    }\n",
       "\n",
       "    .dataframe tbody tr th {\n",
       "        vertical-align: top;\n",
       "    }\n",
       "\n",
       "    .dataframe thead th {\n",
       "        text-align: right;\n",
       "    }\n",
       "</style>\n",
       "<table border=\"1\" class=\"dataframe\">\n",
       "  <thead>\n",
       "    <tr style=\"text-align: right;\">\n",
       "      <th></th>\n",
       "      <th>product_problems</th>\n",
       "      <th>complaint_txt</th>\n",
       "      <th>follow_up</th>\n",
       "      <th>manufacturer_narrative</th>\n",
       "    </tr>\n",
       "  </thead>\n",
       "  <tbody>\n",
       "    <tr>\n",
       "      <th>0</th>\n",
       "      <td>['Battery Problem', 'Power Problem']</td>\n",
       "      <td>INFORMATION RECEIVED BY MEDTRONIC INDICATED TH...</td>\n",
       "      <td>NaN</td>\n",
       "      <td>(B)(4). CURRENTLY IT IS UNKNOWN WHETHER OR NOT...</td>\n",
       "    </tr>\n",
       "    <tr>\n",
       "      <th>1</th>\n",
       "      <td>['Excess Flow or Over-Infusion', 'Battery Prob...</td>\n",
       "      <td>INFORMATION RECEIVED BY MEDTRONIC INDICATED TH...</td>\n",
       "      <td>NaN</td>\n",
       "      <td>CURRENTLY IT IS UNKNOWN WHETHER OR NOT THE DEV...</td>\n",
       "    </tr>\n",
       "  </tbody>\n",
       "</table>\n",
       "</div>"
      ],
      "text/plain": [
       "                                    product_problems  \\\n",
       "0               ['Battery Problem', 'Power Problem']   \n",
       "1  ['Excess Flow or Over-Infusion', 'Battery Prob...   \n",
       "\n",
       "                                       complaint_txt follow_up  \\\n",
       "0  INFORMATION RECEIVED BY MEDTRONIC INDICATED TH...       NaN   \n",
       "1  INFORMATION RECEIVED BY MEDTRONIC INDICATED TH...       NaN   \n",
       "\n",
       "                              manufacturer_narrative  \n",
       "0  (B)(4). CURRENTLY IT IS UNKNOWN WHETHER OR NOT...  \n",
       "1  CURRENTLY IT IS UNKNOWN WHETHER OR NOT THE DEV...  "
      ]
     },
     "execution_count": 4,
     "metadata": {},
     "output_type": "execute_result"
    }
   ],
   "source": [
    "maude_subset = maude_data[['product_problems', 'complaint_txt', 'follow_up', 'manufacturer_narrative']]\n",
    "maude_subset.head(2)"
   ]
  },
  {
   "cell_type": "code",
   "execution_count": 17,
   "metadata": {},
   "outputs": [],
   "source": [
    "for index, item in maude_subset.iterrows():\n",
    "    maude_subset.loc[index, 'event_info'] = 'product_problems - ' + ' ' + str(item.product_problems) + ', ' + 'complaint_text-' + ' ' +str(item.complaint_txt) + ', ' + 'complaint_follow_up-' + ' ' + str(item.follow_up) + ', '+'manufacturer_narrative-'+ ' ' + str(item.manufacturer_narrative)"
   ]
  },
  {
   "cell_type": "code",
   "execution_count": 18,
   "metadata": {},
   "outputs": [
    {
     "data": {
      "text/html": [
       "<div>\n",
       "<style scoped>\n",
       "    .dataframe tbody tr th:only-of-type {\n",
       "        vertical-align: middle;\n",
       "    }\n",
       "\n",
       "    .dataframe tbody tr th {\n",
       "        vertical-align: top;\n",
       "    }\n",
       "\n",
       "    .dataframe thead th {\n",
       "        text-align: right;\n",
       "    }\n",
       "</style>\n",
       "<table border=\"1\" class=\"dataframe\">\n",
       "  <thead>\n",
       "    <tr style=\"text-align: right;\">\n",
       "      <th></th>\n",
       "      <th>product_problems</th>\n",
       "      <th>complaint_txt</th>\n",
       "      <th>follow_up</th>\n",
       "      <th>manufacturer_narrative</th>\n",
       "      <th>event_info</th>\n",
       "    </tr>\n",
       "  </thead>\n",
       "  <tbody>\n",
       "    <tr>\n",
       "      <th>0</th>\n",
       "      <td>['Battery Problem', 'Power Problem']</td>\n",
       "      <td>INFORMATION RECEIVED BY MEDTRONIC INDICATED TH...</td>\n",
       "      <td>NaN</td>\n",
       "      <td>(B)(4). CURRENTLY IT IS UNKNOWN WHETHER OR NOT...</td>\n",
       "      <td>product_problems -  ['Battery Problem', 'Power...</td>\n",
       "    </tr>\n",
       "    <tr>\n",
       "      <th>1</th>\n",
       "      <td>['Excess Flow or Over-Infusion', 'Battery Prob...</td>\n",
       "      <td>INFORMATION RECEIVED BY MEDTRONIC INDICATED TH...</td>\n",
       "      <td>NaN</td>\n",
       "      <td>CURRENTLY IT IS UNKNOWN WHETHER OR NOT THE DEV...</td>\n",
       "      <td>product_problems -  ['Excess Flow or Over-Infu...</td>\n",
       "    </tr>\n",
       "  </tbody>\n",
       "</table>\n",
       "</div>"
      ],
      "text/plain": [
       "                                    product_problems  \\\n",
       "0               ['Battery Problem', 'Power Problem']   \n",
       "1  ['Excess Flow or Over-Infusion', 'Battery Prob...   \n",
       "\n",
       "                                       complaint_txt follow_up  \\\n",
       "0  INFORMATION RECEIVED BY MEDTRONIC INDICATED TH...       NaN   \n",
       "1  INFORMATION RECEIVED BY MEDTRONIC INDICATED TH...       NaN   \n",
       "\n",
       "                              manufacturer_narrative  \\\n",
       "0  (B)(4). CURRENTLY IT IS UNKNOWN WHETHER OR NOT...   \n",
       "1  CURRENTLY IT IS UNKNOWN WHETHER OR NOT THE DEV...   \n",
       "\n",
       "                                          event_info  \n",
       "0  product_problems -  ['Battery Problem', 'Power...  \n",
       "1  product_problems -  ['Excess Flow or Over-Infu...  "
      ]
     },
     "execution_count": 18,
     "metadata": {},
     "output_type": "execute_result"
    }
   ],
   "source": [
    "maude_subset.head(2)"
   ]
  },
  {
   "cell_type": "markdown",
   "metadata": {},
   "source": [
    "#### Schema Definition & Prompt Template Creation"
   ]
  },
  {
   "cell_type": "code",
   "execution_count": 60,
   "metadata": {},
   "outputs": [],
   "source": [
    "from langchain.output_parsers import ResponseSchema, StructuredOutputParser\n",
    "from langchain_core.output_parsers import StrOutputParser\n",
    "from langchain.prompts import ChatPromptTemplate, PromptTemplate\n",
    "from langchain_groq import ChatGroq\n",
    "from phi.model.google import Gemini\n",
    "from phi.tools.duckduckgo import DuckDuckGo\n",
    "from tqdm import tqdm"
   ]
  },
  {
   "cell_type": "code",
   "execution_count": 72,
   "metadata": {},
   "outputs": [],
   "source": [
    "prompt_info = '''You are an expert in identifying and categorizing technical & medical device related risks and issues in text. \n",
    "You are tasked with extracting structured information from text related to medical device failures. \n",
    "Your goal is to extract and organize the following fields from the provided content:\n",
    "\n",
    "Hazard: A single-word or concise description of the unique hazard (e.g., \"Battery Depletion\"). This should not be a sentence.\n",
    "Hazardous Situation: Detailed description of the situation, capturing the context from complaint text, follow-up, and manufacturer narrative.\n",
    "Harm/Potential Harm: A paragraph explaining the potential harm or adverse outcomes that could result from the issue in the given context.\n",
    "Manufacturer Name: A list of all unique manufacturer names mentioned in the provided data.\n",
    "Format the output as follows:\n",
    "\n",
    "Hazard: [Single word or short phrase]\n",
    "Hazardous Situation: [Detailed description]\n",
    "Harm/Potential Harm: [Paragraph explaining potential harm]\n",
    "Manufacturer Name: [Unique manufacturer names as a list]\n",
    "'''"
   ]
  },
  {
   "cell_type": "code",
   "execution_count": 94,
   "metadata": {},
   "outputs": [],
   "source": [
    "prompt_info_new = '''\n",
    "\n",
    "You are a highly skilled medical device safety expert with extensive knowledge in risk assessment and failure analysis. Analyze the provided data and structure your response as follows:\n",
    "\n",
    "### 1. Hazard\n",
    "- Identify the unique hazard using a single word or a concise phrase.\n",
    "- Avoid full sentences and ensure it is a precise descriptor.\n",
    "\n",
    "### 2. Hazardous Situation\n",
    "- Provide a detailed description of the situation, including context from complaint text, follow-up, and manufacturer narrative.\n",
    "- Focus on capturing the specific conditions leading to the hazard.\n",
    "\n",
    "### 3. Harm/Potential Harm\n",
    "- Write a paragraph explaining the potential harm or adverse outcomes that could result from the identified hazard in the given context.\n",
    "- Be thorough in describing the potential risks and their impacts.\n",
    "\n",
    "### 4. Manufacturer Name\n",
    "- Extract and list all unique manufacturer names mentioned in the data.\n",
    "- Ensure the list includes only distinct names with no duplicates.\n",
    "\n",
    "### 5. Contextual Research (Optional)\n",
    "- If requested, use external sources to:\n",
    "  - Provide examples of similar hazards in medical devices.\n",
    "  - Search for risk mitigation strategies.\n",
    "  - Cite recent articles or research supporting the analysis.\n",
    "\n",
    "Format your response using clear markdown headers and bullet points. Be precise, structured, and thorough in your analysis.'''"
   ]
  },
  {
   "cell_type": "code",
   "execution_count": 74,
   "metadata": {},
   "outputs": [],
   "source": [
    "independent_schema = [\n",
    "    ResponseSchema(name=\"Hazard\", description=\"A unique descriptor of the hazard, typically a single word or concise phrase.\"),\n",
    "    ResponseSchema(name=\"Hazardous Situation\", description=\"A detailed description of the situation derived from the complaint text, follow-up, and manufacturer narrative.\"),\n",
    "    ResponseSchema(name=\"Harm/Potential Harm\", description=\"A paragraph explaining the potential adverse outcomes or harm caused by the identified hazard in the given context.\"),\n",
    "    ResponseSchema(name=\"Manufacturer Name\", description=\"A list of unique manufacturer names mentioned in the provided data.\")\n",
    "]\n"
   ]
  },
  {
   "cell_type": "code",
   "execution_count": 75,
   "metadata": {},
   "outputs": [],
   "source": [
    "response_schemas = [\n",
    "    ResponseSchema(\n",
    "        name=\"MaudeRiskList\",\n",
    "        description=\"A list of all failure mode and hazard information extracted from the maude data\",\n",
    "        type=\"array\",\n",
    "        items={\"type\": \"object\", \"properties\": independent_schema},\n",
    "    )\n",
    "]"
   ]
  },
  {
   "cell_type": "code",
   "execution_count": 76,
   "metadata": {},
   "outputs": [],
   "source": [
    "# Create an output parser\n",
    "output_parser = StructuredOutputParser.from_response_schemas(response_schemas)\n",
    "format_instructions = output_parser.get_format_instructions()\n"
   ]
  },
  {
   "cell_type": "code",
   "execution_count": 78,
   "metadata": {},
   "outputs": [],
   "source": [
    "# Define the prompt template\n",
    "prompt_one = PromptTemplate(\n",
    "    template= prompt_info + \"\\n{format_instructions}\\n\\nContext: {paragraph}\",\n",
    "    input_variables=[\"paragraph\"],\n",
    "    partial_variables={\"format_instructions\": format_instructions},\n",
    ")\n",
    "\n",
    "prompt_two = PromptTemplate(\n",
    "    template= prompt_info_new + \"\\n{format_instructions}\\n\\nContext: {paragraph}\",\n",
    "    input_variables=[\"paragraph\"],\n",
    "    partial_variables={\"format_instructions\": format_instructions},\n",
    ")"
   ]
  },
  {
   "cell_type": "markdown",
   "metadata": {},
   "source": [
    "##### LLM Set up "
   ]
  },
  {
   "cell_type": "code",
   "execution_count": 85,
   "metadata": {},
   "outputs": [],
   "source": [
    "llama_vers_llm = ChatGroq(\n",
    "    api_key = os.getenv('GROQ_API_KEY'),\n",
    "    model_name=\"llama-3.3-70b-versatile\",\n",
    "    temperature=0\n",
    ")\n",
    "\n",
    "llama_spectdoc_llm = ChatGroq(\n",
    "    api_key = os.getenv('GROQ_API_KEY'),\n",
    "    model_name=\"llama-3.3-70b-specdec\",\n",
    "    temperature=0\n",
    ")\n",
    "\n",
    "llama_8192_llm = ChatGroq(\n",
    "    api_key = os.getenv('GROQ_API_KEY'),\n",
    "    model_name=\"llama3-70b-8192\",\n",
    "    temperature=0\n",
    ")\n",
    "\n",
    "mixtral_8x7b_llm = ChatGroq(\n",
    "    api_key = os.getenv('GROQ_API_KEY'),\n",
    "    model_name=\"mixtral-8x7b-32768\",\n",
    "    temperature=0\n",
    ")\n",
    "\n",
    "gemma_llm = ChatGroq(\n",
    "    api_key = os.getenv('GROQ_API_KEY'),\n",
    "    model_name=\"gemma2-9b-it\", \n",
    "    temperature=0\n",
    ")\n",
    "\n",
    "gemini_model=Gemini(\n",
    "        api_key = os.getenv('GEMINI_API_KEY'),\n",
    "        id=\"gemini-2.0-flash-exp\"\n",
    "    )\n"
   ]
  },
  {
   "cell_type": "markdown",
   "metadata": {},
   "source": [
    "#### Before LLM call verify the data"
   ]
  },
  {
   "cell_type": "code",
   "execution_count": 20,
   "metadata": {},
   "outputs": [],
   "source": [
    "maude_hazard_extraction = maude_subset.copy()"
   ]
  },
  {
   "cell_type": "code",
   "execution_count": 25,
   "metadata": {},
   "outputs": [
    {
     "data": {
      "text/html": [
       "<div>\n",
       "<style scoped>\n",
       "    .dataframe tbody tr th:only-of-type {\n",
       "        vertical-align: middle;\n",
       "    }\n",
       "\n",
       "    .dataframe tbody tr th {\n",
       "        vertical-align: top;\n",
       "    }\n",
       "\n",
       "    .dataframe thead th {\n",
       "        text-align: right;\n",
       "    }\n",
       "</style>\n",
       "<table border=\"1\" class=\"dataframe\">\n",
       "  <thead>\n",
       "    <tr style=\"text-align: right;\">\n",
       "      <th></th>\n",
       "      <th>event_info</th>\n",
       "    </tr>\n",
       "  </thead>\n",
       "  <tbody>\n",
       "    <tr>\n",
       "      <th>0</th>\n",
       "      <td>product_problems -  ['Battery Problem', 'Power...</td>\n",
       "    </tr>\n",
       "    <tr>\n",
       "      <th>1</th>\n",
       "      <td>product_problems -  ['Excess Flow or Over-Infu...</td>\n",
       "    </tr>\n",
       "  </tbody>\n",
       "</table>\n",
       "</div>"
      ],
      "text/plain": [
       "                                          event_info\n",
       "0  product_problems -  ['Battery Problem', 'Power...\n",
       "1  product_problems -  ['Excess Flow or Over-Infu..."
      ]
     },
     "metadata": {},
     "output_type": "display_data"
    }
   ],
   "source": [
    "display(maude_hazard_extraction[['event_info']].head(2))"
   ]
  },
  {
   "cell_type": "code",
   "execution_count": 39,
   "metadata": {},
   "outputs": [
    {
     "data": {
      "text/plain": [
       "(10, 5)"
      ]
     },
     "execution_count": 39,
     "metadata": {},
     "output_type": "execute_result"
    }
   ],
   "source": [
    "maude_hazard_extraction.shape"
   ]
  },
  {
   "cell_type": "code",
   "execution_count": 36,
   "metadata": {},
   "outputs": [],
   "source": [
    "eventinfo_all = ''\n",
    "for _, row in maude_hazard_extraction.iterrows():\n",
    "    eventinfo_all += row['event_info']"
   ]
  },
  {
   "cell_type": "code",
   "execution_count": 52,
   "metadata": {},
   "outputs": [
    {
     "data": {
      "text/html": [
       "<div>\n",
       "<style scoped>\n",
       "    .dataframe tbody tr th:only-of-type {\n",
       "        vertical-align: middle;\n",
       "    }\n",
       "\n",
       "    .dataframe tbody tr th {\n",
       "        vertical-align: top;\n",
       "    }\n",
       "\n",
       "    .dataframe thead th {\n",
       "        text-align: right;\n",
       "    }\n",
       "</style>\n",
       "<table border=\"1\" class=\"dataframe\">\n",
       "  <thead>\n",
       "    <tr style=\"text-align: right;\">\n",
       "      <th></th>\n",
       "      <th>product_problems</th>\n",
       "      <th>complaint_txt</th>\n",
       "      <th>follow_up</th>\n",
       "      <th>manufacturer_narrative</th>\n",
       "      <th>event_info</th>\n",
       "    </tr>\n",
       "  </thead>\n",
       "  <tbody>\n",
       "    <tr>\n",
       "      <th>0</th>\n",
       "      <td>['Battery Problem', 'Power Problem']</td>\n",
       "      <td>INFORMATION RECEIVED BY MEDTRONIC INDICATED TH...</td>\n",
       "      <td>NaN</td>\n",
       "      <td>(B)(4). CURRENTLY IT IS UNKNOWN WHETHER OR NOT...</td>\n",
       "      <td>product_problems -  ['Battery Problem', 'Power...</td>\n",
       "    </tr>\n",
       "    <tr>\n",
       "      <th>1</th>\n",
       "      <td>['Excess Flow or Over-Infusion', 'Battery Prob...</td>\n",
       "      <td>INFORMATION RECEIVED BY MEDTRONIC INDICATED TH...</td>\n",
       "      <td>NaN</td>\n",
       "      <td>CURRENTLY IT IS UNKNOWN WHETHER OR NOT THE DEV...</td>\n",
       "      <td>product_problems -  ['Excess Flow or Over-Infu...</td>\n",
       "    </tr>\n",
       "    <tr>\n",
       "      <th>2</th>\n",
       "      <td>['Failure to Charge', 'Battery Problem']</td>\n",
       "      <td>FOLLOWING THE BATTERY PERFORMANCE ALERT (BPA) ...</td>\n",
       "      <td>NaN</td>\n",
       "      <td>THE RESULTS/METHOD AND CONCLUSION CODES ALONG ...</td>\n",
       "      <td>product_problems -  ['Failure to Charge', 'Bat...</td>\n",
       "    </tr>\n",
       "    <tr>\n",
       "      <th>3</th>\n",
       "      <td>['Battery Problem']</td>\n",
       "      <td>IT WAS REPORTED THAT THE PUMP BATTERY WAS DEPL...</td>\n",
       "      <td>NaN</td>\n",
       "      <td>NO PRODUCT WAS RETURNED FOR EVALUATION. SHOULD...</td>\n",
       "      <td>product_problems -  ['Battery Problem'], compl...</td>\n",
       "    </tr>\n",
       "    <tr>\n",
       "      <th>4</th>\n",
       "      <td>['Battery Problem']</td>\n",
       "      <td>IT WAS REPORTED THAT THIS DEVICE TRIPPED ERI O...</td>\n",
       "      <td>NaN</td>\n",
       "      <td>THE DEVICE WAS NOT RETURNED FOR ANALYSIS. THE ...</td>\n",
       "      <td>product_problems -  ['Battery Problem'], compl...</td>\n",
       "    </tr>\n",
       "    <tr>\n",
       "      <th>5</th>\n",
       "      <td>['No Display/Image', 'Battery Problem', 'Devic...</td>\n",
       "      <td>INFORMATION RECEIVED BY MEDTRONIC INDICATED TH...</td>\n",
       "      <td>NaN</td>\n",
       "      <td>UPDATED H9: 2032227-060322-002-C MEDTRONIC, IN...</td>\n",
       "      <td>product_problems -  ['No Display/Image', 'Batt...</td>\n",
       "    </tr>\n",
       "    <tr>\n",
       "      <th>6</th>\n",
       "      <td>['Battery Problem']</td>\n",
       "      <td>FOLLOWING THE BATTERY PERFORMANCE ALERT (BPA) ...</td>\n",
       "      <td>NaN</td>\n",
       "      <td>THE DEVICE IS INCLUDED IN THE BATTERY PERFORMA...</td>\n",
       "      <td>product_problems -  ['Battery Problem'], compl...</td>\n",
       "    </tr>\n",
       "    <tr>\n",
       "      <th>7</th>\n",
       "      <td>['Battery Problem', 'Insufficient Information']</td>\n",
       "      <td>ADDITIONAL INFORMATION INDICATES THE IPG WAS E...</td>\n",
       "      <td>IT WAS REPORTED THE IPG HAS REACHED END OF SER...</td>\n",
       "      <td>THE RESULTS OF THE INVESTIGATION ARE INCONCLUS...</td>\n",
       "      <td>product_problems -  ['Battery Problem', 'Insuf...</td>\n",
       "    </tr>\n",
       "    <tr>\n",
       "      <th>8</th>\n",
       "      <td>['Battery Problem']</td>\n",
       "      <td>INFORMATION WAS RECEIVED FROM A CONSUMER (CON)...</td>\n",
       "      <td>ADDITIONAL INFORMATION WAS RECEIVED FROM THE P...</td>\n",
       "      <td>IF INFORMATION IS PROVIDED IN THE FUTURE, A SU...</td>\n",
       "      <td>product_problems -  ['Battery Problem'], compl...</td>\n",
       "    </tr>\n",
       "    <tr>\n",
       "      <th>9</th>\n",
       "      <td>['Circuit Failure', 'Battery Problem', 'Materi...</td>\n",
       "      <td>INFORMATION RECEIVED BY MEDTRONIC INDICATED TH...</td>\n",
       "      <td>NaN</td>\n",
       "      <td>(B)(4). CURRENTLY IT IS UNKNOWN WHETHER OR NOT...</td>\n",
       "      <td>product_problems -  ['Circuit Failure', 'Batte...</td>\n",
       "    </tr>\n",
       "  </tbody>\n",
       "</table>\n",
       "</div>"
      ],
      "text/plain": [
       "                                    product_problems  \\\n",
       "0               ['Battery Problem', 'Power Problem']   \n",
       "1  ['Excess Flow or Over-Infusion', 'Battery Prob...   \n",
       "2           ['Failure to Charge', 'Battery Problem']   \n",
       "3                                ['Battery Problem']   \n",
       "4                                ['Battery Problem']   \n",
       "5  ['No Display/Image', 'Battery Problem', 'Devic...   \n",
       "6                                ['Battery Problem']   \n",
       "7    ['Battery Problem', 'Insufficient Information']   \n",
       "8                                ['Battery Problem']   \n",
       "9  ['Circuit Failure', 'Battery Problem', 'Materi...   \n",
       "\n",
       "                                       complaint_txt  \\\n",
       "0  INFORMATION RECEIVED BY MEDTRONIC INDICATED TH...   \n",
       "1  INFORMATION RECEIVED BY MEDTRONIC INDICATED TH...   \n",
       "2  FOLLOWING THE BATTERY PERFORMANCE ALERT (BPA) ...   \n",
       "3  IT WAS REPORTED THAT THE PUMP BATTERY WAS DEPL...   \n",
       "4  IT WAS REPORTED THAT THIS DEVICE TRIPPED ERI O...   \n",
       "5  INFORMATION RECEIVED BY MEDTRONIC INDICATED TH...   \n",
       "6  FOLLOWING THE BATTERY PERFORMANCE ALERT (BPA) ...   \n",
       "7  ADDITIONAL INFORMATION INDICATES THE IPG WAS E...   \n",
       "8  INFORMATION WAS RECEIVED FROM A CONSUMER (CON)...   \n",
       "9  INFORMATION RECEIVED BY MEDTRONIC INDICATED TH...   \n",
       "\n",
       "                                           follow_up  \\\n",
       "0                                                NaN   \n",
       "1                                                NaN   \n",
       "2                                                NaN   \n",
       "3                                                NaN   \n",
       "4                                                NaN   \n",
       "5                                                NaN   \n",
       "6                                                NaN   \n",
       "7  IT WAS REPORTED THE IPG HAS REACHED END OF SER...   \n",
       "8  ADDITIONAL INFORMATION WAS RECEIVED FROM THE P...   \n",
       "9                                                NaN   \n",
       "\n",
       "                              manufacturer_narrative  \\\n",
       "0  (B)(4). CURRENTLY IT IS UNKNOWN WHETHER OR NOT...   \n",
       "1  CURRENTLY IT IS UNKNOWN WHETHER OR NOT THE DEV...   \n",
       "2  THE RESULTS/METHOD AND CONCLUSION CODES ALONG ...   \n",
       "3  NO PRODUCT WAS RETURNED FOR EVALUATION. SHOULD...   \n",
       "4  THE DEVICE WAS NOT RETURNED FOR ANALYSIS. THE ...   \n",
       "5  UPDATED H9: 2032227-060322-002-C MEDTRONIC, IN...   \n",
       "6  THE DEVICE IS INCLUDED IN THE BATTERY PERFORMA...   \n",
       "7  THE RESULTS OF THE INVESTIGATION ARE INCONCLUS...   \n",
       "8  IF INFORMATION IS PROVIDED IN THE FUTURE, A SU...   \n",
       "9  (B)(4). CURRENTLY IT IS UNKNOWN WHETHER OR NOT...   \n",
       "\n",
       "                                          event_info  \n",
       "0  product_problems -  ['Battery Problem', 'Power...  \n",
       "1  product_problems -  ['Excess Flow or Over-Infu...  \n",
       "2  product_problems -  ['Failure to Charge', 'Bat...  \n",
       "3  product_problems -  ['Battery Problem'], compl...  \n",
       "4  product_problems -  ['Battery Problem'], compl...  \n",
       "5  product_problems -  ['No Display/Image', 'Batt...  \n",
       "6  product_problems -  ['Battery Problem'], compl...  \n",
       "7  product_problems -  ['Battery Problem', 'Insuf...  \n",
       "8  product_problems -  ['Battery Problem'], compl...  \n",
       "9  product_problems -  ['Circuit Failure', 'Batte...  "
      ]
     },
     "execution_count": 52,
     "metadata": {},
     "output_type": "execute_result"
    }
   ],
   "source": [
    "maude_hazard_extraction"
   ]
  },
  {
   "cell_type": "markdown",
   "metadata": {},
   "source": [
    "#### Extract the information"
   ]
  },
  {
   "cell_type": "code",
   "execution_count": 80,
   "metadata": {},
   "outputs": [],
   "source": [
    "from langchain.schema import BaseOutputParser, AIMessage "
   ]
  },
  {
   "cell_type": "code",
   "execution_count": 81,
   "metadata": {},
   "outputs": [],
   "source": [
    "class InfoListParser(BaseOutputParser):\n",
    "    def parse(self, text: dict) -> dict:\n",
    "        return text"
   ]
  },
  {
   "cell_type": "code",
   "execution_count": 82,
   "metadata": {},
   "outputs": [],
   "source": [
    "### Chaining with LCEL\n",
    "parser=StrOutputParser()\n",
    "\n",
    "chain= prompt_one | llama_vers_llm | parser\n",
    "\n",
    "result = chain.invoke({\"paragraph\": eventinfo_all})\n",
    "\n",
    "parser = InfoListParser()\n",
    "\n",
    "parsed_output = parser.parse(output_parser.parse(result))\n"
   ]
  },
  {
   "cell_type": "code",
   "execution_count": 83,
   "metadata": {},
   "outputs": [
    {
     "data": {
      "text/plain": [
       "'```json\\n{\\n    \"MaudeRiskList\": [\\n        {\\n            \"Hazard\": \"Battery Depletion\",\\n            \"Hazardous Situation\": \"The insulin pump alarmed with a power system error, which did not prevent the pump from running. The customer experienced a power error for 3 days and was able to clear the alarm. The device was returned for analysis, and the investigation revealed a battery issue due to connector resistance on the electrical board.\",\\n            \"Harm/Potential Harm\": \"The potential harm associated with this issue is that the insulin pump may not function properly, leading to incorrect insulin delivery, which can cause serious health complications, including hypoglycemia or hyperglycemia. If the device fails to deliver the correct amount of insulin, it can lead to serious health consequences, including seizures, coma, or even death.\",\\n            \"Manufacturer Name\": [\"Medtronic\"]\\n        },\\n        {\\n            \"Hazard\": \"Over-Infusion\",\\n            \"Hazardous Situation\": \"The insulin pump and reservoir had an over-delivery issue, but no harm requiring medical intervention was reported. The device was not returned for analysis.\",\\n            \"Harm/Potential Harm\": \"The potential harm associated with this issue is that the insulin pump may deliver too much insulin, leading to hypoglycemia, which can cause serious health complications, including seizures, coma, or even death. Over-infusion can also lead to long-term health consequences, such as nerve damage or organ failure.\",\\n            \"Manufacturer Name\": [\"Medtronic\"]\\n        },\\n        {\\n            \"Hazard\": \"Failure to Charge\",\\n            \"Hazardous Situation\": \"The device had a battery performance issue, and the clinician received a battery performance alert. The device was explanted and replaced, and the patient was recovering.\",\\n            \"Harm/Potential Harm\": \"The potential harm associated with this issue is that the device may not function properly due to battery depletion, leading to incorrect therapy delivery. This can cause serious health complications, including pain, numbness, or paralysis. If the device fails to deliver the correct therapy, it can lead to serious health consequences, including permanent damage or death.\",\\n            \"Manufacturer Name\": [\"Abbott\"]\\n        },\\n        {\\n            \"Hazard\": \"Battery Problem\",\\n            \"Hazardous Situation\": \"The pump battery was depleting quickly, but there was no reported impact on the customer\\'s blood glucose level. The customer declined to perform troubleshooting and follow-up.\",\\n            \"Harm/Potential Harm\": \"The potential harm associated with this issue is that the insulin pump may not function properly, leading to incorrect insulin delivery, which can cause serious health complications, including hypoglycemia or hyperglycemia. If the device fails to deliver the correct amount of insulin, it can lead to serious health consequences, including seizures, coma, or even death.\",\\n            \"Manufacturer Name\": [\"Tandem\"]\\n        },\\n        {\\n            \"Hazard\": \"Low Battery\",\\n            \"Hazardous Situation\": \"The insulin pump had a low battery and blank display. The customer was unable to turn on the device and had a missing battery cap contact and a worn-off serial number label.\",\\n            \"Harm/Potential Harm\": \"The potential harm associated with this issue is that the insulin pump may not function properly, leading to incorrect insulin delivery, which can cause serious health complications, including hypoglycemia or hyperglycemia. If the device fails to deliver the correct amount of insulin, it can lead to serious health consequences, including seizures, coma, or even death.\",\\n            \"Manufacturer Name\": [\"Medtronic\"]\\n        },\\n        {\\n            \"Hazard\": \"Premature Battery Depletion\",\\n            \"Hazardous Situation\": \"The device had a premature battery depletion issue, which was confirmed by analysis. The cause of the depletion was consistent with lithium cluster formation.\",\\n            \"Harm/Potential Harm\": \"The potential harm associated with this issue is that the device may not function properly due to battery depletion, leading to incorrect therapy delivery. This can cause serious health complications, including pain, numbness, or paralysis. If the device fails to deliver the correct therapy, it can lead to serious health consequences, including permanent damage or death.\",\\n            \"Manufacturer Name\": [\"Abbott\"]\\n        },\\n        {\\n            \"Hazard\": \"Battery Issue\",\\n            \"Hazardous Situation\": \"The IPG was explanted and replaced due to a battery issue. The patient was in stable condition.\",\\n            \"Harm/Potential Harm\": \"The potential harm associated with this issue is that the device may not function properly due to battery depletion, leading to incorrect therapy delivery. This can cause serious health complications, including pain, numbness, or paralysis. If the device fails to deliver the correct therapy, it can lead to serious health consequences, including permanent damage or death.\",\\n            \"Manufacturer Name\": [\"Abbott\"]\\n        },\\n        {\\n            \"Hazard\": \"Battery Problem\",\\n            \"Hazardous Situation\": \"The patient thought their neurostimulator was dead due to pain in their lower back. The device was not returned for analysis.\",\\n            \"Harm/Potential Harm\": \"The potential harm associated with this issue is that the device may not function properly, leading to incorrect therapy delivery, which can cause serious health complications, including pain, numbness, or paralysis. If the device fails to deliver the correct therapy, it can lead to serious health consequences, including permanent damage or death.\",\\n            \"Manufacturer Name\": [\"Medtronic\"]\\n        },\\n        {\\n            \"Hazard\": \"Circuit Failure\",\\n            \"Hazardous Situation\": \"The insulin pump had multiple pump error alarms, and the customer was able to clear the alarm. The device had a loose battery cap metal connector and did not pass the self-test.\",\\n            \"Harm/Potential Harm\": \"The potential harm associated with this issue is that the insulin pump may not function properly, leading to incorrect insulin delivery, which can cause serious health complications, including hypoglycemia or hyperglycemia. If the device fails to deliver the correct amount of insulin, it can lead to serious health consequences, including seizures, coma, or even death.\",\\n            \"Manufacturer Name\": [\"Medtronic\"]\\n        }\\n    ]\\n}\\n```'"
      ]
     },
     "execution_count": 83,
     "metadata": {},
     "output_type": "execute_result"
    }
   ],
   "source": [
    "result"
   ]
  },
  {
   "cell_type": "code",
   "execution_count": 84,
   "metadata": {},
   "outputs": [
    {
     "data": {
      "text/plain": [
       "{'MaudeRiskList': [{'Hazard': 'Battery Depletion',\n",
       "   'Hazardous Situation': 'The insulin pump alarmed with a power system error, which did not prevent the pump from running. The customer experienced a power error for 3 days and was able to clear the alarm. The device was returned for analysis, and the investigation revealed a battery issue due to connector resistance on the electrical board.',\n",
       "   'Harm/Potential Harm': 'The potential harm associated with this issue is that the insulin pump may not function properly, leading to incorrect insulin delivery, which can cause serious health complications, including hypoglycemia or hyperglycemia. If the device fails to deliver the correct amount of insulin, it can lead to serious health consequences, including seizures, coma, or even death.',\n",
       "   'Manufacturer Name': ['Medtronic']},\n",
       "  {'Hazard': 'Over-Infusion',\n",
       "   'Hazardous Situation': 'The insulin pump and reservoir had an over-delivery issue, but no harm requiring medical intervention was reported. The device was not returned for analysis.',\n",
       "   'Harm/Potential Harm': 'The potential harm associated with this issue is that the insulin pump may deliver too much insulin, leading to hypoglycemia, which can cause serious health complications, including seizures, coma, or even death. Over-infusion can also lead to long-term health consequences, such as nerve damage or organ failure.',\n",
       "   'Manufacturer Name': ['Medtronic']},\n",
       "  {'Hazard': 'Failure to Charge',\n",
       "   'Hazardous Situation': 'The device had a battery performance issue, and the clinician received a battery performance alert. The device was explanted and replaced, and the patient was recovering.',\n",
       "   'Harm/Potential Harm': 'The potential harm associated with this issue is that the device may not function properly due to battery depletion, leading to incorrect therapy delivery. This can cause serious health complications, including pain, numbness, or paralysis. If the device fails to deliver the correct therapy, it can lead to serious health consequences, including permanent damage or death.',\n",
       "   'Manufacturer Name': ['Abbott']},\n",
       "  {'Hazard': 'Battery Problem',\n",
       "   'Hazardous Situation': \"The pump battery was depleting quickly, but there was no reported impact on the customer's blood glucose level. The customer declined to perform troubleshooting and follow-up.\",\n",
       "   'Harm/Potential Harm': 'The potential harm associated with this issue is that the insulin pump may not function properly, leading to incorrect insulin delivery, which can cause serious health complications, including hypoglycemia or hyperglycemia. If the device fails to deliver the correct amount of insulin, it can lead to serious health consequences, including seizures, coma, or even death.',\n",
       "   'Manufacturer Name': ['Tandem']},\n",
       "  {'Hazard': 'Low Battery',\n",
       "   'Hazardous Situation': 'The insulin pump had a low battery and blank display. The customer was unable to turn on the device and had a missing battery cap contact and a worn-off serial number label.',\n",
       "   'Harm/Potential Harm': 'The potential harm associated with this issue is that the insulin pump may not function properly, leading to incorrect insulin delivery, which can cause serious health complications, including hypoglycemia or hyperglycemia. If the device fails to deliver the correct amount of insulin, it can lead to serious health consequences, including seizures, coma, or even death.',\n",
       "   'Manufacturer Name': ['Medtronic']},\n",
       "  {'Hazard': 'Premature Battery Depletion',\n",
       "   'Hazardous Situation': 'The device had a premature battery depletion issue, which was confirmed by analysis. The cause of the depletion was consistent with lithium cluster formation.',\n",
       "   'Harm/Potential Harm': 'The potential harm associated with this issue is that the device may not function properly due to battery depletion, leading to incorrect therapy delivery. This can cause serious health complications, including pain, numbness, or paralysis. If the device fails to deliver the correct therapy, it can lead to serious health consequences, including permanent damage or death.',\n",
       "   'Manufacturer Name': ['Abbott']},\n",
       "  {'Hazard': 'Battery Issue',\n",
       "   'Hazardous Situation': 'The IPG was explanted and replaced due to a battery issue. The patient was in stable condition.',\n",
       "   'Harm/Potential Harm': 'The potential harm associated with this issue is that the device may not function properly due to battery depletion, leading to incorrect therapy delivery. This can cause serious health complications, including pain, numbness, or paralysis. If the device fails to deliver the correct therapy, it can lead to serious health consequences, including permanent damage or death.',\n",
       "   'Manufacturer Name': ['Abbott']},\n",
       "  {'Hazard': 'Battery Problem',\n",
       "   'Hazardous Situation': 'The patient thought their neurostimulator was dead due to pain in their lower back. The device was not returned for analysis.',\n",
       "   'Harm/Potential Harm': 'The potential harm associated with this issue is that the device may not function properly, leading to incorrect therapy delivery, which can cause serious health complications, including pain, numbness, or paralysis. If the device fails to deliver the correct therapy, it can lead to serious health consequences, including permanent damage or death.',\n",
       "   'Manufacturer Name': ['Medtronic']},\n",
       "  {'Hazard': 'Circuit Failure',\n",
       "   'Hazardous Situation': 'The insulin pump had multiple pump error alarms, and the customer was able to clear the alarm. The device had a loose battery cap metal connector and did not pass the self-test.',\n",
       "   'Harm/Potential Harm': 'The potential harm associated with this issue is that the insulin pump may not function properly, leading to incorrect insulin delivery, which can cause serious health complications, including hypoglycemia or hyperglycemia. If the device fails to deliver the correct amount of insulin, it can lead to serious health consequences, including seizures, coma, or even death.',\n",
       "   'Manufacturer Name': ['Medtronic']}]}"
      ]
     },
     "execution_count": 84,
     "metadata": {},
     "output_type": "execute_result"
    }
   ],
   "source": [
    "parsed_output"
   ]
  },
  {
   "cell_type": "markdown",
   "metadata": {},
   "source": [
    "#### Gemini LLM "
   ]
  },
  {
   "cell_type": "code",
   "execution_count": 95,
   "metadata": {},
   "outputs": [],
   "source": [
    "from phi.agent import Agent"
   ]
  },
  {
   "cell_type": "code",
   "execution_count": 96,
   "metadata": {},
   "outputs": [],
   "source": [
    "maude_agent = Agent(\n",
    "    model=Gemini(\n",
    "        api_key = os.environ['GEMINI_API_KEY'],\n",
    "        id=\"gemini-2.0-flash-exp\"\n",
    "    ),\n",
    "    tools=[DuckDuckGo()],\n",
    "    markdown=True\n",
    ")"
   ]
  },
  {
   "cell_type": "code",
   "execution_count": 103,
   "metadata": {},
   "outputs": [],
   "source": [
    "eventinfo_combined = f\"\"\"\n",
    "### Event Information:\n",
    "{eventinfo_all}\n",
    "\n",
    "### Result Information:\n",
    "{result}\n",
    "\"\"\"\n",
    "prompt_info_new = f\"\"\"\n",
    "You are a highly skilled medical device safety expert with extensive knowledge in risk assessment and failure analysis. Analyze the provided data and structure your response as follows:\n",
    "\n",
    "### 1. Hazard\n",
    "- Identify the unique hazard using a single word or a concise phrase.\n",
    "- Avoid full sentences and ensure it is a precise descriptor.\n",
    "\n",
    "### 2. Hazardous Situation\n",
    "- Provide a detailed description of the situation, including context from complaint text, follow-up, and manufacturer narrative.\n",
    "- Focus on capturing the specific conditions leading to the hazard.\n",
    "\n",
    "### 3. Harm/Potential Harm\n",
    "- Write a paragraph explaining the potential harm or adverse outcomes that could result from the identified hazard in the given context.\n",
    "- Be thorough in describing the potential risks and their impacts.\n",
    "\n",
    "### 4. Manufacturer Name\n",
    "- Extract and list all unique manufacturer names mentioned in the data.\n",
    "- Ensure the list includes only distinct names with no duplicates.\n",
    "\n",
    "### Provided Data:\n",
    "{eventinfo_combined}\n",
    "\"\"\""
   ]
  },
  {
   "cell_type": "code",
   "execution_count": 104,
   "metadata": {},
   "outputs": [],
   "source": [
    "response = maude_agent.run(prompt_info_new)"
   ]
  },
  {
   "cell_type": "code",
   "execution_count": 106,
   "metadata": {},
   "outputs": [
    {
     "data": {
      "text/plain": [
       "'### 1. Hazard\\n- Battery Depletion\\n- Over-Infusion\\n- Failure to Charge\\n- Low Battery\\n- Premature Battery Depletion\\n- Battery Issue\\n- Circuit Failure\\n\\n### 2. Hazardous Situation\\n\\n- **Battery Depletion:** An insulin pump exhibited power system errors, with the user experiencing persistent errors for three days. Though the pump continued to function, analysis revealed a battery issue stemming from connector resistance on the electrical board, causing premature battery depletion.\\n\\n- **Over-Infusion:** An insulin pump and its reservoir experienced an over-delivery of insulin. No medical intervention was required, however, the device was not returned for analysis, leaving the cause undetermined.\\n\\n- **Failure to Charge:** A device exhibited battery performance issues, resulting in a clinician receiving a battery performance alert. The device was explanted and replaced. Further analysis showed the capacitor exceeded the charged time and the issue was caused by premature battery depletion due to lithium cluster formation.\\n\\n-  **Low Battery:** An insulin pump displayed a low battery and a blank screen. The device could not be turned on, and was missing its battery cap contact and had a worn serial number label.\\n\\n- **Premature Battery Depletion:** A device experienced premature battery depletion. Analysis confirmed lithium cluster formation as the cause, which is a known issue for these devices and was previously associated with a field action.\\n\\n-   **Battery Issue:** An IPG was explanted and replaced due to a battery issue. The patient was reported to be in stable condition.\\n\\n-  **Circuit Failure:** An insulin pump generated multiple error alarms. The user could clear the alarms but found that the battery cap metal connector was loose. Self-tests failed and a cold solder joint was found on the keypad assembly.\\n\\n### 3. Harm/Potential Harm\\n\\n-   **Battery Depletion:** The potential harm is that the device may malfunction due to the battery issue, leading to incorrect therapy delivery, including under or over-infusion in the case of insulin pumps. This can cause serious health complications such as hypo or hyperglycemia, seizures, coma, and potentially death. If the battery fails completely, therapy is interrupted and can lead to significant adverse health outcomes.\\n\\n-   **Over-Infusion:** The potential harm from over-infusion is the delivery of too much insulin leading to hypoglycemia. This can cause severe health complications such as seizures, coma, and potentially death. Over-infusion can also result in long-term health issues like nerve damage or organ failure.\\n\\n-   **Failure to Charge:** Failure to charge or premature battery depletion can lead to a device malfunction and cessation of therapy delivery resulting in incorrect therapy delivery. This can cause serious health complications, including pain, numbness, or paralysis, and can lead to permanent damage or death.\\n\\n-   **Low Battery:** A low battery and blank display can render the insulin pump unusable, leading to incorrect insulin delivery. This can result in serious health complications, including hypoglycemia or hyperglycemia, which in turn can lead to seizures, coma, or even death. The inability to operate the device and administer necessary insulin can have immediate and severe health consequences.\\n\\n-   **Premature Battery Depletion:** Premature battery depletion can lead to a device malfunction causing the device to not operate correctly or cause a cessation of therapy. This can cause serious health complications, including pain, numbness, or paralysis, and can lead to permanent damage or death.\\n\\n-   **Battery Issue:** A battery issue can lead to a device malfunction and cessation of therapy delivery which would cause incorrect therapy delivery. This can cause serious health complications, including pain, numbness, or paralysis, and can lead to permanent damage or death.\\n\\n-   **Circuit Failure:** Circuit failure can lead to device malfunctions and errors in therapy delivery. This can cause serious health complications such as hypo or hyperglycemia, seizures, coma, and potentially death. The inability to operate the device and administer necessary therapy can have immediate and severe health consequences.\\n\\n### 4. Manufacturer Name\\n\\n- Medtronic\\n- Abbott\\n- Tandem\\n- Biotronik\\n'"
      ]
     },
     "execution_count": 106,
     "metadata": {},
     "output_type": "execute_result"
    }
   ],
   "source": [
    "response.content"
   ]
  },
  {
   "cell_type": "code",
   "execution_count": null,
   "metadata": {},
   "outputs": [],
   "source": []
  }
 ],
 "metadata": {
  "kernelspec": {
   "display_name": "venv",
   "language": "python",
   "name": "python3"
  },
  "language_info": {
   "codemirror_mode": {
    "name": "ipython",
    "version": 3
   },
   "file_extension": ".py",
   "mimetype": "text/x-python",
   "name": "python",
   "nbconvert_exporter": "python",
   "pygments_lexer": "ipython3",
   "version": "3.10.11"
  }
 },
 "nbformat": 4,
 "nbformat_minor": 2
}
