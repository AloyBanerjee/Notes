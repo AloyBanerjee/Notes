{
 "cells": [
  {
   "cell_type": "markdown",
   "metadata": {},
   "source": [
    "#### Importing Libraries"
   ]
  },
  {
   "cell_type": "code",
   "execution_count": 1,
   "metadata": {},
   "outputs": [],
   "source": [
    "import numpy as np \n",
    "import pandas as pd"
   ]
  },
  {
   "cell_type": "code",
   "execution_count": 2,
   "metadata": {},
   "outputs": [],
   "source": [
    "from langchain.output_parsers import StructuredOutputParser, ResponseSchema\n",
    "from langchain.schema import BaseOutputParser, AIMessage  \n",
    "from langchain_core.output_parsers import JsonOutputParser\n",
    "from langchain_core.prompts import PromptTemplate, ChatPromptTemplate\n",
    "from langchain_groq import ChatGroq\n",
    "from langchain.vectorstores import FAISS\n",
    "from langchain.docstore.document import Document\n",
    "from langchain.embeddings import OpenAIEmbeddings\n",
    "from langchain.chains import LLMChain\n",
    "from ollama import chat\n",
    "from langchain.chains import RetrievalQA\n",
    "import json\n",
    "from datetime import datetime\n",
    "from langchain_core.runnables import RunnableSequence\n",
    "from langchain.llms import OpenAI"
   ]
  },
  {
   "cell_type": "markdown",
   "metadata": {},
   "source": [
    "##### Maude Data Processing"
   ]
  },
  {
   "cell_type": "code",
   "execution_count": 3,
   "metadata": {},
   "outputs": [
    {
     "name": "stderr",
     "output_type": "stream",
     "text": [
      "<>:2: SyntaxWarning: invalid escape sequence '\\I'\n",
      "<>:2: SyntaxWarning: invalid escape sequence '\\I'\n",
      "C:\\Users\\Admin\\AppData\\Local\\Temp\\ipykernel_6312\\2140101341.py:2: SyntaxWarning: invalid escape sequence '\\I'\n",
      "  maude_data = pd.read_excel('H:\\Interview Preparation\\Coding\\Agentic AI\\Tryouts\\Maude DB Analysis\\Maude.xlsx')\n"
     ]
    },
    {
     "name": "stdout",
     "output_type": "stream",
     "text": [
      "<class 'pandas.core.frame.DataFrame'>\n",
      "RangeIndex: 45 entries, 0 to 44\n",
      "Data columns (total 12 columns):\n",
      " #   Column            Non-Null Count  Dtype         \n",
      "---  ------            --------------  -----         \n",
      " 0   Report Number     45 non-null     object        \n",
      " 1   Event Date        45 non-null     datetime64[ns]\n",
      " 2   Event Type        45 non-null     object        \n",
      " 3   Manufacturer      45 non-null     object        \n",
      " 4   Date Received     45 non-null     datetime64[ns]\n",
      " 5   Product Code      45 non-null     object        \n",
      " 6    Brand Name       45 non-null     object        \n",
      " 7    Device Problem   45 non-null     object        \n",
      " 8   Patient Problem   45 non-null     object        \n",
      " 9   PMA/PMN Number    39 non-null     object        \n",
      " 10  Number of Events  45 non-null     int64         \n",
      " 11  Event Text        45 non-null     object        \n",
      "dtypes: datetime64[ns](2), int64(1), object(9)\n",
      "memory usage: 4.3+ KB\n"
     ]
    },
    {
     "data": {
      "text/html": [
       "<div>\n",
       "<style scoped>\n",
       "    .dataframe tbody tr th:only-of-type {\n",
       "        vertical-align: middle;\n",
       "    }\n",
       "\n",
       "    .dataframe tbody tr th {\n",
       "        vertical-align: top;\n",
       "    }\n",
       "\n",
       "    .dataframe thead th {\n",
       "        text-align: right;\n",
       "    }\n",
       "</style>\n",
       "<table border=\"1\" class=\"dataframe\">\n",
       "  <thead>\n",
       "    <tr style=\"text-align: right;\">\n",
       "      <th></th>\n",
       "      <th>Report Number</th>\n",
       "      <th>Event Date</th>\n",
       "      <th>Event Type</th>\n",
       "      <th>Manufacturer</th>\n",
       "      <th>Date Received</th>\n",
       "      <th>Product Code</th>\n",
       "      <th>Brand Name</th>\n",
       "      <th>Device Problem</th>\n",
       "      <th>Patient Problem</th>\n",
       "      <th>PMA/PMN Number</th>\n",
       "      <th>Number of Events</th>\n",
       "      <th>Event Text</th>\n",
       "    </tr>\n",
       "  </thead>\n",
       "  <tbody>\n",
       "    <tr>\n",
       "      <th>0</th>\n",
       "      <td>2124215-2024-75434</td>\n",
       "      <td>2024-11-05 05:00:00</td>\n",
       "      <td>Injury</td>\n",
       "      <td>BOSTON SCIENTIFIC CORPORATION</td>\n",
       "      <td>2024-11-29 05:00:00</td>\n",
       "      <td>LWP</td>\n",
       "      <td>INCEPTA ICD</td>\n",
       "      <td>Premature Discharge of Battery; Battery Problem</td>\n",
       "      <td>No Clinical Signs, Symptoms or Conditions</td>\n",
       "      <td>P960040</td>\n",
       "      <td>1</td>\n",
       "      <td>Event Description: IT WAS REPORTED THAT THIS I...</td>\n",
       "    </tr>\n",
       "    <tr>\n",
       "      <th>1</th>\n",
       "      <td>2124215-2024-75483</td>\n",
       "      <td>2023-09-08 04:00:00</td>\n",
       "      <td>Injury</td>\n",
       "      <td>BOSTON SCIENTIFIC CORPORATION</td>\n",
       "      <td>2024-11-29 05:00:00</td>\n",
       "      <td>LWP</td>\n",
       "      <td>ACCOLADE MRI EL DR</td>\n",
       "      <td>Premature Discharge of Battery; Battery Problem</td>\n",
       "      <td>No Clinical Signs, Symptoms or Conditions</td>\n",
       "      <td>P150012/S000</td>\n",
       "      <td>1</td>\n",
       "      <td>Event Description: IT WAS REPORTED THAT THE BA...</td>\n",
       "    </tr>\n",
       "    <tr>\n",
       "      <th>2</th>\n",
       "      <td>2124215-2024-75490</td>\n",
       "      <td>2024-10-25 04:00:00</td>\n",
       "      <td>Injury</td>\n",
       "      <td>BOSTON SCIENTIFIC CORPORATION</td>\n",
       "      <td>2024-11-29 05:00:00</td>\n",
       "      <td>LWP</td>\n",
       "      <td>ENERGEN CRT-D</td>\n",
       "      <td>Premature Discharge of Battery; Delayed Charg...</td>\n",
       "      <td>Loss of consciousness; Syncope/Fainting</td>\n",
       "      <td>P010012</td>\n",
       "      <td>1</td>\n",
       "      <td>Event Description: IT WAS REPORTED THAT THIS C...</td>\n",
       "    </tr>\n",
       "    <tr>\n",
       "      <th>3</th>\n",
       "      <td>2124215-2024-75234</td>\n",
       "      <td>2024-11-08 05:00:00</td>\n",
       "      <td>Malfunction</td>\n",
       "      <td>BOSTON SCIENTIFIC CORPORATION</td>\n",
       "      <td>2024-11-28 05:00:00</td>\n",
       "      <td>LWP</td>\n",
       "      <td>PUNCTUA ICD</td>\n",
       "      <td>High impedance; Off-Label Use; Battery Problem</td>\n",
       "      <td>No Clinical Signs, Symptoms or Conditions</td>\n",
       "      <td>P960040</td>\n",
       "      <td>1</td>\n",
       "      <td>Event Description: IT WAS REPORTED THAT ASSIST...</td>\n",
       "    </tr>\n",
       "    <tr>\n",
       "      <th>4</th>\n",
       "      <td>2124215-2024-75371</td>\n",
       "      <td>2024-11-22 05:00:00</td>\n",
       "      <td>Injury</td>\n",
       "      <td>BOSTON SCIENTIFIC CORPORATION</td>\n",
       "      <td>2024-11-28 05:00:00</td>\n",
       "      <td>LWP</td>\n",
       "      <td>ACCOLADE MRI DR</td>\n",
       "      <td>Signal Artifact/Noise; Low impedance; Battery...</td>\n",
       "      <td>No Clinical Signs, Symptoms or Conditions</td>\n",
       "      <td>P150012</td>\n",
       "      <td>1</td>\n",
       "      <td>Event Description: IT WAS REPORTED THAT THIS R...</td>\n",
       "    </tr>\n",
       "  </tbody>\n",
       "</table>\n",
       "</div>"
      ],
      "text/plain": [
       "        Report Number          Event Date   Event Type  \\\n",
       "0  2124215-2024-75434 2024-11-05 05:00:00       Injury   \n",
       "1  2124215-2024-75483 2023-09-08 04:00:00       Injury   \n",
       "2  2124215-2024-75490 2024-10-25 04:00:00       Injury   \n",
       "3  2124215-2024-75234 2024-11-08 05:00:00  Malfunction   \n",
       "4  2124215-2024-75371 2024-11-22 05:00:00       Injury   \n",
       "\n",
       "                    Manufacturer       Date Received Product Code  \\\n",
       "0  BOSTON SCIENTIFIC CORPORATION 2024-11-29 05:00:00          LWP   \n",
       "1  BOSTON SCIENTIFIC CORPORATION 2024-11-29 05:00:00          LWP   \n",
       "2  BOSTON SCIENTIFIC CORPORATION 2024-11-29 05:00:00          LWP   \n",
       "3  BOSTON SCIENTIFIC CORPORATION 2024-11-28 05:00:00          LWP   \n",
       "4  BOSTON SCIENTIFIC CORPORATION 2024-11-28 05:00:00          LWP   \n",
       "\n",
       "           Brand Name                                     Device Problem  \\\n",
       "0         INCEPTA ICD    Premature Discharge of Battery; Battery Problem   \n",
       "1  ACCOLADE MRI EL DR    Premature Discharge of Battery; Battery Problem   \n",
       "2       ENERGEN CRT-D   Premature Discharge of Battery; Delayed Charg...   \n",
       "3         PUNCTUA ICD     High impedance; Off-Label Use; Battery Problem   \n",
       "4     ACCOLADE MRI DR   Signal Artifact/Noise; Low impedance; Battery...   \n",
       "\n",
       "                              Patient Problem PMA/PMN Number  \\\n",
       "0   No Clinical Signs, Symptoms or Conditions        P960040   \n",
       "1   No Clinical Signs, Symptoms or Conditions   P150012/S000   \n",
       "2     Loss of consciousness; Syncope/Fainting        P010012   \n",
       "3   No Clinical Signs, Symptoms or Conditions        P960040   \n",
       "4   No Clinical Signs, Symptoms or Conditions        P150012   \n",
       "\n",
       "   Number of Events                                         Event Text  \n",
       "0                 1  Event Description: IT WAS REPORTED THAT THIS I...  \n",
       "1                 1  Event Description: IT WAS REPORTED THAT THE BA...  \n",
       "2                 1  Event Description: IT WAS REPORTED THAT THIS C...  \n",
       "3                 1  Event Description: IT WAS REPORTED THAT ASSIST...  \n",
       "4                 1  Event Description: IT WAS REPORTED THAT THIS R...  "
      ]
     },
     "execution_count": 3,
     "metadata": {},
     "output_type": "execute_result"
    }
   ],
   "source": [
    "### Load the Maude data for battery problem with LWP\n",
    "maude_data = pd.read_excel('H:\\Interview Preparation\\Coding\\Agentic AI\\Tryouts\\Maude DB Analysis\\Maude.xlsx')\n",
    "maude_data.describe()\n",
    "maude_data.drop('Web Address', axis=1, inplace=True)\n",
    "maude_data.drop('Exemption Number', axis=1, inplace=True)\n",
    "maude_data.info()\n",
    "maude_data.head()"
   ]
  },
  {
   "cell_type": "code",
   "execution_count": 4,
   "metadata": {},
   "outputs": [],
   "source": [
    "# Normalize dates to a standard format (ISO 8601: YYYY-MM-DD)\n",
    "maude_data ['Event Date'] = pd.to_datetime(maude_data ['Event Date']).dt.strftime('%Y-%m-%d')\n",
    "maude_data ['Date Received'] = pd.to_datetime(maude_data ['Date Received']).dt.strftime('%Y-%m-%d')"
   ]
  },
  {
   "cell_type": "code",
   "execution_count": 5,
   "metadata": {},
   "outputs": [
    {
     "data": {
      "text/html": [
       "<div>\n",
       "<style scoped>\n",
       "    .dataframe tbody tr th:only-of-type {\n",
       "        vertical-align: middle;\n",
       "    }\n",
       "\n",
       "    .dataframe tbody tr th {\n",
       "        vertical-align: top;\n",
       "    }\n",
       "\n",
       "    .dataframe thead th {\n",
       "        text-align: right;\n",
       "    }\n",
       "</style>\n",
       "<table border=\"1\" class=\"dataframe\">\n",
       "  <thead>\n",
       "    <tr style=\"text-align: right;\">\n",
       "      <th></th>\n",
       "      <th>Report Number</th>\n",
       "      <th>Event Date</th>\n",
       "      <th>Event Type</th>\n",
       "      <th>Manufacturer</th>\n",
       "      <th>Date Received</th>\n",
       "      <th>Product Code</th>\n",
       "      <th>Brand Name</th>\n",
       "      <th>Device Problem</th>\n",
       "      <th>Patient Problem</th>\n",
       "      <th>PMA/PMN Number</th>\n",
       "      <th>Number of Events</th>\n",
       "      <th>Event Text</th>\n",
       "    </tr>\n",
       "  </thead>\n",
       "  <tbody>\n",
       "    <tr>\n",
       "      <th>0</th>\n",
       "      <td>2124215-2024-75434</td>\n",
       "      <td>2024-11-05</td>\n",
       "      <td>Injury</td>\n",
       "      <td>BOSTON SCIENTIFIC CORPORATION</td>\n",
       "      <td>2024-11-29</td>\n",
       "      <td>LWP</td>\n",
       "      <td>INCEPTA ICD</td>\n",
       "      <td>Premature Discharge of Battery; Battery Problem</td>\n",
       "      <td>No Clinical Signs, Symptoms or Conditions</td>\n",
       "      <td>P960040</td>\n",
       "      <td>1</td>\n",
       "      <td>Event Description: IT WAS REPORTED THAT THIS I...</td>\n",
       "    </tr>\n",
       "    <tr>\n",
       "      <th>1</th>\n",
       "      <td>2124215-2024-75483</td>\n",
       "      <td>2023-09-08</td>\n",
       "      <td>Injury</td>\n",
       "      <td>BOSTON SCIENTIFIC CORPORATION</td>\n",
       "      <td>2024-11-29</td>\n",
       "      <td>LWP</td>\n",
       "      <td>ACCOLADE MRI EL DR</td>\n",
       "      <td>Premature Discharge of Battery; Battery Problem</td>\n",
       "      <td>No Clinical Signs, Symptoms or Conditions</td>\n",
       "      <td>P150012/S000</td>\n",
       "      <td>1</td>\n",
       "      <td>Event Description: IT WAS REPORTED THAT THE BA...</td>\n",
       "    </tr>\n",
       "  </tbody>\n",
       "</table>\n",
       "</div>"
      ],
      "text/plain": [
       "        Report Number  Event Date Event Type                   Manufacturer  \\\n",
       "0  2124215-2024-75434  2024-11-05     Injury  BOSTON SCIENTIFIC CORPORATION   \n",
       "1  2124215-2024-75483  2023-09-08     Injury  BOSTON SCIENTIFIC CORPORATION   \n",
       "\n",
       "  Date Received Product Code          Brand Name  \\\n",
       "0    2024-11-29          LWP         INCEPTA ICD   \n",
       "1    2024-11-29          LWP  ACCOLADE MRI EL DR   \n",
       "\n",
       "                                     Device Problem  \\\n",
       "0   Premature Discharge of Battery; Battery Problem   \n",
       "1   Premature Discharge of Battery; Battery Problem   \n",
       "\n",
       "                              Patient Problem PMA/PMN Number  \\\n",
       "0   No Clinical Signs, Symptoms or Conditions        P960040   \n",
       "1   No Clinical Signs, Symptoms or Conditions   P150012/S000   \n",
       "\n",
       "   Number of Events                                         Event Text  \n",
       "0                 1  Event Description: IT WAS REPORTED THAT THIS I...  \n",
       "1                 1  Event Description: IT WAS REPORTED THAT THE BA...  "
      ]
     },
     "execution_count": 5,
     "metadata": {},
     "output_type": "execute_result"
    }
   ],
   "source": [
    "maude_data.head(2)"
   ]
  },
  {
   "cell_type": "code",
   "execution_count": 9,
   "metadata": {},
   "outputs": [],
   "source": [
    "def create_json_summary(row):\n",
    "    return json.dumps({\n",
    "        \"Report Number\": row['Report Number'],\n",
    "        \"Event Type\": row['Event Type'],\n",
    "        \"Manufacturer\": row['Manufacturer'],\n",
    "        \"Product Code\": row['Product Code'],\n",
    "        \"Brand Name\": row[' Brand Name'],\n",
    "        \"Device Problem\": row[' Device Problem'],\n",
    "        \"Patient Problem\": row['Patient Problem'],\n",
    "        \"PMA/PMN Number\": row['PMA/PMN Number'],\n",
    "        \"Number of Events\": row['Number of Events'],\n",
    "        \"Event Text\": row['Event Text'],\n",
    "        \"Event Date\": row['Event Date'],\n",
    "        \"Date Received\": row['Date Received']\n",
    "    })"
   ]
  },
  {
   "cell_type": "code",
   "execution_count": 10,
   "metadata": {},
   "outputs": [
    {
     "data": {
      "text/plain": [
       "Index(['Report Number', 'Event Date', 'Event Type', 'Manufacturer',\n",
       "       'Date Received', 'Product Code', ' Brand Name', ' Device Problem',\n",
       "       'Patient Problem', 'PMA/PMN Number', 'Number of Events', 'Event Text'],\n",
       "      dtype='object')"
      ]
     },
     "execution_count": 10,
     "metadata": {},
     "output_type": "execute_result"
    }
   ],
   "source": [
    "maude_data.columns"
   ]
  },
  {
   "cell_type": "code",
   "execution_count": 11,
   "metadata": {},
   "outputs": [],
   "source": [
    "maude_data['summary'] = maude_data.apply(create_json_summary, axis=1)"
   ]
  },
  {
   "cell_type": "code",
   "execution_count": 12,
   "metadata": {},
   "outputs": [
    {
     "data": {
      "text/html": [
       "<div>\n",
       "<style scoped>\n",
       "    .dataframe tbody tr th:only-of-type {\n",
       "        vertical-align: middle;\n",
       "    }\n",
       "\n",
       "    .dataframe tbody tr th {\n",
       "        vertical-align: top;\n",
       "    }\n",
       "\n",
       "    .dataframe thead th {\n",
       "        text-align: right;\n",
       "    }\n",
       "</style>\n",
       "<table border=\"1\" class=\"dataframe\">\n",
       "  <thead>\n",
       "    <tr style=\"text-align: right;\">\n",
       "      <th></th>\n",
       "      <th>Report Number</th>\n",
       "      <th>Event Date</th>\n",
       "      <th>Event Type</th>\n",
       "      <th>Manufacturer</th>\n",
       "      <th>Date Received</th>\n",
       "      <th>Product Code</th>\n",
       "      <th>Brand Name</th>\n",
       "      <th>Device Problem</th>\n",
       "      <th>Patient Problem</th>\n",
       "      <th>PMA/PMN Number</th>\n",
       "      <th>Number of Events</th>\n",
       "      <th>Event Text</th>\n",
       "      <th>summary</th>\n",
       "    </tr>\n",
       "  </thead>\n",
       "  <tbody>\n",
       "    <tr>\n",
       "      <th>0</th>\n",
       "      <td>2124215-2024-75434</td>\n",
       "      <td>2024-11-05</td>\n",
       "      <td>Injury</td>\n",
       "      <td>BOSTON SCIENTIFIC CORPORATION</td>\n",
       "      <td>2024-11-29</td>\n",
       "      <td>LWP</td>\n",
       "      <td>INCEPTA ICD</td>\n",
       "      <td>Premature Discharge of Battery; Battery Problem</td>\n",
       "      <td>No Clinical Signs, Symptoms or Conditions</td>\n",
       "      <td>P960040</td>\n",
       "      <td>1</td>\n",
       "      <td>Event Description: IT WAS REPORTED THAT THIS I...</td>\n",
       "      <td>{\"Report Number\": \"2124215-2024-75434\", \"Event...</td>\n",
       "    </tr>\n",
       "    <tr>\n",
       "      <th>1</th>\n",
       "      <td>2124215-2024-75483</td>\n",
       "      <td>2023-09-08</td>\n",
       "      <td>Injury</td>\n",
       "      <td>BOSTON SCIENTIFIC CORPORATION</td>\n",
       "      <td>2024-11-29</td>\n",
       "      <td>LWP</td>\n",
       "      <td>ACCOLADE MRI EL DR</td>\n",
       "      <td>Premature Discharge of Battery; Battery Problem</td>\n",
       "      <td>No Clinical Signs, Symptoms or Conditions</td>\n",
       "      <td>P150012/S000</td>\n",
       "      <td>1</td>\n",
       "      <td>Event Description: IT WAS REPORTED THAT THE BA...</td>\n",
       "      <td>{\"Report Number\": \"2124215-2024-75483\", \"Event...</td>\n",
       "    </tr>\n",
       "  </tbody>\n",
       "</table>\n",
       "</div>"
      ],
      "text/plain": [
       "        Report Number  Event Date Event Type                   Manufacturer  \\\n",
       "0  2124215-2024-75434  2024-11-05     Injury  BOSTON SCIENTIFIC CORPORATION   \n",
       "1  2124215-2024-75483  2023-09-08     Injury  BOSTON SCIENTIFIC CORPORATION   \n",
       "\n",
       "  Date Received Product Code          Brand Name  \\\n",
       "0    2024-11-29          LWP         INCEPTA ICD   \n",
       "1    2024-11-29          LWP  ACCOLADE MRI EL DR   \n",
       "\n",
       "                                     Device Problem  \\\n",
       "0   Premature Discharge of Battery; Battery Problem   \n",
       "1   Premature Discharge of Battery; Battery Problem   \n",
       "\n",
       "                              Patient Problem PMA/PMN Number  \\\n",
       "0   No Clinical Signs, Symptoms or Conditions        P960040   \n",
       "1   No Clinical Signs, Symptoms or Conditions   P150012/S000   \n",
       "\n",
       "   Number of Events                                         Event Text  \\\n",
       "0                 1  Event Description: IT WAS REPORTED THAT THIS I...   \n",
       "1                 1  Event Description: IT WAS REPORTED THAT THE BA...   \n",
       "\n",
       "                                             summary  \n",
       "0  {\"Report Number\": \"2124215-2024-75434\", \"Event...  \n",
       "1  {\"Report Number\": \"2124215-2024-75483\", \"Event...  "
      ]
     },
     "execution_count": 12,
     "metadata": {},
     "output_type": "execute_result"
    }
   ],
   "source": [
    "maude_data.head(2)"
   ]
  },
  {
   "cell_type": "code",
   "execution_count": 13,
   "metadata": {},
   "outputs": [
    {
     "data": {
      "text/plain": [
       "'{\"Report Number\": \"2124215-2024-75434\", \"Event Type\": \"Injury\", \"Manufacturer\": \"BOSTON SCIENTIFIC CORPORATION\", \"Product Code\": \"LWP\", \"Brand Name\": \"INCEPTA ICD\", \"Device Problem\": \" Premature Discharge of Battery; Battery Problem\", \"Patient Problem\": \" No Clinical Signs, Symptoms or Conditions\", \"PMA/PMN Number\": \"P960040\", \"Number of Events\": 1, \"Event Text\": \"Event Description: IT WAS REPORTED THAT THIS IMPLANTABLE CARDIOVERTER DEFIBRILLATOR (ICD) EXHIBITED PREMATURE BATTERY DEPLETION (PBD). THIS DEVICE WAS EXPLANTED AND REPLACED. NO ADDITIONAL ADVERSE PATIENT EFFECTS WERE REPORTED.\", \"Event Date\": \"2024-11-05\", \"Date Received\": \"2024-11-29\"}'"
      ]
     },
     "execution_count": 13,
     "metadata": {},
     "output_type": "execute_result"
    }
   ],
   "source": [
    "maude_data['summary'][0]"
   ]
  },
  {
   "cell_type": "markdown",
   "metadata": {},
   "source": [
    "### Maude Data - Prepare for LLM Input - Vector Store"
   ]
  },
  {
   "cell_type": "code",
   "execution_count": 14,
   "metadata": {},
   "outputs": [
    {
     "name": "stderr",
     "output_type": "stream",
     "text": [
      "C:\\Users\\Admin\\AppData\\Local\\Temp\\ipykernel_6312\\394758739.py:14: LangChainDeprecationWarning: The class `OpenAIEmbeddings` was deprecated in LangChain 0.0.9 and will be removed in 1.0. An updated version of the class exists in the :class:`~langchain-openai package and should be used instead. To use it run `pip install -U :class:`~langchain-openai` and import as `from :class:`~langchain_openai import OpenAIEmbeddings``.\n",
      "  embeddings = OpenAIEmbeddings()\n"
     ]
    }
   ],
   "source": [
    "# Create documents with metadata from the dataframe\n",
    "documents = [\n",
    "    Document(\n",
    "        page_content=row['summary'],  # Store the JSON summary as content\n",
    "        metadata={\n",
    "            \"Report Number\": row['Report Number'],\n",
    "            \"Event Type\": row['Event Type'],\n",
    "            \"Manufacturer\": row['Manufacturer']\n",
    "        }\n",
    "    )\n",
    "    for _, row in maude_data.iterrows()\n",
    "]\n",
    "\n",
    "embeddings = OpenAIEmbeddings()\n",
    "# Store the documents in a FAISS vector store\n",
    "vectorstore = FAISS.from_documents(documents, embeddings)\n",
    "\n",
    "# Save the FAISS index locally\n",
    "vectorstore.save_local(\"faiss_index\")"
   ]
  },
  {
   "cell_type": "code",
   "execution_count": 15,
   "metadata": {},
   "outputs": [],
   "source": [
    "llm = ChatGroq(\n",
    "    model_name=\"llama-3.3-70b-versatile\",\n",
    "    temperature=0.7\n",
    ")\n",
    "#llm = OpenAI(model=\"gpt-4\")"
   ]
  },
  {
   "cell_type": "markdown",
   "metadata": {},
   "source": [
    "### RAG Implementation"
   ]
  },
  {
   "cell_type": "code",
   "execution_count": 15,
   "metadata": {},
   "outputs": [],
   "source": [
    "# # Create Output Schema for LLM response\n",
    "# independent_schema = [\n",
    "#     ResponseSchema(name=\"FailureMode\", description=\"The failure mode available in the maude data\"),\n",
    "#     ResponseSchema(name=\"PotentialCause\", description=\"The potential cause available in the maude data\"),\n",
    "#     ResponseSchema(name=\"Hazard\", description=\"The hazardavailable in the maude data\"),\n",
    "# ]\n",
    "\n",
    "# response_schemas = [\n",
    "#     ResponseSchema(\n",
    "#         name=\"MaudeList\",\n",
    "#         description=\"A list of all failure mode details from maude data and its related details\",\n",
    "#         type=\"array\",\n",
    "#         items={\"type\": \"object\", \"properties\": independent_schema},\n",
    "#     )\n",
    "# ]"
   ]
  },
  {
   "cell_type": "code",
   "execution_count": 16,
   "metadata": {},
   "outputs": [],
   "source": [
    "# # Create an output parser\n",
    "# output_parser = StructuredOutputParser.from_response_schemas(response_schemas)\n",
    "# format_instructions = output_parser.get_format_instructions()"
   ]
  },
  {
   "cell_type": "code",
   "execution_count": 17,
   "metadata": {},
   "outputs": [],
   "source": [
    "# # Creating prompt template\n",
    "# prompt_template = PromptTemplate(\n",
    "#     template=(\n",
    "#         \"You are given the following retrieved context:\\n\\n\"\n",
    "#         \"{context}\\n\\n\"\n",
    "#         \"Based on this, provide a structured response with the following fields:\\n\\n\"\n",
    "#         \"{format_instructions}\\n\\n\"\n",
    "#         \"Make sure to follow the schema strictly.\"\n",
    "#     ),\n",
    "#     input_variables=[\"context\"],\n",
    "#     partial_variables={\"format_instructions\": format_instructions},\n",
    "# )"
   ]
  },
  {
   "cell_type": "code",
   "execution_count": 18,
   "metadata": {},
   "outputs": [],
   "source": [
    "# # Setup the retriever to narrow the context\n",
    "# retriever = vectorstore.as_retriever(search_type=\"similarity\", search_kwargs={\"k\": 5})"
   ]
  },
  {
   "cell_type": "code",
   "execution_count": 19,
   "metadata": {},
   "outputs": [],
   "source": [
    "# rag_chain = RetrievalQA.from_chain_type(llm=llm, chain_type='stuff', retriever=retriever, verbose = False, return_source_documents = True, chain_type_kwargs={'prompt':prompt_template})"
   ]
  },
  {
   "cell_type": "code",
   "execution_count": 20,
   "metadata": {},
   "outputs": [],
   "source": [
    "# # Step 6: Query the system with structured output\n",
    "# query = \"What are the differnt failre mode available in the data and also shae the potential cause , hazard happen due to that of the failure in a given response format ?\"\n",
    "# result = rag_chain.invoke(query)"
   ]
  },
  {
   "cell_type": "code",
   "execution_count": 21,
   "metadata": {},
   "outputs": [],
   "source": [
    "# raw_result = result['result']"
   ]
  },
  {
   "cell_type": "code",
   "execution_count": 22,
   "metadata": {},
   "outputs": [],
   "source": [
    "# # Step 2: Clean the result to remove ```json tags\n",
    "# cleaned_result = raw_result.strip(\"```json\").strip()\n",
    "\n",
    "# # Step 3: Parse the cleaned JSON into a Python dictionary\n",
    "# parsed_result = json.loads(cleaned_result)\n",
    "\n",
    "# # Step 4: Access specific fields in the parsed result\n",
    "# maude_list = parsed_result.get(\"MaudeList\", [])\n",
    "\n",
    "# # Print the parsed result\n",
    "# print(json.dumps(maude_list, indent=4))"
   ]
  },
  {
   "cell_type": "code",
   "execution_count": 23,
   "metadata": {},
   "outputs": [],
   "source": [
    "# prompt = PromptTemplate(\n",
    "#     template=\"Extract the information from the given context.\\n{format_instructions}\\n\\nContext: {paragraph}\",\n",
    "#     input_variables=[\"paragraph\"],\n",
    "#     partial_variables={\"format_instructions\": format_instructions},\n",
    "# )"
   ]
  },
  {
   "cell_type": "code",
   "execution_count": 24,
   "metadata": {},
   "outputs": [],
   "source": [
    "# chain = RunnableSequence(prompt | llm)"
   ]
  },
  {
   "cell_type": "code",
   "execution_count": 25,
   "metadata": {},
   "outputs": [],
   "source": [
    "# result = chain.invoke({\"paragraph\": retriever})"
   ]
  },
  {
   "cell_type": "markdown",
   "metadata": {},
   "source": [
    "#### Simple Prompting without RAG - Structured Output"
   ]
  },
  {
   "cell_type": "code",
   "execution_count": 16,
   "metadata": {},
   "outputs": [],
   "source": [
    "short_maude_data = maude_data[:15]"
   ]
  },
  {
   "cell_type": "code",
   "execution_count": 17,
   "metadata": {},
   "outputs": [
    {
     "data": {
      "text/plain": [
       "(15, 13)"
      ]
     },
     "execution_count": 17,
     "metadata": {},
     "output_type": "execute_result"
    }
   ],
   "source": [
    "short_maude_data.shape"
   ]
  },
  {
   "cell_type": "code",
   "execution_count": 18,
   "metadata": {},
   "outputs": [],
   "source": [
    "summary_all = ''\n",
    "for _, row in short_maude_data.iterrows():\n",
    "    summary_all += row['summary']\n",
    "    #print(row['summary'])"
   ]
  },
  {
   "cell_type": "code",
   "execution_count": 19,
   "metadata": {},
   "outputs": [
    {
     "data": {
      "text/plain": [
       "'{\"Report Number\": \"2124215-2024-75434\", \"Event Type\": \"Injury\", \"Manufacturer\": \"BOSTON SCIENTIFIC CORPORATION\", \"Product Code\": \"LWP\", \"Brand Name\": \"INCEPTA ICD\", \"Device Problem\": \" Premature Discharge of Battery; Battery Problem\", \"Patient Problem\": \" No Clinical Signs, Symptoms or Conditions\", \"PMA/PMN Number\": \"P960040\", \"Number of Events\": 1, \"Event Text\": \"Event Description: IT WAS REPORTED THAT THIS IMPLANTABLE CARDIOVERTER DEFIBRILLATOR (ICD) EXHIBITED PREMATURE BATTERY DEPLETION (PBD). THIS DEVICE WAS EXPLANTED AND REPLACED. NO ADDITIONAL ADVERSE PATIENT EFFECTS WERE REPORTED.\", \"Event Date\": \"2024-11-05\", \"Date Received\": \"2024-11-29\"}{\"Report Number\": \"2124215-2024-75483\", \"Event Type\": \"Injury\", \"Manufacturer\": \"BOSTON SCIENTIFIC CORPORATION\", \"Product Code\": \"LWP\", \"Brand Name\": \"ACCOLADE MRI EL DR\", \"Device Problem\": \" Premature Discharge of Battery; Battery Problem\", \"Patient Problem\": \" No Clinical Signs, Symptoms or Conditions\", \"PMA/PMN Number\": \"P150012/S000\", \"Number of Events\": 1, \"Event Text\": \"Event Description: IT WAS REPORTED THAT THE BATTERY OF THIS PACEMAKER WAS SUSPECTED TO BE DEPLETING PREMATURELY AS THE ESTIMATED LONGEVITY REMAINING DECREASED FROM 10.5 YEARS TO 8.5 YEARS DURING THE SAME MONTH. SLIGHT INCREASE IN ATRIAL PACING PERCENTAGE MAY ACCOUNT FOR SLIGHT INCREASE IN POWER CONSUMPTION. THE PATIENT WILL BE MONITORED. THE DEVICE WAS EXPLANTED AND SUCCESSFULLY REPLACED. NO ADDITIONAL ADVERSE PATIENT EFFECTS WERE REPORTED.Event Description: IT WAS REPORTED THAT THE BATTERY OF THIS PACEMAKER WAS SUSPECTED TO BE DEPLETING PREMATURELY AS THE ESTIMATED LONGEVITY REMAINING DECREASED FROM 10.5 YEARS TO 8.5 YEARS DURING THE SAME MONTH. SLIGHT INCREASE IN ATRIAL PACING PERCENTAGE MAY ACCOUNT FOR SLIGHT INCREASE IN POWER CONSUMPTION BUT IT WAS NOT CONFIRMED. A SECOND ANALYSIS WAS PERFORMED APPROXIMATELY ONE YEAR LATER, WHICH CONFIRMED A GRADUAL INCREASE IN POWER CONSUMPTION. BASED ON THESE FINDINGS, THE EXPLANTATION OF THE DEVICE WAS RECOMMENDED. THE DEVICE WAS SUBSEQUENTLY EXPLANTED AND SUCCESSFULLY REPLACED. NO ADDITIONAL ADVERSE PATIENT EFFECTS WERE REPORTED. Manufacturer Narrative: CORRECTED FIELDS: B5 DESCRIBE EVENT OR PROBLEM. G3 BSC AWARE DATE.\", \"Event Date\": \"2023-09-08\", \"Date Received\": \"2024-11-29\"}{\"Report Number\": \"2124215-2024-75490\", \"Event Type\": \"Injury\", \"Manufacturer\": \"BOSTON SCIENTIFIC CORPORATION\", \"Product Code\": \"LWP\", \"Brand Name\": \"ENERGEN CRT-D\", \"Device Problem\": \" Premature Discharge of Battery; Delayed Charge Time; Battery Problem\", \"Patient Problem\": \" Loss of consciousness; Syncope/Fainting\", \"PMA/PMN Number\": \"P010012\", \"Number of Events\": 1, \"Event Text\": \"Event Description: IT WAS REPORTED THAT THIS CARDIAC RESYNCHRONIZATION THERAPY DEFIBRILLATOR (CRT-D) WAS EXPLANTED DUE TO CONCERNS OF PREMATURE BATTERY DEPLETION (PBD) AS IT DECREASED FROM 1 YEAR REMAINING TO END OF LIFE (EOL) IN A 7 MONTHS TIME PERIOD. THE PATIENT EXPERIENCED TWO SYNCOPAL EPISODES DURING THIS TIME. A DEVICE CHANGEOUT PROCEDURE WAS PERFORMED AND IT WAS EXPLANTED AND REPLACED. NO ADDITIONAL ADVERSE PATIENT EFFECTS WERE REPORTED. IT IS EXPECTED TO RECEIVE THIS PRODUCT FOR ANALYSIS.\", \"Event Date\": \"2024-10-25\", \"Date Received\": \"2024-11-29\"}{\"Report Number\": \"2124215-2024-75234\", \"Event Type\": \"Malfunction\", \"Manufacturer\": \"BOSTON SCIENTIFIC CORPORATION\", \"Product Code\": \"LWP\", \"Brand Name\": \"PUNCTUA ICD\", \"Device Problem\": \" High impedance; Off-Label Use; Battery Problem\", \"Patient Problem\": \" No Clinical Signs, Symptoms or Conditions\", \"PMA/PMN Number\": \"P960040\", \"Number of Events\": 1, \"Event Text\": \"Event Description: IT WAS REPORTED THAT ASSISTANCE WAS REQUESTED TO PROGRAM THIS IMPLANTABLE CARDIOVERTER DEFIBRILLATOR (ICD), WHICH WAS AT ELECTIVE REPLACEMENT INDICATOR (ERI), INTO MAGNETIC RESONANCE IMAGING (MRI) MODE. TECHNICAL SERVICES (TS) NOTED THAT THIS SYSTEM IS NON-MRI CONDITIONAL AND OBSERVED HIGH OUT-OF-RANGE SHOCK IMPEDANCES EXCEEDING 125 OHMS. DESPITE THIS, THE DEVICE WAS PROGRAMMED INTO MRI MODE AND ELECTROCAUTERY MODE AS DIRECTED BY CARDIOLOGY, AND THE MRI WAS SUCCESSFULLY PERFORMED. FOLLOWING THE MRI PROCEDURE, THE DEVICE WAS EXITED FROM MRI MODE, CHECKED, AND CONFIRMED TO BE FUNCTIONING AS PROGRAMMED. NO ADVERSE PATIENT EFFECTS WERE REPORTED. THIS ICD REMAINS IN SERVICE.\", \"Event Date\": \"2024-11-08\", \"Date Received\": \"2024-11-28\"}{\"Report Number\": \"2124215-2024-75371\", \"Event Type\": \"Injury\", \"Manufacturer\": \"BOSTON SCIENTIFIC CORPORATION\", \"Product Code\": \"LWP\", \"Brand Name\": \"ACCOLADE MRI DR\", \"Device Problem\": \" Signal Artifact/Noise; Low impedance; Battery Problem; Material Integrity Problem; High Capture Threshold\", \"Patient Problem\": \" No Clinical Signs, Symptoms or Conditions\", \"PMA/PMN Number\": \"P150012\", \"Number of Events\": 1, \"Event Text\": \"Event Description: IT WAS REPORTED THAT THIS RECENTLY IMPLANTED PACEMAKER DROPPED ITS BATTERY LONGEVITY BY UP TO TWO YEARS IN A SPAN OF TWO MONTHS. AND THERE WERE CONCERNS OF NOISE ON THE RIGHT ATRIAL (RA) CHANNEL. TECHNICAL SERVICES (TS) WAS CONSULTED, AND IT WAS FOUND THAT THERE WERE LOW OUT OF RANGE PACING IMPEDANCE MEASUREMENTS ON THE RA CHANNEL AND HIGH PACING THRESHOLDS. IN ADDITION, THERE WAS A HIGH-POWER CONSUMPTION, THIS BEHAVIOR WAS CONSISTENT WITH A GATE OXIDE DEFECT OF INTERNAL CIRCUIT OF THE PACEMAKER WITH THE POTENTIAL FOR HEADER- LEAD CORROSION. DEVICE AND RA LEAD REPLACEMENT WAS RECOMMENDED. NO ADDITIONAL ADVERSE PATIENT EFFECTS WERE REPORTED. THIS PACEMAKER WAS EXPLANTED AND SUCCESSFULLY REPLACED. AT THIS MOMENT, THIS PACEMAKER HAS NOT RETURNED TO BOSTON SCIENTIFIC FOR FURTHER ANALYSIS.\", \"Event Date\": \"2024-11-22\", \"Date Received\": \"2024-11-28\"}{\"Report Number\": \"2124215-2024-74840\", \"Event Type\": \"Malfunction\", \"Manufacturer\": \"BOSTON SCIENTIFIC CORPORATION\", \"Product Code\": \"LWP\", \"Brand Name\": \"ACCOLADE MRI SR\", \"Device Problem\": \" Premature Discharge of Battery; Battery Problem\", \"Patient Problem\": \" No Clinical Signs, Symptoms or Conditions\", \"PMA/PMN Number\": \"P150012/S000\", \"Number of Events\": 1, \"Event Text\": \"Event Description: IT WAS REPORTED THAT THIS IMPLANTABLE PACEMAKER WAS SUSPECTED TO HAVE PREMATURE BATTERY DEPLETION (PBD) DUE TO DIFFERING LONGEVITY ESTIMATES GIVEN SINCE AUGUST OF LAST YEAR. THE BATTERY LONGEVITY WAS 5.5 YEARS LAST AUGUST AND YESTERDAY WAS 3.5 YEARS. TECHNICAL SERVICES (TS) WAS CONSULTED AND ADVISED THIS COULD BE A TRANSITION PERIOD FROM BLENDED CAPACITY TO MONITORING VOLTAGE ALONE. IT WAS NOTED THE PATIENT WILL BE REEVALUATED AGAIN IN SIX MONTHS AND WILL VERIFY STABLE LONGEVITY DROPS. TS SUGGESTED TO SAVE DATA ANALYSIS, AND HAVE IT EVALUATED DUE TO CURRENT DATA WAS NOT SAVED AND THE PATIENT IS NOT ON EXTERNAL MONITORING. THE DEVICE REMAINS IN SERVICE. NO ADVERSE PATIENT EFFECTS WERE REPORTED.\", \"Event Date\": \"2024-11-04\", \"Date Received\": \"2024-11-27\"}{\"Report Number\": \"2124215-2024-75174\", \"Event Type\": \"Malfunction\", \"Manufacturer\": \"BOSTON SCIENTIFIC CORPORATION\", \"Product Code\": \"LWP\", \"Brand Name\": \"ACCOLADE MRI EL DR\", \"Device Problem\": \" Premature Discharge of Battery; Battery Problem\", \"Patient Problem\": \" No Clinical Signs, Symptoms or Conditions\", \"PMA/PMN Number\": \"P150012/S000\", \"Number of Events\": 1, \"Event Text\": \"Event Description: IT WAS REPORTED THAT THIS IMPLANTABLE PACEMAKER EXHIBITED PREMATURE BATTERY DEPLETION. THE POWER CONSUMPTION HAS INCREASED SHOWING A BATTERY LONGEVITY FROM FOUR YEARS TO TWO YEARS. A DEVICE REPLACEMENT PROCEDURE WAS SCHEDULED FOR THE FUTURE. AT THIS TIME, THIS DEVICE REMAINS IN SERVICE. NO ADVERSE PATIENT EFFECTS WERE REPORTED.\", \"Event Date\": \"2024-11-08\", \"Date Received\": \"2024-11-27\"}{\"Report Number\": \"2124215-2024-74568\", \"Event Type\": \"Malfunction\", \"Manufacturer\": \"BOSTON SCIENTIFIC CORPORATION\", \"Product Code\": \"LWP\", \"Brand Name\": \"INGENIO\", \"Device Problem\": \" Battery Problem\", \"Patient Problem\": \" No Clinical Signs, Symptoms or Conditions\", \"PMA/PMN Number\": \"N970003\", \"Number of Events\": 1, \"Event Text\": \"Event Description: IT WAS REPORTED THAT THIS IMPLANTABLE PACEMAKER EXHIBITED LONGEVITY CALCULATIONS FROM 2 YEARS REMAINING TO LESS THAN 3 MONTHS REMAINING IN A SPAN OF 1 YEAR. BOSTON SCIENTIFIC TECHNICAL SERVICES (TS) DISCUSSED THE CHANGE IN LONGEVITY IS DUE TO THE BATTERY VOLTAGE BEING HIGHER THAN THE ESTIMATED VOLTAGE AT THE TIME. DEVICE REPLACEMENT RECOMMENDED. THIS DEVICE REMAINS IN SERVICE. NO ADVERSE PATIENT EFFECTS WERE REPORTED.\", \"Event Date\": \"2024-10-31\", \"Date Received\": \"2024-11-26\"}{\"Report Number\": \"2124215-2024-74160\", \"Event Type\": \"Malfunction\", \"Manufacturer\": \"BOSTON SCIENTIFIC CORPORATION\", \"Product Code\": \"LWP\", \"Brand Name\": \"ACCOLADE MRI DR\", \"Device Problem\": \" Premature Discharge of Battery; Battery Problem\", \"Patient Problem\": \" No Clinical Signs, Symptoms or Conditions\", \"PMA/PMN Number\": \"P150012\", \"Number of Events\": 1, \"Event Text\": \"Event Description: IT WAS REPORTED THAT THE BATTERY OF THIS PACEMAKER WAS SUSPECTED TO BE DEPLETING PREMATURELY. A REQUEST WAS MADE TO HAVE DATA FROM THIS PACEMAKER ANALYZED. THE PACEMAKER IS STILL IN SERVICE. NO ADVERSE PATIENT EFFECTS WERE REPORTED. Manufacturer Narrative: IF PERTINENT INFORMATION IS PROVIDED IN THE FUTURE, A SUPPLEMENTAL REPORT WILL BE SUBMITTED.\", \"Event Date\": \"2024-11-06\", \"Date Received\": \"2024-11-25\"}{\"Report Number\": \"2124215-2024-73876\", \"Event Type\": \"Malfunction\", \"Manufacturer\": \"BOSTON SCIENTIFIC CORPORATION\", \"Product Code\": \"LWP\", \"Brand Name\": \"INGENIO\", \"Device Problem\": \" Premature Discharge of Battery; Battery Problem\", \"Patient Problem\": \" No Clinical Signs, Symptoms or Conditions\", \"PMA/PMN Number\": NaN, \"Number of Events\": 1, \"Event Text\": \"Event Description: IT WAS REPORTED THAT THE BATTERY OF THIS IMPLANTABLE DEVICE WAS SUSPECTED TO BE DEPLETING PREMATURELY DUE TO A DECREASE IN REMAINING LONGEVITY FROM 2.5 YEAR TO 1 YEAR OVER THE PAST 7 WEEKS. A REQUEST WAS MADE TO HAVE DATA FROM THIS DEVICE ANALYZED. DATA ANALYSIS CONFIRMED THE POWER CONSUMPTION IS NORMAL, BUT THE BATTERY PERFORMANCE IS LOWER THAN THE EXPECTED NOMINALS AND AT THE CURRENT TREND, ELECTIVE REPLACEMENT INDICATOR (ERI) WILL TRIGGER IN LESS THAN ONE YEAR. DEVICE REPLACEMENT OR RE-EVALUATION OF THE BATTERY STATUS IN 90 DAYS WAS RECOMMENDED. THIS DEVICE REMAINS IN SERVICE AT THIS TIME AND A REPLACEMENT INTERVAL WAS COMMUNICATED TO THE CALLER. NO ADVERSE PATIENT EFFECTS WERE REPORTED. Manufacturer Narrative: AS NO FURTHER INFORMATION CONCERNING THIS REPORT IS EXPECTED, OUR INVESTIGATION IS COMPLETE. THIS INVESTIGATION WILL BE UPDATED SHOULD FURTHER INFORMATION BE PROVIDED.\", \"Event Date\": \"2024-11-19\", \"Date Received\": \"2024-11-22\"}{\"Report Number\": \"2124215-2024-73914\", \"Event Type\": \"Malfunction\", \"Manufacturer\": \"BOSTON SCIENTIFIC CORPORATION\", \"Product Code\": \"LWP\", \"Brand Name\": \"INGENIO\", \"Device Problem\": \" Premature Discharge of Battery; Battery Problem\", \"Patient Problem\": \" No Clinical Signs, Symptoms or Conditions\", \"PMA/PMN Number\": \"N970003\", \"Number of Events\": 1, \"Event Text\": \"Event Description: IT WAS REPORTED THAT THIS PACEMAKER WAS FOUND TO BE DEPLETING FASTER THAN EXPECTED. THE PATIENT HAD BEEN SEEN ABOUT A YEAR AGO AND THE LONGEVITY REMAINING WAS ABOUT TWO YEARS. AT THE MOST RECENT FOLLOW-UP, HOWEVER, THE LONGEVITY REMAINING DECREASED TO ABOUT SIX MONTHS. A REQUEST WAS MADE TO HAVE DATA FROM THIS DEVICE ANALYZED. DATA ANALYSIS CONFIRMED THE BATTERY APPEARED TO BE DEPLETING MORE QUICKLY THAN EXPECTED. DEVICE REPLACEMENT WAS RECOMMENDED. NO ADVERSE PATIENT EFFECTS WERE REPORTED. CURRENTLY EVIDENCE SUGGESTS THAT THIS PRODUCT REMAINS IN-SERVICE.\", \"Event Date\": \"2024-11-12\", \"Date Received\": \"2024-11-22\"}{\"Report Number\": \"2124215-2024-73535\", \"Event Type\": \"Malfunction\", \"Manufacturer\": \"BOSTON SCIENTIFIC CORPORATION\", \"Product Code\": \"LWP\", \"Brand Name\": \"ACCOLADE MRI DR\", \"Device Problem\": \" Premature Discharge of Battery; Battery Problem\", \"Patient Problem\": \" No Clinical Signs, Symptoms or Conditions\", \"PMA/PMN Number\": \"P150012\", \"Number of Events\": 1, \"Event Text\": \"Event Description: IT WAS REPORTED THAT THE BATTERY OF THIS PACEMAKER WAS SUSPECTED TO BE DEPLETING PREMATURELY. A REQUEST WAS MADE TO HAVE DATA FROM THIS DEVICE ANALYZED. DATA ANALYSIS CONFIRMED THE BATTERY APPEARED TO BE DEPLETING MORE QUICKLY THAN EXPECTED. DEVICE REPLACEMENT WAS RECOMMENDED. THIS DEVICE CURRENTLY REMAINS IN SERVICE. NO ADVERSE PATIENT EFFECTS WERE REPORTED.\", \"Event Date\": \"2023-07-16\", \"Date Received\": \"2024-11-21\"}{\"Report Number\": \"2124215-2024-73697\", \"Event Type\": \"Malfunction\", \"Manufacturer\": \"BOSTON SCIENTIFIC CORPORATION\", \"Product Code\": \"LWP\", \"Brand Name\": \"PROPONENT MRI EL DR\", \"Device Problem\": \" Premature Discharge of Battery; Battery Problem\", \"Patient Problem\": \" No Clinical Signs, Symptoms or Conditions\", \"PMA/PMN Number\": \"P150012/S000\", \"Number of Events\": 1, \"Event Text\": \"Event Description: IT WAS REPORTED THAT THIS IMPLANTABLE PACEMAKER\\'S BATTERY LONGEVITY WAS NOTED TO HAVE DECREASED FROM 6 YEARS REMAINING IN MAY 2024 TO 4.5 YEARS REMAINING AT A RECENT FOLLOW-UP APPOINTMENT. ADDITIONALLY, THE POWER CONSUMPTION WAS FOUND TO BE ELEVATED AT 164%. BOSTON SCIENTIFIC TECHNICAL SERVICES WAS CONTACTED AND CONFIRMED THAT THE BATTERY WAS DEPLETING PREMATURELY. IT WAS RECOMMENDED TO PERFORM DEVICE REPLACEMENT OR REPEAT DATA ANALYSIS WITHIN A PROVIDED TIMEFRAME. AT THIS TIME, THIS PACEMAKER REMAINS IMPLANTED AND IN-SERVICE. NO ADVERSE PATIENT EFFECTS WERE REPORTED.\", \"Event Date\": \"2024-11-18\", \"Date Received\": \"2024-11-21\"}{\"Report Number\": \"2124215-2024-73143\", \"Event Type\": \"Injury\", \"Manufacturer\": \"BOSTON SCIENTIFIC CORPORATION\", \"Product Code\": \"LWP\", \"Brand Name\": \"ACCOLADE MRI SR\", \"Device Problem\": \" Premature Discharge of Battery; High impedance; Battery Problem; High Capture Threshold\", \"Patient Problem\": \" No Clinical Signs, Symptoms or Conditions\", \"PMA/PMN Number\": \"P150012/S000\", \"Number of Events\": 1, \"Event Text\": \"Event Description: IT WAS REPORTED THAT THIS PACEMAKER WAS SUSPECTED OF PREMATURE BATTERY DEPLETION (PBD) AS THERE WAS A DECREASE IN ESTIMATED BATTERY OF 4 YEARS OVER A TIME PERIOD OF 6 MONTHS. ENGINEERING ANALYSIS OF DEVICE DATA FOUND THAT BATTERY DEPLETION APPEARED TO BE NORMAL AND THE INCREASED POWER CONSUMPTION WAS DUE TO HIGH LEVELS OF RIGHT VENTRICULAR (RV) LEAD IMPEDANCES RANGING FROM 260 TO 800 OHMS AND CAPTURE THRESHOLDS. THE PHYSICIAN ELECTED TO EXPLANT THE DEVICE AND THE RV LEAD AND REPLACE THEM WITH NEW ONES. NO ADDITIONAL ADVERSE PATIENT EFFECTS WERE REPORTED.\", \"Event Date\": \"2024-10-21\", \"Date Received\": \"2024-11-20\"}{\"Report Number\": \"2124215-2024-73221\", \"Event Type\": \"Malfunction\", \"Manufacturer\": \"BOSTON SCIENTIFIC CORPORATION\", \"Product Code\": \"LWP\", \"Brand Name\": \"ACCOLADE MRI EL DR\", \"Device Problem\": \" Premature Discharge of Battery; Battery Problem\", \"Patient Problem\": \" No Clinical Signs, Symptoms or Conditions\", \"PMA/PMN Number\": \"P150012/S000\", \"Number of Events\": 1, \"Event Text\": \"Event Description: IT WAS REPORTED THAT THE BATTERY OF THIS IMPLANTABLE DEVICE WAS SUSPECTED TO BE DEPLETING PREMATURELY AS REMAINING LONGEVITY DECREASED FROM 5.5 YEARS TO 3 YEARS OVER THE PAST YEAR. A REQUEST WAS MADE TO HAVE DATA FROM THIS DEVICE ANALYZED. DATA ANALYSIS CONFIRMED THE BATTERY APPEARED TO BE DEPLETING MORE QUICKLY THAN EXPECTED. DEVICE REPLACEMENT WAS RECOMMENDED. THIS DEVICE REMAINS IN SERVICE AT THIS TIME AND A REPLACEMENT INTERVAL WAS COMMUNICATED TO THE CALLER. NO ADVERSE PATIENT EFFECTS WERE REPORTED. Manufacturer Narrative: AS NO FURTHER INFORMATION CONCERNING THIS REPORT IS EXPECTED, OUR INVESTIGATION IS COMPLETE. THIS INVESTIGATION WILL BE UPDATED SHOULD FURTHER INFORMATION BE PROVIDED.\", \"Event Date\": \"2024-11-03\", \"Date Received\": \"2024-11-20\"}'"
      ]
     },
     "execution_count": 19,
     "metadata": {},
     "output_type": "execute_result"
    }
   ],
   "source": [
    "summary_all"
   ]
  },
  {
   "cell_type": "code",
   "execution_count": 22,
   "metadata": {},
   "outputs": [
    {
     "name": "stdout",
     "output_type": "stream",
     "text": [
      "{'MaudeList': [{'Failure Mode': 'Premature Discharge of Battery', 'Potential Cause': 'Battery Problem', 'Hazard': 'Loss of device function', 'Actual Hazardous Situation': 'Device malfunction', 'Harm': 'No adverse patient effects reported'}, {'Failure Mode': 'Premature Discharge of Battery', 'Potential Cause': 'Battery Problem', 'Hazard': 'Loss of device function', 'Actual Hazardous Situation': 'Device malfunction', 'Harm': 'No adverse patient effects reported'}, {'Failure Mode': 'Premature Discharge of Battery; Delayed Charge Time', 'Potential Cause': 'Battery Problem', 'Hazard': 'Loss of device function', 'Actual Hazardous Situation': 'Device malfunction', 'Harm': 'Patient experienced two syncopal episodes'}, {'Failure Mode': 'High impedance; Off-Label Use', 'Potential Cause': 'Battery Problem', 'Hazard': 'Loss of device function', 'Actual Hazardous Situation': 'Device malfunction', 'Harm': 'No adverse patient effects reported'}, {'Failure Mode': 'Signal Artifact/Noise; Low impedance; Battery Problem; Material Integrity Problem; High Capture Threshold', 'Potential Cause': 'Battery Problem', 'Hazard': 'Loss of device function', 'Actual Hazardous Situation': 'Device malfunction', 'Harm': 'No adverse patient effects reported'}, {'Failure Mode': 'Premature Discharge of Battery', 'Potential Cause': 'Battery Problem', 'Hazard': 'Loss of device function', 'Actual Hazardous Situation': 'Device malfunction', 'Harm': 'No adverse patient effects reported'}, {'Failure Mode': 'Premature Discharge of Battery', 'Potential Cause': 'Battery Problem', 'Hazard': 'Loss of device function', 'Actual Hazardous Situation': 'Device malfunction', 'Harm': 'No adverse patient effects reported'}, {'Failure Mode': 'Premature Discharge of Battery', 'Potential Cause': 'Battery Problem', 'Hazard': 'Loss of device function', 'Actual Hazardous Situation': 'Device malfunction', 'Harm': 'No adverse patient effects reported'}, {'Failure Mode': 'Premature Discharge of Battery', 'Potential Cause': 'Battery Problem', 'Hazard': 'Loss of device function', 'Actual Hazardous Situation': 'Device malfunction', 'Harm': 'No adverse patient effects reported'}, {'Failure Mode': 'Premature Discharge of Battery', 'Potential Cause': 'Battery Problem', 'Hazard': 'Loss of device function', 'Actual Hazardous Situation': 'Device malfunction', 'Harm': 'No adverse patient effects reported'}, {'Failure Mode': 'High impedance; High Capture Threshold', 'Potential Cause': 'Battery Problem', 'Hazard': 'Loss of device function', 'Actual Hazardous Situation': 'Device malfunction', 'Harm': 'No adverse patient effects reported'}, {'Failure Mode': 'Premature Discharge of Battery', 'Potential Cause': 'Battery Problem', 'Hazard': 'Loss of device function', 'Actual Hazardous Situation': 'Device malfunction', 'Harm': 'No adverse patient effects reported'}]}\n"
     ]
    }
   ],
   "source": [
    "# Create Output Schema for LLM response\n",
    "independent_schema = [\n",
    "    ResponseSchema(name=\"FailureMode\", description=\"The failure mode available in the maude data\"),\n",
    "    ResponseSchema(name=\"PotentialCause\", description=\"The potential cause available due to the given failure mode\"),\n",
    "    ResponseSchema(name=\"Hazard\", description=\"The hazard available due to the given failure mode\"),\n",
    "    ResponseSchema(name=\"HazardousSituation\", description=\"The hazardous situation available due to the given failure mode\"), \n",
    "    ResponseSchema(name=\"Harm\", description=\"The harm available due to the given failure mode\")\n",
    "]\n",
    "\n",
    "response_schemas = [\n",
    "    ResponseSchema(\n",
    "        name=\"MaudeList\",\n",
    "        description=\"A list of all failure mode details from maude data and its related details\",\n",
    "        type=\"array\",\n",
    "        items={\"type\": \"object\", \"properties\": independent_schema},\n",
    "    )\n",
    "]\n",
    "\n",
    "# Parse the example output\n",
    "# class PetListParser(BaseOutputParser):\n",
    "#     def parse(self, text: dict) -> dict:\n",
    "#         return text  # Just returning the text as structured data\n",
    "\n",
    "# Parse the example output\n",
    "class PersonListParser(BaseOutputParser):\n",
    "    def parse(self, text: dict) -> dict:\n",
    "        return text  # Returning the adjusted structured data\n",
    "\n",
    "# Create an output parser\n",
    "output_parser = StructuredOutputParser.from_response_schemas(response_schemas)\n",
    "format_instructions = output_parser.get_format_instructions()\n",
    "\n",
    "# Define the prompt template\n",
    "prompt = PromptTemplate(\n",
    "    template=\"Extract the information from the given context.What are the differnt unique failure mode available in the data and also share the potential cause , hazard, actual hazardous situation and harm happen due to that of the failure in a given response format.\\n{format_instructions}\\n\\nContext: {paragraph}\",\n",
    "    input_variables=[\"paragraph\"],\n",
    "    partial_variables={\"format_instructions\": format_instructions},\n",
    ")\n",
    "\n",
    "# Example paragraph\n",
    "paragraph = summary_all\n",
    "\n",
    "\n",
    "# Combine the prompt and LLM into a chain\n",
    "chain = LLMChain(prompt=prompt, llm=llm)\n",
    "\n",
    "# Run the chain with the paragraph\n",
    "result = chain.run({\"paragraph\": paragraph})\n",
    "\n",
    "# Parse the output using the output parser\n",
    "parser = PersonListParser()\n",
    "parsed_output = parser.parse(output_parser.parse(result))\n",
    "\n",
    "\n",
    "print(parsed_output)\n"
   ]
  },
  {
   "cell_type": "code",
   "execution_count": 21,
   "metadata": {},
   "outputs": [
    {
     "name": "stdout",
     "output_type": "stream",
     "text": [
      "[\n",
      "    {\n",
      "        \"Failure Mode\": \"Premature Discharge of Battery\",\n",
      "        \"Potential Cause\": \"Battery Problem\",\n",
      "        \"Hazard\": \"Loss of device functionality\",\n",
      "        \"Hazardous Situation\": \"Patient may experience loss of consciousness or syncope\",\n",
      "        \"Harm\": \"Injury or death\"\n",
      "    },\n",
      "    {\n",
      "        \"Failure Mode\": \"Delayed Charge Time\",\n",
      "        \"Potential Cause\": \"Battery Problem\",\n",
      "        \"Hazard\": \"Device malfunction\",\n",
      "        \"Hazardous Situation\": \"Patient may experience loss of consciousness or syncope\",\n",
      "        \"Harm\": \"Injury or death\"\n",
      "    },\n",
      "    {\n",
      "        \"Failure Mode\": \"High Impedance\",\n",
      "        \"Potential Cause\": \"Device malfunction\",\n",
      "        \"Hazard\": \"Inappropriate therapy\",\n",
      "        \"Hazardous Situation\": \"Patient may experience inappropriate shocks or pacing\",\n",
      "        \"Harm\": \"Injury or death\"\n",
      "    },\n",
      "    {\n",
      "        \"Failure Mode\": \"Low Impedance\",\n",
      "        \"Potential Cause\": \"Device malfunction\",\n",
      "        \"Hazard\": \"Inappropriate therapy\",\n",
      "        \"Hazardous Situation\": \"Patient may experience inappropriate shocks or pacing\",\n",
      "        \"Harm\": \"Injury or death\"\n",
      "    },\n",
      "    {\n",
      "        \"Failure Mode\": \"Signal Artifact/Noise\",\n",
      "        \"Potential Cause\": \"Device malfunction\",\n",
      "        \"Hazard\": \"Inappropriate therapy\",\n",
      "        \"Hazardous Situation\": \"Patient may experience inappropriate shocks or pacing\",\n",
      "        \"Harm\": \"Injury or death\"\n",
      "    },\n",
      "    {\n",
      "        \"Failure Mode\": \"Material Integrity Problem\",\n",
      "        \"Potential Cause\": \"Device malfunction\",\n",
      "        \"Hazard\": \"Device failure\",\n",
      "        \"Hazardous Situation\": \"Patient may experience loss of device functionality\",\n",
      "        \"Harm\": \"Injury or death\"\n",
      "    },\n",
      "    {\n",
      "        \"Failure Mode\": \"High Capture Threshold\",\n",
      "        \"Potential Cause\": \"Device malfunction\",\n",
      "        \"Hazard\": \"Inappropriate therapy\",\n",
      "        \"Hazardous Situation\": \"Patient may experience inappropriate shocks or pacing\",\n",
      "        \"Harm\": \"Injury or death\"\n",
      "    },\n",
      "    {\n",
      "        \"Failure Mode\": \"Off-Label Use\",\n",
      "        \"Potential Cause\": \"Device misuse\",\n",
      "        \"Hazard\": \"Device malfunction\",\n",
      "        \"Hazardous Situation\": \"Patient may experience loss of device functionality\",\n",
      "        \"Harm\": \"Injury or death\"\n",
      "    },\n",
      "    {\n",
      "        \"Failure Mode\": \"Gate Oxide Defect\",\n",
      "        \"Potential Cause\": \"Device malfunction\",\n",
      "        \"Hazard\": \"Device failure\",\n",
      "        \"Hazardous Situation\": \"Patient may experience loss of device functionality\",\n",
      "        \"Harm\": \"Injury or death\"\n",
      "    },\n",
      "    {\n",
      "        \"Failure Mode\": \"Header-Lead Corrosion\",\n",
      "        \"Potential Cause\": \"Device malfunction\",\n",
      "        \"Hazard\": \"Device failure\",\n",
      "        \"Hazardous Situation\": \"Patient may experience loss of device functionality\",\n",
      "        \"Harm\": \"Injury or death\"\n",
      "    }\n",
      "]\n"
     ]
    }
   ],
   "source": [
    "maude_list = parsed_output.get(\"MaudeList\", [])\n",
    "\n",
    "# Print the parsed result\n",
    "print(json.dumps(maude_list, indent=4))"
   ]
  },
  {
   "cell_type": "markdown",
   "metadata": {},
   "source": [
    "#### Simple Prompting with RAG - Structured Output"
   ]
  },
  {
   "cell_type": "code",
   "execution_count": null,
   "metadata": {},
   "outputs": [],
   "source": []
  },
  {
   "cell_type": "code",
   "execution_count": null,
   "metadata": {},
   "outputs": [],
   "source": []
  },
  {
   "cell_type": "code",
   "execution_count": null,
   "metadata": {},
   "outputs": [],
   "source": []
  },
  {
   "cell_type": "code",
   "execution_count": null,
   "metadata": {},
   "outputs": [],
   "source": []
  },
  {
   "cell_type": "code",
   "execution_count": null,
   "metadata": {},
   "outputs": [],
   "source": []
  }
 ],
 "metadata": {
  "kernelspec": {
   "display_name": "venv",
   "language": "python",
   "name": "python3"
  },
  "language_info": {
   "codemirror_mode": {
    "name": "ipython",
    "version": 3
   },
   "file_extension": ".py",
   "mimetype": "text/x-python",
   "name": "python",
   "nbconvert_exporter": "python",
   "pygments_lexer": "ipython3",
   "version": "3.12.4"
  }
 },
 "nbformat": 4,
 "nbformat_minor": 2
}
