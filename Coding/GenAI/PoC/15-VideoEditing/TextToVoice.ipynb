{
 "cells": [
  {
   "cell_type": "code",
   "execution_count": 9,
   "metadata": {},
   "outputs": [],
   "source": [
    "import sys\n",
    "import pyttsx3\n",
    "from pydub import AudioSegment\n",
    "from pydub.playback import play\n",
    "import time"
   ]
  },
  {
   "cell_type": "code",
   "execution_count": 10,
   "metadata": {},
   "outputs": [],
   "source": [
    "audio_file = r'H:\\Interview Preparation\\Coding\\GenAI\\Tryouts\\15-VideoEditing\\output\\audio.mp3'\n"
   ]
  },
  {
   "cell_type": "code",
   "execution_count": 11,
   "metadata": {},
   "outputs": [],
   "source": [
    "audio_txt = ''' Welcome to the Maude Data Analyzer Tool – a platform designed to streamline the analysis of medical device-related issues and uncover potential risks to patient safety. This tool empowers stakeholders to better understand device failures, identify associated hazards, and evaluate their impact on health outcomes.\n",
    "\n",
    "The Maude Data Analyzer provides a structured and detailed summary of crucial information, including identified hazards, corresponding hazardous situations, manufacturer details, and the potential harm caused by these issues. With its robust AI capabilities, the tool generates actionable insights to support root cause analysis, risk mitigation strategies, and severity assessments. These insights are enriched with contextual details and relevant references to guide decision-making effectively.\n",
    "\n",
    "Furthermore, the tool offers comprehensive yet concise conclusions, summarizing patient outcomes, manufacturer responses, and the overall impact of the analyzed events. This helps understand the current risks and supports organizations in developing proactive measures to ensure safety and compliance.\n",
    "\n",
    "With the Maude Data Analyzer, organizations can address medical device challenges, mitigate risks, and protect patient well-being, all while maintaining a commitment to innovation and safety excellence.\n",
    "\n",
    "Thank you.'''"
   ]
  },
  {
   "cell_type": "code",
   "execution_count": 12,
   "metadata": {},
   "outputs": [],
   "source": [
    "engine = pyttsx3.init()\n",
    "voices = engine.getProperty('voices')\n",
    "volume = engine.getProperty('volume')\n",
    "rate = engine.getProperty('rate')   \n",
    "text = audio_txt\n",
    "engine.setProperty('rate', 120)\n",
    "engine.setProperty('volume', 1.0)\n",
    "engine.setProperty('voice', voices[1].id)\n",
    "engine.say(text)\n",
    "engine.runAndWait()\n",
    "engine.save_to_file(text, audio_file)\n",
    "engine.runAndWait()\n",
    "engine.stop()"
   ]
  },
  {
   "cell_type": "code",
   "execution_count": null,
   "metadata": {},
   "outputs": [],
   "source": []
  }
 ],
 "metadata": {
  "kernelspec": {
   "display_name": "venv",
   "language": "python",
   "name": "python3"
  },
  "language_info": {
   "codemirror_mode": {
    "name": "ipython",
    "version": 3
   },
   "file_extension": ".py",
   "mimetype": "text/x-python",
   "name": "python",
   "nbconvert_exporter": "python",
   "pygments_lexer": "ipython3",
   "version": "3.10.11"
  }
 },
 "nbformat": 4,
 "nbformat_minor": 2
}
