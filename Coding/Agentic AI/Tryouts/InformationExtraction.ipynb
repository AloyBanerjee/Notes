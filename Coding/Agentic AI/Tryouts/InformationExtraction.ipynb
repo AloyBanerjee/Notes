{
 "cells": [
  {
   "cell_type": "code",
   "execution_count": 2,
   "metadata": {},
   "outputs": [],
   "source": [
    "from typing import List, Optional\n",
    "from pydantic import BaseModel, Field\n",
    "from langchain_core.prompts import ChatPromptTemplate, MessagesPlaceholder\n",
    "from langchain_openai import ChatOpenAI\n",
    "import os \n",
    "from phi.model.groq import Groq"
   ]
  },
  {
   "cell_type": "code",
   "execution_count": 3,
   "metadata": {},
   "outputs": [],
   "source": [
    "class Person(BaseModel):\n",
    "    \"\"\"Information about a person.\"\"\"\n",
    "\n",
    "    # ^ Doc-string for the entity Person.\n",
    "    # This doc-string is sent to the LLM as the description of the schema Person,\n",
    "    # and it can help to improve extraction results.\n",
    "\n",
    "    # Note that:\n",
    "    # 1. Each field is an `optional` -- this allows the model to decline to extract it!\n",
    "    # 2. Each field has a `description` -- this description is used by the LLM.\n",
    "    # Having a good description can help improve extraction results.\n",
    "    name: Optional[str] = Field(default=None, description=\"The name of the person\")\n",
    "    hair_color: Optional[str] = Field(\n",
    "        default=None, description=\"The color of the person's hair if known\"\n",
    "    )\n",
    "    height_in_meters: Optional[str] = Field(\n",
    "        default=None, description=\"Height measured in meters\"\n",
    "    )\n",
    "\n",
    "\n",
    "class Data(BaseModel):\n",
    "    \"\"\"Extracted data about people.\"\"\"\n",
    "\n",
    "    # Creates a model so that we can extract multiple entities.\n",
    "    people: List[Person]"
   ]
  },
  {
   "cell_type": "code",
   "execution_count": 4,
   "metadata": {},
   "outputs": [],
   "source": [
    "# Define a custom prompt to provide instructions and any additional context.\n",
    "# 1) You can add examples into the prompt template to improve extraction quality\n",
    "# 2) Introduce additional parameters to take context into account (e.g., include metadata\n",
    "#    about the document from which the text was extracted.)\n",
    "prompt_template = ChatPromptTemplate.from_messages(\n",
    "    [\n",
    "        (\n",
    "            \"system\",\n",
    "            \"You are an expert extraction algorithm. \"\n",
    "            \"Only extract relevant information from the text. \"\n",
    "            \"If you do not know the value of an attribute asked to extract, \"\n",
    "            \"return null for the attribute's value.\",\n",
    "        ),\n",
    "        # Please see the how-to about improving performance with\n",
    "        # reference examples.\n",
    "        # MessagesPlaceholder('examples'),\n",
    "        (\"human\", \"{text}\"),\n",
    "    ]\n",
    ")"
   ]
  },
  {
   "cell_type": "markdown",
   "metadata": {},
   "source": [
    "### Open AI"
   ]
  },
  {
   "cell_type": "code",
   "execution_count": 5,
   "metadata": {},
   "outputs": [],
   "source": [
    "GROQ_API_KEY = os.getenv('GROQ_API_KEY')"
   ]
  },
  {
   "cell_type": "code",
   "execution_count": 6,
   "metadata": {},
   "outputs": [],
   "source": [
    "llm = ChatOpenAI(model=\"gpt-4o-mini\") #Groq(id ='llama-3.2-3b-preview')#"
   ]
  },
  {
   "cell_type": "code",
   "execution_count": 7,
   "metadata": {},
   "outputs": [],
   "source": [
    "structured_llm = llm.with_structured_output(schema=Person)"
   ]
  },
  {
   "cell_type": "code",
   "execution_count": 8,
   "metadata": {},
   "outputs": [
    {
     "data": {
      "text/plain": [
       "Person(name='Alan Smith', hair_color='blond', height_in_meters='1.83')"
      ]
     },
     "execution_count": 8,
     "metadata": {},
     "output_type": "execute_result"
    }
   ],
   "source": [
    "text = \"Alan Smith is 6 feet tall and has blond hair.\"\n",
    "prompt = prompt_template.invoke({\"text\": text})\n",
    "structured_llm.invoke(prompt)"
   ]
  },
  {
   "cell_type": "code",
   "execution_count": 9,
   "metadata": {},
   "outputs": [
    {
     "data": {
      "text/plain": [
       "Data(people=[Person(name='Jeff', hair_color='black', height_in_meters='1.83'), Person(name='Anna', hair_color='black', height_in_meters=None)])"
      ]
     },
     "execution_count": 9,
     "metadata": {},
     "output_type": "execute_result"
    }
   ],
   "source": [
    "structured_llm = llm.with_structured_output(schema=Data)\n",
    "text = \"My name is Jeff, my hair is black and i am 6 feet tall. Anna has the same color hair as me.\"\n",
    "prompt = prompt_template.invoke({\"text\": text})\n",
    "structured_llm.invoke(prompt)"
   ]
  },
  {
   "cell_type": "markdown",
   "metadata": {},
   "source": [
    "### OLLAMA"
   ]
  },
  {
   "cell_type": "code",
   "execution_count": 10,
   "metadata": {},
   "outputs": [],
   "source": [
    "from ollama import chat\n",
    "from pydantic import BaseModel"
   ]
  },
  {
   "cell_type": "code",
   "execution_count": 11,
   "metadata": {},
   "outputs": [],
   "source": [
    "class Pet(BaseModel):\n",
    "  name: str\n",
    "  animal: str\n",
    "  age: int\n",
    "  color: str | None\n",
    "  favorite_toy: str | None\n",
    "\n",
    "class PetList(BaseModel):\n",
    "  pets: list[Pet]"
   ]
  },
  {
   "cell_type": "code",
   "execution_count": 12,
   "metadata": {},
   "outputs": [],
   "source": [
    "information_text = '''\n",
    "        I have two pets.\n",
    "        A cat named Luna who is 5 years old and loves playing with yarn. She has grey fur.\n",
    "        I also have a 2 year old black cat named Loki who loves tennis balls.\n",
    "      '''"
   ]
  },
  {
   "cell_type": "code",
   "execution_count": 13,
   "metadata": {},
   "outputs": [],
   "source": [
    "response = chat(\n",
    "  messages=[\n",
    "    {\n",
    "      'role': 'user',\n",
    "      'content': information_text,\n",
    "    }\n",
    "  ],\n",
    "  model='llama3.1',#ollama run llama3.1\n",
    "  format=PetList.model_json_schema(),\n",
    ")"
   ]
  },
  {
   "cell_type": "code",
   "execution_count": 14,
   "metadata": {},
   "outputs": [
    {
     "name": "stdout",
     "output_type": "stream",
     "text": [
      "pets=[Pet(name='Luna', animal='cat', age=5, color='grey', favorite_toy='yarn'), Pet(name='Loki', animal='cat', age=2, color='black', favorite_toy='tennis ball')]\n"
     ]
    }
   ],
   "source": [
    "pets = PetList.model_validate_json(response.message.content)\n",
    "print(pets)"
   ]
  },
  {
   "cell_type": "markdown",
   "metadata": {},
   "source": [
    "### Information Extraction for dropdown list"
   ]
  },
  {
   "cell_type": "code",
   "execution_count": 1,
   "metadata": {},
   "outputs": [],
   "source": [
    "from langchain.output_parsers import StructuredOutputParser, ResponseSchema\n",
    "from langchain.schema import BaseOutputParser\n",
    "from langchain_core.output_parsers import JsonOutputParser\n",
    "from langchain_core.prompts import PromptTemplate, ChatPromptTemplate\n",
    "from langchain_groq import ChatGroq\n",
    "from langchain.chains import LLMChain\n",
    "from ollama import chat\n",
    "import json"
   ]
  },
  {
   "cell_type": "code",
   "execution_count": 3,
   "metadata": {},
   "outputs": [],
   "source": [
    "llm = ChatGroq(\n",
    "    model_name=\"llama-3.3-70b-versatile\",\n",
    "    temperature=0.7\n",
    ")"
   ]
  },
  {
   "cell_type": "code",
   "execution_count": 5,
   "metadata": {},
   "outputs": [
    {
     "name": "stdout",
     "output_type": "stream",
     "text": [
      "{'PersonList': [{'Name': 'Clara', 'Height': '5\\'6\"', 'HairColor': 'Auburn', 'hair_color': 'unknown'}, {'Name': 'Mark', 'Height': '6\\'3\"', 'HairColor': 'Jet-black', 'hair_color': 'unknown'}, {'Name': 'Mia', 'Height': '5\\'2\"', 'HairColor': 'Platinum-blonde', 'hair_color': 'unknown'}]}\n"
     ]
    }
   ],
   "source": [
    "# Define response schemas\n",
    "independent_schema = [\n",
    "    ResponseSchema(name=\"name\", description=\"The name of the person\"),\n",
    "    ResponseSchema(\n",
    "        name=\"hair_color\",\n",
    "        description=\"The color of the person's hair if known (grey, black, white, or unknown)\",\n",
    "        enum=[\"grey\", \"black\", \"white\", \"unknown\"]\n",
    "    ),\n",
    "    ResponseSchema(name=\"HairColor\", description=\"The color of the person's hair if known\"),\n",
    "    ResponseSchema(name=\"height_in_meters\", description=\"Height measured in meters\"),\n",
    "]\n",
    "\n",
    "response_schemas = [\n",
    "    ResponseSchema(\n",
    "        name=\"PersonList\",\n",
    "        description=\"A list of all persons with their details\",\n",
    "        type=\"array\",\n",
    "        items={\"type\": \"object\", \"properties\": independent_schema},\n",
    "    )\n",
    "]\n",
    "\n",
    "# Parse the example output\n",
    "class PersonListParser(BaseOutputParser):\n",
    "    def parse(self, text: dict) -> dict:\n",
    "        # Safeguard: Ensure 'hair_color' exists and adjust it if needed\n",
    "        for person in text.get(\"PersonList\", []):\n",
    "            if \"hair_color\" not in person or person[\"hair_color\"] not in [\"grey\", \"black\", \"white\"]:\n",
    "                person[\"hair_color\"] = \"unknown\"\n",
    "        return text  # Return the adjusted structured data\n",
    "\n",
    "# Create an output parser\n",
    "output_parser = StructuredOutputParser.from_response_schemas(response_schemas)\n",
    "format_instructions = output_parser.get_format_instructions()\n",
    "\n",
    "# Define the prompt template\n",
    "prompt = PromptTemplate(\n",
    "    template=\"Extract the information from the given context.\\n{format_instructions}\\n\\nContext: {paragraph}\",\n",
    "    input_variables=[\"paragraph\"],\n",
    "    partial_variables={\"format_instructions\": format_instructions},\n",
    ")\n",
    "\n",
    "# Example paragraph\n",
    "paragraph = '''The warm sun spilled through the tall oak trees as the forest glade came alive with the sound of laughter. \n",
    "            Clara, her auburn hair catching the golden light, stood at the edge of the brook, her 5'6\" frame bent slightly as she skipped a stone across the water. \n",
    "            Beside her, Mark towered at 6'3\", his jet-black hair ruffled by the breeze, giving him the appearance of someone caught between seriousness and mischief. \n",
    "            \"Try this one,\" he said, handing Clara a perfectly flat pebble, his voice carrying the easy confidence of someone who always knew what to do. \n",
    "            In the background, their friend Mia, petite at just 5'2\" with an unmistakable cascade of platinum-blonde curls, leaned against a tree trunk, \n",
    "            sketching the scene in her notebook with quiet focus. \n",
    "            The trio seemed at home in the serene wilderness, their contrasting heights and features painting a vivid picture of camaraderie.'''\n",
    "\n",
    "# Combine the prompt and LLM into a chain\n",
    "chain = LLMChain(prompt=prompt, llm=llm)\n",
    "\n",
    "# Run the chain with the paragraph\n",
    "result = chain.run({\"paragraph\": paragraph})\n",
    "\n",
    "# Parse the output using the custom output parser\n",
    "parser = PersonListParser()\n",
    "parsed_output = parser.parse(output_parser.parse(result))\n",
    "\n",
    "print(parsed_output)\n"
   ]
  },
  {
   "cell_type": "code",
   "execution_count": 19,
   "metadata": {},
   "outputs": [
    {
     "name": "stdout",
     "output_type": "stream",
     "text": [
      "{'PersonList': [{'Name': 'Clara', 'Height': '5\\'6\"', 'HairColor': 'Auburn', 'hairColor': 'unknown'}, {'Name': 'Mark', 'Height': '6\\'3\"', 'HairColor': 'Jet-Black', 'hairColor': 'unknown'}, {'Name': 'Mia', 'Height': '5\\'2\"', 'HairColor': 'Platinum-Blonde', 'hairColor': 'unknown'}]}\n"
     ]
    }
   ],
   "source": [
    "# Define response schemas\n",
    "independent_schema = [\n",
    "    ResponseSchema(name=\"name\", description=\"The name of the person\"),\n",
    "    ResponseSchema(name=\"hairColor\", description=\"The color of the person's hair if known\", enum=[\"grey\", \"black\", \"white\", \"unknown\"]),\n",
    "    ResponseSchema(name=\"HairColor\", description=\"The color of the person's hair if known\"),\n",
    "    ResponseSchema(name=\"height_in_meters\", description=\"Height measured in meters\")\n",
    "]\n",
    "\n",
    "response_schemas = [\n",
    "    ResponseSchema(\n",
    "        name=\"PersonList\",\n",
    "        description=\"A list of all persons with their details\",\n",
    "        type=\"array\",\n",
    "        items={\"type\": \"object\", \"properties\": independent_schema},\n",
    "    )\n",
    "]\n",
    "\n",
    "# Parse the example output\n",
    "# class PetListParser(BaseOutputParser):\n",
    "#     def parse(self, text: dict) -> dict:\n",
    "#         return text  # Just returning the text as structured data\n",
    "\n",
    "# Parse the example output\n",
    "class PersonListParser(BaseOutputParser):\n",
    "    def parse(self, text: dict) -> dict:\n",
    "        # Adjust the hair color field to \"unknown\" if it is not in the enum\n",
    "        for person in text.get(\"PersonList\", []):\n",
    "              if \"hairColor\" not in person or person[\"hairColor\"] not in [\"grey\", \"black\", \"white\"]:\n",
    "                person[\"hairColor\"] = \"unknown\"\n",
    "        return text  # Returning the adjusted structured data\n",
    "\n",
    "# Create an output parser\n",
    "output_parser = StructuredOutputParser.from_response_schemas(response_schemas)\n",
    "format_instructions = output_parser.get_format_instructions()\n",
    "\n",
    "# Define the prompt template\n",
    "prompt = PromptTemplate(\n",
    "    template=\"Extract the information from the given context.\\n{format_instructions}\\n\\nContext: {paragraph}\",\n",
    "    input_variables=[\"paragraph\"],\n",
    "    partial_variables={\"format_instructions\": format_instructions},\n",
    ")\n",
    "\n",
    "# Example paragraph\n",
    "paragraph = '''The warm sun spilled through the tall oak trees as the forest glade came alive with the sound of laughter. \n",
    "            Clara, her auburn hair catching the golden light, stood at the edge of the brook, her 5'6\" frame bent slightly as she skipped a stone across the water. \n",
    "            Beside her, Mark towered at 6'3\", his jet-black hair ruffled by the breeze, giving him the appearance of someone caught between seriousness and mischief. \n",
    "            \"Try this one,\" he said, handing Clara a perfectly flat pebble, his voice carrying the easy confidence of someone who always knew what to do. \n",
    "            In the background, their friend Mia, petite at just 5'2\" with an unmistakable cascade of platinum-blonde curls, leaned against a tree trunk, \n",
    "            sketching the scene in her notebook with quiet focus. \n",
    "            The trio seemed at home in the serene wilderness, their contrasting heights and features painting a vivid picture of camaraderie.'''\n",
    "\n",
    "\n",
    "# Combine the prompt and LLM into a chain\n",
    "chain = LLMChain(prompt=prompt, llm=llm)\n",
    "\n",
    "# Run the chain with the paragraph\n",
    "result = chain.run({\"paragraph\": paragraph})\n",
    "\n",
    "# Parse the output using the output parser\n",
    "parser = PersonListParser()\n",
    "parsed_output = parser.parse(output_parser.parse(result))\n",
    "\n",
    "\n",
    "print(parsed_output)\n"
   ]
  },
  {
   "cell_type": "code",
   "execution_count": 6,
   "metadata": {},
   "outputs": [
    {
     "name": "stdout",
     "output_type": "stream",
     "text": [
      "{\n",
      "  \"name\": \"Kees Van Der Westen Speedster\",\n",
      "  \"price\": 14499,\n",
      "  \"features\": [\n",
      "    \"Dual boilers for brewing and steaming\",\n",
      "    \"PID temperature control for consistency\",\n",
      "    \"Unique pre-infusion system to enhance flavor extraction\",\n",
      "    \"Customizable aesthetics\",\n",
      "    \"Exceptional thermal stability\",\n",
      "    \"Intuitive operation via a lever system\"\n",
      "  ]\n",
      "}\n"
     ]
    }
   ],
   "source": [
    "def parse_product(description: str) -> dict:\n",
    "    result = chain.invoke({\"input\": description})\n",
    "    print(json.dumps(result, indent=2))\n",
    "\n",
    "output_parser_prod = JsonOutputParser(pydantic_object={\n",
    "    \"type\": \"object\",\n",
    "    \"properties\": {\n",
    "        \"name\": {\"type\": \"string\"},\n",
    "        \"price\": {\"type\": \"number\"},\n",
    "        \"features\": {\n",
    "            \"type\": \"array\",\n",
    "            \"items\": {\"type\": \"string\"}\n",
    "        }\n",
    "    }\n",
    "})\n",
    "prompt_prod = ChatPromptTemplate.from_messages([\n",
    "    (\"system\", \"\"\"Extract product details into JSON with this structure:\n",
    "        {{\n",
    "            \"name\": \"product name here\",\n",
    "            \"price\": number_here_without_currency_symbol,\n",
    "            \"features\": [\"feature1\", \"feature2\", \"feature3\"]\n",
    "        }}\"\"\"),\n",
    "    (\"user\", \"{input}\")\n",
    "])\n",
    "\n",
    "chain = prompt_prod | llm | output_parser_prod\n",
    "\n",
    "\n",
    "description = \"\"\"The Kees Van Der Westen Speedster is a high-end, single-group espresso machine known for its precision, performance, \n",
    "and industrial design. Handcrafted in the Netherlands, it features dual boilers for brewing and steaming, PID temperature control for \n",
    "consistency, and a unique pre-infusion system to enhance flavor extraction. Designed for enthusiasts and professionals, it offers \n",
    "customizable aesthetics, exceptional thermal stability, and intuitive operation via a lever system. The pricing is approximatelyt $14,499 \n",
    "depending on the retailer and customization options.\"\"\"\n",
    "\n",
    "parse_product(description)"
   ]
  },
  {
   "cell_type": "code",
   "execution_count": 48,
   "metadata": {},
   "outputs": [],
   "source": []
  },
  {
   "cell_type": "code",
   "execution_count": null,
   "metadata": {},
   "outputs": [],
   "source": []
  },
  {
   "cell_type": "code",
   "execution_count": 49,
   "metadata": {},
   "outputs": [],
   "source": [
    "\n",
    "\n"
   ]
  },
  {
   "cell_type": "code",
   "execution_count": 50,
   "metadata": {},
   "outputs": [],
   "source": [
    "\n"
   ]
  },
  {
   "cell_type": "code",
   "execution_count": 51,
   "metadata": {},
   "outputs": [],
   "source": []
  },
  {
   "cell_type": "code",
   "execution_count": null,
   "metadata": {},
   "outputs": [],
   "source": []
  },
  {
   "cell_type": "markdown",
   "metadata": {},
   "source": [
    "### Creating the Json and Object Creation"
   ]
  },
  {
   "cell_type": "code",
   "execution_count": null,
   "metadata": {},
   "outputs": [],
   "source": []
  }
 ],
 "metadata": {
  "kernelspec": {
   "display_name": "venv",
   "language": "python",
   "name": "python3"
  },
  "language_info": {
   "codemirror_mode": {
    "name": "ipython",
    "version": 3
   },
   "file_extension": ".py",
   "mimetype": "text/x-python",
   "name": "python",
   "nbconvert_exporter": "python",
   "pygments_lexer": "ipython3",
   "version": "3.12.4"
  }
 },
 "nbformat": 4,
 "nbformat_minor": 2
}
