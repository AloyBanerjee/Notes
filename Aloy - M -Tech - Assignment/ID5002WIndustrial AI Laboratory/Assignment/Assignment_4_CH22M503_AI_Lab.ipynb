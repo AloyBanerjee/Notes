{
 "cells": [
  {
   "cell_type": "markdown",
   "id": "145bb9e1",
   "metadata": {
    "id": "145bb9e1"
   },
   "source": [
    "### AI Lab -  Assignment 4 - CH22M503"
   ]
  },
  {
   "cell_type": "markdown",
   "id": "77436cdd",
   "metadata": {
    "id": "77436cdd"
   },
   "source": [
    "#### Author - Aloy Banerjee\n",
    "###### Roll No. CH22M503"
   ]
  },
  {
   "cell_type": "markdown",
   "id": "c8d9e9de",
   "metadata": {
    "id": "c8d9e9de"
   },
   "source": [
    "## Question:\n",
    "#### Please use the dataset provided for this assignment. You have to work only with the file with your roll number specified on it. The feature columns are x 0, x 1, x 2,...., and the class column is y.\n",
    "#### Q1 Classify the dataset using Logistic regression. Also implement the LDA and QDA and find the model performance.\n",
    "#### Q2 Use the Decision tree classifier to classify the given dataset. Tune the model and identify the optimal hyperparameters.\n",
    "#### Q3 Classify the dataset using Bagging Classifier and Random Forest classifier models. Tune the model for the best hyperparmeters. \n",
    "#### Q4 Compare the models and elaborate on your findings"
   ]
  },
  {
   "cell_type": "markdown",
   "id": "61bcb579",
   "metadata": {
    "id": "61bcb579"
   },
   "source": [
    "#### Importing Library"
   ]
  },
  {
   "cell_type": "code",
   "execution_count": 1,
   "id": "547e69c2",
   "metadata": {
    "id": "547e69c2"
   },
   "outputs": [],
   "source": [
    "#Import library \n",
    "import numpy as np \n",
    "import pandas as pd\n",
    "import matplotlib.pyplot as plt\n",
    "import seaborn as sns\n",
    "import os\n",
    "import math\n",
    "from sklearn.model_selection import train_test_split,GridSearchCV\n",
    "from sklearn.linear_model import LogisticRegression\n",
    "import statsmodels.api as sm\n",
    "from sklearn.metrics import classification_report,confusion_matrix,roc_curve,auc,RocCurveDisplay,accuracy_score,make_scorer\n",
    "from sklearn.preprocessing import StandardScaler\n",
    "from sklearn.pipeline import Pipeline,make_pipeline\n",
    "from sklearn.discriminant_analysis import LinearDiscriminantAnalysis, QuadraticDiscriminantAnalysis\n",
    "from sklearn.tree import DecisionTreeClassifier,plot_tree\n",
    "from sklearn import tree\n",
    "from sklearn.ensemble import RandomForestClassifier,BaggingClassifier\n",
    "sns.set(context=\"notebook\", palette=\"viridis\", style=\"darkgrid\", font_scale=1.0, color_codes=True,rc={'figure.figsize':(14,10)})"
   ]
  },
  {
   "cell_type": "markdown",
   "id": "67c45315",
   "metadata": {
    "id": "67c45315"
   },
   "source": [
    "#### Common variable declaration"
   ]
  },
  {
   "cell_type": "code",
   "execution_count": 2,
   "id": "f261ab9a",
   "metadata": {
    "id": "f261ab9a"
   },
   "outputs": [],
   "source": [
    "workingDir = 'E:\\\\Document\\\\M-Tech\\\\M-Tech Class\\\\2nd Trimester\\\\Assignment\\\\AI Lab\\\\Assignment 4\\\\Datasets\\\\Datasets'\n",
    "dataset_fileName = 'ch22m50 (3).csv'\n",
    "modelObj = []"
   ]
  },
  {
   "cell_type": "markdown",
   "id": "de7950b0",
   "metadata": {
    "id": "de7950b0"
   },
   "source": [
    "#### Common function"
   ]
  },
  {
   "cell_type": "code",
   "execution_count": 79,
   "id": "e79eb2c0",
   "metadata": {
    "id": "e79eb2c0"
   },
   "outputs": [],
   "source": [
    "def perform_Logistic_regression(X_train,y_train,X_test,y_test):\n",
    "    lr = LogisticRegression(max_iter=1000, random_state=42)\n",
    "    lr.fit(X_train, y_train)\n",
    "    y_pred = lr.predict(X_test)\n",
    "    acc_lr = lr.score(X_test, y_test)\n",
    "    print(\"The accuracy for Logistic Regression is:\", acc_lr * 100, \"%\")\n",
    "    generate_result(lr, y_pred, 'Logistic Regression',y_test)\n",
    "    \n",
    "def generate_result(model, predictions, name,y_test):\n",
    "    cl_rep = classification_report(y_test, predictions)\n",
    "    print(\"\\nThe classification report for \" + name + \" is:\", cl_rep, sep = \"\\n\")\n",
    "    cm = confusion_matrix(y_test, predictions)\n",
    "    plt.figure(figsize = (8, 6))\n",
    "    sns.heatmap(cm, annot = True, cmap = 'Spectral', annot_kws = {'size': 15}, square = True)\n",
    "    plt.title('Confusion Matrix for ' + name, size = 15)\n",
    "    plt.xticks(size = 15)\n",
    "    plt.yticks(size = 15)\n",
    "    plt.show()\n",
    "    modelObj.append(model)\n",
    "    \n",
    "def LDA_Analysis(X_train,y_train,X_test,y_test):\n",
    "    lda=LinearDiscriminantAnalysis() \n",
    "    lda.fit(X_train, y_train)\n",
    "    y_pred = lda.predict(X_test)\n",
    "    acc_lda = lda.score(X_test, y_test)\n",
    "    print('The accuracy for Linear Discriminant Analysis is:', acc_lda * 100, '%')\n",
    "    generate_result(lda, y_pred, 'LDA',y_test)\n",
    "    \n",
    "def QDA_Analysis(X_train,y_train,X_test,y_test):\n",
    "    qda = QuadraticDiscriminantAnalysis()\n",
    "    qda.fit(X_train, y_train)\n",
    "    y_pred = qda.predict(X_test)\n",
    "    acc_qda = qda.score(X_test, y_test)\n",
    "    print('The accuracy for Quadratic Discriminant Analysis is:', acc_qda * 100, '%')\n",
    "    generate_result(qda, y_pred, 'QDA',y_test)\n",
    "    \n",
    "def perform_DecesionTree_Classification(X_train,y_train,X_test,y_test):\n",
    "    clf = DecisionTreeClassifier(random_state=42)\n",
    "    clf.fit(X_train, np.ravel(y_train))\n",
    "    Y_pred = clf.predict(X_test)\n",
    "    acc_dt = clf.score(X_test, y_test)\n",
    "    print('The accuracy for Decision Tree Classification is:', acc_dt * 100, '%')\n",
    "    generate_result(clf, Y_pred, 'DecisionTree Classifier',np.ravel(y_test))\n",
    "    \n",
    "def random_Forest_Classifier(n_estimators,X_train,y_train,X_test,y_test):\n",
    "    n_estimators = n_estimators\n",
    "    random_forest=RandomForestClassifier(n_estimators=n_estimators, random_state=42)\n",
    "    random_forest.fit(X_train,y_train)\n",
    "    y_pred = random_forest.predict(X_test)\n",
    "    acc_rn = random_forest.score(X_test, y_test)\n",
    "    print(\"The accuracy for Random Forest Classifier is:\", acc_rn * 100, \"%\")\n",
    "    generate_result(random_forest, y_pred, 'Random Forest Classifier',y_test)\n",
    "    \n",
    "def bagging_Classifier(n_estimators,X_train,y_train,X_test,y_test):\n",
    "    n_estimators = n_estimators\n",
    "    basemodel=DecisionTreeClassifier(random_state=42)\n",
    "    bagging_classifier=BaggingClassifier(base_estimator=basemodel,n_estimators=n_estimators, random_state=42)\n",
    "    bagging_classifier.fit(X_train,y_train)\n",
    "    y_pred = bagging_classifier.predict(X_test)\n",
    "    acc_bg = bagging_classifier.score(X_test, y_test)\n",
    "    print(\"The accuracy for Bagging Classifier is:\", acc_bg * 100, \"%\")\n",
    "    generate_result(bagging_classifier, y_pred, 'Bagging Classifier',y_test)\n",
    "    \n",
    "def hyperparameter_tuning(param_grid, obj_model_classifier, obj_grid_model, X_train, Y_train, X_test, Y_test, model_name):\n",
    "    obj_model_classifier.fit(X_train, np.ravel(Y_train))\n",
    "    obj_grid_model.fit(X_train, np.ravel(Y_train))\n",
    "    print(\"Best hyperparameters: \", obj_grid_model.best_params_)\n",
    "    print(\"Best score: \", obj_grid_model.best_score_)\n",
    "    print('In train dataset:')\n",
    "    print(f'Hypertuned {model_name} score: {accuracy_score(obj_grid_model.predict(X_train),Y_train)}')\n",
    "    print(f'Normal {model_name} score: {accuracy_score(obj_model_classifier.predict(X_train),Y_train)}')\n",
    "    print('In test dataset:')\n",
    "    print(f'Hypertuned {model_name}score: {accuracy_score(obj_grid_model.predict(X_test),Y_test)}')\n",
    "    print(f'Normal {model_name} score: {accuracy_score(obj_model_classifier.predict(X_test),Y_test)}')\n",
    "    modelObj.append(obj_grid_model) \n",
    "\n",
    "def acc_plot(train_acc,test_acc,models): \n",
    "    fig = plt.figure()\n",
    "    n_bars = len(train_acc)\n",
    "    x1 = np.arange(1,(n_bars)*2,2)\n",
    "    x2 = np.arange(1,(n_bars)*2,2)+0.6\n",
    "    plt.bar(x1,train_acc,color='y',label='Train',width=0.8)\n",
    "    plt.bar(x2,test_acc,color='b',label='Test',width=0.8)\n",
    "    plt.xticks(ticks=x1+0.3,labels=models,)\n",
    "    plt.xticks(rotation=45)\n",
    "    plt.xlabel('Models')\n",
    "    plt.ylabel('Accuracies')\n",
    "    fig.suptitle('Accuracy for different classification models', fontsize=20)\n",
    "    plt.legend()\n",
    "    plt.tight_layout()\n"
   ]
  },
  {
   "cell_type": "markdown",
   "id": "9dc41009",
   "metadata": {
    "id": "9dc41009"
   },
   "source": [
    "##### Loading Dataset"
   ]
  },
  {
   "cell_type": "code",
   "execution_count": 4,
   "id": "58cf84fd",
   "metadata": {
    "id": "58cf84fd"
   },
   "outputs": [],
   "source": [
    "#Change the working directory \n",
    "os.chdir(workingDir)\n",
    "#Load the data\n",
    "dataset = pd.read_csv(dataset_fileName)"
   ]
  },
  {
   "cell_type": "markdown",
   "id": "fd7a1d85",
   "metadata": {
    "id": "fd7a1d85"
   },
   "source": [
    "##### Display info of dataset"
   ]
  },
  {
   "cell_type": "code",
   "execution_count": 5,
   "id": "350f39ad",
   "metadata": {
    "id": "350f39ad",
    "outputId": "02f123d5-aa11-4fbe-8477-3ad964d36226"
   },
   "outputs": [
    {
     "name": "stdout",
     "output_type": "stream",
     "text": [
      "<class 'pandas.core.frame.DataFrame'>\n",
      "RangeIndex: 512 entries, 0 to 511\n",
      "Data columns (total 30 columns):\n",
      " #   Column  Non-Null Count  Dtype  \n",
      "---  ------  --------------  -----  \n",
      " 0   x_0     512 non-null    float64\n",
      " 1   x_1     512 non-null    float64\n",
      " 2   x_2     512 non-null    float64\n",
      " 3   x_3     512 non-null    float64\n",
      " 4   x_4     512 non-null    float64\n",
      " 5   x_5     512 non-null    float64\n",
      " 6   x_6     512 non-null    float64\n",
      " 7   x_7     512 non-null    float64\n",
      " 8   x_8     512 non-null    float64\n",
      " 9   x_9     512 non-null    float64\n",
      " 10  x_10    512 non-null    float64\n",
      " 11  x_11    512 non-null    float64\n",
      " 12  x_12    512 non-null    float64\n",
      " 13  x_13    512 non-null    float64\n",
      " 14  x_14    512 non-null    float64\n",
      " 15  x_15    512 non-null    float64\n",
      " 16  x_16    512 non-null    float64\n",
      " 17  x_17    512 non-null    float64\n",
      " 18  x_18    512 non-null    float64\n",
      " 19  x_19    512 non-null    float64\n",
      " 20  x_20    512 non-null    float64\n",
      " 21  x_21    512 non-null    float64\n",
      " 22  x_22    512 non-null    float64\n",
      " 23  x_23    512 non-null    float64\n",
      " 24  x_24    512 non-null    float64\n",
      " 25  x_25    512 non-null    float64\n",
      " 26  x_26    512 non-null    float64\n",
      " 27  x_27    512 non-null    float64\n",
      " 28  x_28    512 non-null    float64\n",
      " 29  y       512 non-null    int64  \n",
      "dtypes: float64(29), int64(1)\n",
      "memory usage: 120.1 KB\n"
     ]
    },
    {
     "data": {
      "text/plain": [
       "None"
      ]
     },
     "metadata": {},
     "output_type": "display_data"
    }
   ],
   "source": [
    "display(dataset.info())"
   ]
  },
  {
   "cell_type": "markdown",
   "id": "3c457a40",
   "metadata": {
    "id": "3c457a40"
   },
   "source": [
    "##### Display statistical information of each column of dataset "
   ]
  },
  {
   "cell_type": "code",
   "execution_count": 6,
   "id": "5cd5c022",
   "metadata": {
    "id": "5cd5c022",
    "outputId": "7e76fdd0-45c9-4fa2-c154-fc6ee8bb8d79"
   },
   "outputs": [
    {
     "data": {
      "text/html": [
       "<div>\n",
       "<style scoped>\n",
       "    .dataframe tbody tr th:only-of-type {\n",
       "        vertical-align: middle;\n",
       "    }\n",
       "\n",
       "    .dataframe tbody tr th {\n",
       "        vertical-align: top;\n",
       "    }\n",
       "\n",
       "    .dataframe thead th {\n",
       "        text-align: right;\n",
       "    }\n",
       "</style>\n",
       "<table border=\"1\" class=\"dataframe\">\n",
       "  <thead>\n",
       "    <tr style=\"text-align: right;\">\n",
       "      <th></th>\n",
       "      <th>x_0</th>\n",
       "      <th>x_1</th>\n",
       "      <th>x_2</th>\n",
       "      <th>x_3</th>\n",
       "      <th>x_4</th>\n",
       "      <th>x_5</th>\n",
       "      <th>x_6</th>\n",
       "      <th>x_7</th>\n",
       "      <th>x_8</th>\n",
       "      <th>x_9</th>\n",
       "      <th>...</th>\n",
       "      <th>x_20</th>\n",
       "      <th>x_21</th>\n",
       "      <th>x_22</th>\n",
       "      <th>x_23</th>\n",
       "      <th>x_24</th>\n",
       "      <th>x_25</th>\n",
       "      <th>x_26</th>\n",
       "      <th>x_27</th>\n",
       "      <th>x_28</th>\n",
       "      <th>y</th>\n",
       "    </tr>\n",
       "  </thead>\n",
       "  <tbody>\n",
       "    <tr>\n",
       "      <th>count</th>\n",
       "      <td>512.000000</td>\n",
       "      <td>512.000000</td>\n",
       "      <td>512.000000</td>\n",
       "      <td>512.000000</td>\n",
       "      <td>512.000000</td>\n",
       "      <td>512.000000</td>\n",
       "      <td>512.000000</td>\n",
       "      <td>512.000000</td>\n",
       "      <td>512.000000</td>\n",
       "      <td>512.000000</td>\n",
       "      <td>...</td>\n",
       "      <td>512.000000</td>\n",
       "      <td>512.000000</td>\n",
       "      <td>512.000000</td>\n",
       "      <td>512.000000</td>\n",
       "      <td>512.000000</td>\n",
       "      <td>512.000000</td>\n",
       "      <td>512.000000</td>\n",
       "      <td>512.000000</td>\n",
       "      <td>512.000000</td>\n",
       "      <td>512.000000</td>\n",
       "    </tr>\n",
       "    <tr>\n",
       "      <th>mean</th>\n",
       "      <td>2.439131</td>\n",
       "      <td>37.565795</td>\n",
       "      <td>-2.129354</td>\n",
       "      <td>-42.896385</td>\n",
       "      <td>-19.541749</td>\n",
       "      <td>0.774351</td>\n",
       "      <td>-3.318514</td>\n",
       "      <td>1.234039</td>\n",
       "      <td>-37.084747</td>\n",
       "      <td>44.457026</td>\n",
       "      <td>...</td>\n",
       "      <td>3.954715</td>\n",
       "      <td>7.062185</td>\n",
       "      <td>-1.984638</td>\n",
       "      <td>-0.041593</td>\n",
       "      <td>45.802623</td>\n",
       "      <td>-6.156434</td>\n",
       "      <td>20.336928</td>\n",
       "      <td>7.686032</td>\n",
       "      <td>46.116476</td>\n",
       "      <td>1.396484</td>\n",
       "    </tr>\n",
       "    <tr>\n",
       "      <th>std</th>\n",
       "      <td>79.668269</td>\n",
       "      <td>149.000493</td>\n",
       "      <td>70.127878</td>\n",
       "      <td>270.463154</td>\n",
       "      <td>169.129888</td>\n",
       "      <td>5.008753</td>\n",
       "      <td>82.998787</td>\n",
       "      <td>32.479082</td>\n",
       "      <td>165.128140</td>\n",
       "      <td>147.647250</td>\n",
       "      <td>...</td>\n",
       "      <td>136.591423</td>\n",
       "      <td>94.580884</td>\n",
       "      <td>35.141745</td>\n",
       "      <td>8.054942</td>\n",
       "      <td>210.354097</td>\n",
       "      <td>44.965474</td>\n",
       "      <td>185.172480</td>\n",
       "      <td>33.899699</td>\n",
       "      <td>222.968262</td>\n",
       "      <td>0.869705</td>\n",
       "    </tr>\n",
       "    <tr>\n",
       "      <th>min</th>\n",
       "      <td>-218.014426</td>\n",
       "      <td>-420.663489</td>\n",
       "      <td>-200.408297</td>\n",
       "      <td>-805.895235</td>\n",
       "      <td>-487.537653</td>\n",
       "      <td>-13.031117</td>\n",
       "      <td>-211.774697</td>\n",
       "      <td>-104.569640</td>\n",
       "      <td>-567.697872</td>\n",
       "      <td>-370.866192</td>\n",
       "      <td>...</td>\n",
       "      <td>-387.207794</td>\n",
       "      <td>-251.840570</td>\n",
       "      <td>-146.937805</td>\n",
       "      <td>-22.463712</td>\n",
       "      <td>-568.799810</td>\n",
       "      <td>-129.243517</td>\n",
       "      <td>-593.246183</td>\n",
       "      <td>-101.722870</td>\n",
       "      <td>-545.635486</td>\n",
       "      <td>0.000000</td>\n",
       "    </tr>\n",
       "    <tr>\n",
       "      <th>25%</th>\n",
       "      <td>-49.223112</td>\n",
       "      <td>-61.024707</td>\n",
       "      <td>-46.175353</td>\n",
       "      <td>-209.804499</td>\n",
       "      <td>-132.511157</td>\n",
       "      <td>-2.415076</td>\n",
       "      <td>-64.127241</td>\n",
       "      <td>-20.197596</td>\n",
       "      <td>-149.740462</td>\n",
       "      <td>-53.430691</td>\n",
       "      <td>...</td>\n",
       "      <td>-87.250875</td>\n",
       "      <td>-56.243393</td>\n",
       "      <td>-25.552702</td>\n",
       "      <td>-5.949824</td>\n",
       "      <td>-89.267524</td>\n",
       "      <td>-36.253059</td>\n",
       "      <td>-99.238991</td>\n",
       "      <td>-17.600614</td>\n",
       "      <td>-116.271767</td>\n",
       "      <td>1.000000</td>\n",
       "    </tr>\n",
       "    <tr>\n",
       "      <th>50%</th>\n",
       "      <td>12.155885</td>\n",
       "      <td>41.328052</td>\n",
       "      <td>-2.193064</td>\n",
       "      <td>-39.650751</td>\n",
       "      <td>-15.800571</td>\n",
       "      <td>0.672129</td>\n",
       "      <td>-9.072157</td>\n",
       "      <td>0.849871</td>\n",
       "      <td>-35.757947</td>\n",
       "      <td>41.890772</td>\n",
       "      <td>...</td>\n",
       "      <td>10.971585</td>\n",
       "      <td>3.737968</td>\n",
       "      <td>-3.289748</td>\n",
       "      <td>0.288603</td>\n",
       "      <td>55.123325</td>\n",
       "      <td>-7.736827</td>\n",
       "      <td>17.342673</td>\n",
       "      <td>8.372459</td>\n",
       "      <td>30.868008</td>\n",
       "      <td>1.000000</td>\n",
       "    </tr>\n",
       "    <tr>\n",
       "      <th>75%</th>\n",
       "      <td>60.213974</td>\n",
       "      <td>141.277355</td>\n",
       "      <td>46.198129</td>\n",
       "      <td>141.936365</td>\n",
       "      <td>96.539653</td>\n",
       "      <td>4.211238</td>\n",
       "      <td>50.150721</td>\n",
       "      <td>23.711935</td>\n",
       "      <td>75.528969</td>\n",
       "      <td>143.915499</td>\n",
       "      <td>...</td>\n",
       "      <td>87.445776</td>\n",
       "      <td>69.919878</td>\n",
       "      <td>21.889408</td>\n",
       "      <td>5.714857</td>\n",
       "      <td>190.281398</td>\n",
       "      <td>23.727257</td>\n",
       "      <td>144.533145</td>\n",
       "      <td>30.951389</td>\n",
       "      <td>204.465337</td>\n",
       "      <td>2.000000</td>\n",
       "    </tr>\n",
       "    <tr>\n",
       "      <th>max</th>\n",
       "      <td>199.703493</td>\n",
       "      <td>484.171709</td>\n",
       "      <td>211.004193</td>\n",
       "      <td>720.820175</td>\n",
       "      <td>441.163606</td>\n",
       "      <td>16.231479</td>\n",
       "      <td>253.060961</td>\n",
       "      <td>122.069373</td>\n",
       "      <td>478.614180</td>\n",
       "      <td>552.311766</td>\n",
       "      <td>...</td>\n",
       "      <td>461.229792</td>\n",
       "      <td>320.096620</td>\n",
       "      <td>106.122619</td>\n",
       "      <td>22.005079</td>\n",
       "      <td>675.198210</td>\n",
       "      <td>142.665835</td>\n",
       "      <td>613.995137</td>\n",
       "      <td>139.990511</td>\n",
       "      <td>766.813592</td>\n",
       "      <td>3.000000</td>\n",
       "    </tr>\n",
       "  </tbody>\n",
       "</table>\n",
       "<p>8 rows × 30 columns</p>\n",
       "</div>"
      ],
      "text/plain": [
       "              x_0         x_1         x_2         x_3         x_4         x_5  \\\n",
       "count  512.000000  512.000000  512.000000  512.000000  512.000000  512.000000   \n",
       "mean     2.439131   37.565795   -2.129354  -42.896385  -19.541749    0.774351   \n",
       "std     79.668269  149.000493   70.127878  270.463154  169.129888    5.008753   \n",
       "min   -218.014426 -420.663489 -200.408297 -805.895235 -487.537653  -13.031117   \n",
       "25%    -49.223112  -61.024707  -46.175353 -209.804499 -132.511157   -2.415076   \n",
       "50%     12.155885   41.328052   -2.193064  -39.650751  -15.800571    0.672129   \n",
       "75%     60.213974  141.277355   46.198129  141.936365   96.539653    4.211238   \n",
       "max    199.703493  484.171709  211.004193  720.820175  441.163606   16.231479   \n",
       "\n",
       "              x_6         x_7         x_8         x_9  ...        x_20  \\\n",
       "count  512.000000  512.000000  512.000000  512.000000  ...  512.000000   \n",
       "mean    -3.318514    1.234039  -37.084747   44.457026  ...    3.954715   \n",
       "std     82.998787   32.479082  165.128140  147.647250  ...  136.591423   \n",
       "min   -211.774697 -104.569640 -567.697872 -370.866192  ... -387.207794   \n",
       "25%    -64.127241  -20.197596 -149.740462  -53.430691  ...  -87.250875   \n",
       "50%     -9.072157    0.849871  -35.757947   41.890772  ...   10.971585   \n",
       "75%     50.150721   23.711935   75.528969  143.915499  ...   87.445776   \n",
       "max    253.060961  122.069373  478.614180  552.311766  ...  461.229792   \n",
       "\n",
       "             x_21        x_22        x_23        x_24        x_25        x_26  \\\n",
       "count  512.000000  512.000000  512.000000  512.000000  512.000000  512.000000   \n",
       "mean     7.062185   -1.984638   -0.041593   45.802623   -6.156434   20.336928   \n",
       "std     94.580884   35.141745    8.054942  210.354097   44.965474  185.172480   \n",
       "min   -251.840570 -146.937805  -22.463712 -568.799810 -129.243517 -593.246183   \n",
       "25%    -56.243393  -25.552702   -5.949824  -89.267524  -36.253059  -99.238991   \n",
       "50%      3.737968   -3.289748    0.288603   55.123325   -7.736827   17.342673   \n",
       "75%     69.919878   21.889408    5.714857  190.281398   23.727257  144.533145   \n",
       "max    320.096620  106.122619   22.005079  675.198210  142.665835  613.995137   \n",
       "\n",
       "             x_27        x_28           y  \n",
       "count  512.000000  512.000000  512.000000  \n",
       "mean     7.686032   46.116476    1.396484  \n",
       "std     33.899699  222.968262    0.869705  \n",
       "min   -101.722870 -545.635486    0.000000  \n",
       "25%    -17.600614 -116.271767    1.000000  \n",
       "50%      8.372459   30.868008    1.000000  \n",
       "75%     30.951389  204.465337    2.000000  \n",
       "max    139.990511  766.813592    3.000000  \n",
       "\n",
       "[8 rows x 30 columns]"
      ]
     },
     "metadata": {},
     "output_type": "display_data"
    }
   ],
   "source": [
    "display(dataset.describe())"
   ]
  },
  {
   "cell_type": "markdown",
   "id": "e5b9ee00",
   "metadata": {
    "id": "e5b9ee00"
   },
   "source": [
    "##### Display the given dataset "
   ]
  },
  {
   "cell_type": "code",
   "execution_count": 7,
   "id": "5df76f12",
   "metadata": {
    "id": "5df76f12",
    "outputId": "286066f7-0878-4ce0-f35a-9eaca1a3da95"
   },
   "outputs": [
    {
     "data": {
      "text/html": [
       "<div>\n",
       "<style scoped>\n",
       "    .dataframe tbody tr th:only-of-type {\n",
       "        vertical-align: middle;\n",
       "    }\n",
       "\n",
       "    .dataframe tbody tr th {\n",
       "        vertical-align: top;\n",
       "    }\n",
       "\n",
       "    .dataframe thead th {\n",
       "        text-align: right;\n",
       "    }\n",
       "</style>\n",
       "<table border=\"1\" class=\"dataframe\">\n",
       "  <thead>\n",
       "    <tr style=\"text-align: right;\">\n",
       "      <th></th>\n",
       "      <th>x_0</th>\n",
       "      <th>x_1</th>\n",
       "      <th>x_2</th>\n",
       "      <th>x_3</th>\n",
       "      <th>x_4</th>\n",
       "      <th>x_5</th>\n",
       "      <th>x_6</th>\n",
       "      <th>x_7</th>\n",
       "      <th>x_8</th>\n",
       "      <th>x_9</th>\n",
       "      <th>...</th>\n",
       "      <th>x_20</th>\n",
       "      <th>x_21</th>\n",
       "      <th>x_22</th>\n",
       "      <th>x_23</th>\n",
       "      <th>x_24</th>\n",
       "      <th>x_25</th>\n",
       "      <th>x_26</th>\n",
       "      <th>x_27</th>\n",
       "      <th>x_28</th>\n",
       "      <th>y</th>\n",
       "    </tr>\n",
       "  </thead>\n",
       "  <tbody>\n",
       "    <tr>\n",
       "      <th>0</th>\n",
       "      <td>16.920655</td>\n",
       "      <td>-42.645832</td>\n",
       "      <td>120.989582</td>\n",
       "      <td>204.158654</td>\n",
       "      <td>146.482712</td>\n",
       "      <td>10.931416</td>\n",
       "      <td>-148.843296</td>\n",
       "      <td>27.660603</td>\n",
       "      <td>-84.502239</td>\n",
       "      <td>12.294844</td>\n",
       "      <td>...</td>\n",
       "      <td>-62.325705</td>\n",
       "      <td>38.713472</td>\n",
       "      <td>-35.038464</td>\n",
       "      <td>-9.714632</td>\n",
       "      <td>36.987391</td>\n",
       "      <td>8.891164</td>\n",
       "      <td>-434.626733</td>\n",
       "      <td>42.773671</td>\n",
       "      <td>217.002701</td>\n",
       "      <td>3</td>\n",
       "    </tr>\n",
       "    <tr>\n",
       "      <th>1</th>\n",
       "      <td>33.112697</td>\n",
       "      <td>141.934286</td>\n",
       "      <td>-42.908480</td>\n",
       "      <td>272.840275</td>\n",
       "      <td>3.240221</td>\n",
       "      <td>2.900615</td>\n",
       "      <td>83.384757</td>\n",
       "      <td>38.419407</td>\n",
       "      <td>5.996595</td>\n",
       "      <td>-74.794468</td>\n",
       "      <td>...</td>\n",
       "      <td>-63.303622</td>\n",
       "      <td>69.658188</td>\n",
       "      <td>50.411234</td>\n",
       "      <td>-14.496756</td>\n",
       "      <td>62.013898</td>\n",
       "      <td>23.602845</td>\n",
       "      <td>-56.753575</td>\n",
       "      <td>55.810014</td>\n",
       "      <td>132.221649</td>\n",
       "      <td>1</td>\n",
       "    </tr>\n",
       "    <tr>\n",
       "      <th>2</th>\n",
       "      <td>-0.719035</td>\n",
       "      <td>162.356669</td>\n",
       "      <td>-25.289948</td>\n",
       "      <td>-38.063813</td>\n",
       "      <td>-45.747704</td>\n",
       "      <td>-1.768817</td>\n",
       "      <td>-34.906378</td>\n",
       "      <td>19.047969</td>\n",
       "      <td>-122.525011</td>\n",
       "      <td>37.495460</td>\n",
       "      <td>...</td>\n",
       "      <td>19.455654</td>\n",
       "      <td>99.033783</td>\n",
       "      <td>-14.787519</td>\n",
       "      <td>-2.837963</td>\n",
       "      <td>80.574733</td>\n",
       "      <td>37.568538</td>\n",
       "      <td>-55.843178</td>\n",
       "      <td>24.805701</td>\n",
       "      <td>-66.399042</td>\n",
       "      <td>1</td>\n",
       "    </tr>\n",
       "    <tr>\n",
       "      <th>3</th>\n",
       "      <td>41.114839</td>\n",
       "      <td>32.865930</td>\n",
       "      <td>3.375600</td>\n",
       "      <td>248.982501</td>\n",
       "      <td>145.736013</td>\n",
       "      <td>0.144523</td>\n",
       "      <td>-100.467590</td>\n",
       "      <td>-14.692076</td>\n",
       "      <td>-224.750326</td>\n",
       "      <td>5.088222</td>\n",
       "      <td>...</td>\n",
       "      <td>28.051349</td>\n",
       "      <td>-69.535135</td>\n",
       "      <td>6.634928</td>\n",
       "      <td>-0.086851</td>\n",
       "      <td>243.915623</td>\n",
       "      <td>-42.572195</td>\n",
       "      <td>349.780139</td>\n",
       "      <td>22.955581</td>\n",
       "      <td>115.350261</td>\n",
       "      <td>2</td>\n",
       "    </tr>\n",
       "    <tr>\n",
       "      <th>4</th>\n",
       "      <td>-98.954896</td>\n",
       "      <td>100.334688</td>\n",
       "      <td>22.108893</td>\n",
       "      <td>-509.285564</td>\n",
       "      <td>77.418419</td>\n",
       "      <td>-2.567594</td>\n",
       "      <td>27.837708</td>\n",
       "      <td>41.203306</td>\n",
       "      <td>195.284077</td>\n",
       "      <td>-47.101180</td>\n",
       "      <td>...</td>\n",
       "      <td>103.337332</td>\n",
       "      <td>100.588271</td>\n",
       "      <td>-40.951918</td>\n",
       "      <td>3.262511</td>\n",
       "      <td>174.265657</td>\n",
       "      <td>38.307570</td>\n",
       "      <td>-363.908029</td>\n",
       "      <td>52.254404</td>\n",
       "      <td>362.320497</td>\n",
       "      <td>1</td>\n",
       "    </tr>\n",
       "    <tr>\n",
       "      <th>...</th>\n",
       "      <td>...</td>\n",
       "      <td>...</td>\n",
       "      <td>...</td>\n",
       "      <td>...</td>\n",
       "      <td>...</td>\n",
       "      <td>...</td>\n",
       "      <td>...</td>\n",
       "      <td>...</td>\n",
       "      <td>...</td>\n",
       "      <td>...</td>\n",
       "      <td>...</td>\n",
       "      <td>...</td>\n",
       "      <td>...</td>\n",
       "      <td>...</td>\n",
       "      <td>...</td>\n",
       "      <td>...</td>\n",
       "      <td>...</td>\n",
       "      <td>...</td>\n",
       "      <td>...</td>\n",
       "      <td>...</td>\n",
       "      <td>...</td>\n",
       "    </tr>\n",
       "    <tr>\n",
       "      <th>507</th>\n",
       "      <td>-198.199135</td>\n",
       "      <td>-78.961783</td>\n",
       "      <td>101.635923</td>\n",
       "      <td>87.151381</td>\n",
       "      <td>85.924719</td>\n",
       "      <td>2.857203</td>\n",
       "      <td>-114.279865</td>\n",
       "      <td>122.069373</td>\n",
       "      <td>134.942756</td>\n",
       "      <td>36.458869</td>\n",
       "      <td>...</td>\n",
       "      <td>173.351132</td>\n",
       "      <td>-66.298207</td>\n",
       "      <td>-48.326594</td>\n",
       "      <td>-11.743241</td>\n",
       "      <td>158.089972</td>\n",
       "      <td>-41.033300</td>\n",
       "      <td>24.813333</td>\n",
       "      <td>87.438227</td>\n",
       "      <td>766.813592</td>\n",
       "      <td>2</td>\n",
       "    </tr>\n",
       "    <tr>\n",
       "      <th>508</th>\n",
       "      <td>109.290428</td>\n",
       "      <td>191.480509</td>\n",
       "      <td>12.303618</td>\n",
       "      <td>-305.932511</td>\n",
       "      <td>-40.519626</td>\n",
       "      <td>-3.313111</td>\n",
       "      <td>-69.436370</td>\n",
       "      <td>21.865336</td>\n",
       "      <td>-53.042458</td>\n",
       "      <td>69.572077</td>\n",
       "      <td>...</td>\n",
       "      <td>39.230760</td>\n",
       "      <td>-63.706061</td>\n",
       "      <td>-37.408941</td>\n",
       "      <td>7.334285</td>\n",
       "      <td>6.379320</td>\n",
       "      <td>-39.800946</td>\n",
       "      <td>-313.897782</td>\n",
       "      <td>-21.168608</td>\n",
       "      <td>-248.854618</td>\n",
       "      <td>3</td>\n",
       "    </tr>\n",
       "    <tr>\n",
       "      <th>509</th>\n",
       "      <td>-19.049404</td>\n",
       "      <td>9.356148</td>\n",
       "      <td>34.453434</td>\n",
       "      <td>100.074962</td>\n",
       "      <td>-239.541858</td>\n",
       "      <td>-0.075924</td>\n",
       "      <td>-28.929118</td>\n",
       "      <td>-9.993400</td>\n",
       "      <td>111.402361</td>\n",
       "      <td>-159.851843</td>\n",
       "      <td>...</td>\n",
       "      <td>106.780895</td>\n",
       "      <td>-174.278694</td>\n",
       "      <td>24.498491</td>\n",
       "      <td>0.962552</td>\n",
       "      <td>16.108659</td>\n",
       "      <td>-92.369189</td>\n",
       "      <td>-7.323660</td>\n",
       "      <td>-51.172846</td>\n",
       "      <td>412.148554</td>\n",
       "      <td>1</td>\n",
       "    </tr>\n",
       "    <tr>\n",
       "      <th>510</th>\n",
       "      <td>33.054867</td>\n",
       "      <td>-122.689085</td>\n",
       "      <td>-23.861270</td>\n",
       "      <td>417.833334</td>\n",
       "      <td>-26.519607</td>\n",
       "      <td>-3.545035</td>\n",
       "      <td>-97.259415</td>\n",
       "      <td>-5.704583</td>\n",
       "      <td>295.703536</td>\n",
       "      <td>156.880560</td>\n",
       "      <td>...</td>\n",
       "      <td>-239.699164</td>\n",
       "      <td>102.871363</td>\n",
       "      <td>-3.690261</td>\n",
       "      <td>14.396206</td>\n",
       "      <td>-37.507866</td>\n",
       "      <td>39.392993</td>\n",
       "      <td>-277.306626</td>\n",
       "      <td>-27.038689</td>\n",
       "      <td>488.231509</td>\n",
       "      <td>2</td>\n",
       "    </tr>\n",
       "    <tr>\n",
       "      <th>511</th>\n",
       "      <td>-113.859844</td>\n",
       "      <td>-68.568425</td>\n",
       "      <td>26.497456</td>\n",
       "      <td>-83.029815</td>\n",
       "      <td>-181.109835</td>\n",
       "      <td>0.709717</td>\n",
       "      <td>-4.715715</td>\n",
       "      <td>35.546645</td>\n",
       "      <td>71.557185</td>\n",
       "      <td>-37.259273</td>\n",
       "      <td>...</td>\n",
       "      <td>34.515190</td>\n",
       "      <td>-7.949060</td>\n",
       "      <td>-12.519643</td>\n",
       "      <td>7.673987</td>\n",
       "      <td>31.020642</td>\n",
       "      <td>-13.293053</td>\n",
       "      <td>107.338730</td>\n",
       "      <td>23.399769</td>\n",
       "      <td>324.311987</td>\n",
       "      <td>2</td>\n",
       "    </tr>\n",
       "  </tbody>\n",
       "</table>\n",
       "<p>512 rows × 30 columns</p>\n",
       "</div>"
      ],
      "text/plain": [
       "            x_0         x_1         x_2         x_3         x_4        x_5  \\\n",
       "0     16.920655  -42.645832  120.989582  204.158654  146.482712  10.931416   \n",
       "1     33.112697  141.934286  -42.908480  272.840275    3.240221   2.900615   \n",
       "2     -0.719035  162.356669  -25.289948  -38.063813  -45.747704  -1.768817   \n",
       "3     41.114839   32.865930    3.375600  248.982501  145.736013   0.144523   \n",
       "4    -98.954896  100.334688   22.108893 -509.285564   77.418419  -2.567594   \n",
       "..          ...         ...         ...         ...         ...        ...   \n",
       "507 -198.199135  -78.961783  101.635923   87.151381   85.924719   2.857203   \n",
       "508  109.290428  191.480509   12.303618 -305.932511  -40.519626  -3.313111   \n",
       "509  -19.049404    9.356148   34.453434  100.074962 -239.541858  -0.075924   \n",
       "510   33.054867 -122.689085  -23.861270  417.833334  -26.519607  -3.545035   \n",
       "511 -113.859844  -68.568425   26.497456  -83.029815 -181.109835   0.709717   \n",
       "\n",
       "            x_6         x_7         x_8         x_9  ...        x_20  \\\n",
       "0   -148.843296   27.660603  -84.502239   12.294844  ...  -62.325705   \n",
       "1     83.384757   38.419407    5.996595  -74.794468  ...  -63.303622   \n",
       "2    -34.906378   19.047969 -122.525011   37.495460  ...   19.455654   \n",
       "3   -100.467590  -14.692076 -224.750326    5.088222  ...   28.051349   \n",
       "4     27.837708   41.203306  195.284077  -47.101180  ...  103.337332   \n",
       "..          ...         ...         ...         ...  ...         ...   \n",
       "507 -114.279865  122.069373  134.942756   36.458869  ...  173.351132   \n",
       "508  -69.436370   21.865336  -53.042458   69.572077  ...   39.230760   \n",
       "509  -28.929118   -9.993400  111.402361 -159.851843  ...  106.780895   \n",
       "510  -97.259415   -5.704583  295.703536  156.880560  ... -239.699164   \n",
       "511   -4.715715   35.546645   71.557185  -37.259273  ...   34.515190   \n",
       "\n",
       "           x_21       x_22       x_23        x_24       x_25        x_26  \\\n",
       "0     38.713472 -35.038464  -9.714632   36.987391   8.891164 -434.626733   \n",
       "1     69.658188  50.411234 -14.496756   62.013898  23.602845  -56.753575   \n",
       "2     99.033783 -14.787519  -2.837963   80.574733  37.568538  -55.843178   \n",
       "3    -69.535135   6.634928  -0.086851  243.915623 -42.572195  349.780139   \n",
       "4    100.588271 -40.951918   3.262511  174.265657  38.307570 -363.908029   \n",
       "..          ...        ...        ...         ...        ...         ...   \n",
       "507  -66.298207 -48.326594 -11.743241  158.089972 -41.033300   24.813333   \n",
       "508  -63.706061 -37.408941   7.334285    6.379320 -39.800946 -313.897782   \n",
       "509 -174.278694  24.498491   0.962552   16.108659 -92.369189   -7.323660   \n",
       "510  102.871363  -3.690261  14.396206  -37.507866  39.392993 -277.306626   \n",
       "511   -7.949060 -12.519643   7.673987   31.020642 -13.293053  107.338730   \n",
       "\n",
       "          x_27        x_28  y  \n",
       "0    42.773671  217.002701  3  \n",
       "1    55.810014  132.221649  1  \n",
       "2    24.805701  -66.399042  1  \n",
       "3    22.955581  115.350261  2  \n",
       "4    52.254404  362.320497  1  \n",
       "..         ...         ... ..  \n",
       "507  87.438227  766.813592  2  \n",
       "508 -21.168608 -248.854618  3  \n",
       "509 -51.172846  412.148554  1  \n",
       "510 -27.038689  488.231509  2  \n",
       "511  23.399769  324.311987  2  \n",
       "\n",
       "[512 rows x 30 columns]"
      ]
     },
     "metadata": {},
     "output_type": "display_data"
    }
   ],
   "source": [
    "display(dataset)"
   ]
  },
  {
   "cell_type": "markdown",
   "id": "23b3652e",
   "metadata": {
    "id": "23b3652e"
   },
   "source": [
    "##### Checking for null or na values in data set "
   ]
  },
  {
   "cell_type": "code",
   "execution_count": 8,
   "id": "b51361f9",
   "metadata": {
    "id": "b51361f9",
    "outputId": "dda4a837-c475-4295-beeb-27e00567e932"
   },
   "outputs": [
    {
     "data": {
      "text/plain": [
       "False"
      ]
     },
     "execution_count": 8,
     "metadata": {},
     "output_type": "execute_result"
    }
   ],
   "source": [
    "dataset.isnull().isna().values.any()"
   ]
  },
  {
   "cell_type": "code",
   "execution_count": 9,
   "id": "7e60f717",
   "metadata": {
    "id": "7e60f717"
   },
   "outputs": [],
   "source": [
    "input_x = dataset.drop('y', axis=1)\n",
    "output_y = dataset[['y']] "
   ]
  },
  {
   "cell_type": "markdown",
   "id": "3db085ff",
   "metadata": {
    "id": "3db085ff"
   },
   "source": [
    "#### Unique output lable in the dataset"
   ]
  },
  {
   "cell_type": "code",
   "execution_count": 10,
   "id": "09c6517e",
   "metadata": {
    "id": "09c6517e",
    "outputId": "252b5402-f579-42bb-bf31-c96e64523a7f"
   },
   "outputs": [
    {
     "data": {
      "text/plain": [
       "array([0, 1, 2, 3], dtype=int64)"
      ]
     },
     "execution_count": 10,
     "metadata": {},
     "output_type": "execute_result"
    }
   ],
   "source": [
    "np.unique(output_y)"
   ]
  },
  {
   "cell_type": "markdown",
   "id": "4fa57e3e",
   "metadata": {
    "id": "4fa57e3e"
   },
   "source": [
    "#### Train and test split for data set"
   ]
  },
  {
   "cell_type": "code",
   "execution_count": 11,
   "id": "f9f30bcb",
   "metadata": {
    "id": "f9f30bcb"
   },
   "outputs": [],
   "source": [
    "X_train, X_test, Y_train, Y_test= train_test_split(input_x, output_y, test_size=0.2, random_state=42)"
   ]
  },
  {
   "cell_type": "markdown",
   "id": "dca520d8",
   "metadata": {
    "id": "dca520d8"
   },
   "source": [
    "#### Q1. Classify the dataset using Logistic regression. Also implement the LDA and QDA and find the model performance."
   ]
  },
  {
   "cell_type": "markdown",
   "id": "1d38bab5",
   "metadata": {
    "id": "1d38bab5"
   },
   "source": [
    "##### Logistic Regression"
   ]
  },
  {
   "cell_type": "code",
   "execution_count": 12,
   "id": "07376146",
   "metadata": {
    "id": "07376146",
    "outputId": "a799d669-fa97-44fb-b669-bdef991a155e"
   },
   "outputs": [
    {
     "name": "stdout",
     "output_type": "stream",
     "text": [
      "The accuracy for Logistic Regression is: 52.42718446601942 %\n",
      "\n",
      "The classification report for Logistic Regression is:\n",
      "              precision    recall  f1-score   support\n",
      "\n",
      "           0       0.50      0.06      0.11        17\n",
      "           1       0.56      0.83      0.67        47\n",
      "           2       0.50      0.50      0.50        28\n",
      "           3       0.00      0.00      0.00        11\n",
      "\n",
      "    accuracy                           0.52       103\n",
      "   macro avg       0.39      0.35      0.32       103\n",
      "weighted avg       0.47      0.52      0.46       103\n",
      "\n"
     ]
    },
    {
     "data": {
      "image/png": "[encoded data removed]",
      "text/plain": [
       "<Figure size 576x432 with 2 Axes>"
      ]
     },
     "metadata": {},
     "output_type": "display_data"
    }
   ],
   "source": [
    "perform_Logistic_regression(X_train,np.ravel(Y_train),X_test,np.ravel(Y_test))"
   ]
  },
  {
   "cell_type": "markdown",
   "id": "5eaf8718",
   "metadata": {
    "id": "5eaf8718"
   },
   "source": [
    "##### LDA"
   ]
  },
  {
   "cell_type": "code",
   "execution_count": 13,
   "id": "1da2402e",
   "metadata": {
    "id": "1da2402e",
    "outputId": "0aa14f5b-635a-46ef-a269-02deec7b03ed"
   },
   "outputs": [
    {
     "name": "stdout",
     "output_type": "stream",
     "text": [
      "The accuracy for Linear Discriminant Analysis is: 53.398058252427184 %\n",
      "\n",
      "The classification report for LDA is:\n",
      "              precision    recall  f1-score   support\n",
      "\n",
      "           0       0.67      0.12      0.20        17\n",
      "           1       0.57      0.83      0.67        47\n",
      "           2       0.50      0.50      0.50        28\n",
      "           3       0.00      0.00      0.00        11\n",
      "\n",
      "    accuracy                           0.53       103\n",
      "   macro avg       0.43      0.36      0.34       103\n",
      "weighted avg       0.50      0.53      0.48       103\n",
      "\n"
     ]
    },
    {
     "data": {
      "image/png": "[encoded data removed]",
      "text/plain": [
       "<Figure size 576x432 with 2 Axes>"
      ]
     },
     "metadata": {},
     "output_type": "display_data"
    }
   ],
   "source": [
    " LDA_Analysis(X_train,np.ravel(Y_train),X_test,np.ravel(Y_test))"
   ]
  },
  {
   "cell_type": "markdown",
   "id": "fed24f04",
   "metadata": {
    "id": "fed24f04"
   },
   "source": [
    "##### QDA"
   ]
  },
  {
   "cell_type": "code",
   "execution_count": 14,
   "id": "da64726c",
   "metadata": {
    "id": "da64726c",
    "outputId": "e85128d6-72cc-41d4-df60-cf3417688853"
   },
   "outputs": [
    {
     "name": "stdout",
     "output_type": "stream",
     "text": [
      "The accuracy for Quadratic Discriminant Analysis is: 53.398058252427184 %\n",
      "\n",
      "The classification report for QDA is:\n",
      "              precision    recall  f1-score   support\n",
      "\n",
      "           0       0.60      0.18      0.27        17\n",
      "           1       0.57      0.74      0.65        47\n",
      "           2       0.44      0.54      0.48        28\n",
      "           3       0.67      0.18      0.29        11\n",
      "\n",
      "    accuracy                           0.53       103\n",
      "   macro avg       0.57      0.41      0.42       103\n",
      "weighted avg       0.55      0.53      0.50       103\n",
      "\n"
     ]
    },
    {
     "name": "stderr",
     "output_type": "stream",
     "text": [
      "C:\\Users\\Admin\\AppData\\Roaming\\Python\\Python39\\site-packages\\sklearn\\discriminant_analysis.py:926: UserWarning: Variables are collinear\n",
      "  warnings.warn(\"Variables are collinear\")\n"
     ]
    },
    {
     "data": {
      "image/png": "[encoded data removed]",
      "text/plain": [
       "<Figure size 576x432 with 2 Axes>"
      ]
     },
     "metadata": {},
     "output_type": "display_data"
    }
   ],
   "source": [
    " QDA_Analysis(X_train,np.ravel(Y_train),X_test,np.ravel(Y_test))"
   ]
  },
  {
   "cell_type": "markdown",
   "id": "74e4cac8",
   "metadata": {
    "id": "74e4cac8"
   },
   "source": [
    "## "
   ]
  },
  {
   "cell_type": "markdown",
   "id": "33598142",
   "metadata": {
    "id": "33598142"
   },
   "source": [
    "#### Q2. Use the Decision tree classifier to classify the given dataset. Tune the model and identify the optimal hyperparameters."
   ]
  },
  {
   "cell_type": "markdown",
   "id": "55c7a7e1",
   "metadata": {
    "id": "55c7a7e1"
   },
   "source": [
    "#### Decision Tree Classifier"
   ]
  },
  {
   "cell_type": "code",
   "execution_count": 15,
   "id": "8b3947df",
   "metadata": {
    "id": "8b3947df",
    "outputId": "27921c07-dd59-4432-bd6a-cec7fa20ec23"
   },
   "outputs": [
    {
     "name": "stdout",
     "output_type": "stream",
     "text": [
      "The accuracy for Decision Tree Classification is: 39.80582524271845 %\n",
      "\n",
      "The classification report for DecisionTree Classifier is:\n",
      "              precision    recall  f1-score   support\n",
      "\n",
      "           0       0.44      0.24      0.31        17\n",
      "           1       0.57      0.60      0.58        47\n",
      "           2       0.23      0.21      0.22        28\n",
      "           3       0.16      0.27      0.20        11\n",
      "\n",
      "    accuracy                           0.40       103\n",
      "   macro avg       0.35      0.33      0.33       103\n",
      "weighted avg       0.41      0.40      0.40       103\n",
      "\n"
     ]
    },
    {
     "data": {
      "image/png": "[encoded data removed]",
      "text/plain": [
       "<Figure size 576x432 with 2 Axes>"
      ]
     },
     "metadata": {},
     "output_type": "display_data"
    }
   ],
   "source": [
    "perform_DecesionTree_Classification(X_train,Y_train,X_test,Y_test)"
   ]
  },
  {
   "cell_type": "markdown",
   "id": "4361d668",
   "metadata": {
    "id": "4361d668"
   },
   "source": [
    "##### Hyperparameter Tuning of Decision Tree Classifier"
   ]
  },
  {
   "cell_type": "code",
   "execution_count": 16,
   "id": "3b096d6f",
   "metadata": {
    "id": "3b096d6f",
    "outputId": "792985b1-341f-475a-a62f-1174f5f72e71"
   },
   "outputs": [
    {
     "name": "stdout",
     "output_type": "stream",
     "text": [
      "Best hyperparameters:  {'criterion': 'gini', 'max_depth': 5, 'max_features': 'sqrt', 'max_leaf_nodes': 12, 'min_samples_leaf': 1, 'min_samples_split': 5}\n",
      "Best score:  0.5109906654622102\n",
      "In train dataset:\n",
      "Hypertuned Decision Tree Classifier score: 0.5770171149144254\n",
      "Normal Decision Tree Classifier score: 1.0\n",
      "In test dataset:\n",
      "Hypertuned Decision Tree Classifierscore: 0.4854368932038835\n",
      "Normal Decision Tree Classifier score: 0.39805825242718446\n"
     ]
    }
   ],
   "source": [
    "# Define the parameter grid to search over\n",
    "param_grid_decisionTree = {'criterion': ['gini', 'entropy'],\n",
    "              'max_depth': list(range(3,9)),\n",
    "              'min_samples_split': [2, 5, 10],\n",
    "              'min_samples_leaf': [1, 2, 4],\n",
    "              'max_features': ['sqrt', 'log2', None],\n",
    "              \"max_leaf_nodes\": np.linspace(10,50,30).astype(int)\n",
    "             }\n",
    "model_dtree_clf = DecisionTreeClassifier(random_state=42)\n",
    "mod_grid_search = GridSearchCV(model_dtree_clf, param_grid_decisionTree, cv=5)\n",
    "hyperparameter_tuning(param_grid_decisionTree, model_dtree_clf, mod_grid_search, X_train, Y_train, X_test, Y_test, 'Decision Tree Classifier')"
   ]
  },
  {
   "cell_type": "markdown",
   "id": "1d3d2b2e",
   "metadata": {
    "id": "1d3d2b2e"
   },
   "source": [
    "#### Q3. Classify the dataset using Bagging Classifier and Random Forest classifier models. Tune the model for the best hyperparmeters."
   ]
  },
  {
   "cell_type": "markdown",
   "id": "673b2d5c",
   "metadata": {
    "id": "673b2d5c"
   },
   "source": [
    "#### Random Forest Classifier"
   ]
  },
  {
   "cell_type": "code",
   "execution_count": 17,
   "id": "03806ad8",
   "metadata": {
    "id": "03806ad8",
    "outputId": "d0069927-75c4-4c52-d536-d46c7f5ff8dc"
   },
   "outputs": [
    {
     "name": "stdout",
     "output_type": "stream",
     "text": [
      "The accuracy for Random Forest Classifier is: 47.57281553398058 %\n",
      "\n",
      "The classification report for Random Forest Classifier is:\n",
      "              precision    recall  f1-score   support\n",
      "\n",
      "           0       0.00      0.00      0.00        17\n",
      "           1       0.48      0.89      0.62        47\n",
      "           2       0.47      0.25      0.33        28\n",
      "           3       0.00      0.00      0.00        11\n",
      "\n",
      "    accuracy                           0.48       103\n",
      "   macro avg       0.24      0.29      0.24       103\n",
      "weighted avg       0.34      0.48      0.37       103\n",
      "\n"
     ]
    },
    {
     "name": "stderr",
     "output_type": "stream",
     "text": [
      "C:\\Users\\Admin\\AppData\\Roaming\\Python\\Python39\\site-packages\\sklearn\\metrics\\_classification.py:1344: UndefinedMetricWarning: Precision and F-score are ill-defined and being set to 0.0 in labels with no predicted samples. Use `zero_division` parameter to control this behavior.\n",
      "  _warn_prf(average, modifier, msg_start, len(result))\n",
      "C:\\Users\\Admin\\AppData\\Roaming\\Python\\Python39\\site-packages\\sklearn\\metrics\\_classification.py:1344: UndefinedMetricWarning: Precision and F-score are ill-defined and being set to 0.0 in labels with no predicted samples. Use `zero_division` parameter to control this behavior.\n",
      "  _warn_prf(average, modifier, msg_start, len(result))\n",
      "C:\\Users\\Admin\\AppData\\Roaming\\Python\\Python39\\site-packages\\sklearn\\metrics\\_classification.py:1344: UndefinedMetricWarning: Precision and F-score are ill-defined and being set to 0.0 in labels with no predicted samples. Use `zero_division` parameter to control this behavior.\n",
      "  _warn_prf(average, modifier, msg_start, len(result))\n"
     ]
    },
    {
     "data": {
      "image/png": "[encoded data removed]",
      "text/plain": [
       "<Figure size 576x432 with 2 Axes>"
      ]
     },
     "metadata": {},
     "output_type": "display_data"
    }
   ],
   "source": [
    "random_Forest_Classifier(1000,X_train,np.ravel(Y_train),X_test,np.ravel(Y_test))"
   ]
  },
  {
   "cell_type": "markdown",
   "id": "5b7ab11c",
   "metadata": {
    "id": "5b7ab11c"
   },
   "source": [
    "##### Hyperparameter Tuning of Random Forest Classifier"
   ]
  },
  {
   "cell_type": "code",
   "execution_count": 18,
   "id": "0b76b416",
   "metadata": {
    "id": "0b76b416",
    "outputId": "7a86377e-f3d4-4cbf-8881-978b5ebee070"
   },
   "outputs": [
    {
     "name": "stdout",
     "output_type": "stream",
     "text": [
      "Best hyperparameters:  {'max_depth': 10, 'max_features': 'log2', 'min_samples_leaf': 4, 'min_samples_split': 2, 'n_estimators': 50}\n",
      "Best score:  0.5378199337548931\n",
      "In train dataset:\n",
      "Hypertuned Random Forest Classifier score: 0.8973105134474327\n",
      "Normal Random Forest Classifier score: 1.0\n",
      "In test dataset:\n",
      "Hypertuned Random Forest Classifierscore: 0.5242718446601942\n",
      "Normal Random Forest Classifier score: 0.4854368932038835\n"
     ]
    }
   ],
   "source": [
    "param_grid_random_forest = {\n",
    "    'n_estimators': [10, 50, 100, 500],\n",
    "    'max_depth': [5, 10, 20],\n",
    "    'min_samples_split': [2, 5, 10],\n",
    "    'min_samples_leaf': [1, 2, 4],\n",
    "    'max_features': ['sqrt', 'log2']\n",
    "}\n",
    "mod_rf = RandomForestClassifier(random_state=40)\n",
    "mod_grid_search = GridSearchCV(mod_rf, param_grid=param_grid_random_forest, cv=5)\n",
    "hyperparameter_tuning(param_grid_random_forest, mod_rf, mod_grid_search, X_train, Y_train, X_test, Y_test, 'Random Forest Classifier')"
   ]
  },
  {
   "cell_type": "markdown",
   "id": "a577e151",
   "metadata": {
    "id": "a577e151"
   },
   "source": [
    "#### Bagging Classifier"
   ]
  },
  {
   "cell_type": "code",
   "execution_count": 19,
   "id": "cd21fbb4",
   "metadata": {
    "id": "cd21fbb4",
    "outputId": "183f6362-a70c-4a30-d5ba-10269f0380a6"
   },
   "outputs": [
    {
     "name": "stderr",
     "output_type": "stream",
     "text": [
      "C:\\Users\\Admin\\AppData\\Roaming\\Python\\Python39\\site-packages\\sklearn\\ensemble\\_base.py:166: FutureWarning: `base_estimator` was renamed to `estimator` in version 1.2 and will be removed in 1.4.\n",
      "  warnings.warn(\n"
     ]
    },
    {
     "name": "stdout",
     "output_type": "stream",
     "text": [
      "The accuracy for Bagging Classifier is: 53.398058252427184 %\n",
      "\n",
      "The classification report for Bagging Classifier is:\n",
      "              precision    recall  f1-score   support\n",
      "\n",
      "           0       0.00      0.00      0.00        17\n",
      "           1       0.53      0.89      0.67        47\n",
      "           2       0.57      0.43      0.49        28\n",
      "           3       0.33      0.09      0.14        11\n",
      "\n",
      "    accuracy                           0.53       103\n",
      "   macro avg       0.36      0.35      0.32       103\n",
      "weighted avg       0.43      0.53      0.45       103\n",
      "\n"
     ]
    },
    {
     "name": "stderr",
     "output_type": "stream",
     "text": [
      "C:\\Users\\Admin\\AppData\\Roaming\\Python\\Python39\\site-packages\\sklearn\\metrics\\_classification.py:1344: UndefinedMetricWarning: Precision and F-score are ill-defined and being set to 0.0 in labels with no predicted samples. Use `zero_division` parameter to control this behavior.\n",
      "  _warn_prf(average, modifier, msg_start, len(result))\n",
      "C:\\Users\\Admin\\AppData\\Roaming\\Python\\Python39\\site-packages\\sklearn\\metrics\\_classification.py:1344: UndefinedMetricWarning: Precision and F-score are ill-defined and being set to 0.0 in labels with no predicted samples. Use `zero_division` parameter to control this behavior.\n",
      "  _warn_prf(average, modifier, msg_start, len(result))\n",
      "C:\\Users\\Admin\\AppData\\Roaming\\Python\\Python39\\site-packages\\sklearn\\metrics\\_classification.py:1344: UndefinedMetricWarning: Precision and F-score are ill-defined and being set to 0.0 in labels with no predicted samples. Use `zero_division` parameter to control this behavior.\n",
      "  _warn_prf(average, modifier, msg_start, len(result))\n"
     ]
    },
    {
     "data": {
      "image/png": "[encoded data removed]",
      "text/plain": [
       "<Figure size 576x432 with 2 Axes>"
      ]
     },
     "metadata": {},
     "output_type": "display_data"
    }
   ],
   "source": [
    "bagging_Classifier(100,X_train,np.ravel(Y_train),X_test,np.ravel(Y_test))"
   ]
  },
  {
   "cell_type": "markdown",
   "id": "d043fab3",
   "metadata": {
    "id": "d043fab3"
   },
   "source": [
    "##### Hyperparameter Tuning of Bagging Classifier"
   ]
  },
  {
   "cell_type": "code",
   "execution_count": 20,
   "id": "3850fdb1",
   "metadata": {
    "id": "3850fdb1",
    "outputId": "3a5ea7fe-0895-420b-b773-7cf9578f8794"
   },
   "outputs": [
    {
     "name": "stderr",
     "output_type": "stream",
     "text": [
      "C:\\Users\\Admin\\AppData\\Roaming\\Python\\Python39\\site-packages\\sklearn\\ensemble\\_base.py:166: FutureWarning: `base_estimator` was renamed to `estimator` in version 1.2 and will be removed in 1.4.\n",
      "  warnings.warn(\n",
      "C:\\Users\\Admin\\AppData\\Roaming\\Python\\Python39\\site-packages\\sklearn\\ensemble\\_base.py:166: FutureWarning: `base_estimator` was renamed to `estimator` in version 1.2 and will be removed in 1.4.\n",
      "  warnings.warn(\n"
     ]
    },
    {
     "name": "stdout",
     "output_type": "stream",
     "text": [
      "Best hyperparameters:  {'bootstrap': True, 'bootstrap_features': True, 'max_features': 1.0, 'max_samples': 1.0, 'n_estimators': 100}\n",
      "Best score:  0.5524540800963565\n",
      "In train dataset:\n",
      "Hypertuned Bagging Classifier score: 1.0\n",
      "Normal Bagging Classifier score: 0.9779951100244498\n",
      "In test dataset:\n",
      "Hypertuned Bagging Classifierscore: 0.5048543689320388\n",
      "Normal Bagging Classifier score: 0.46601941747572817\n"
     ]
    }
   ],
   "source": [
    "param_grid_bagging_classifier = {\n",
    "    'n_estimators': [10, 50, 100],\n",
    "    'max_samples': [0.5, 0.8, 1.0],\n",
    "    'max_features': [0.5, 0.8, 1.0],\n",
    "    'bootstrap': [True, False],\n",
    "    'bootstrap_features': [True, False]\n",
    "}\n",
    "base_estimator = DecisionTreeClassifier(random_state=42)\n",
    "bagging_clf = BaggingClassifier(base_estimator=base_estimator, random_state=42)\n",
    "scorer = make_scorer(accuracy_score)\n",
    "mod_grid_search = GridSearchCV(estimator=bagging_clf,param_grid=param_grid_bagging_classifier,scoring=scorer,cv=5,n_jobs=-1)\n",
    "hyperparameter_tuning(param_grid_bagging_classifier, bagging_clf, mod_grid_search, X_train, Y_train, X_test, Y_test,'Bagging Classifier')"
   ]
  },
  {
   "cell_type": "markdown",
   "id": "32584558",
   "metadata": {
    "id": "32584558"
   },
   "source": [
    "##### Q4 Compare the models and elaborate on your findings"
   ]
  },
  {
   "cell_type": "markdown",
   "id": "4eb582a4",
   "metadata": {},
   "source": [
    "## Performance Analyzer :\n",
    "### Logistics Regression :<br>\n",
    "\n",
    "The accuracy for Logistic Regression is: <b>52.42718446601942 %</b><br>\n",
    "The classification report for Logistic Regression is:\n",
    "\n",
    "\n",
    "|  #| precision              |  recall            |  f1-score            | support           |\n",
    "| :---:          | :-------------:|:-----------:  |      :------: |:----:       |\n",
    "|  0             |0.50       |0.06      | 0.11         |  17      |\n",
    "|  1             | 0.56        | 0.83        | 0.67        |  47     |\n",
    "|  2             | 0.50        | 0.50       | 0.50        |  28     |\n",
    "|  3             | 0.00       | 0.00        | 0.00        |  11    |\n",
    "|  accuracy             |        |         | 0.52        |  103    |\n",
    "|  macro avg             | 0.39        |  0.35       | 0.32        |  103    |\n",
    "|  weighted avg             |  0.47      | 0.52        | 0.46        |  103    |\n",
    "\n",
    "\n",
    "### LDA : <br>\n",
    "The accuracy for Linear Discriminant Analysis is: <b>53.398058252427184 %</b><br>\n",
    "The classification report for LDA is:<br>\n",
    "\n",
    "\n",
    "|  #| precision              |  recall            |  f1-score            | support           |\n",
    "| :---:          | :-------------:|:-----------:  |      :------: |:----:       |\n",
    "|  0             |0.67       |0.12      | 0.20         |  17     |\n",
    "|  1             | 0.57        | 0.83        | 0.67        |  47     |\n",
    "|  2             | 0.50        | 0.50       | 0.50        |  28     |\n",
    "|  3             | 0.00       | 0.00       | 0.00        |  11    |\n",
    "|  accuracy             |        |         | 0.53        |  103    |\n",
    "|  macro avg             | 0.43        |  0.36       | 0.34        |  103    |\n",
    "|  weighted avg             |  0.50      | 0.53        | 0.48        |  103    |\n",
    "\n",
    "\n",
    "### QDA :<br>\n",
    "The accuracy for Quadratic Discriminant Analysis is: <b>53.398058252427184 %</b><br>\n",
    "The classification report for QDA is:\n",
    "\n",
    "\n",
    "|  #| precision              |  recall            |  f1-score            | support           |\n",
    "| :---:          | :-------------:|:-----------:  |      :------: |:----:       |\n",
    "|  0             |0.60       |0.18      | 0.27         |  17     |\n",
    "|  1             | 0.57        | 0.74        | 0.65        |  47     |\n",
    "|  2             | 0.44        | 0.54       | 0.48        |  28     |\n",
    "|  3             | 0.67       | 0.18       | 0.29        |  11    |\n",
    "|  accuracy             |        |         | 0.53        |  103    |\n",
    "|  macro avg             | 0.57        |  0.41       | 0.42        |  103    |\n",
    "|  weighted avg             |  0.55      | 0.53        | 0.50        |  103    |\n",
    "\n",
    "\n",
    "### Decision Tree :\n",
    "Best hyperparameters:  <b>{'criterion': 'gini', 'max_depth': 5, 'max_features': 'sqrt', 'max_leaf_nodes': 12, 'min_samples_leaf': 1, 'min_samples_split': 5}</b><br>\n",
    "Best score:  <b>0.5109906654622102</b><br>\n",
    "\n",
    "The accuracy for Decision Tree Classification is: <b>39.80582524271845 %</b><br>\n",
    "The classification report for DecisionTree Classifier is:<br>\n",
    "\n",
    "\n",
    "|  #| precision              |  recall            |  f1-score            | support           |\n",
    "| :---:          | :-------------:|:-----------:  |      :------: |:----:       |\n",
    "|  0             |0.44       |0.24      | 0.31         |  17     |\n",
    "|  1             | 0.57        | 0.60        | 0.58        |  47     |\n",
    "|  2             | 0.23        | 0.21       | 0.22        |  28     |\n",
    "|  3             | 0.16       | 0.27       | 0.20        |  11    |\n",
    "|  accuracy             |        |         | 0.40        |  103    |\n",
    "|  macro avg             | 0.35        |  0.33      | 0.33        |  103    |\n",
    "|  weighted avg             |  0.41      | 0.40        | 0.40        |  103    |\n",
    "\n",
    "###### In train dataset:<br>\n",
    "Hypertuned Decision Tree Classifier score: <b>0.5770171149144254</b><br>\n",
    "Normal Decision Tree Classifier score: <b>1.0</b><br>\n",
    "\n",
    "###### In test dataset:<br>\n",
    "Hypertuned Decision Tree Classifierscore: <b>0.4854368932038835</b><br>\n",
    "Normal Decision Tree Classifier score: <b>0.39805825242718446</b><br>\n",
    "\n",
    "\n",
    "### Random Forest :\n",
    "Best Parameters: <b>{'max_depth': 10, 'max_features': 'log2', 'min_samples_leaf': 4, 'min_samples_split': 2, 'n_estimators': 50}</b><br>\n",
    "    Best Score: <b>0.5378199337548931</b><br>\n",
    "\n",
    "The accuracy for Random Forest Classifier is: <b>47.57281553398058 %</b><br>\n",
    "The classification report for Random Forest Classifier is:\n",
    "\n",
    "|  #| precision              |  recall            |  f1-score            | support           |\n",
    "| :---:          | :-------------:|:-----------:  |      :------: |:----:       |\n",
    "|  0             |0.00       |0.00      | 0.00         |  17     |\n",
    "|  1             | 0.48        | 0.89        | 0.62        |  47     |\n",
    "|  2             | 0.47        | 0.25       | 0.33        |  28     |\n",
    "|  3             | 0.00       | 0.00       | 0.00        |  11    |\n",
    "|  accuracy             |        |         | 0.48        |  103    |\n",
    "|  macro avg             | 0.24        |  0.29       | 0.24        |  103    |\n",
    "    |  weighted avg             |  0.34      | 0.48        | 0.37        |  103    |\n",
    "\n",
    "###### In train dataset:<br>\n",
    "Hypertuned random forest score: <b>0.8973105134474327</b><br>\n",
    "Normal random forest score: <b>1.0</b><br>\n",
    "\n",
    "###### In test dataset:<br>\n",
    "Hypertuned random forest score: <b>0.5242718446601942</b><br>\n",
    "Normal random forest score: <b>0.4854368932038835</b><br>\n",
    "\n",
    "### Bagging Classifier :\n",
    "Best hyperparameters:  <b>{'bootstrap': True, 'bootstrap_features': True, 'max_features': 1.0, 'max_samples': 1.0, 'n_estimators': 100}</b><br>\n",
    "Best score:  <b>0.5524540800963565</b><br>\n",
    "\n",
    "The accuracy for Bagging Classifier is: <b>53.398058252427184 %</b><br>\n",
    "The classification report for Bagging Classifier is:\n",
    "\n",
    "|  #| precision              |  recall            |  f1-score            | support           |\n",
    "| :---:          | :-------------:|:-----------:  |      :------: |:----:       |\n",
    "|  0             |0.00       |0.00      | 0.00         |  17     |\n",
    "|  1             | 0.53        | 0.89        | 0.67        |  47     |\n",
    "|  2             | 0.57        | 0.43       | 0.49        |  28     |\n",
    "|  3             | 0.33       | 0.09       | 0.14        |  11    |\n",
    "|  accuracy             |        |         | 0.53        |  103    |\n",
    "|  macro avg             | 0.36        |  0.35       | 0.32        |  103    |\n",
    "    |  weighted avg             |  0.43      | 0.53        | 0.45        |  103    |\n",
    "\n",
    "###### In train dataset:<br>\n",
    "Hypertuned Bagging Classifier score: <b>1.0</b><br>\n",
    "Normal Bagging Classifier score: <b>0.9779951100244498</b><br>\n",
    "\n",
    "###### In test dataset:<br>\n",
    "Hypertuned Bagging Classifierscore: <b>0.5048543689320388</b><br>\n",
    "Normal Bagging Classifier score: <b>0.46601941747572817</b><br>"
   ]
  },
  {
   "cell_type": "markdown",
   "id": "12634dc2",
   "metadata": {},
   "source": [
    "#### Plot the accuracies for different model"
   ]
  },
  {
   "cell_type": "code",
   "execution_count": 80,
   "id": "2a7775b7",
   "metadata": {},
   "outputs": [
    {
     "data": {
      "image/png": "[encoded data removed]",
      "text/plain": [
       "<Figure size 1008x720 with 1 Axes>"
      ]
     },
     "metadata": {},
     "output_type": "display_data"
    }
   ],
   "source": [
    "models = modelObj\n",
    "model_names=['Logistic Reg', 'LDA', 'QDA', 'DecisionTree','Hype_DecisionTree', 'RandomForest', 'Hype_RandomForest', 'BaggingClassifier', 'Hype_BaggingClassifier']\n",
    "train_accs,test_accs=[],[]\n",
    "for model in models:\n",
    "    train_acc = accuracy_score(model.predict(data[0]), data[2])\n",
    "    train_accs.append(train_acc)\n",
    "    test_acc = accuracy_score(model.predict(data[1]), data[3])\n",
    "    test_accs.append(test_acc)\n",
    "acc_plot(train_accs,test_accs,model_names)"
   ]
  },
  {
   "cell_type": "markdown",
   "id": "5709fdad",
   "metadata": {
    "id": "5709fdad"
   },
   "source": [
    "# Conclusion : \n",
    "\n",
    "#### In the above cell we have kept the extensive performance analysis for different classification algorithm.\n",
    "\n",
    "##### 1. We have seen that Linear Discriminant & Quadratic Discriminant analyzer perform slightly better on the given dataset compared to logistic regression.\n",
    "\n",
    "##### 2. For decision tree classifier, when we have used untuned model to train and test data, we have received high accuracy in train set but comparatively poor result in test data, but after performing hyper parameter tuning on the model, train accuracy reduce but on the other hand model start performing better than previous in test data.\n",
    "\n",
    "##### 3. For Random foreset classifier both tuned and untuned model perform very well in train data, on the other hand, in test dataset,  though the performance is not that well compared to train data,  but they are performing decently. More importantly looking at the accuracy score we can see that in random forest hypertuned model perform much better than decision tree classifier due to use of parallel ensemble. Alongside that in test datasaet hyperparameter tuned model perform better than normal model.\n",
    "\n",
    "##### 4. For Bagging classifier also both tuned and untuned model perform almost perfectly in traing data, on the other hand in test dataset though the performance is not that well compared to train data but the performaning decently. Bagging classifier also perform better than normal decision tree due to bagging process under parallel ensemble.Alongside that in test datasaet hyperparameter tuned model perform better than normal model.\n",
    "\n",
    "##### 5. Comparing all the model we have used and tuned on test dataset LDA and QDA perform best followed by Random Forest model."
   ]
  },
  {
   "cell_type": "code",
   "execution_count": null,
   "id": "277f0d81",
   "metadata": {},
   "outputs": [],
   "source": []
  }
 ],
 "metadata": {
  "colab": {
   "provenance": []
  },
  "kernelspec": {
   "display_name": "Python 3 (ipykernel)",
   "language": "python",
   "name": "python3"
  },
  "language_info": {
   "codemirror_mode": {
    "name": "ipython",
    "version": 3
   },
   "file_extension": ".py",
   "mimetype": "text/x-python",
   "name": "python",
   "nbconvert_exporter": "python",
   "pygments_lexer": "ipython3",
   "version": "3.9.12"
  }
 },
 "nbformat": 4,
 "nbformat_minor": 5
}
