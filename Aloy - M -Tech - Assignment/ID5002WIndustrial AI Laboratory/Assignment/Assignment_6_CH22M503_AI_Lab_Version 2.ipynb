{
 "cells": [
  {
   "cell_type": "markdown",
   "id": "145bb9e1",
   "metadata": {
    "id": "145bb9e1"
   },
   "source": [
    "### AI Lab -  Assignment 6 - CH22M503"
   ]
  },
  {
   "cell_type": "markdown",
   "id": "77436cdd",
   "metadata": {
    "id": "77436cdd"
   },
   "source": [
    "#### Author - Aloy Banerjee\n",
    "###### Roll No. CH22M503"
   ]
  },
  {
   "cell_type": "markdown",
   "id": "c8d9e9de",
   "metadata": {
    "id": "c8d9e9de"
   },
   "source": [
    "## Question:\n",
    "###### Use the dataset provided for classification in assignment IV.\n",
    "###### (a) Build and train Support Vector Machine (SVM) classifiers for the given task of classification.Train two models, one with the ‘polynomial’ kernel and the other one with ‘rbf’ kernel. For the polynomial kernel, the choice of degree has to come from hyper-parameter optimization. Compare the model’s performance on the basis of accuracy and ROC-AUC metrics\n",
    "###### (b) Train a neural network model for the same task of classification. Report its performance\n",
    "###### (c) (Optional) Train the above-mentioned neural network model with comparatively less overfitting.(Hint: Use drop-out layers (or) early call back)"
   ]
  },
  {
   "cell_type": "markdown",
   "id": "746711c8",
   "metadata": {
    "id": "746711c8"
   },
   "source": [
    "#### Reference "
   ]
  },
  {
   "cell_type": "code",
   "execution_count": 1,
   "id": "94bf0ca2",
   "metadata": {
    "id": "94bf0ca2"
   },
   "outputs": [],
   "source": [
    "#https://scikit-learn.org/stable/modules/generated/sklearn.metrics.roc_auc_score.html"
   ]
  },
  {
   "cell_type": "markdown",
   "id": "61bcb579",
   "metadata": {
    "id": "61bcb579"
   },
   "source": [
    "#### Importing Library"
   ]
  },
  {
   "cell_type": "code",
   "execution_count": 154,
   "id": "547e69c2",
   "metadata": {
    "executionInfo": {
     "elapsed": 906,
     "status": "ok",
     "timestamp": 1679859393502,
     "user": {
      "displayName": "MTech IITM",
      "userId": "11434530727453000419"
     },
     "user_tz": -330
    },
    "id": "547e69c2"
   },
   "outputs": [],
   "source": [
    "#Import library \n",
    "import numpy as np \n",
    "import pandas as pd\n",
    "import matplotlib.pyplot as plt\n",
    "import seaborn as sns\n",
    "import os\n",
    "import math\n",
    "from sklearn.model_selection import train_test_split,GridSearchCV\n",
    "from sklearn.linear_model import LogisticRegression\n",
    "import statsmodels.api as sm\n",
    "from sklearn.metrics import classification_report,confusion_matrix,roc_curve,auc,RocCurveDisplay,accuracy_score,make_scorer,roc_auc_score\n",
    "from sklearn.preprocessing import StandardScaler\n",
    "from sklearn.svm import SVC\n",
    "from sklearn.neural_network import MLPClassifier\n",
    "import torch\n",
    "import torch.nn as nn\n",
    "import torch.optim as optim\n",
    "from torch.utils.data import Dataset, DataLoader\n",
    "sns.set(context=\"notebook\", palette=\"viridis\", style=\"darkgrid\", font_scale=1.0, color_codes=True,rc={'figure.figsize':(14,10)})"
   ]
  },
  {
   "cell_type": "markdown",
   "id": "67c45315",
   "metadata": {
    "id": "67c45315"
   },
   "source": [
    "#### Common variable declaration"
   ]
  },
  {
   "cell_type": "code",
   "execution_count": 155,
   "id": "f261ab9a",
   "metadata": {
    "executionInfo": {
     "elapsed": 11,
     "status": "ok",
     "timestamp": 1679859393504,
     "user": {
      "displayName": "MTech IITM",
      "userId": "11434530727453000419"
     },
     "user_tz": -330
    },
    "id": "f261ab9a"
   },
   "outputs": [],
   "source": [
    "workingDir = 'E:\\\\Document\\\\M-Tech\\\\M-Tech Class\\\\2nd Trimester\\\\Assignment\\\\AI Lab\\\\Assignment 6'\n",
    "#workingDir = '/content/sample_data/'\n",
    "dataset_fileName = 'ch22m50 (3).csv'\n",
    "modelObj = []\n",
    "seed = 42\n",
    "testorvalidation_size = 0.2\n",
    "cross_validation = 5\n",
    "maximum_iteration = 500\n",
    "epochs = 1000\n",
    "round_precesion = 2\n",
    "degrees = np.arange(1,5,1)\n",
    "C_value = [0.001, 0.01, 0.1, 1, 10]\n",
    "gamma = [1, 0.1, 0.01, 0.001, 0.0001]\n",
    "round_precesion = 2\n",
    "param_grid = {\n",
    "    'C': C_value,\n",
    "    'degree': degrees, \n",
    "    'gamma' : gamma\n",
    "}"
   ]
  },
  {
   "cell_type": "markdown",
   "id": "de7950b0",
   "metadata": {
    "id": "de7950b0"
   },
   "source": [
    "#### Common function"
   ]
  },
  {
   "cell_type": "code",
   "execution_count": 156,
   "id": "e79eb2c0",
   "metadata": {
    "executionInfo": {
     "elapsed": 11,
     "status": "ok",
     "timestamp": 1679859393505,
     "user": {
      "displayName": "MTech IITM",
      "userId": "11434530727453000419"
     },
     "user_tz": -330
    },
    "id": "e79eb2c0"
   },
   "outputs": [],
   "source": [
    "def data_load(input_x, output_y):\n",
    "    X_train_val, X_test, y_train_val, y_test = train_test_split(input_x, output_y, test_size=testorvalidation_size, random_state=seed)\n",
    "    X_train, X_val, y_train, y_val = train_test_split(X_train_val, y_train_val, test_size=testorvalidation_size, random_state=seed)\n",
    "    return X_train, X_val, X_test, y_train, y_val, y_test\n",
    "def one_hot_encode_labels(Y):\n",
    "    return np.eye(4)[Y]\n",
    "def flatten_array(Y):\n",
    "    return Y.reshape((len(Y), np.prod(Y.shape[1:])))\n",
    "def get_classification_metrics(actual_labels, predicted_labels):\n",
    "    unique_labels = np.sort(np.unique(actual_labels))\n",
    "    actual_labels_np = actual_labels.numpy()\n",
    "    predicted_labels_np = predicted_labels.numpy()\n",
    "    confusion_matrix = np.zeros((len(unique_labels), len(unique_labels)))\n",
    "    classification_report = np.zeros((len(unique_labels), 5))    \n",
    "    # Calculate confusion matrix\n",
    "    for i in range(len(unique_labels)):\n",
    "        for j in range(len(unique_labels)):\n",
    "            confusion_matrix[i, j] = np.sum((actual_labels_np == unique_labels[i]) & (predicted_labels_np == unique_labels[j]))            \n",
    "    # Calculate category accuracy\n",
    "    category_accuracy = confusion_matrix.diagonal() / confusion_matrix.sum(axis=1)    \n",
    "    weighted_acc = 0\n",
    "    # Calculate metrics for each category\n",
    "    for j in range(len(unique_labels)):        \n",
    "        actual_label, predicted_label = (actual_labels_np == unique_labels[j]), (predicted_labels_np == unique_labels[j])\n",
    "        true_positives, false_positives, false_negatives = np.sum(actual_label & predicted_label), np.sum(~actual_label & predicted_label), np.sum(actual_label & ~predicted_label)\n",
    "        count = np.sum(actual_labels_np == unique_labels[j])\n",
    "        precision = true_positives / (true_positives + false_positives)\n",
    "        recall = true_positives / (true_positives + false_negatives)\n",
    "        f1_score = 2 * (precision * recall) / (precision + recall) \n",
    "        classification_report[j, :] = np.round([precision, recall, f1_score, category_accuracy[j], count], round_precesion)\n",
    "        weighted_acc += (f1_score * count)        \n",
    "    weighted_acc = weighted_acc / len(actual_labels)    \n",
    "    return weighted_acc, classification_report"
   ]
  },
  {
   "cell_type": "markdown",
   "id": "9dc41009",
   "metadata": {
    "id": "9dc41009"
   },
   "source": [
    "##### Loading Dataset"
   ]
  },
  {
   "cell_type": "code",
   "execution_count": 157,
   "id": "58cf84fd",
   "metadata": {
    "executionInfo": {
     "elapsed": 11,
     "status": "ok",
     "timestamp": 1679859393506,
     "user": {
      "displayName": "MTech IITM",
      "userId": "11434530727453000419"
     },
     "user_tz": -330
    },
    "id": "58cf84fd"
   },
   "outputs": [],
   "source": [
    "#Change the working directory \n",
    "os.chdir(workingDir)\n",
    "#Load the data\n",
    "dataset = pd.read_csv(dataset_fileName)"
   ]
  },
  {
   "cell_type": "markdown",
   "id": "fd7a1d85",
   "metadata": {
    "id": "fd7a1d85"
   },
   "source": [
    "##### Display info of dataset"
   ]
  },
  {
   "cell_type": "code",
   "execution_count": 158,
   "id": "350f39ad",
   "metadata": {
    "colab": {
     "base_uri": "https://localhost:8080/",
     "height": 677
    },
    "executionInfo": {
     "elapsed": 25,
     "status": "ok",
     "timestamp": 1679859394389,
     "user": {
      "displayName": "MTech IITM",
      "userId": "11434530727453000419"
     },
     "user_tz": -330
    },
    "id": "350f39ad",
    "outputId": "9ad9d2a6-6136-424b-ddbf-acc67574ddda"
   },
   "outputs": [
    {
     "name": "stdout",
     "output_type": "stream",
     "text": [
      "<class 'pandas.core.frame.DataFrame'>\n",
      "RangeIndex: 512 entries, 0 to 511\n",
      "Data columns (total 30 columns):\n",
      " #   Column  Non-Null Count  Dtype  \n",
      "---  ------  --------------  -----  \n",
      " 0   x_0     512 non-null    float64\n",
      " 1   x_1     512 non-null    float64\n",
      " 2   x_2     512 non-null    float64\n",
      " 3   x_3     512 non-null    float64\n",
      " 4   x_4     512 non-null    float64\n",
      " 5   x_5     512 non-null    float64\n",
      " 6   x_6     512 non-null    float64\n",
      " 7   x_7     512 non-null    float64\n",
      " 8   x_8     512 non-null    float64\n",
      " 9   x_9     512 non-null    float64\n",
      " 10  x_10    512 non-null    float64\n",
      " 11  x_11    512 non-null    float64\n",
      " 12  x_12    512 non-null    float64\n",
      " 13  x_13    512 non-null    float64\n",
      " 14  x_14    512 non-null    float64\n",
      " 15  x_15    512 non-null    float64\n",
      " 16  x_16    512 non-null    float64\n",
      " 17  x_17    512 non-null    float64\n",
      " 18  x_18    512 non-null    float64\n",
      " 19  x_19    512 non-null    float64\n",
      " 20  x_20    512 non-null    float64\n",
      " 21  x_21    512 non-null    float64\n",
      " 22  x_22    512 non-null    float64\n",
      " 23  x_23    512 non-null    float64\n",
      " 24  x_24    512 non-null    float64\n",
      " 25  x_25    512 non-null    float64\n",
      " 26  x_26    512 non-null    float64\n",
      " 27  x_27    512 non-null    float64\n",
      " 28  x_28    512 non-null    float64\n",
      " 29  y       512 non-null    int64  \n",
      "dtypes: float64(29), int64(1)\n",
      "memory usage: 120.1 KB\n"
     ]
    },
    {
     "data": {
      "text/plain": [
       "None"
      ]
     },
     "metadata": {},
     "output_type": "display_data"
    }
   ],
   "source": [
    "display(dataset.info())"
   ]
  },
  {
   "cell_type": "markdown",
   "id": "3c457a40",
   "metadata": {
    "id": "3c457a40"
   },
   "source": [
    "##### Display statistical information of each column of dataset "
   ]
  },
  {
   "cell_type": "code",
   "execution_count": 159,
   "id": "5cd5c022",
   "metadata": {
    "colab": {
     "base_uri": "https://localhost:8080/",
     "height": 394
    },
    "executionInfo": {
     "elapsed": 10,
     "status": "ok",
     "timestamp": 1679859395271,
     "user": {
      "displayName": "MTech IITM",
      "userId": "11434530727453000419"
     },
     "user_tz": -330
    },
    "id": "5cd5c022",
    "outputId": "1e9aed37-b682-4f58-88a4-92f1bf76a644"
   },
   "outputs": [
    {
     "data": {
      "text/html": [
       "<div>\n",
       "<style scoped>\n",
       "    .dataframe tbody tr th:only-of-type {\n",
       "        vertical-align: middle;\n",
       "    }\n",
       "\n",
       "    .dataframe tbody tr th {\n",
       "        vertical-align: top;\n",
       "    }\n",
       "\n",
       "    .dataframe thead th {\n",
       "        text-align: right;\n",
       "    }\n",
       "</style>\n",
       "<table border=\"1\" class=\"dataframe\">\n",
       "  <thead>\n",
       "    <tr style=\"text-align: right;\">\n",
       "      <th></th>\n",
       "      <th>x_0</th>\n",
       "      <th>x_1</th>\n",
       "      <th>x_2</th>\n",
       "      <th>x_3</th>\n",
       "      <th>x_4</th>\n",
       "      <th>x_5</th>\n",
       "      <th>x_6</th>\n",
       "      <th>x_7</th>\n",
       "      <th>x_8</th>\n",
       "      <th>x_9</th>\n",
       "      <th>...</th>\n",
       "      <th>x_20</th>\n",
       "      <th>x_21</th>\n",
       "      <th>x_22</th>\n",
       "      <th>x_23</th>\n",
       "      <th>x_24</th>\n",
       "      <th>x_25</th>\n",
       "      <th>x_26</th>\n",
       "      <th>x_27</th>\n",
       "      <th>x_28</th>\n",
       "      <th>y</th>\n",
       "    </tr>\n",
       "  </thead>\n",
       "  <tbody>\n",
       "    <tr>\n",
       "      <th>count</th>\n",
       "      <td>512.000000</td>\n",
       "      <td>512.000000</td>\n",
       "      <td>512.000000</td>\n",
       "      <td>512.000000</td>\n",
       "      <td>512.000000</td>\n",
       "      <td>512.000000</td>\n",
       "      <td>512.000000</td>\n",
       "      <td>512.000000</td>\n",
       "      <td>512.000000</td>\n",
       "      <td>512.000000</td>\n",
       "      <td>...</td>\n",
       "      <td>512.000000</td>\n",
       "      <td>512.000000</td>\n",
       "      <td>512.000000</td>\n",
       "      <td>512.000000</td>\n",
       "      <td>512.000000</td>\n",
       "      <td>512.000000</td>\n",
       "      <td>512.000000</td>\n",
       "      <td>512.000000</td>\n",
       "      <td>512.000000</td>\n",
       "      <td>512.000000</td>\n",
       "    </tr>\n",
       "    <tr>\n",
       "      <th>mean</th>\n",
       "      <td>2.439131</td>\n",
       "      <td>37.565795</td>\n",
       "      <td>-2.129354</td>\n",
       "      <td>-42.896385</td>\n",
       "      <td>-19.541749</td>\n",
       "      <td>0.774351</td>\n",
       "      <td>-3.318514</td>\n",
       "      <td>1.234039</td>\n",
       "      <td>-37.084747</td>\n",
       "      <td>44.457026</td>\n",
       "      <td>...</td>\n",
       "      <td>3.954715</td>\n",
       "      <td>7.062185</td>\n",
       "      <td>-1.984638</td>\n",
       "      <td>-0.041593</td>\n",
       "      <td>45.802623</td>\n",
       "      <td>-6.156434</td>\n",
       "      <td>20.336928</td>\n",
       "      <td>7.686032</td>\n",
       "      <td>46.116476</td>\n",
       "      <td>1.396484</td>\n",
       "    </tr>\n",
       "    <tr>\n",
       "      <th>std</th>\n",
       "      <td>79.668269</td>\n",
       "      <td>149.000493</td>\n",
       "      <td>70.127878</td>\n",
       "      <td>270.463154</td>\n",
       "      <td>169.129888</td>\n",
       "      <td>5.008753</td>\n",
       "      <td>82.998787</td>\n",
       "      <td>32.479082</td>\n",
       "      <td>165.128140</td>\n",
       "      <td>147.647250</td>\n",
       "      <td>...</td>\n",
       "      <td>136.591423</td>\n",
       "      <td>94.580884</td>\n",
       "      <td>35.141745</td>\n",
       "      <td>8.054942</td>\n",
       "      <td>210.354097</td>\n",
       "      <td>44.965474</td>\n",
       "      <td>185.172480</td>\n",
       "      <td>33.899699</td>\n",
       "      <td>222.968262</td>\n",
       "      <td>0.869705</td>\n",
       "    </tr>\n",
       "    <tr>\n",
       "      <th>min</th>\n",
       "      <td>-218.014426</td>\n",
       "      <td>-420.663489</td>\n",
       "      <td>-200.408297</td>\n",
       "      <td>-805.895235</td>\n",
       "      <td>-487.537653</td>\n",
       "      <td>-13.031117</td>\n",
       "      <td>-211.774697</td>\n",
       "      <td>-104.569640</td>\n",
       "      <td>-567.697872</td>\n",
       "      <td>-370.866192</td>\n",
       "      <td>...</td>\n",
       "      <td>-387.207794</td>\n",
       "      <td>-251.840570</td>\n",
       "      <td>-146.937805</td>\n",
       "      <td>-22.463712</td>\n",
       "      <td>-568.799810</td>\n",
       "      <td>-129.243517</td>\n",
       "      <td>-593.246183</td>\n",
       "      <td>-101.722870</td>\n",
       "      <td>-545.635486</td>\n",
       "      <td>0.000000</td>\n",
       "    </tr>\n",
       "    <tr>\n",
       "      <th>25%</th>\n",
       "      <td>-49.223112</td>\n",
       "      <td>-61.024707</td>\n",
       "      <td>-46.175353</td>\n",
       "      <td>-209.804499</td>\n",
       "      <td>-132.511157</td>\n",
       "      <td>-2.415076</td>\n",
       "      <td>-64.127241</td>\n",
       "      <td>-20.197596</td>\n",
       "      <td>-149.740462</td>\n",
       "      <td>-53.430691</td>\n",
       "      <td>...</td>\n",
       "      <td>-87.250875</td>\n",
       "      <td>-56.243393</td>\n",
       "      <td>-25.552702</td>\n",
       "      <td>-5.949824</td>\n",
       "      <td>-89.267524</td>\n",
       "      <td>-36.253059</td>\n",
       "      <td>-99.238991</td>\n",
       "      <td>-17.600614</td>\n",
       "      <td>-116.271767</td>\n",
       "      <td>1.000000</td>\n",
       "    </tr>\n",
       "    <tr>\n",
       "      <th>50%</th>\n",
       "      <td>12.155885</td>\n",
       "      <td>41.328052</td>\n",
       "      <td>-2.193064</td>\n",
       "      <td>-39.650751</td>\n",
       "      <td>-15.800571</td>\n",
       "      <td>0.672129</td>\n",
       "      <td>-9.072157</td>\n",
       "      <td>0.849871</td>\n",
       "      <td>-35.757947</td>\n",
       "      <td>41.890772</td>\n",
       "      <td>...</td>\n",
       "      <td>10.971585</td>\n",
       "      <td>3.737968</td>\n",
       "      <td>-3.289748</td>\n",
       "      <td>0.288603</td>\n",
       "      <td>55.123325</td>\n",
       "      <td>-7.736827</td>\n",
       "      <td>17.342673</td>\n",
       "      <td>8.372459</td>\n",
       "      <td>30.868008</td>\n",
       "      <td>1.000000</td>\n",
       "    </tr>\n",
       "    <tr>\n",
       "      <th>75%</th>\n",
       "      <td>60.213974</td>\n",
       "      <td>141.277355</td>\n",
       "      <td>46.198129</td>\n",
       "      <td>141.936365</td>\n",
       "      <td>96.539653</td>\n",
       "      <td>4.211238</td>\n",
       "      <td>50.150721</td>\n",
       "      <td>23.711935</td>\n",
       "      <td>75.528969</td>\n",
       "      <td>143.915499</td>\n",
       "      <td>...</td>\n",
       "      <td>87.445776</td>\n",
       "      <td>69.919878</td>\n",
       "      <td>21.889408</td>\n",
       "      <td>5.714857</td>\n",
       "      <td>190.281398</td>\n",
       "      <td>23.727257</td>\n",
       "      <td>144.533145</td>\n",
       "      <td>30.951389</td>\n",
       "      <td>204.465337</td>\n",
       "      <td>2.000000</td>\n",
       "    </tr>\n",
       "    <tr>\n",
       "      <th>max</th>\n",
       "      <td>199.703493</td>\n",
       "      <td>484.171709</td>\n",
       "      <td>211.004193</td>\n",
       "      <td>720.820175</td>\n",
       "      <td>441.163606</td>\n",
       "      <td>16.231479</td>\n",
       "      <td>253.060961</td>\n",
       "      <td>122.069373</td>\n",
       "      <td>478.614180</td>\n",
       "      <td>552.311766</td>\n",
       "      <td>...</td>\n",
       "      <td>461.229792</td>\n",
       "      <td>320.096620</td>\n",
       "      <td>106.122619</td>\n",
       "      <td>22.005079</td>\n",
       "      <td>675.198210</td>\n",
       "      <td>142.665835</td>\n",
       "      <td>613.995137</td>\n",
       "      <td>139.990511</td>\n",
       "      <td>766.813592</td>\n",
       "      <td>3.000000</td>\n",
       "    </tr>\n",
       "  </tbody>\n",
       "</table>\n",
       "<p>8 rows × 30 columns</p>\n",
       "</div>"
      ],
      "text/plain": [
       "              x_0         x_1         x_2         x_3         x_4         x_5  \\\n",
       "count  512.000000  512.000000  512.000000  512.000000  512.000000  512.000000   \n",
       "mean     2.439131   37.565795   -2.129354  -42.896385  -19.541749    0.774351   \n",
       "std     79.668269  149.000493   70.127878  270.463154  169.129888    5.008753   \n",
       "min   -218.014426 -420.663489 -200.408297 -805.895235 -487.537653  -13.031117   \n",
       "25%    -49.223112  -61.024707  -46.175353 -209.804499 -132.511157   -2.415076   \n",
       "50%     12.155885   41.328052   -2.193064  -39.650751  -15.800571    0.672129   \n",
       "75%     60.213974  141.277355   46.198129  141.936365   96.539653    4.211238   \n",
       "max    199.703493  484.171709  211.004193  720.820175  441.163606   16.231479   \n",
       "\n",
       "              x_6         x_7         x_8         x_9  ...        x_20  \\\n",
       "count  512.000000  512.000000  512.000000  512.000000  ...  512.000000   \n",
       "mean    -3.318514    1.234039  -37.084747   44.457026  ...    3.954715   \n",
       "std     82.998787   32.479082  165.128140  147.647250  ...  136.591423   \n",
       "min   -211.774697 -104.569640 -567.697872 -370.866192  ... -387.207794   \n",
       "25%    -64.127241  -20.197596 -149.740462  -53.430691  ...  -87.250875   \n",
       "50%     -9.072157    0.849871  -35.757947   41.890772  ...   10.971585   \n",
       "75%     50.150721   23.711935   75.528969  143.915499  ...   87.445776   \n",
       "max    253.060961  122.069373  478.614180  552.311766  ...  461.229792   \n",
       "\n",
       "             x_21        x_22        x_23        x_24        x_25        x_26  \\\n",
       "count  512.000000  512.000000  512.000000  512.000000  512.000000  512.000000   \n",
       "mean     7.062185   -1.984638   -0.041593   45.802623   -6.156434   20.336928   \n",
       "std     94.580884   35.141745    8.054942  210.354097   44.965474  185.172480   \n",
       "min   -251.840570 -146.937805  -22.463712 -568.799810 -129.243517 -593.246183   \n",
       "25%    -56.243393  -25.552702   -5.949824  -89.267524  -36.253059  -99.238991   \n",
       "50%      3.737968   -3.289748    0.288603   55.123325   -7.736827   17.342673   \n",
       "75%     69.919878   21.889408    5.714857  190.281398   23.727257  144.533145   \n",
       "max    320.096620  106.122619   22.005079  675.198210  142.665835  613.995137   \n",
       "\n",
       "             x_27        x_28           y  \n",
       "count  512.000000  512.000000  512.000000  \n",
       "mean     7.686032   46.116476    1.396484  \n",
       "std     33.899699  222.968262    0.869705  \n",
       "min   -101.722870 -545.635486    0.000000  \n",
       "25%    -17.600614 -116.271767    1.000000  \n",
       "50%      8.372459   30.868008    1.000000  \n",
       "75%     30.951389  204.465337    2.000000  \n",
       "max    139.990511  766.813592    3.000000  \n",
       "\n",
       "[8 rows x 30 columns]"
      ]
     },
     "metadata": {},
     "output_type": "display_data"
    }
   ],
   "source": [
    "display(dataset.describe())"
   ]
  },
  {
   "cell_type": "markdown",
   "id": "e5b9ee00",
   "metadata": {
    "id": "e5b9ee00"
   },
   "source": [
    "##### Display the given dataset "
   ]
  },
  {
   "cell_type": "code",
   "execution_count": 160,
   "id": "5df76f12",
   "metadata": {
    "colab": {
     "base_uri": "https://localhost:8080/",
     "height": 488
    },
    "executionInfo": {
     "elapsed": 23,
     "status": "ok",
     "timestamp": 1679859397863,
     "user": {
      "displayName": "MTech IITM",
      "userId": "11434530727453000419"
     },
     "user_tz": -330
    },
    "id": "5df76f12",
    "outputId": "df49ed7f-58e3-4530-aee5-ed96d14bb889"
   },
   "outputs": [
    {
     "data": {
      "text/html": [
       "<div>\n",
       "<style scoped>\n",
       "    .dataframe tbody tr th:only-of-type {\n",
       "        vertical-align: middle;\n",
       "    }\n",
       "\n",
       "    .dataframe tbody tr th {\n",
       "        vertical-align: top;\n",
       "    }\n",
       "\n",
       "    .dataframe thead th {\n",
       "        text-align: right;\n",
       "    }\n",
       "</style>\n",
       "<table border=\"1\" class=\"dataframe\">\n",
       "  <thead>\n",
       "    <tr style=\"text-align: right;\">\n",
       "      <th></th>\n",
       "      <th>x_0</th>\n",
       "      <th>x_1</th>\n",
       "      <th>x_2</th>\n",
       "      <th>x_3</th>\n",
       "      <th>x_4</th>\n",
       "      <th>x_5</th>\n",
       "      <th>x_6</th>\n",
       "      <th>x_7</th>\n",
       "      <th>x_8</th>\n",
       "      <th>x_9</th>\n",
       "      <th>...</th>\n",
       "      <th>x_20</th>\n",
       "      <th>x_21</th>\n",
       "      <th>x_22</th>\n",
       "      <th>x_23</th>\n",
       "      <th>x_24</th>\n",
       "      <th>x_25</th>\n",
       "      <th>x_26</th>\n",
       "      <th>x_27</th>\n",
       "      <th>x_28</th>\n",
       "      <th>y</th>\n",
       "    </tr>\n",
       "  </thead>\n",
       "  <tbody>\n",
       "    <tr>\n",
       "      <th>0</th>\n",
       "      <td>16.920655</td>\n",
       "      <td>-42.645832</td>\n",
       "      <td>120.989582</td>\n",
       "      <td>204.158654</td>\n",
       "      <td>146.482712</td>\n",
       "      <td>10.931416</td>\n",
       "      <td>-148.843296</td>\n",
       "      <td>27.660603</td>\n",
       "      <td>-84.502239</td>\n",
       "      <td>12.294844</td>\n",
       "      <td>...</td>\n",
       "      <td>-62.325705</td>\n",
       "      <td>38.713472</td>\n",
       "      <td>-35.038464</td>\n",
       "      <td>-9.714632</td>\n",
       "      <td>36.987391</td>\n",
       "      <td>8.891164</td>\n",
       "      <td>-434.626733</td>\n",
       "      <td>42.773671</td>\n",
       "      <td>217.002701</td>\n",
       "      <td>3</td>\n",
       "    </tr>\n",
       "    <tr>\n",
       "      <th>1</th>\n",
       "      <td>33.112697</td>\n",
       "      <td>141.934286</td>\n",
       "      <td>-42.908480</td>\n",
       "      <td>272.840275</td>\n",
       "      <td>3.240221</td>\n",
       "      <td>2.900615</td>\n",
       "      <td>83.384757</td>\n",
       "      <td>38.419407</td>\n",
       "      <td>5.996595</td>\n",
       "      <td>-74.794468</td>\n",
       "      <td>...</td>\n",
       "      <td>-63.303622</td>\n",
       "      <td>69.658188</td>\n",
       "      <td>50.411234</td>\n",
       "      <td>-14.496756</td>\n",
       "      <td>62.013898</td>\n",
       "      <td>23.602845</td>\n",
       "      <td>-56.753575</td>\n",
       "      <td>55.810014</td>\n",
       "      <td>132.221649</td>\n",
       "      <td>1</td>\n",
       "    </tr>\n",
       "    <tr>\n",
       "      <th>2</th>\n",
       "      <td>-0.719035</td>\n",
       "      <td>162.356669</td>\n",
       "      <td>-25.289948</td>\n",
       "      <td>-38.063813</td>\n",
       "      <td>-45.747704</td>\n",
       "      <td>-1.768817</td>\n",
       "      <td>-34.906378</td>\n",
       "      <td>19.047969</td>\n",
       "      <td>-122.525011</td>\n",
       "      <td>37.495460</td>\n",
       "      <td>...</td>\n",
       "      <td>19.455654</td>\n",
       "      <td>99.033783</td>\n",
       "      <td>-14.787519</td>\n",
       "      <td>-2.837963</td>\n",
       "      <td>80.574733</td>\n",
       "      <td>37.568538</td>\n",
       "      <td>-55.843178</td>\n",
       "      <td>24.805701</td>\n",
       "      <td>-66.399042</td>\n",
       "      <td>1</td>\n",
       "    </tr>\n",
       "    <tr>\n",
       "      <th>3</th>\n",
       "      <td>41.114839</td>\n",
       "      <td>32.865930</td>\n",
       "      <td>3.375600</td>\n",
       "      <td>248.982501</td>\n",
       "      <td>145.736013</td>\n",
       "      <td>0.144523</td>\n",
       "      <td>-100.467590</td>\n",
       "      <td>-14.692076</td>\n",
       "      <td>-224.750326</td>\n",
       "      <td>5.088222</td>\n",
       "      <td>...</td>\n",
       "      <td>28.051349</td>\n",
       "      <td>-69.535135</td>\n",
       "      <td>6.634928</td>\n",
       "      <td>-0.086851</td>\n",
       "      <td>243.915623</td>\n",
       "      <td>-42.572195</td>\n",
       "      <td>349.780139</td>\n",
       "      <td>22.955581</td>\n",
       "      <td>115.350261</td>\n",
       "      <td>2</td>\n",
       "    </tr>\n",
       "    <tr>\n",
       "      <th>4</th>\n",
       "      <td>-98.954896</td>\n",
       "      <td>100.334688</td>\n",
       "      <td>22.108893</td>\n",
       "      <td>-509.285564</td>\n",
       "      <td>77.418419</td>\n",
       "      <td>-2.567594</td>\n",
       "      <td>27.837708</td>\n",
       "      <td>41.203306</td>\n",
       "      <td>195.284077</td>\n",
       "      <td>-47.101180</td>\n",
       "      <td>...</td>\n",
       "      <td>103.337332</td>\n",
       "      <td>100.588271</td>\n",
       "      <td>-40.951918</td>\n",
       "      <td>3.262511</td>\n",
       "      <td>174.265657</td>\n",
       "      <td>38.307570</td>\n",
       "      <td>-363.908029</td>\n",
       "      <td>52.254404</td>\n",
       "      <td>362.320497</td>\n",
       "      <td>1</td>\n",
       "    </tr>\n",
       "    <tr>\n",
       "      <th>...</th>\n",
       "      <td>...</td>\n",
       "      <td>...</td>\n",
       "      <td>...</td>\n",
       "      <td>...</td>\n",
       "      <td>...</td>\n",
       "      <td>...</td>\n",
       "      <td>...</td>\n",
       "      <td>...</td>\n",
       "      <td>...</td>\n",
       "      <td>...</td>\n",
       "      <td>...</td>\n",
       "      <td>...</td>\n",
       "      <td>...</td>\n",
       "      <td>...</td>\n",
       "      <td>...</td>\n",
       "      <td>...</td>\n",
       "      <td>...</td>\n",
       "      <td>...</td>\n",
       "      <td>...</td>\n",
       "      <td>...</td>\n",
       "      <td>...</td>\n",
       "    </tr>\n",
       "    <tr>\n",
       "      <th>507</th>\n",
       "      <td>-198.199135</td>\n",
       "      <td>-78.961783</td>\n",
       "      <td>101.635923</td>\n",
       "      <td>87.151381</td>\n",
       "      <td>85.924719</td>\n",
       "      <td>2.857203</td>\n",
       "      <td>-114.279865</td>\n",
       "      <td>122.069373</td>\n",
       "      <td>134.942756</td>\n",
       "      <td>36.458869</td>\n",
       "      <td>...</td>\n",
       "      <td>173.351132</td>\n",
       "      <td>-66.298207</td>\n",
       "      <td>-48.326594</td>\n",
       "      <td>-11.743241</td>\n",
       "      <td>158.089972</td>\n",
       "      <td>-41.033300</td>\n",
       "      <td>24.813333</td>\n",
       "      <td>87.438227</td>\n",
       "      <td>766.813592</td>\n",
       "      <td>2</td>\n",
       "    </tr>\n",
       "    <tr>\n",
       "      <th>508</th>\n",
       "      <td>109.290428</td>\n",
       "      <td>191.480509</td>\n",
       "      <td>12.303618</td>\n",
       "      <td>-305.932511</td>\n",
       "      <td>-40.519626</td>\n",
       "      <td>-3.313111</td>\n",
       "      <td>-69.436370</td>\n",
       "      <td>21.865336</td>\n",
       "      <td>-53.042458</td>\n",
       "      <td>69.572077</td>\n",
       "      <td>...</td>\n",
       "      <td>39.230760</td>\n",
       "      <td>-63.706061</td>\n",
       "      <td>-37.408941</td>\n",
       "      <td>7.334285</td>\n",
       "      <td>6.379320</td>\n",
       "      <td>-39.800946</td>\n",
       "      <td>-313.897782</td>\n",
       "      <td>-21.168608</td>\n",
       "      <td>-248.854618</td>\n",
       "      <td>3</td>\n",
       "    </tr>\n",
       "    <tr>\n",
       "      <th>509</th>\n",
       "      <td>-19.049404</td>\n",
       "      <td>9.356148</td>\n",
       "      <td>34.453434</td>\n",
       "      <td>100.074962</td>\n",
       "      <td>-239.541858</td>\n",
       "      <td>-0.075924</td>\n",
       "      <td>-28.929118</td>\n",
       "      <td>-9.993400</td>\n",
       "      <td>111.402361</td>\n",
       "      <td>-159.851843</td>\n",
       "      <td>...</td>\n",
       "      <td>106.780895</td>\n",
       "      <td>-174.278694</td>\n",
       "      <td>24.498491</td>\n",
       "      <td>0.962552</td>\n",
       "      <td>16.108659</td>\n",
       "      <td>-92.369189</td>\n",
       "      <td>-7.323660</td>\n",
       "      <td>-51.172846</td>\n",
       "      <td>412.148554</td>\n",
       "      <td>1</td>\n",
       "    </tr>\n",
       "    <tr>\n",
       "      <th>510</th>\n",
       "      <td>33.054867</td>\n",
       "      <td>-122.689085</td>\n",
       "      <td>-23.861270</td>\n",
       "      <td>417.833334</td>\n",
       "      <td>-26.519607</td>\n",
       "      <td>-3.545035</td>\n",
       "      <td>-97.259415</td>\n",
       "      <td>-5.704583</td>\n",
       "      <td>295.703536</td>\n",
       "      <td>156.880560</td>\n",
       "      <td>...</td>\n",
       "      <td>-239.699164</td>\n",
       "      <td>102.871363</td>\n",
       "      <td>-3.690261</td>\n",
       "      <td>14.396206</td>\n",
       "      <td>-37.507866</td>\n",
       "      <td>39.392993</td>\n",
       "      <td>-277.306626</td>\n",
       "      <td>-27.038689</td>\n",
       "      <td>488.231509</td>\n",
       "      <td>2</td>\n",
       "    </tr>\n",
       "    <tr>\n",
       "      <th>511</th>\n",
       "      <td>-113.859844</td>\n",
       "      <td>-68.568425</td>\n",
       "      <td>26.497456</td>\n",
       "      <td>-83.029815</td>\n",
       "      <td>-181.109835</td>\n",
       "      <td>0.709717</td>\n",
       "      <td>-4.715715</td>\n",
       "      <td>35.546645</td>\n",
       "      <td>71.557185</td>\n",
       "      <td>-37.259273</td>\n",
       "      <td>...</td>\n",
       "      <td>34.515190</td>\n",
       "      <td>-7.949060</td>\n",
       "      <td>-12.519643</td>\n",
       "      <td>7.673987</td>\n",
       "      <td>31.020642</td>\n",
       "      <td>-13.293053</td>\n",
       "      <td>107.338730</td>\n",
       "      <td>23.399769</td>\n",
       "      <td>324.311987</td>\n",
       "      <td>2</td>\n",
       "    </tr>\n",
       "  </tbody>\n",
       "</table>\n",
       "<p>512 rows × 30 columns</p>\n",
       "</div>"
      ],
      "text/plain": [
       "            x_0         x_1         x_2         x_3         x_4        x_5  \\\n",
       "0     16.920655  -42.645832  120.989582  204.158654  146.482712  10.931416   \n",
       "1     33.112697  141.934286  -42.908480  272.840275    3.240221   2.900615   \n",
       "2     -0.719035  162.356669  -25.289948  -38.063813  -45.747704  -1.768817   \n",
       "3     41.114839   32.865930    3.375600  248.982501  145.736013   0.144523   \n",
       "4    -98.954896  100.334688   22.108893 -509.285564   77.418419  -2.567594   \n",
       "..          ...         ...         ...         ...         ...        ...   \n",
       "507 -198.199135  -78.961783  101.635923   87.151381   85.924719   2.857203   \n",
       "508  109.290428  191.480509   12.303618 -305.932511  -40.519626  -3.313111   \n",
       "509  -19.049404    9.356148   34.453434  100.074962 -239.541858  -0.075924   \n",
       "510   33.054867 -122.689085  -23.861270  417.833334  -26.519607  -3.545035   \n",
       "511 -113.859844  -68.568425   26.497456  -83.029815 -181.109835   0.709717   \n",
       "\n",
       "            x_6         x_7         x_8         x_9  ...        x_20  \\\n",
       "0   -148.843296   27.660603  -84.502239   12.294844  ...  -62.325705   \n",
       "1     83.384757   38.419407    5.996595  -74.794468  ...  -63.303622   \n",
       "2    -34.906378   19.047969 -122.525011   37.495460  ...   19.455654   \n",
       "3   -100.467590  -14.692076 -224.750326    5.088222  ...   28.051349   \n",
       "4     27.837708   41.203306  195.284077  -47.101180  ...  103.337332   \n",
       "..          ...         ...         ...         ...  ...         ...   \n",
       "507 -114.279865  122.069373  134.942756   36.458869  ...  173.351132   \n",
       "508  -69.436370   21.865336  -53.042458   69.572077  ...   39.230760   \n",
       "509  -28.929118   -9.993400  111.402361 -159.851843  ...  106.780895   \n",
       "510  -97.259415   -5.704583  295.703536  156.880560  ... -239.699164   \n",
       "511   -4.715715   35.546645   71.557185  -37.259273  ...   34.515190   \n",
       "\n",
       "           x_21       x_22       x_23        x_24       x_25        x_26  \\\n",
       "0     38.713472 -35.038464  -9.714632   36.987391   8.891164 -434.626733   \n",
       "1     69.658188  50.411234 -14.496756   62.013898  23.602845  -56.753575   \n",
       "2     99.033783 -14.787519  -2.837963   80.574733  37.568538  -55.843178   \n",
       "3    -69.535135   6.634928  -0.086851  243.915623 -42.572195  349.780139   \n",
       "4    100.588271 -40.951918   3.262511  174.265657  38.307570 -363.908029   \n",
       "..          ...        ...        ...         ...        ...         ...   \n",
       "507  -66.298207 -48.326594 -11.743241  158.089972 -41.033300   24.813333   \n",
       "508  -63.706061 -37.408941   7.334285    6.379320 -39.800946 -313.897782   \n",
       "509 -174.278694  24.498491   0.962552   16.108659 -92.369189   -7.323660   \n",
       "510  102.871363  -3.690261  14.396206  -37.507866  39.392993 -277.306626   \n",
       "511   -7.949060 -12.519643   7.673987   31.020642 -13.293053  107.338730   \n",
       "\n",
       "          x_27        x_28  y  \n",
       "0    42.773671  217.002701  3  \n",
       "1    55.810014  132.221649  1  \n",
       "2    24.805701  -66.399042  1  \n",
       "3    22.955581  115.350261  2  \n",
       "4    52.254404  362.320497  1  \n",
       "..         ...         ... ..  \n",
       "507  87.438227  766.813592  2  \n",
       "508 -21.168608 -248.854618  3  \n",
       "509 -51.172846  412.148554  1  \n",
       "510 -27.038689  488.231509  2  \n",
       "511  23.399769  324.311987  2  \n",
       "\n",
       "[512 rows x 30 columns]"
      ]
     },
     "metadata": {},
     "output_type": "display_data"
    }
   ],
   "source": [
    "display(dataset)"
   ]
  },
  {
   "cell_type": "markdown",
   "id": "23b3652e",
   "metadata": {
    "id": "23b3652e"
   },
   "source": [
    "##### Checking for null or na values in data set "
   ]
  },
  {
   "cell_type": "code",
   "execution_count": 161,
   "id": "b51361f9",
   "metadata": {
    "colab": {
     "base_uri": "https://localhost:8080/"
    },
    "executionInfo": {
     "elapsed": 696,
     "status": "ok",
     "timestamp": 1679859401775,
     "user": {
      "displayName": "MTech IITM",
      "userId": "11434530727453000419"
     },
     "user_tz": -330
    },
    "id": "b51361f9",
    "outputId": "824035db-334f-4b08-b6fc-542ebcd34217"
   },
   "outputs": [
    {
     "data": {
      "text/plain": [
       "False"
      ]
     },
     "execution_count": 161,
     "metadata": {},
     "output_type": "execute_result"
    }
   ],
   "source": [
    "dataset.isnull().isna().values.any()"
   ]
  },
  {
   "cell_type": "code",
   "execution_count": 162,
   "id": "eb9889db",
   "metadata": {
    "executionInfo": {
     "elapsed": 1,
     "status": "ok",
     "timestamp": 1679859402881,
     "user": {
      "displayName": "MTech IITM",
      "userId": "11434530727453000419"
     },
     "user_tz": -330
    },
    "id": "eb9889db"
   },
   "outputs": [],
   "source": [
    "input_x = dataset.drop('y', axis=1)\n",
    "output_y = dataset[['y']] "
   ]
  },
  {
   "cell_type": "markdown",
   "id": "430dc4b5",
   "metadata": {
    "id": "430dc4b5"
   },
   "source": [
    "#### Check the unique target class"
   ]
  },
  {
   "cell_type": "code",
   "execution_count": 163,
   "id": "84758443",
   "metadata": {
    "colab": {
     "base_uri": "https://localhost:8080/"
    },
    "executionInfo": {
     "elapsed": 7,
     "status": "ok",
     "timestamp": 1679859403561,
     "user": {
      "displayName": "MTech IITM",
      "userId": "11434530727453000419"
     },
     "user_tz": -330
    },
    "id": "84758443",
    "outputId": "4ce897d8-334d-4e1c-a9cf-90ecad7af161"
   },
   "outputs": [
    {
     "data": {
      "text/plain": [
       "array([0, 1, 2, 3], dtype=int64)"
      ]
     },
     "execution_count": 163,
     "metadata": {},
     "output_type": "execute_result"
    }
   ],
   "source": [
    "np.unique(output_y)"
   ]
  },
  {
   "cell_type": "markdown",
   "id": "0268ef8d",
   "metadata": {
    "id": "0268ef8d"
   },
   "source": [
    "#### 4 unique class is present in the dataset "
   ]
  },
  {
   "cell_type": "markdown",
   "id": "e6e10ed8",
   "metadata": {
    "id": "e6e10ed8"
   },
   "source": [
    "#### Q1 Build and train Support Vector Machine (SVM) classifiers for the given task of classification.Train two models, one with the ‘polynomial’ kernel and the other one with ‘rbf’ kernel. For the polynomial kernel, the choice of degree has to come from hyper-parameter optimization. Compare the model’s performance on the basis of accuracy and ROC-AUC metrics."
   ]
  },
  {
   "cell_type": "markdown",
   "id": "396b45d4",
   "metadata": {
    "id": "396b45d4"
   },
   "source": [
    "##### Splitting the dataset in train, validation and test set "
   ]
  },
  {
   "cell_type": "code",
   "execution_count": 164,
   "id": "090e6286",
   "metadata": {
    "executionInfo": {
     "elapsed": 5,
     "status": "ok",
     "timestamp": 1679859405468,
     "user": {
      "displayName": "MTech IITM",
      "userId": "11434530727453000419"
     },
     "user_tz": -330
    },
    "id": "090e6286"
   },
   "outputs": [],
   "source": [
    "X_train, X_val, X_test, y_train, y_val, y_test = data_load(input_x, output_y)"
   ]
  },
  {
   "cell_type": "code",
   "execution_count": 165,
   "id": "151d4c50",
   "metadata": {},
   "outputs": [],
   "source": [
    "sc = StandardScaler()\n",
    "X_train_std, X_val_std, X_test_std = sc.fit_transform(X_train),sc.fit_transform(X_val),sc.fit_transform(X_test)"
   ]
  },
  {
   "cell_type": "markdown",
   "id": "0891954d",
   "metadata": {
    "id": "0891954d"
   },
   "source": [
    "#### Checking the dimension of the target output"
   ]
  },
  {
   "cell_type": "code",
   "execution_count": 166,
   "id": "1301febe",
   "metadata": {
    "colab": {
     "base_uri": "https://localhost:8080/"
    },
    "executionInfo": {
     "elapsed": 8,
     "status": "ok",
     "timestamp": 1679859406125,
     "user": {
      "displayName": "MTech IITM",
      "userId": "11434530727453000419"
     },
     "user_tz": -330
    },
    "id": "1301febe",
    "outputId": "c54720db-a746-470c-ca5e-a6baa23f221a"
   },
   "outputs": [
    {
     "name": "stdout",
     "output_type": "stream",
     "text": [
      "Y_train Shape : (327, 1)\n",
      "Y_val Shape : (82, 1)\n",
      "Y_test Shape : (103, 1)\n"
     ]
    }
   ],
   "source": [
    "print(f'Y_train Shape : {y_train.shape}')\n",
    "print(f'Y_val Shape : {y_val.shape}')\n",
    "print(f'Y_test Shape : {y_test.shape}')"
   ]
  },
  {
   "cell_type": "markdown",
   "id": "febab62a",
   "metadata": {
    "id": "febab62a"
   },
   "source": [
    "##### Define SVM classifier with polynomial and rbf kernel"
   ]
  },
  {
   "cell_type": "code",
   "execution_count": 167,
   "id": "94d475a8",
   "metadata": {
    "executionInfo": {
     "elapsed": 2,
     "status": "ok",
     "timestamp": 1679859408954,
     "user": {
      "displayName": "MTech IITM",
      "userId": "11434530727453000419"
     },
     "user_tz": -330
    },
    "id": "94d475a8"
   },
   "outputs": [],
   "source": [
    "poly_svc_init = SVC(kernel='poly',probability=True)\n",
    "rbf_svc_init = SVC(kernel='rbf',probability=True)"
   ]
  },
  {
   "cell_type": "markdown",
   "id": "954e1fea",
   "metadata": {
    "id": "954e1fea"
   },
   "source": [
    "##### Hyper parameter optimization for evaluating best degree of polynomial kernel"
   ]
  },
  {
   "cell_type": "code",
   "execution_count": 168,
   "id": "54efbb0d",
   "metadata": {
    "colab": {
     "base_uri": "https://localhost:8080/"
    },
    "executionInfo": {
     "elapsed": 2293,
     "status": "ok",
     "timestamp": 1679859412355,
     "user": {
      "displayName": "MTech IITM",
      "userId": "11434530727453000419"
     },
     "user_tz": -330
    },
    "id": "54efbb0d",
    "outputId": "dea5a172-a3cb-458d-92f2-651788dc6fe0"
   },
   "outputs": [
    {
     "name": "stdout",
     "output_type": "stream",
     "text": [
      "Fitting 5 folds for each of 100 candidates, totalling 500 fits\n",
      "Best hyperparameters for polynomial kernel SVM is: {'C': 0.001, 'degree': 2, 'gamma': 1}\n"
     ]
    }
   ],
   "source": [
    "poly_svc__init_grid = GridSearchCV(poly_svc_init, param_grid, cv=cross_validation, n_jobs=5, verbose=1)\n",
    "poly_svc__init_grid.fit(X_train_std, np.ravel(y_train))\n",
    "poly_svc_best_param = poly_svc__init_grid.best_estimator_\n",
    "print(f'Best hyperparameters for polynomial kernel SVM is: {poly_svc__init_grid.best_params_}')"
   ]
  },
  {
   "cell_type": "markdown",
   "id": "6d39e049",
   "metadata": {
    "id": "6d39e049"
   },
   "source": [
    "##### Train SVM classifier using the best polynomial degree for polynomial kernel"
   ]
  },
  {
   "cell_type": "code",
   "execution_count": 169,
   "id": "e47ffe38",
   "metadata": {
    "colab": {
     "base_uri": "https://localhost:8080/",
     "height": 118
    },
    "executionInfo": {
     "elapsed": 1817,
     "status": "ok",
     "timestamp": 1679859417592,
     "user": {
      "displayName": "MTech IITM",
      "userId": "11434530727453000419"
     },
     "user_tz": -330
    },
    "id": "e47ffe38",
    "outputId": "ee9ab1ad-3659-450f-86f4-fd37415e3cec"
   },
   "outputs": [
    {
     "name": "stdout",
     "output_type": "stream",
     "text": [
      "Fitting 5 folds for each of 100 candidates, totalling 500 fits\n"
     ]
    },
    {
     "data": {
      "text/html": [
       "<style>#sk-container-id-5 {color: black;background-color: white;}#sk-container-id-5 pre{padding: 0;}#sk-container-id-5 div.sk-toggleable {background-color: white;}#sk-container-id-5 label.sk-toggleable__label {cursor: pointer;display: block;width: 100%;margin-bottom: 0;padding: 0.3em;box-sizing: border-box;text-align: center;}#sk-container-id-5 label.sk-toggleable__label-arrow:before {content: \"▸\";float: left;margin-right: 0.25em;color: #696969;}#sk-container-id-5 label.sk-toggleable__label-arrow:hover:before {color: black;}#sk-container-id-5 div.sk-estimator:hover label.sk-toggleable__label-arrow:before {color: black;}#sk-container-id-5 div.sk-toggleable__content {max-height: 0;max-width: 0;overflow: hidden;text-align: left;background-color: #f0f8ff;}#sk-container-id-5 div.sk-toggleable__content pre {margin: 0.2em;color: black;border-radius: 0.25em;background-color: #f0f8ff;}#sk-container-id-5 input.sk-toggleable__control:checked~div.sk-toggleable__content {max-height: 200px;max-width: 100%;overflow: auto;}#sk-container-id-5 input.sk-toggleable__control:checked~label.sk-toggleable__label-arrow:before {content: \"▾\";}#sk-container-id-5 div.sk-estimator input.sk-toggleable__control:checked~label.sk-toggleable__label {background-color: #d4ebff;}#sk-container-id-5 div.sk-label input.sk-toggleable__control:checked~label.sk-toggleable__label {background-color: #d4ebff;}#sk-container-id-5 input.sk-hidden--visually {border: 0;clip: rect(1px 1px 1px 1px);clip: rect(1px, 1px, 1px, 1px);height: 1px;margin: -1px;overflow: hidden;padding: 0;position: absolute;width: 1px;}#sk-container-id-5 div.sk-estimator {font-family: monospace;background-color: #f0f8ff;border: 1px dotted black;border-radius: 0.25em;box-sizing: border-box;margin-bottom: 0.5em;}#sk-container-id-5 div.sk-estimator:hover {background-color: #d4ebff;}#sk-container-id-5 div.sk-parallel-item::after {content: \"\";width: 100%;border-bottom: 1px solid gray;flex-grow: 1;}#sk-container-id-5 div.sk-label:hover label.sk-toggleable__label {background-color: #d4ebff;}#sk-container-id-5 div.sk-serial::before {content: \"\";position: absolute;border-left: 1px solid gray;box-sizing: border-box;top: 0;bottom: 0;left: 50%;z-index: 0;}#sk-container-id-5 div.sk-serial {display: flex;flex-direction: column;align-items: center;background-color: white;padding-right: 0.2em;padding-left: 0.2em;position: relative;}#sk-container-id-5 div.sk-item {position: relative;z-index: 1;}#sk-container-id-5 div.sk-parallel {display: flex;align-items: stretch;justify-content: center;background-color: white;position: relative;}#sk-container-id-5 div.sk-item::before, #sk-container-id-5 div.sk-parallel-item::before {content: \"\";position: absolute;border-left: 1px solid gray;box-sizing: border-box;top: 0;bottom: 0;left: 50%;z-index: -1;}#sk-container-id-5 div.sk-parallel-item {display: flex;flex-direction: column;z-index: 1;position: relative;background-color: white;}#sk-container-id-5 div.sk-parallel-item:first-child::after {align-self: flex-end;width: 50%;}#sk-container-id-5 div.sk-parallel-item:last-child::after {align-self: flex-start;width: 50%;}#sk-container-id-5 div.sk-parallel-item:only-child::after {width: 0;}#sk-container-id-5 div.sk-dashed-wrapped {border: 1px dashed gray;margin: 0 0.4em 0.5em 0.4em;box-sizing: border-box;padding-bottom: 0.4em;background-color: white;}#sk-container-id-5 div.sk-label label {font-family: monospace;font-weight: bold;display: inline-block;line-height: 1.2em;}#sk-container-id-5 div.sk-label-container {text-align: center;}#sk-container-id-5 div.sk-container {/* jupyter's `normalize.less` sets `[hidden] { display: none; }` but bootstrap.min.css set `[hidden] { display: none !important; }` so we also need the `!important` here to be able to override the default hidden behavior on the sphinx rendered scikit-learn.org. See: https://github.com/scikit-learn/scikit-learn/issues/21755 */display: inline-block !important;position: relative;}#sk-container-id-5 div.sk-text-repr-fallback {display: none;}</style><div id=\"sk-container-id-5\" class=\"sk-top-container\"><div class=\"sk-text-repr-fallback\"><pre>GridSearchCV(cv=5, estimator=SVC(kernel=&#x27;poly&#x27;, probability=True), n_jobs=5,\n",
       "             param_grid={&#x27;C&#x27;: [0.001, 0.01, 0.1, 1, 10],\n",
       "                         &#x27;degree&#x27;: array([1, 2, 3, 4]),\n",
       "                         &#x27;gamma&#x27;: [1, 0.1, 0.01, 0.001, 0.0001]},\n",
       "             verbose=1)</pre><b>In a Jupyter environment, please rerun this cell to show the HTML representation or trust the notebook. <br />On GitHub, the HTML representation is unable to render, please try loading this page with nbviewer.org.</b></div><div class=\"sk-container\" hidden><div class=\"sk-item sk-dashed-wrapped\"><div class=\"sk-label-container\"><div class=\"sk-label sk-toggleable\"><input class=\"sk-toggleable__control sk-hidden--visually\" id=\"sk-estimator-id-7\" type=\"checkbox\" ><label for=\"sk-estimator-id-7\" class=\"sk-toggleable__label sk-toggleable__label-arrow\">GridSearchCV</label><div class=\"sk-toggleable__content\"><pre>GridSearchCV(cv=5, estimator=SVC(kernel=&#x27;poly&#x27;, probability=True), n_jobs=5,\n",
       "             param_grid={&#x27;C&#x27;: [0.001, 0.01, 0.1, 1, 10],\n",
       "                         &#x27;degree&#x27;: array([1, 2, 3, 4]),\n",
       "                         &#x27;gamma&#x27;: [1, 0.1, 0.01, 0.001, 0.0001]},\n",
       "             verbose=1)</pre></div></div></div><div class=\"sk-parallel\"><div class=\"sk-parallel-item\"><div class=\"sk-item\"><div class=\"sk-label-container\"><div class=\"sk-label sk-toggleable\"><input class=\"sk-toggleable__control sk-hidden--visually\" id=\"sk-estimator-id-8\" type=\"checkbox\" ><label for=\"sk-estimator-id-8\" class=\"sk-toggleable__label sk-toggleable__label-arrow\">estimator: SVC</label><div class=\"sk-toggleable__content\"><pre>SVC(kernel=&#x27;poly&#x27;, probability=True)</pre></div></div></div><div class=\"sk-serial\"><div class=\"sk-item\"><div class=\"sk-estimator sk-toggleable\"><input class=\"sk-toggleable__control sk-hidden--visually\" id=\"sk-estimator-id-9\" type=\"checkbox\" ><label for=\"sk-estimator-id-9\" class=\"sk-toggleable__label sk-toggleable__label-arrow\">SVC</label><div class=\"sk-toggleable__content\"><pre>SVC(kernel=&#x27;poly&#x27;, probability=True)</pre></div></div></div></div></div></div></div></div></div></div>"
      ],
      "text/plain": [
       "GridSearchCV(cv=5, estimator=SVC(kernel='poly', probability=True), n_jobs=5,\n",
       "             param_grid={'C': [0.001, 0.01, 0.1, 1, 10],\n",
       "                         'degree': array([1, 2, 3, 4]),\n",
       "                         'gamma': [1, 0.1, 0.01, 0.001, 0.0001]},\n",
       "             verbose=1)"
      ]
     },
     "execution_count": 169,
     "metadata": {},
     "output_type": "execute_result"
    }
   ],
   "source": [
    "poly_svc__init_grid.fit(X_train_std, np.ravel(y_train))"
   ]
  },
  {
   "cell_type": "markdown",
   "id": "60c6fe96",
   "metadata": {
    "id": "60c6fe96"
   },
   "source": [
    "##### Train SVM classifier with RBF  kernel"
   ]
  },
  {
   "cell_type": "code",
   "execution_count": 170,
   "id": "40142c38",
   "metadata": {
    "colab": {
     "base_uri": "https://localhost:8080/",
     "height": 75
    },
    "executionInfo": {
     "elapsed": 19,
     "status": "ok",
     "timestamp": 1679859421433,
     "user": {
      "displayName": "MTech IITM",
      "userId": "11434530727453000419"
     },
     "user_tz": -330
    },
    "id": "40142c38",
    "outputId": "78d4b0c9-9d9d-482a-b75a-b66bbc58bf1b"
   },
   "outputs": [
    {
     "data": {
      "text/html": [
       "<style>#sk-container-id-6 {color: black;background-color: white;}#sk-container-id-6 pre{padding: 0;}#sk-container-id-6 div.sk-toggleable {background-color: white;}#sk-container-id-6 label.sk-toggleable__label {cursor: pointer;display: block;width: 100%;margin-bottom: 0;padding: 0.3em;box-sizing: border-box;text-align: center;}#sk-container-id-6 label.sk-toggleable__label-arrow:before {content: \"▸\";float: left;margin-right: 0.25em;color: #696969;}#sk-container-id-6 label.sk-toggleable__label-arrow:hover:before {color: black;}#sk-container-id-6 div.sk-estimator:hover label.sk-toggleable__label-arrow:before {color: black;}#sk-container-id-6 div.sk-toggleable__content {max-height: 0;max-width: 0;overflow: hidden;text-align: left;background-color: #f0f8ff;}#sk-container-id-6 div.sk-toggleable__content pre {margin: 0.2em;color: black;border-radius: 0.25em;background-color: #f0f8ff;}#sk-container-id-6 input.sk-toggleable__control:checked~div.sk-toggleable__content {max-height: 200px;max-width: 100%;overflow: auto;}#sk-container-id-6 input.sk-toggleable__control:checked~label.sk-toggleable__label-arrow:before {content: \"▾\";}#sk-container-id-6 div.sk-estimator input.sk-toggleable__control:checked~label.sk-toggleable__label {background-color: #d4ebff;}#sk-container-id-6 div.sk-label input.sk-toggleable__control:checked~label.sk-toggleable__label {background-color: #d4ebff;}#sk-container-id-6 input.sk-hidden--visually {border: 0;clip: rect(1px 1px 1px 1px);clip: rect(1px, 1px, 1px, 1px);height: 1px;margin: -1px;overflow: hidden;padding: 0;position: absolute;width: 1px;}#sk-container-id-6 div.sk-estimator {font-family: monospace;background-color: #f0f8ff;border: 1px dotted black;border-radius: 0.25em;box-sizing: border-box;margin-bottom: 0.5em;}#sk-container-id-6 div.sk-estimator:hover {background-color: #d4ebff;}#sk-container-id-6 div.sk-parallel-item::after {content: \"\";width: 100%;border-bottom: 1px solid gray;flex-grow: 1;}#sk-container-id-6 div.sk-label:hover label.sk-toggleable__label {background-color: #d4ebff;}#sk-container-id-6 div.sk-serial::before {content: \"\";position: absolute;border-left: 1px solid gray;box-sizing: border-box;top: 0;bottom: 0;left: 50%;z-index: 0;}#sk-container-id-6 div.sk-serial {display: flex;flex-direction: column;align-items: center;background-color: white;padding-right: 0.2em;padding-left: 0.2em;position: relative;}#sk-container-id-6 div.sk-item {position: relative;z-index: 1;}#sk-container-id-6 div.sk-parallel {display: flex;align-items: stretch;justify-content: center;background-color: white;position: relative;}#sk-container-id-6 div.sk-item::before, #sk-container-id-6 div.sk-parallel-item::before {content: \"\";position: absolute;border-left: 1px solid gray;box-sizing: border-box;top: 0;bottom: 0;left: 50%;z-index: -1;}#sk-container-id-6 div.sk-parallel-item {display: flex;flex-direction: column;z-index: 1;position: relative;background-color: white;}#sk-container-id-6 div.sk-parallel-item:first-child::after {align-self: flex-end;width: 50%;}#sk-container-id-6 div.sk-parallel-item:last-child::after {align-self: flex-start;width: 50%;}#sk-container-id-6 div.sk-parallel-item:only-child::after {width: 0;}#sk-container-id-6 div.sk-dashed-wrapped {border: 1px dashed gray;margin: 0 0.4em 0.5em 0.4em;box-sizing: border-box;padding-bottom: 0.4em;background-color: white;}#sk-container-id-6 div.sk-label label {font-family: monospace;font-weight: bold;display: inline-block;line-height: 1.2em;}#sk-container-id-6 div.sk-label-container {text-align: center;}#sk-container-id-6 div.sk-container {/* jupyter's `normalize.less` sets `[hidden] { display: none; }` but bootstrap.min.css set `[hidden] { display: none !important; }` so we also need the `!important` here to be able to override the default hidden behavior on the sphinx rendered scikit-learn.org. See: https://github.com/scikit-learn/scikit-learn/issues/21755 */display: inline-block !important;position: relative;}#sk-container-id-6 div.sk-text-repr-fallback {display: none;}</style><div id=\"sk-container-id-6\" class=\"sk-top-container\"><div class=\"sk-text-repr-fallback\"><pre>SVC(probability=True)</pre><b>In a Jupyter environment, please rerun this cell to show the HTML representation or trust the notebook. <br />On GitHub, the HTML representation is unable to render, please try loading this page with nbviewer.org.</b></div><div class=\"sk-container\" hidden><div class=\"sk-item\"><div class=\"sk-estimator sk-toggleable\"><input class=\"sk-toggleable__control sk-hidden--visually\" id=\"sk-estimator-id-10\" type=\"checkbox\" checked><label for=\"sk-estimator-id-10\" class=\"sk-toggleable__label sk-toggleable__label-arrow\">SVC</label><div class=\"sk-toggleable__content\"><pre>SVC(probability=True)</pre></div></div></div></div></div>"
      ],
      "text/plain": [
       "SVC(probability=True)"
      ]
     },
     "execution_count": 170,
     "metadata": {},
     "output_type": "execute_result"
    }
   ],
   "source": [
    "rbf_svc_init.fit(X_train_std, np.ravel(y_train))"
   ]
  },
  {
   "cell_type": "markdown",
   "id": "cf023d00",
   "metadata": {
    "id": "cf023d00"
   },
   "source": [
    "##### Prediction using Kernel SVM with polynomial kernel "
   ]
  },
  {
   "cell_type": "code",
   "execution_count": 171,
   "id": "31edbb93",
   "metadata": {
    "colab": {
     "base_uri": "https://localhost:8080/"
    },
    "executionInfo": {
     "elapsed": 585,
     "status": "ok",
     "timestamp": 1679859425135,
     "user": {
      "displayName": "MTech IITM",
      "userId": "11434530727453000419"
     },
     "user_tz": -330
    },
    "id": "31edbb93",
    "outputId": "1a8c58ba-2cee-476c-d035-f85a7c902ff6"
   },
   "outputs": [
    {
     "name": "stdout",
     "output_type": "stream",
     "text": [
      "Accuracy of polynomial kernel SVM: 0.5242718446601942\n",
      "ROC-AUC score of polynomial kernel SVM: 0.6752353771301622\n"
     ]
    }
   ],
   "source": [
    "poly_y_pred = poly_svc__init_grid.predict(X_test_std)\n",
    "print('Accuracy of polynomial kernel SVM:', accuracy_score(y_test, poly_y_pred))\n",
    "print('ROC-AUC score of polynomial kernel SVM:', roc_auc_score(y_test, poly_svc__init_grid.predict_proba(X_test_std), multi_class='ovr'))"
   ]
  },
  {
   "cell_type": "markdown",
   "id": "6474c364",
   "metadata": {
    "id": "6474c364"
   },
   "source": [
    "##### Prediction using Kernel SVM with rbf kernel "
   ]
  },
  {
   "cell_type": "code",
   "execution_count": 172,
   "id": "13bb32d8",
   "metadata": {
    "colab": {
     "base_uri": "https://localhost:8080/"
    },
    "executionInfo": {
     "elapsed": 607,
     "status": "ok",
     "timestamp": 1679859434525,
     "user": {
      "displayName": "MTech IITM",
      "userId": "11434530727453000419"
     },
     "user_tz": -330
    },
    "id": "13bb32d8",
    "outputId": "5f6b43de-c3c2-4bb6-c273-a0bccbf889bc"
   },
   "outputs": [
    {
     "name": "stdout",
     "output_type": "stream",
     "text": [
      "Accuracy of rbf kernel SVM: 0.5145631067961165\n",
      "ROC-AUC score of rbf kernel SVM: 0.728726255136437\n"
     ]
    }
   ],
   "source": [
    "rbf_y_pred = rbf_svc_init.predict(X_test_std)\n",
    "print('Accuracy of rbf kernel SVM:', accuracy_score(y_test, rbf_y_pred))\n",
    "print('ROC-AUC score of rbf kernel SVM:', roc_auc_score(y_test, rbf_svc_init.predict_proba(X_test_std),multi_class='ovr'))"
   ]
  },
  {
   "cell_type": "markdown",
   "id": "abb57541",
   "metadata": {
    "id": "abb57541"
   },
   "source": [
    "## Conclusion : \n",
    "#### 1. Looking at the accuracy we can say that both kernel is providing accuracy in same range but looking at the given dataset  we confirm polynomial kernel is slightly better performing over RBF kernel.\n",
    "#### 2. But while we are checking at the ROC-AUC score we can see that the score is higher in RBF kernel compare to polynomial kernel, it means that in case of our multi-class classification problem like given dataset, polynomial kernel model is performing nicely in classifying the different target classes but performing poorly to correctly classify instances within each class.\n",
    "\n",
    "### As a conclusion we can confirm that polynomial kernel model is performing nicely in classifying the different target classes but performing poorly to correctly classify instances within each class."
   ]
  },
  {
   "cell_type": "markdown",
   "id": "19aa6378",
   "metadata": {
    "id": "19aa6378"
   },
   "source": [
    "#### (b) Train a neural network model for the same task of classification. Report its performance."
   ]
  },
  {
   "cell_type": "code",
   "execution_count": 477,
   "id": "b0fcc984",
   "metadata": {
    "id": "b0fcc984"
   },
   "outputs": [],
   "source": [
    "activation ='relu'\n",
    "solver = 'adam'"
   ]
  },
  {
   "cell_type": "code",
   "execution_count": 478,
   "id": "cc603235",
   "metadata": {
    "id": "cc603235"
   },
   "outputs": [],
   "source": [
    "mlp_neural_network = MLPClassifier(hidden_layer_sizes=(128, 128, 128, 4), activation=activation, solver=solver, max_iter=maximum_iteration, random_state=seed)"
   ]
  },
  {
   "cell_type": "code",
   "execution_count": 479,
   "id": "ae98efec",
   "metadata": {
    "id": "ae98efec",
    "outputId": "a1b43cbe-189b-4bd8-9e9e-03a6e045cac5"
   },
   "outputs": [
    {
     "name": "stderr",
     "output_type": "stream",
     "text": [
      "C:\\Users\\Admin\\AppData\\Roaming\\Python\\Python39\\site-packages\\sklearn\\neural_network\\_multilayer_perceptron.py:684: ConvergenceWarning: Stochastic Optimizer: Maximum iterations (500) reached and the optimization hasn't converged yet.\n",
      "  warnings.warn(\n"
     ]
    },
    {
     "data": {
      "text/html": [
       "<style>#sk-container-id-12 {color: black;background-color: white;}#sk-container-id-12 pre{padding: 0;}#sk-container-id-12 div.sk-toggleable {background-color: white;}#sk-container-id-12 label.sk-toggleable__label {cursor: pointer;display: block;width: 100%;margin-bottom: 0;padding: 0.3em;box-sizing: border-box;text-align: center;}#sk-container-id-12 label.sk-toggleable__label-arrow:before {content: \"▸\";float: left;margin-right: 0.25em;color: #696969;}#sk-container-id-12 label.sk-toggleable__label-arrow:hover:before {color: black;}#sk-container-id-12 div.sk-estimator:hover label.sk-toggleable__label-arrow:before {color: black;}#sk-container-id-12 div.sk-toggleable__content {max-height: 0;max-width: 0;overflow: hidden;text-align: left;background-color: #f0f8ff;}#sk-container-id-12 div.sk-toggleable__content pre {margin: 0.2em;color: black;border-radius: 0.25em;background-color: #f0f8ff;}#sk-container-id-12 input.sk-toggleable__control:checked~div.sk-toggleable__content {max-height: 200px;max-width: 100%;overflow: auto;}#sk-container-id-12 input.sk-toggleable__control:checked~label.sk-toggleable__label-arrow:before {content: \"▾\";}#sk-container-id-12 div.sk-estimator input.sk-toggleable__control:checked~label.sk-toggleable__label {background-color: #d4ebff;}#sk-container-id-12 div.sk-label input.sk-toggleable__control:checked~label.sk-toggleable__label {background-color: #d4ebff;}#sk-container-id-12 input.sk-hidden--visually {border: 0;clip: rect(1px 1px 1px 1px);clip: rect(1px, 1px, 1px, 1px);height: 1px;margin: -1px;overflow: hidden;padding: 0;position: absolute;width: 1px;}#sk-container-id-12 div.sk-estimator {font-family: monospace;background-color: #f0f8ff;border: 1px dotted black;border-radius: 0.25em;box-sizing: border-box;margin-bottom: 0.5em;}#sk-container-id-12 div.sk-estimator:hover {background-color: #d4ebff;}#sk-container-id-12 div.sk-parallel-item::after {content: \"\";width: 100%;border-bottom: 1px solid gray;flex-grow: 1;}#sk-container-id-12 div.sk-label:hover label.sk-toggleable__label {background-color: #d4ebff;}#sk-container-id-12 div.sk-serial::before {content: \"\";position: absolute;border-left: 1px solid gray;box-sizing: border-box;top: 0;bottom: 0;left: 50%;z-index: 0;}#sk-container-id-12 div.sk-serial {display: flex;flex-direction: column;align-items: center;background-color: white;padding-right: 0.2em;padding-left: 0.2em;position: relative;}#sk-container-id-12 div.sk-item {position: relative;z-index: 1;}#sk-container-id-12 div.sk-parallel {display: flex;align-items: stretch;justify-content: center;background-color: white;position: relative;}#sk-container-id-12 div.sk-item::before, #sk-container-id-12 div.sk-parallel-item::before {content: \"\";position: absolute;border-left: 1px solid gray;box-sizing: border-box;top: 0;bottom: 0;left: 50%;z-index: -1;}#sk-container-id-12 div.sk-parallel-item {display: flex;flex-direction: column;z-index: 1;position: relative;background-color: white;}#sk-container-id-12 div.sk-parallel-item:first-child::after {align-self: flex-end;width: 50%;}#sk-container-id-12 div.sk-parallel-item:last-child::after {align-self: flex-start;width: 50%;}#sk-container-id-12 div.sk-parallel-item:only-child::after {width: 0;}#sk-container-id-12 div.sk-dashed-wrapped {border: 1px dashed gray;margin: 0 0.4em 0.5em 0.4em;box-sizing: border-box;padding-bottom: 0.4em;background-color: white;}#sk-container-id-12 div.sk-label label {font-family: monospace;font-weight: bold;display: inline-block;line-height: 1.2em;}#sk-container-id-12 div.sk-label-container {text-align: center;}#sk-container-id-12 div.sk-container {/* jupyter's `normalize.less` sets `[hidden] { display: none; }` but bootstrap.min.css set `[hidden] { display: none !important; }` so we also need the `!important` here to be able to override the default hidden behavior on the sphinx rendered scikit-learn.org. See: https://github.com/scikit-learn/scikit-learn/issues/21755 */display: inline-block !important;position: relative;}#sk-container-id-12 div.sk-text-repr-fallback {display: none;}</style><div id=\"sk-container-id-12\" class=\"sk-top-container\"><div class=\"sk-text-repr-fallback\"><pre>MLPClassifier(hidden_layer_sizes=(128, 128, 128, 4), max_iter=500,\n",
       "              random_state=42)</pre><b>In a Jupyter environment, please rerun this cell to show the HTML representation or trust the notebook. <br />On GitHub, the HTML representation is unable to render, please try loading this page with nbviewer.org.</b></div><div class=\"sk-container\" hidden><div class=\"sk-item\"><div class=\"sk-estimator sk-toggleable\"><input class=\"sk-toggleable__control sk-hidden--visually\" id=\"sk-estimator-id-16\" type=\"checkbox\" checked><label for=\"sk-estimator-id-16\" class=\"sk-toggleable__label sk-toggleable__label-arrow\">MLPClassifier</label><div class=\"sk-toggleable__content\"><pre>MLPClassifier(hidden_layer_sizes=(128, 128, 128, 4), max_iter=500,\n",
       "              random_state=42)</pre></div></div></div></div></div>"
      ],
      "text/plain": [
       "MLPClassifier(hidden_layer_sizes=(128, 128, 128, 4), max_iter=500,\n",
       "              random_state=42)"
      ]
     },
     "execution_count": 479,
     "metadata": {},
     "output_type": "execute_result"
    }
   ],
   "source": [
    "mlp_neural_network.fit(X_train_std, np.ravel(y_train))"
   ]
  },
  {
   "cell_type": "code",
   "execution_count": 480,
   "id": "87fc7dda",
   "metadata": {
    "id": "87fc7dda",
    "outputId": "8c0c6f79-dbbf-4ea4-cfe7-b8dcd562021d"
   },
   "outputs": [
    {
     "name": "stdout",
     "output_type": "stream",
     "text": [
      "Accuracy of neural network model : Train Dataset: 0.9602446483180428\n",
      "Accuracy of neural network model : Validation Dataset: 0.5121951219512195\n",
      "Accuracy of neural network model: Test Dataset 0.3786407766990291\n",
      "ROC-AUC score of neural network model: 0.5619928981541513\n"
     ]
    }
   ],
   "source": [
    "y_train_prediction = mlp_neural_network.predict(X_train_std)\n",
    "y_validation_prediction = mlp_neural_network.predict(X_val_std)\n",
    "y_test_prediction = mlp_neural_network.predict(X_test_std)\n",
    "\n",
    "print('Accuracy of neural network model : Train Dataset:', accuracy_score(y_train, y_train_prediction))\n",
    "print('Accuracy of neural network model : Validation Dataset:', accuracy_score(y_val, y_validation_prediction))\n",
    "print('Accuracy of neural network model: Test Dataset', accuracy_score(y_test, y_test_prediction))\n",
    "print('ROC-AUC score of neural network model:', roc_auc_score(y_test, mlp_neural_network.predict_proba(X_test_std),multi_class='ovr'))"
   ]
  },
  {
   "cell_type": "code",
   "execution_count": 481,
   "id": "3deb4d3f",
   "metadata": {
    "id": "3deb4d3f",
    "outputId": "439caab7-43bc-48f3-9816-05881239beec"
   },
   "outputs": [
    {
     "name": "stdout",
     "output_type": "stream",
     "text": [
      "Train\n",
      "              precision    recall  f1-score   support\n",
      "\n",
      "           0       0.97      0.83      0.90        42\n",
      "           1       0.93      1.00      0.96       162\n",
      "           2       1.00      0.99      0.99        83\n",
      "           3       1.00      0.88      0.93        40\n",
      "\n",
      "    accuracy                           0.96       327\n",
      "   macro avg       0.98      0.92      0.95       327\n",
      "weighted avg       0.96      0.96      0.96       327\n",
      "\n",
      "Validation\n",
      "              precision    recall  f1-score   support\n",
      "\n",
      "           0       0.25      0.40      0.31         5\n",
      "           1       0.81      0.62      0.70        40\n",
      "           2       0.40      0.40      0.40        20\n",
      "           3       0.30      0.41      0.35        17\n",
      "\n",
      "    accuracy                           0.51        82\n",
      "   macro avg       0.44      0.46      0.44        82\n",
      "weighted avg       0.57      0.51      0.53        82\n",
      "\n",
      "\n",
      "\n",
      "Test\n",
      "              precision    recall  f1-score   support\n",
      "\n",
      "           0       0.12      0.06      0.08        17\n",
      "           1       0.71      0.53      0.61        47\n",
      "           2       0.35      0.43      0.39        28\n",
      "           3       0.04      0.09      0.05        11\n",
      "\n",
      "    accuracy                           0.38       103\n",
      "   macro avg       0.31      0.28      0.28       103\n",
      "weighted avg       0.45      0.38      0.40       103\n",
      "\n"
     ]
    }
   ],
   "source": [
    "print('Train')\n",
    "print(classification_report(y_train, y_train_prediction))\n",
    "print('Validation')\n",
    "print(classification_report(y_val, y_validation_prediction))\n",
    "print('\\n\\nTest')\n",
    "print(classification_report(y_test, y_test_prediction))"
   ]
  },
  {
   "cell_type": "markdown",
   "id": "21824530",
   "metadata": {
    "id": "21824530"
   },
   "source": [
    "## Conclusion  for MLP Classifier:\n",
    "#### Looking at the accuracy it is clear that train accuracy is very high compared to validation or test accuracy, indicating there is over-fitting happen with the MLP classifier. We have several technique to overcome the over-fitting which we will try in the next section of the problem statement."
   ]
  },
  {
   "cell_type": "markdown",
   "id": "143c0c88",
   "metadata": {},
   "source": [
    "#### Verifying the result of what we have achieved using MLP classifier with an ANN model  created from scratch"
   ]
  },
  {
   "cell_type": "code",
   "execution_count": 483,
   "id": "436b89c9",
   "metadata": {
    "id": "436b89c9"
   },
   "outputs": [],
   "source": [
    "X_train_tensor = torch.tensor(X_train_std, dtype=torch.float32)\n",
    "X_val_tensor = torch.tensor(X_val_std, dtype=torch.float32)\n",
    "X_test_tensor = torch.tensor(X_test_std, dtype=torch.float32)\n",
    "\n",
    "y_train_tensor = torch.tensor(y_train.to_numpy(), dtype=torch.long)\n",
    "y_val_tensor = torch.tensor(y_val.to_numpy(), dtype=torch.long)\n",
    "y_test_tensor = torch.tensor(y_test.to_numpy(), dtype=torch.long)"
   ]
  },
  {
   "cell_type": "markdown",
   "id": "fb6ed140",
   "metadata": {
    "id": "fb6ed140"
   },
   "source": [
    "#### One hot encoding of target output"
   ]
  },
  {
   "cell_type": "code",
   "execution_count": 484,
   "id": "1fe8c3c8",
   "metadata": {
    "id": "1fe8c3c8"
   },
   "outputs": [],
   "source": [
    "y_train_tensor = one_hot_encode_labels(y_train_tensor)\n",
    "y_val_tensor = one_hot_encode_labels(y_val_tensor)\n",
    "y_test_tensor = one_hot_encode_labels(y_test_tensor)"
   ]
  },
  {
   "cell_type": "markdown",
   "id": "31bf47e3",
   "metadata": {
    "id": "31bf47e3"
   },
   "source": [
    "#### Flattening of target output"
   ]
  },
  {
   "cell_type": "code",
   "execution_count": 485,
   "id": "3fa3377d",
   "metadata": {
    "id": "3fa3377d"
   },
   "outputs": [],
   "source": [
    "y_train_tensor = flatten_array(y_train_tensor)\n",
    "y_val_tensor = flatten_array(y_val_tensor)\n",
    "y_test_tensor = flatten_array(y_test_tensor)"
   ]
  },
  {
   "cell_type": "markdown",
   "id": "a0d565f8",
   "metadata": {
    "id": "a0d565f8"
   },
   "source": [
    "#### Checking the dimension of tensor"
   ]
  },
  {
   "cell_type": "code",
   "execution_count": 486,
   "id": "a608b180",
   "metadata": {
    "id": "8aac8deb",
    "outputId": "4d22e5a5-9b64-4567-b7e7-09d9b85ccac5"
   },
   "outputs": [
    {
     "name": "stdout",
     "output_type": "stream",
     "text": [
      "Y_train tensor Shape : (327, 4)\n",
      "Y_val tensor Shape : (82, 4)\n",
      "Y_test tensor Shape : (103, 4)\n"
     ]
    }
   ],
   "source": [
    "print(f'Y_train tensor Shape : {y_train_tensor.shape}')\n",
    "print(f'Y_val tensor Shape : {y_val_tensor.shape}')\n",
    "print(f'Y_test tensor Shape : {y_test_tensor.shape}')"
   ]
  },
  {
   "cell_type": "markdown",
   "id": "ec777970",
   "metadata": {},
   "source": [
    "#### Creating ANN Model"
   ]
  },
  {
   "cell_type": "code",
   "execution_count": 552,
   "id": "8ee253fe",
   "metadata": {
    "id": "8ee253fe"
   },
   "outputs": [],
   "source": [
    "class ANNModel(nn.Module):\n",
    "    def __init__(self):\n",
    "        super(ANNModel, self).__init__()\n",
    "        self.linear1 = nn.Linear(29, 128)        \n",
    "        self.linear2 = nn.Linear(128, 128)\n",
    "        self.linear3 = nn.Linear(128, 128)\n",
    "        self.linear4 = nn.Linear(128, 4)\n",
    "        self.relu = nn.ReLU()\n",
    "        \n",
    "    def forward(self, x):\n",
    "        out = self.linear1(x)\n",
    "        out = self.relu(out)\n",
    "        out = self.linear2(out)\n",
    "        out = self.relu(out)\n",
    "        out = self.linear3(out)\n",
    "        out = self.relu(out)\n",
    "        out = self.linear4(out)\n",
    "        return out   "
   ]
  },
  {
   "cell_type": "markdown",
   "id": "c6247f70",
   "metadata": {},
   "source": [
    "##### Training the model and validate it"
   ]
  },
  {
   "cell_type": "code",
   "execution_count": 553,
   "id": "b63781a7",
   "metadata": {
    "id": "b63781a7"
   },
   "outputs": [],
   "source": [
    "class Trainer:\n",
    "    \n",
    "    def __init__(self, model, train_data, val_data, test_data):\n",
    "        self.model = model\n",
    "        self.train_data = train_data\n",
    "        self.val_data = val_data\n",
    "        self.test_data = test_data\n",
    "        self.optimizer = optim.Adam(self.model.parameters(), lr=1e-3)\n",
    "        self.criterion = nn.CrossEntropyLoss()\n",
    "\n",
    "    def train(self, epochs):        \n",
    "        for epoch in range(epochs): \n",
    "            running_loss = 0.0  \n",
    "            data = self.train_data            \n",
    "            inputs, labels = torch.tensor(data[0]).clone().detach(),torch.tensor(data[1]).clone().detach()\n",
    "            self.optimizer.zero_grad()\n",
    "            outputs = self.model(inputs)           \n",
    "            loss = self.criterion(outputs, labels)\n",
    "            loss.backward()\n",
    "            self.optimizer.step()\n",
    "            running_loss += loss.item()\n",
    "            if epoch % 50 == 49:\n",
    "                print(f\"Epoch {epoch+1}, Running Loss: {running_loss}\")\n",
    "\n",
    "    def test(self, data):\n",
    "        with torch.no_grad():\n",
    "            inputs, labels = torch.tensor(data[0]).clone().detach(),data[1]\n",
    "            outputs = self.model(inputs)           \n",
    "            _, predicted = torch.max(outputs.data, 1)            \n",
    "            labels = torch.tensor(labels)\n",
    "            labels_recons = np.argmax(labels, axis=1)\n",
    "            weighted_acc, report = get_classification_metrics(labels_recons, predicted)\n",
    "            return predicted, weighted_acc, report\n",
    "        "
   ]
  },
  {
   "cell_type": "code",
   "execution_count": 554,
   "id": "4e79812e",
   "metadata": {
    "id": "4e79812e"
   },
   "outputs": [],
   "source": [
    "model = ANNModel() "
   ]
  },
  {
   "cell_type": "code",
   "execution_count": 555,
   "id": "900bc9b0",
   "metadata": {
    "id": "900bc9b0",
    "outputId": "f782db28-a0dd-44e5-9b1b-9bf0436a1d56"
   },
   "outputs": [
    {
     "name": "stderr",
     "output_type": "stream",
     "text": [
      "C:\\Users\\Admin\\AppData\\Local\\Temp\\ipykernel_7980\\2598165646.py:15: UserWarning: To copy construct from a tensor, it is recommended to use sourceTensor.clone().detach() or sourceTensor.clone().detach().requires_grad_(True), rather than torch.tensor(sourceTensor).\n",
      "  inputs, labels = torch.tensor(data[0]).clone().detach(),torch.tensor(data[1]).clone().detach()\n"
     ]
    },
    {
     "name": "stdout",
     "output_type": "stream",
     "text": [
      "Epoch 50, Running Loss: 0.5502924234132832\n",
      "Epoch 100, Running Loss: 0.00677722292962971\n",
      "Epoch 150, Running Loss: 0.0014151369943632695\n",
      "Epoch 200, Running Loss: 0.0007419185343189482\n",
      "Epoch 250, Running Loss: 0.00045572132043046875\n",
      "Epoch 300, Running Loss: 0.0003060792447831347\n",
      "Epoch 350, Running Loss: 0.00021891947121240708\n",
      "Epoch 400, Running Loss: 0.00016396205781996474\n",
      "Epoch 450, Running Loss: 0.0001271135805430616\n",
      "Epoch 500, Running Loss: 0.00010129036507878819\n",
      "Epoch 550, Running Loss: 8.254963344672429e-05\n",
      "Epoch 600, Running Loss: 6.852437805786973e-05\n",
      "Epoch 650, Running Loss: 5.774240226100257e-05\n",
      "Epoch 700, Running Loss: 4.9281512279454565e-05\n",
      "Epoch 750, Running Loss: 4.250949043935965e-05\n",
      "Epoch 800, Running Loss: 3.7031331315135515e-05\n",
      "Epoch 850, Running Loss: 3.252596158822821e-05\n",
      "Epoch 900, Running Loss: 2.8767424961914502e-05\n",
      "Epoch 950, Running Loss: 2.561285753511414e-05\n",
      "Epoch 1000, Running Loss: 2.292995467530528e-05\n"
     ]
    }
   ],
   "source": [
    "trainer = Trainer(model, [X_train_tensor,y_train_tensor], [X_val_tensor,y_val_tensor], [X_test_tensor,y_test_tensor])\n",
    "trainer.train(epochs)  "
   ]
  },
  {
   "cell_type": "code",
   "execution_count": 556,
   "id": "69110c72",
   "metadata": {
    "id": "69110c72",
    "outputId": "e6a9b943-7255-4baa-ace8-a9ce34216a57"
   },
   "outputs": [
    {
     "name": "stderr",
     "output_type": "stream",
     "text": [
      "C:\\Users\\Admin\\AppData\\Local\\Temp\\ipykernel_7980\\2598165646.py:27: UserWarning: To copy construct from a tensor, it is recommended to use sourceTensor.clone().detach() or sourceTensor.clone().detach().requires_grad_(True), rather than torch.tensor(sourceTensor).\n",
      "  inputs, labels = torch.tensor(data[0]).clone().detach(),data[1]\n"
     ]
    }
   ],
   "source": [
    "#Train\n",
    "train_predicted, train_weighted_acc, train_report = trainer.test([X_train_tensor,y_train_tensor])\n",
    "#Validation\n",
    "val_predicted, val_weighted_acc, val_report = trainer.test([X_val_tensor,y_val_tensor])\n",
    "#Test\n",
    "test_predicted, test_weighted_acc, test_report = trainer.test([X_test_tensor,y_test_tensor])"
   ]
  },
  {
   "cell_type": "code",
   "execution_count": 557,
   "id": "fa87baf6",
   "metadata": {
    "id": "17b58061"
   },
   "outputs": [],
   "source": [
    "df_result_train = pd.DataFrame(train_report, columns = ['Precision','Recall','F1 - Score', 'Accuracy - Category wise', 'Count - Category wise'])\n",
    "df_result_validation = pd.DataFrame(val_report, columns = ['Precision','Recall','F1 - Score', 'Accuracy - Category wise', 'Count - Category wise'])\n",
    "df_result_test = pd.DataFrame(test_report, columns = ['Precision','Recall','F1 - Score', 'Accuracy - Category wise', 'Count - Category wise'])"
   ]
  },
  {
   "cell_type": "markdown",
   "id": "c8ee3228",
   "metadata": {},
   "source": [
    "#### ANN model classification report"
   ]
  },
  {
   "cell_type": "code",
   "execution_count": 558,
   "id": "fccb6d67",
   "metadata": {
    "id": "fccb6d67",
    "outputId": "f5e6b7d7-f175-41c1-e7fd-fd68124a3c2e",
    "scrolled": false
   },
   "outputs": [
    {
     "name": "stdout",
     "output_type": "stream",
     "text": [
      "Training Set - Report\n",
      "Train Weighted Accuracy 1.0\n"
     ]
    },
    {
     "data": {
      "text/html": [
       "<div>\n",
       "<style scoped>\n",
       "    .dataframe tbody tr th:only-of-type {\n",
       "        vertical-align: middle;\n",
       "    }\n",
       "\n",
       "    .dataframe tbody tr th {\n",
       "        vertical-align: top;\n",
       "    }\n",
       "\n",
       "    .dataframe thead th {\n",
       "        text-align: right;\n",
       "    }\n",
       "</style>\n",
       "<table border=\"1\" class=\"dataframe\">\n",
       "  <thead>\n",
       "    <tr style=\"text-align: right;\">\n",
       "      <th></th>\n",
       "      <th>Precision</th>\n",
       "      <th>Recall</th>\n",
       "      <th>F1 - Score</th>\n",
       "      <th>Accuracy - Category wise</th>\n",
       "      <th>Count - Category wise</th>\n",
       "    </tr>\n",
       "  </thead>\n",
       "  <tbody>\n",
       "    <tr>\n",
       "      <th>0</th>\n",
       "      <td>1.0</td>\n",
       "      <td>1.0</td>\n",
       "      <td>1.0</td>\n",
       "      <td>1.0</td>\n",
       "      <td>42.0</td>\n",
       "    </tr>\n",
       "    <tr>\n",
       "      <th>1</th>\n",
       "      <td>1.0</td>\n",
       "      <td>1.0</td>\n",
       "      <td>1.0</td>\n",
       "      <td>1.0</td>\n",
       "      <td>162.0</td>\n",
       "    </tr>\n",
       "    <tr>\n",
       "      <th>2</th>\n",
       "      <td>1.0</td>\n",
       "      <td>1.0</td>\n",
       "      <td>1.0</td>\n",
       "      <td>1.0</td>\n",
       "      <td>83.0</td>\n",
       "    </tr>\n",
       "    <tr>\n",
       "      <th>3</th>\n",
       "      <td>1.0</td>\n",
       "      <td>1.0</td>\n",
       "      <td>1.0</td>\n",
       "      <td>1.0</td>\n",
       "      <td>40.0</td>\n",
       "    </tr>\n",
       "  </tbody>\n",
       "</table>\n",
       "</div>"
      ],
      "text/plain": [
       "   Precision  Recall  F1 - Score  Accuracy - Category wise  \\\n",
       "0        1.0     1.0         1.0                       1.0   \n",
       "1        1.0     1.0         1.0                       1.0   \n",
       "2        1.0     1.0         1.0                       1.0   \n",
       "3        1.0     1.0         1.0                       1.0   \n",
       "\n",
       "   Count - Category wise  \n",
       "0                   42.0  \n",
       "1                  162.0  \n",
       "2                   83.0  \n",
       "3                   40.0  "
      ]
     },
     "metadata": {},
     "output_type": "display_data"
    },
    {
     "name": "stdout",
     "output_type": "stream",
     "text": [
      "Validation Set - Report\n",
      "Validation Weighted Accuracy 0.6145635528632756\n"
     ]
    },
    {
     "data": {
      "text/html": [
       "<div>\n",
       "<style scoped>\n",
       "    .dataframe tbody tr th:only-of-type {\n",
       "        vertical-align: middle;\n",
       "    }\n",
       "\n",
       "    .dataframe tbody tr th {\n",
       "        vertical-align: top;\n",
       "    }\n",
       "\n",
       "    .dataframe thead th {\n",
       "        text-align: right;\n",
       "    }\n",
       "</style>\n",
       "<table border=\"1\" class=\"dataframe\">\n",
       "  <thead>\n",
       "    <tr style=\"text-align: right;\">\n",
       "      <th></th>\n",
       "      <th>Precision</th>\n",
       "      <th>Recall</th>\n",
       "      <th>F1 - Score</th>\n",
       "      <th>Accuracy - Category wise</th>\n",
       "      <th>Count - Category wise</th>\n",
       "    </tr>\n",
       "  </thead>\n",
       "  <tbody>\n",
       "    <tr>\n",
       "      <th>0</th>\n",
       "      <td>0.40</td>\n",
       "      <td>0.80</td>\n",
       "      <td>0.53</td>\n",
       "      <td>0.80</td>\n",
       "      <td>5.0</td>\n",
       "    </tr>\n",
       "    <tr>\n",
       "      <th>1</th>\n",
       "      <td>0.81</td>\n",
       "      <td>0.72</td>\n",
       "      <td>0.76</td>\n",
       "      <td>0.72</td>\n",
       "      <td>40.0</td>\n",
       "    </tr>\n",
       "    <tr>\n",
       "      <th>2</th>\n",
       "      <td>0.45</td>\n",
       "      <td>0.50</td>\n",
       "      <td>0.48</td>\n",
       "      <td>0.50</td>\n",
       "      <td>20.0</td>\n",
       "    </tr>\n",
       "    <tr>\n",
       "      <th>3</th>\n",
       "      <td>0.50</td>\n",
       "      <td>0.41</td>\n",
       "      <td>0.45</td>\n",
       "      <td>0.41</td>\n",
       "      <td>17.0</td>\n",
       "    </tr>\n",
       "  </tbody>\n",
       "</table>\n",
       "</div>"
      ],
      "text/plain": [
       "   Precision  Recall  F1 - Score  Accuracy - Category wise  \\\n",
       "0       0.40    0.80        0.53                      0.80   \n",
       "1       0.81    0.72        0.76                      0.72   \n",
       "2       0.45    0.50        0.48                      0.50   \n",
       "3       0.50    0.41        0.45                      0.41   \n",
       "\n",
       "   Count - Category wise  \n",
       "0                    5.0  \n",
       "1                   40.0  \n",
       "2                   20.0  \n",
       "3                   17.0  "
      ]
     },
     "metadata": {},
     "output_type": "display_data"
    },
    {
     "name": "stdout",
     "output_type": "stream",
     "text": [
      "Test Set - Report\n",
      "Test Weighted Accuracy 0.47112716508378416\n"
     ]
    },
    {
     "data": {
      "text/html": [
       "<div>\n",
       "<style scoped>\n",
       "    .dataframe tbody tr th:only-of-type {\n",
       "        vertical-align: middle;\n",
       "    }\n",
       "\n",
       "    .dataframe tbody tr th {\n",
       "        vertical-align: top;\n",
       "    }\n",
       "\n",
       "    .dataframe thead th {\n",
       "        text-align: right;\n",
       "    }\n",
       "</style>\n",
       "<table border=\"1\" class=\"dataframe\">\n",
       "  <thead>\n",
       "    <tr style=\"text-align: right;\">\n",
       "      <th></th>\n",
       "      <th>Precision</th>\n",
       "      <th>Recall</th>\n",
       "      <th>F1 - Score</th>\n",
       "      <th>Accuracy - Category wise</th>\n",
       "      <th>Count - Category wise</th>\n",
       "    </tr>\n",
       "  </thead>\n",
       "  <tbody>\n",
       "    <tr>\n",
       "      <th>0</th>\n",
       "      <td>0.24</td>\n",
       "      <td>0.29</td>\n",
       "      <td>0.26</td>\n",
       "      <td>0.29</td>\n",
       "      <td>17.0</td>\n",
       "    </tr>\n",
       "    <tr>\n",
       "      <th>1</th>\n",
       "      <td>0.68</td>\n",
       "      <td>0.57</td>\n",
       "      <td>0.62</td>\n",
       "      <td>0.57</td>\n",
       "      <td>47.0</td>\n",
       "    </tr>\n",
       "    <tr>\n",
       "      <th>2</th>\n",
       "      <td>0.50</td>\n",
       "      <td>0.50</td>\n",
       "      <td>0.50</td>\n",
       "      <td>0.50</td>\n",
       "      <td>28.0</td>\n",
       "    </tr>\n",
       "    <tr>\n",
       "      <th>3</th>\n",
       "      <td>0.07</td>\n",
       "      <td>0.09</td>\n",
       "      <td>0.08</td>\n",
       "      <td>0.09</td>\n",
       "      <td>11.0</td>\n",
       "    </tr>\n",
       "  </tbody>\n",
       "</table>\n",
       "</div>"
      ],
      "text/plain": [
       "   Precision  Recall  F1 - Score  Accuracy - Category wise  \\\n",
       "0       0.24    0.29        0.26                      0.29   \n",
       "1       0.68    0.57        0.62                      0.57   \n",
       "2       0.50    0.50        0.50                      0.50   \n",
       "3       0.07    0.09        0.08                      0.09   \n",
       "\n",
       "   Count - Category wise  \n",
       "0                   17.0  \n",
       "1                   47.0  \n",
       "2                   28.0  \n",
       "3                   11.0  "
      ]
     },
     "metadata": {},
     "output_type": "display_data"
    }
   ],
   "source": [
    "print('Training Set - Report')\n",
    "print(f'Train Weighted Accuracy {train_weighted_acc}')\n",
    "display(df_result_train)\n",
    "print('Validation Set - Report')\n",
    "print(f'Validation Weighted Accuracy {val_weighted_acc}')\n",
    "display(df_result_validation)\n",
    "print('Test Set - Report')\n",
    "print(f'Test Weighted Accuracy {test_weighted_acc}')\n",
    "display(df_result_test)"
   ]
  },
  {
   "cell_type": "markdown",
   "id": "54debcae",
   "metadata": {
    "id": "54debcae"
   },
   "source": [
    "## Conclusion  :\n",
    "#### We have reverified the result of MLP classifier using an ANN model and achieved approximately same indication of over-fitting which results high train accuracy and poor accuracy in both test and validation dataset."
   ]
  },
  {
   "cell_type": "markdown",
   "id": "ae2fd0cb",
   "metadata": {
    "id": "ae2fd0cb"
   },
   "source": [
    "##### (c) (Optional) Train the above-mentioned neural network model with comparatively less overfitting.(Hint: Use drop-out layers (or) early call back)"
   ]
  },
  {
   "cell_type": "markdown",
   "id": "6ef1cc00",
   "metadata": {},
   "source": [
    "#### Creating a revised ANN model by introducing drop out layers to see tyhe effect on over-fitting"
   ]
  },
  {
   "cell_type": "code",
   "execution_count": 630,
   "id": "2319b205",
   "metadata": {
    "id": "2319b205"
   },
   "outputs": [],
   "source": [
    "class RevisedANNModel(nn.Module):\n",
    "    def __init__(self):\n",
    "        super(RevisedANNModel, self).__init__()\n",
    "        self.linear1 = nn.Linear(29, 128)        \n",
    "        self.linear2 = nn.Linear(128, 128)\n",
    "        self.linear3 = nn.Linear(128, 128)\n",
    "        self.linear4 = nn.Linear(128, 4)\n",
    "        self.dropout1 = nn.Dropout(p=0.3)\n",
    "        self.dropout2 = nn.Dropout(p=0.4)\n",
    "        self.dropout3 = nn.Dropout(p=0.6)\n",
    "        self.relu = nn.ReLU()\n",
    "        \n",
    "    def forward(self, x):\n",
    "        out = self.linear1(x)\n",
    "        out = self.relu(out)\n",
    "        out = self.dropout1(out)\n",
    "        out = self.linear2(out)\n",
    "        out = self.relu(out)\n",
    "        out = self.dropout2(out)\n",
    "        out = self.linear3(out)\n",
    "        out = self.relu(out)\n",
    "        out = self.dropout3(out)\n",
    "        out = self.linear4(out)\n",
    "        return out"
   ]
  },
  {
   "cell_type": "code",
   "execution_count": 631,
   "id": "0da82040",
   "metadata": {
    "id": "0da82040"
   },
   "outputs": [],
   "source": [
    "revisedmodel = RevisedANNModel() "
   ]
  },
  {
   "cell_type": "code",
   "execution_count": 632,
   "id": "6455d32a",
   "metadata": {
    "id": "6455d32a",
    "outputId": "28c4d54a-1db4-456c-dd99-4fc309bb4b9b"
   },
   "outputs": [
    {
     "name": "stderr",
     "output_type": "stream",
     "text": [
      "C:\\Users\\Admin\\AppData\\Local\\Temp\\ipykernel_7980\\2598165646.py:15: UserWarning: To copy construct from a tensor, it is recommended to use sourceTensor.clone().detach() or sourceTensor.clone().detach().requires_grad_(True), rather than torch.tensor(sourceTensor).\n",
      "  inputs, labels = torch.tensor(data[0]).clone().detach(),torch.tensor(data[1]).clone().detach()\n"
     ]
    },
    {
     "name": "stdout",
     "output_type": "stream",
     "text": [
      "Epoch 50, Running Loss: 1.0455964213559\n",
      "Epoch 100, Running Loss: 0.6478592668228679\n",
      "Epoch 150, Running Loss: 0.36889821395413547\n",
      "Epoch 200, Running Loss: 0.23298924568910584\n",
      "Epoch 250, Running Loss: 0.16371399894065297\n",
      "Epoch 300, Running Loss: 0.1197115295623122\n",
      "Epoch 350, Running Loss: 0.14047632930297402\n",
      "Epoch 400, Running Loss: 0.06426028720264736\n",
      "Epoch 450, Running Loss: 0.06228463956666753\n",
      "Epoch 500, Running Loss: 0.0682607920040453\n",
      "Epoch 550, Running Loss: 0.05314769027379475\n",
      "Epoch 600, Running Loss: 0.0646859792603878\n",
      "Epoch 650, Running Loss: 0.03758017517502089\n",
      "Epoch 700, Running Loss: 0.03127655355943588\n",
      "Epoch 750, Running Loss: 0.035581512862226744\n",
      "Epoch 800, Running Loss: 0.024227931378192777\n",
      "Epoch 850, Running Loss: 0.04080415787379146\n",
      "Epoch 900, Running Loss: 0.036623245153126795\n",
      "Epoch 950, Running Loss: 0.04555433056821091\n",
      "Epoch 1000, Running Loss: 0.01953873353813761\n"
     ]
    }
   ],
   "source": [
    "trainer = Trainer(revisedmodel, [X_train_tensor,y_train_tensor], [X_val_tensor,y_val_tensor], [X_test_tensor,y_test_tensor])\n",
    "trainer.train(epochs) "
   ]
  },
  {
   "cell_type": "code",
   "execution_count": 633,
   "id": "71c55093",
   "metadata": {
    "id": "71c55093",
    "outputId": "790da988-3fe0-4e50-a859-5bbe2fd97de8"
   },
   "outputs": [
    {
     "name": "stderr",
     "output_type": "stream",
     "text": [
      "C:\\Users\\Admin\\AppData\\Local\\Temp\\ipykernel_7980\\2598165646.py:27: UserWarning: To copy construct from a tensor, it is recommended to use sourceTensor.clone().detach() or sourceTensor.clone().detach().requires_grad_(True), rather than torch.tensor(sourceTensor).\n",
      "  inputs, labels = torch.tensor(data[0]).clone().detach(),data[1]\n"
     ]
    }
   ],
   "source": [
    "#Train\n",
    "train_revised_predicted, train_revised_weighted_acc, train_revised_report = trainer.test([X_train_tensor,y_train_tensor])\n",
    "#Validation\n",
    "val_revised_predicted, val_revised_weighted_acc, val_revised_report = trainer.test([X_val_tensor,y_val_tensor])\n",
    "#Test\n",
    "test_revised_predicted, test_revised_weighted_acc, test_revised_report = trainer.test([X_test_tensor,y_test_tensor])"
   ]
  },
  {
   "cell_type": "code",
   "execution_count": 634,
   "id": "651b5245",
   "metadata": {
    "id": "651b5245"
   },
   "outputs": [],
   "source": [
    "df_revised_result_train = pd.DataFrame(train_revised_report, columns = ['Precision','Recall','F1 - Score', 'Accuracy - Category wise', 'Count - Category wise'])\n",
    "df_revised_result_validation = pd.DataFrame(val_revised_report, columns = ['Precision','Recall','F1 - Score', 'Accuracy - Category wise', 'Count - Category wise'])\n",
    "df_revised_result_test = pd.DataFrame(test_revised_report, columns = ['Precision','Recall','F1 - Score', 'Accuracy - Category wise', 'Count - Category wise'])"
   ]
  },
  {
   "cell_type": "markdown",
   "id": "31ed7f05",
   "metadata": {},
   "source": [
    "#### Revised ANN model classification report"
   ]
  },
  {
   "cell_type": "code",
   "execution_count": 635,
   "id": "ec66109b",
   "metadata": {
    "id": "ec66109b",
    "outputId": "2298994b-ce63-4a52-be2b-9a515389bac5"
   },
   "outputs": [
    {
     "name": "stdout",
     "output_type": "stream",
     "text": [
      "Revised Training Set - Report\n",
      "Revised Train Weighted Accuracy 0.9969316969359389\n"
     ]
    },
    {
     "data": {
      "text/html": [
       "<div>\n",
       "<style scoped>\n",
       "    .dataframe tbody tr th:only-of-type {\n",
       "        vertical-align: middle;\n",
       "    }\n",
       "\n",
       "    .dataframe tbody tr th {\n",
       "        vertical-align: top;\n",
       "    }\n",
       "\n",
       "    .dataframe thead th {\n",
       "        text-align: right;\n",
       "    }\n",
       "</style>\n",
       "<table border=\"1\" class=\"dataframe\">\n",
       "  <thead>\n",
       "    <tr style=\"text-align: right;\">\n",
       "      <th></th>\n",
       "      <th>Precision</th>\n",
       "      <th>Recall</th>\n",
       "      <th>F1 - Score</th>\n",
       "      <th>Accuracy - Category wise</th>\n",
       "      <th>Count - Category wise</th>\n",
       "    </tr>\n",
       "  </thead>\n",
       "  <tbody>\n",
       "    <tr>\n",
       "      <th>0</th>\n",
       "      <td>1.00</td>\n",
       "      <td>1.00</td>\n",
       "      <td>1.00</td>\n",
       "      <td>1.00</td>\n",
       "      <td>42.0</td>\n",
       "    </tr>\n",
       "    <tr>\n",
       "      <th>1</th>\n",
       "      <td>1.00</td>\n",
       "      <td>1.00</td>\n",
       "      <td>1.00</td>\n",
       "      <td>1.00</td>\n",
       "      <td>162.0</td>\n",
       "    </tr>\n",
       "    <tr>\n",
       "      <th>2</th>\n",
       "      <td>0.99</td>\n",
       "      <td>1.00</td>\n",
       "      <td>0.99</td>\n",
       "      <td>1.00</td>\n",
       "      <td>83.0</td>\n",
       "    </tr>\n",
       "    <tr>\n",
       "      <th>3</th>\n",
       "      <td>1.00</td>\n",
       "      <td>0.98</td>\n",
       "      <td>0.99</td>\n",
       "      <td>0.98</td>\n",
       "      <td>40.0</td>\n",
       "    </tr>\n",
       "  </tbody>\n",
       "</table>\n",
       "</div>"
      ],
      "text/plain": [
       "   Precision  Recall  F1 - Score  Accuracy - Category wise  \\\n",
       "0       1.00    1.00        1.00                      1.00   \n",
       "1       1.00    1.00        1.00                      1.00   \n",
       "2       0.99    1.00        0.99                      1.00   \n",
       "3       1.00    0.98        0.99                      0.98   \n",
       "\n",
       "   Count - Category wise  \n",
       "0                   42.0  \n",
       "1                  162.0  \n",
       "2                   83.0  \n",
       "3                   40.0  "
      ]
     },
     "metadata": {},
     "output_type": "display_data"
    },
    {
     "name": "stdout",
     "output_type": "stream",
     "text": [
      "Revised Validation Set - Report\n",
      "Revised Validation Weighted Accuracy 0.6128966467700414\n"
     ]
    },
    {
     "data": {
      "text/html": [
       "<div>\n",
       "<style scoped>\n",
       "    .dataframe tbody tr th:only-of-type {\n",
       "        vertical-align: middle;\n",
       "    }\n",
       "\n",
       "    .dataframe tbody tr th {\n",
       "        vertical-align: top;\n",
       "    }\n",
       "\n",
       "    .dataframe thead th {\n",
       "        text-align: right;\n",
       "    }\n",
       "</style>\n",
       "<table border=\"1\" class=\"dataframe\">\n",
       "  <thead>\n",
       "    <tr style=\"text-align: right;\">\n",
       "      <th></th>\n",
       "      <th>Precision</th>\n",
       "      <th>Recall</th>\n",
       "      <th>F1 - Score</th>\n",
       "      <th>Accuracy - Category wise</th>\n",
       "      <th>Count - Category wise</th>\n",
       "    </tr>\n",
       "  </thead>\n",
       "  <tbody>\n",
       "    <tr>\n",
       "      <th>0</th>\n",
       "      <td>0.33</td>\n",
       "      <td>0.40</td>\n",
       "      <td>0.36</td>\n",
       "      <td>0.40</td>\n",
       "      <td>5.0</td>\n",
       "    </tr>\n",
       "    <tr>\n",
       "      <th>1</th>\n",
       "      <td>0.69</td>\n",
       "      <td>0.78</td>\n",
       "      <td>0.73</td>\n",
       "      <td>0.78</td>\n",
       "      <td>40.0</td>\n",
       "    </tr>\n",
       "    <tr>\n",
       "      <th>2</th>\n",
       "      <td>0.57</td>\n",
       "      <td>0.60</td>\n",
       "      <td>0.59</td>\n",
       "      <td>0.60</td>\n",
       "      <td>20.0</td>\n",
       "    </tr>\n",
       "    <tr>\n",
       "      <th>3</th>\n",
       "      <td>0.60</td>\n",
       "      <td>0.35</td>\n",
       "      <td>0.44</td>\n",
       "      <td>0.35</td>\n",
       "      <td>17.0</td>\n",
       "    </tr>\n",
       "  </tbody>\n",
       "</table>\n",
       "</div>"
      ],
      "text/plain": [
       "   Precision  Recall  F1 - Score  Accuracy - Category wise  \\\n",
       "0       0.33    0.40        0.36                      0.40   \n",
       "1       0.69    0.78        0.73                      0.78   \n",
       "2       0.57    0.60        0.59                      0.60   \n",
       "3       0.60    0.35        0.44                      0.35   \n",
       "\n",
       "   Count - Category wise  \n",
       "0                    5.0  \n",
       "1                   40.0  \n",
       "2                   20.0  \n",
       "3                   17.0  "
      ]
     },
     "metadata": {},
     "output_type": "display_data"
    },
    {
     "name": "stdout",
     "output_type": "stream",
     "text": [
      "Revised Test Set - Report\n",
      "Revised Test Weighted Accuracy 0.5284896333440023\n"
     ]
    },
    {
     "data": {
      "text/html": [
       "<div>\n",
       "<style scoped>\n",
       "    .dataframe tbody tr th:only-of-type {\n",
       "        vertical-align: middle;\n",
       "    }\n",
       "\n",
       "    .dataframe tbody tr th {\n",
       "        vertical-align: top;\n",
       "    }\n",
       "\n",
       "    .dataframe thead th {\n",
       "        text-align: right;\n",
       "    }\n",
       "</style>\n",
       "<table border=\"1\" class=\"dataframe\">\n",
       "  <thead>\n",
       "    <tr style=\"text-align: right;\">\n",
       "      <th></th>\n",
       "      <th>Precision</th>\n",
       "      <th>Recall</th>\n",
       "      <th>F1 - Score</th>\n",
       "      <th>Accuracy - Category wise</th>\n",
       "      <th>Count - Category wise</th>\n",
       "    </tr>\n",
       "  </thead>\n",
       "  <tbody>\n",
       "    <tr>\n",
       "      <th>0</th>\n",
       "      <td>0.31</td>\n",
       "      <td>0.24</td>\n",
       "      <td>0.27</td>\n",
       "      <td>0.24</td>\n",
       "      <td>17.0</td>\n",
       "    </tr>\n",
       "    <tr>\n",
       "      <th>1</th>\n",
       "      <td>0.73</td>\n",
       "      <td>0.68</td>\n",
       "      <td>0.70</td>\n",
       "      <td>0.68</td>\n",
       "      <td>47.0</td>\n",
       "    </tr>\n",
       "    <tr>\n",
       "      <th>2</th>\n",
       "      <td>0.46</td>\n",
       "      <td>0.61</td>\n",
       "      <td>0.52</td>\n",
       "      <td>0.61</td>\n",
       "      <td>28.0</td>\n",
       "    </tr>\n",
       "    <tr>\n",
       "      <th>3</th>\n",
       "      <td>0.22</td>\n",
       "      <td>0.18</td>\n",
       "      <td>0.20</td>\n",
       "      <td>0.18</td>\n",
       "      <td>11.0</td>\n",
       "    </tr>\n",
       "  </tbody>\n",
       "</table>\n",
       "</div>"
      ],
      "text/plain": [
       "   Precision  Recall  F1 - Score  Accuracy - Category wise  \\\n",
       "0       0.31    0.24        0.27                      0.24   \n",
       "1       0.73    0.68        0.70                      0.68   \n",
       "2       0.46    0.61        0.52                      0.61   \n",
       "3       0.22    0.18        0.20                      0.18   \n",
       "\n",
       "   Count - Category wise  \n",
       "0                   17.0  \n",
       "1                   47.0  \n",
       "2                   28.0  \n",
       "3                   11.0  "
      ]
     },
     "metadata": {},
     "output_type": "display_data"
    }
   ],
   "source": [
    "print('Revised Training Set - Report')\n",
    "print(f'Revised Train Weighted Accuracy {train_revised_weighted_acc}')\n",
    "display(df_revised_result_train)\n",
    "print('Revised Validation Set - Report')\n",
    "print(f'Revised Validation Weighted Accuracy {val_revised_weighted_acc}')\n",
    "display(df_revised_result_validation)\n",
    "print('Revised Test Set - Report')\n",
    "print(f'Revised Test Weighted Accuracy {test_revised_weighted_acc}')\n",
    "display(df_revised_result_test)"
   ]
  },
  {
   "cell_type": "markdown",
   "id": "1d3aa9dd",
   "metadata": {
    "id": "1d3aa9dd"
   },
   "source": [
    "## Conclusion : \n",
    "##### We have introduced three drop out layer in our revised neural network and have noticed that train accuracy drop but test accuracy has increased, which indicate that over-fitting has been handled by introducing drop out layer in the network. This can be further improved by revising the model but considering the scope of the problem statement not proceeding any further. "
   ]
  },
  {
   "cell_type": "code",
   "execution_count": null,
   "id": "11ad9ae2",
   "metadata": {
    "id": "11ad9ae2"
   },
   "outputs": [],
   "source": []
  },
  {
   "cell_type": "code",
   "execution_count": null,
   "id": "0265d45d",
   "metadata": {
    "id": "0265d45d"
   },
   "outputs": [],
   "source": []
  },
  {
   "cell_type": "code",
   "execution_count": null,
   "id": "4da75405",
   "metadata": {
    "id": "4da75405"
   },
   "outputs": [],
   "source": []
  }
 ],
 "metadata": {
  "accelerator": "GPU",
  "colab": {
   "provenance": []
  },
  "gpuClass": "standard",
  "kernelspec": {
   "display_name": "Python 3 (ipykernel)",
   "language": "python",
   "name": "python3"
  },
  "language_info": {
   "codemirror_mode": {
    "name": "ipython",
    "version": 3
   },
   "file_extension": ".py",
   "mimetype": "text/x-python",
   "name": "python",
   "nbconvert_exporter": "python",
   "pygments_lexer": "ipython3",
   "version": "3.9.16"
  }
 },
 "nbformat": 4,
 "nbformat_minor": 5
}
