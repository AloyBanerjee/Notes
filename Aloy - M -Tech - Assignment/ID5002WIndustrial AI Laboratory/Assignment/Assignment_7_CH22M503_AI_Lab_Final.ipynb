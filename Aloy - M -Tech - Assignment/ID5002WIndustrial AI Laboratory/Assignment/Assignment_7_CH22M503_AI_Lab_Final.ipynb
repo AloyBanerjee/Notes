{
 "cells": [
  {
   "cell_type": "markdown",
   "id": "af64145a",
   "metadata": {},
   "source": [
    "### AI Lab -  Assignment 7 - CH22M503"
   ]
  },
  {
   "cell_type": "markdown",
   "id": "8a5f3961",
   "metadata": {},
   "source": [
    "#### Author - Aloy Banerjee\n",
    "###### Roll No. CH22M503"
   ]
  },
  {
   "cell_type": "markdown",
   "id": "603b0406",
   "metadata": {},
   "source": [
    "## Question:\n",
    "###### A team of researchers has collected image data of human cells 1 to predict the malarial infected cell. The file shared ‘Datasets.zip’ has the required data. Students must work on the folder that is named after their respective roll numbers. Each folder has two subfolders ‘parasite’ and ‘uninfected’ referring to the positive and the negative classes.\n",
    "###### (a) Build a Convolutional Neural Network model that can predict the input image as uninfected or parasite. Note that the dataset could be highly imbalanced. (Hint: Use weighted sampling (or) weighted loss function (or) augment the dataset to generate more samples of the imbalanced class)\n",
    "###### (b) Report the prediction accuracy, precision, recall, and F1 score in the test dataset.\n",
    "###### (c) (Optional) Try finding a similar human cell image classification model and fine-tune the model using the images shared with you and compare its performance with the model trained by you."
   ]
  },
  {
   "cell_type": "markdown",
   "id": "ade1ea71",
   "metadata": {},
   "source": [
    "#### Reference"
   ]
  },
  {
   "cell_type": "code",
   "execution_count": null,
   "id": "f3101ce6",
   "metadata": {},
   "outputs": [],
   "source": []
  },
  {
   "cell_type": "markdown",
   "id": "7bca844e",
   "metadata": {},
   "source": [
    "#### Importing Library"
   ]
  },
  {
   "cell_type": "code",
   "execution_count": 1,
   "id": "fef248ac",
   "metadata": {},
   "outputs": [],
   "source": [
    "#Basic Libraries\n",
    "import os\n",
    "import math\n",
    "import numpy as np\n",
    "import pandas as pd\n",
    "import matplotlib.pyplot as plt\n",
    "import seaborn as sns\n",
    "\n",
    "#For image operation\n",
    "import cv2\n",
    "from PIL import Image\n",
    "\n",
    "#For Pytorch\n",
    "import torch\n",
    "import torch.nn as nn\n",
    "import torch.optim as optim\n",
    "from torchvision.transforms import transforms\n",
    "from torch.utils.data import Dataset, random_split, DataLoader, TensorDataset\n",
    "\n",
    "#For SK Learn\n",
    "from sklearn.model_selection import train_test_split, GridSearchCV\n",
    "from sklearn.metrics import classification_report, confusion_matrix, roc_curve, auc, RocCurveDisplay, accuracy_score, make_scorer, roc_auc_score\n",
    "from sklearn.preprocessing import StandardScaler, normalize\n",
    "from sklearn.neural_network import MLPClassifier\n",
    "\n",
    "from tqdm import tqdm"
   ]
  },
  {
   "cell_type": "markdown",
   "id": "30267963",
   "metadata": {},
   "source": [
    "#### Common variable declaration"
   ]
  },
  {
   "cell_type": "code",
   "execution_count": 2,
   "id": "1eee2fde",
   "metadata": {},
   "outputs": [],
   "source": [
    "workingDir = 'C:\\\\Users\\\\Admin\\\\Coding-M-Tech\\\\AI Lab - ID5002W\\\\Assignment 7\\\\Datasets\\\\ch22m503\\\\'\n",
    "dataset_folderName = ['parasite', 'uninfected']\n",
    "img_size = 150\n",
    "seed = 42\n",
    "dataset = []\n",
    "label = []\n",
    "epochs = 100\n",
    "round_precesion= 2\n",
    "positive_class = 0\n",
    "negative_class = 0"
   ]
  },
  {
   "cell_type": "code",
   "execution_count": 3,
   "id": "ffdbf0a2",
   "metadata": {},
   "outputs": [],
   "source": [
    "os.chdir(workingDir)"
   ]
  },
  {
   "cell_type": "markdown",
   "id": "883af1bf",
   "metadata": {},
   "source": [
    "#### Common function"
   ]
  },
  {
   "cell_type": "code",
   "execution_count": 4,
   "id": "fa4deac5",
   "metadata": {},
   "outputs": [],
   "source": [
    "def data_load(dataset, label):\n",
    "    '''Splitting the dataset into train, test and validation'''\n",
    "    X_train, X_test, y_train, y_test = train_test_split(dataset, label, test_size = 0.20, random_state = seed)\n",
    "    X_train, X_val, y_train, y_val = train_test_split(X_train, y_train, test_size=0.2, random_state=seed)\n",
    "    return X_train, X_val, X_test, y_train, y_val, y_test\n",
    "\n",
    "def normalize_data(X):\n",
    "    '''Normalize the dataset'''\n",
    "    return X.astype('float32') / 255.\n",
    "\n",
    "def one_hot_encode_labels(Y):\n",
    "    '''Manual one hot encoding of the target value'''\n",
    "    return np.eye(10)[Y]\n",
    "\n",
    "def flatten_array(X):\n",
    "    '''Perform array flattening operation'''\n",
    "    return X.reshape((len(X), np.prod(X.shape[1:])))\n",
    "\n",
    "def data_normalize(X_train, X_validation, X_test, Y_train, Y_validation, Y_test):\n",
    "    '''Notmalize the input data '''\n",
    "    # Normalize the input images\n",
    "    X_train = normalize_data(X_train)\n",
    "    X_validation = normalize_data(X_validation)\n",
    "    X_test = normalize_data(X_test)\n",
    "    return X_train, X_validation, X_test, Y_train, Y_validation, Y_test\n",
    "\n",
    "def flatten_data(X_train,X_val,X_test):\n",
    "    '''Perform array flattening operation'''\n",
    "    X_train = flatten_array(X_train)\n",
    "    X_val = flatten_array(X_val)\n",
    "    X_test = flatten_array(X_test)\n",
    "    return X_train, X_val, X_test    \n",
    "\n",
    "def get_classification_metrics(actual_labels, predicted_labels):\n",
    "    '''Create performance metrices in a compact tabluler way'''\n",
    "    unique_labels = np.sort(np.unique(actual_labels))\n",
    "    actual_labels_np = actual_labels\n",
    "    predicted_labels_np = predicted_labels\n",
    "    confusion_matrix = np.zeros((len(unique_labels), len(unique_labels)))\n",
    "    classification_report = np.zeros((len(unique_labels), 5))\n",
    "    # Calculate confusion matrix\n",
    "    for i in range(len(unique_labels)):\n",
    "        for j in range(len(unique_labels)):\n",
    "            confusion_matrix[i, j] = np.sum((actual_labels_np == unique_labels[i]) & (predicted_labels_np == unique_labels[j]))\n",
    "    # Calculate category accuracy\n",
    "    category_accuracy = confusion_matrix.diagonal() / confusion_matrix.sum(axis=1)\n",
    "    weighted_acc = 0\n",
    "    # Calculate metrics for each category\n",
    "    for j in range(len(unique_labels)):\n",
    "        actual_label, predicted_label = (actual_labels_np == unique_labels[j]), (predicted_labels_np == unique_labels[j])\n",
    "        true_positives, false_positives, false_negatives = np.sum(actual_label & predicted_label), np.sum(~actual_label & predicted_label), np.sum(actual_label & ~predicted_label)\n",
    "        count = np.sum(actual_labels_np == unique_labels[j])\n",
    "        precision = true_positives / (true_positives + false_positives)\n",
    "        recall = true_positives / (true_positives + false_negatives)\n",
    "        f1_score = 2 * (precision * recall) / (precision + recall)\n",
    "        classification_report[j, :] = np.round([precision, recall, f1_score, category_accuracy[j], count], round_precesion)\n",
    "        weighted_acc += (f1_score * count)\n",
    "    weighted_acc = weighted_acc / len(actual_labels)\n",
    "    return weighted_acc, classification_report\n",
    " \n",
    "def summerize_metrics_torch(acc ,w_acc, report, instance = 'Train'):\n",
    "    '''Function to summerize the performance metrics for pytorch model'''\n",
    "    print(f'{instance} Accuracy {acc}')\n",
    "    print(f'{instance} Weighted Accuracy {w_acc}')\n",
    "    display(pd.DataFrame(report, columns = ['Precision','Recall','F1 - Score', 'Accuracy - Category wise', 'Count - Category wise']))"
   ]
  },
  {
   "cell_type": "markdown",
   "id": "f90d97c4",
   "metadata": {},
   "source": [
    "##### Handling the imbalance dataset in this assignment"
   ]
  },
  {
   "cell_type": "markdown",
   "id": "dc36cb9d",
   "metadata": {},
   "source": [
    "###### Class Weighting: During training, we can give the samples from the majority class greater weight and the samples from the minority class less weight. The model will be compelled to do this in order to avoid developing prejudice against the minority class and to pay greater attention to it.\n",
    "###### Data Augmentation : Performing the adjustment and creation of new data by using random horizontal flip, random rotation and normalization."
   ]
  },
  {
   "cell_type": "markdown",
   "id": "ccaf11bc",
   "metadata": {},
   "source": [
    "### CNN Model"
   ]
  },
  {
   "cell_type": "markdown",
   "id": "6a2765c9",
   "metadata": {},
   "source": [
    "##### Convolution Neural Network Model using pytorch"
   ]
  },
  {
   "cell_type": "code",
   "execution_count": 5,
   "id": "e6556f37",
   "metadata": {},
   "outputs": [],
   "source": [
    "class MalariaCellNet(nn.Module):\n",
    "    def __init__(self):\n",
    "        super(MalariaCellNet, self).__init__()\n",
    "        self.conv1 = nn.Conv2d(in_channels=3, out_channels=16, kernel_size=3)\n",
    "        self.pool = nn.MaxPool2d(kernel_size=2, stride=2)\n",
    "        self.conv2 = nn.Conv2d(in_channels=16, out_channels=32, kernel_size=3)\n",
    "        self.fc1 = nn.Linear(in_features=32*14*14, out_features=128)\n",
    "        self.fc2 = nn.Linear(in_features=128, out_features=2)\n",
    "    def forward(self, x):\n",
    "        x = self.pool(torch.relu(self.conv1(x)))\n",
    "        x = self.pool(torch.relu(self.conv2(x)))\n",
    "        x = x.view(-1, 32*14*14)\n",
    "        x = torch.relu(self.fc1(x))\n",
    "        x = self.fc2(x)\n",
    "        return x"
   ]
  },
  {
   "cell_type": "markdown",
   "id": "9d4e66c1",
   "metadata": {},
   "source": [
    "### Data processing and loading "
   ]
  },
  {
   "cell_type": "markdown",
   "id": "e51266a7",
   "metadata": {},
   "source": [
    "##### Data Processing for CNN model using pytorch"
   ]
  },
  {
   "cell_type": "code",
   "execution_count": 6,
   "id": "ef867a3a",
   "metadata": {},
   "outputs": [],
   "source": [
    "class MalariaDataset(Dataset):\n",
    "    def __init__(self, data_directory):\n",
    "        self.data_directory = data_directory\n",
    "        self.image_path = []\n",
    "        self.labels = []\n",
    "        for loop_label in os.listdir(data_directory):\n",
    "            label_directory = data_directory + loop_label + '\\\\'\n",
    "            for img_name in os.listdir(label_directory):\n",
    "                img_path = os.path.join(label_directory, img_name)\n",
    "                self.image_path.append(img_path)\n",
    "                self.labels.append(loop_label)\n",
    "\n",
    "    def __len__(self):\n",
    "        return len(self.image_path)\n",
    "\n",
    "    def __getitem__(self, idx):\n",
    "        img_path = self.image_path[idx]\n",
    "        label = self.labels[idx]  \n",
    "        transformer = transforms.Compose([\n",
    "            transforms.Resize((64, 64)),\n",
    "            transforms.ToTensor(),\n",
    "            #Data Augmentation\n",
    "            transforms.RandomRotation(degrees=10),\n",
    "            transforms.RandomHorizontalFlip(p=0.5),\n",
    "            transforms.Normalize(mean=[0.5, 0.5, 0.5], std=[0.5, 0.5, 0.5])\n",
    "        ])\n",
    "        with Image.open(img_path) as img:\n",
    "            rgb_img = transformer(img.convert('RGB'))\n",
    "        label = int(label == 'parasite')\n",
    "        return rgb_img, label\n",
    "\n",
    "    def split_data(self, size = 0.2):\n",
    "        test_size = round(size * len(self.image_path))\n",
    "        train_size = len(self.image_path) - test_size\n",
    "        validation_size = round(size * train_size)\n",
    "        train_size = train_size - validation_size\n",
    "        return random_split(self, [train_size, validation_size,test_size])"
   ]
  },
  {
   "cell_type": "markdown",
   "id": "9599effb",
   "metadata": {},
   "source": [
    "##### Data Processing and Loading for overall CNN model"
   ]
  },
  {
   "cell_type": "code",
   "execution_count": 7,
   "id": "075699f5",
   "metadata": {},
   "outputs": [],
   "source": [
    "parasitized_images = os.listdir(workingDir + f'{dataset_folderName[0]}//')\n",
    "for i, parasitized_image_name in enumerate(parasitized_images):\n",
    "    if (parasitized_image_name.split('.')[1] == 'png'):\n",
    "        parasitized_image = cv2.imread(workingDir + f'{dataset_folderName[0]}//' + parasitized_image_name)\n",
    "        parasitized_image = Image.fromarray(parasitized_image, 'RGB')\n",
    "        parasitized_image = parasitized_image.resize((img_size, img_size))\n",
    "        dataset.append(np.array(parasitized_image))\n",
    "        label.append(1)\n",
    "        positive_class +=1\n",
    "uninfected_images = os.listdir(workingDir + f'{dataset_folderName[1]}//')\n",
    "for i, uninfected_image_name in enumerate(uninfected_images):\n",
    "    if (uninfected_image_name.split('.')[1] == 'png'):\n",
    "        uninfected_image = cv2.imread(workingDir + f'{dataset_folderName[1]}//' + uninfected_image_name)\n",
    "        uninfected_image = Image.fromarray(uninfected_image, 'RGB')\n",
    "        uninfected_image = uninfected_image.resize((img_size, img_size))\n",
    "        dataset.append(np.array(uninfected_image))\n",
    "        label.append(0)\n",
    "        negative_class +=1"
   ]
  },
  {
   "cell_type": "markdown",
   "id": "f135e9d1",
   "metadata": {},
   "source": [
    "#### Data Visualization :  Display shape and type"
   ]
  },
  {
   "cell_type": "code",
   "execution_count": 8,
   "id": "d6aa7db9",
   "metadata": {},
   "outputs": [
    {
     "name": "stdout",
     "output_type": "stream",
     "text": [
      "Dataset size is  (492, 150, 150, 3)\n",
      "Label size is  (492,)\n"
     ]
    }
   ],
   "source": [
    "dataset = np.array(dataset)\n",
    "label = np.array(label)\n",
    "print(\"Dataset size is \", dataset.shape)\n",
    "print(\"Label size is \", label.shape)"
   ]
  },
  {
   "cell_type": "code",
   "execution_count": 9,
   "id": "e180b5ed",
   "metadata": {},
   "outputs": [
    {
     "name": "stdout",
     "output_type": "stream",
     "text": [
      "Dataset type is  <class 'numpy.ndarray'>\n",
      "Label type is  <class 'numpy.ndarray'>\n"
     ]
    }
   ],
   "source": [
    "print(\"Dataset type is \", type(dataset))\n",
    "print(\"Label type is \", type(label))"
   ]
  },
  {
   "cell_type": "markdown",
   "id": "2fef66f8",
   "metadata": {},
   "source": [
    "##### Data Visualization :  Display some sample cell images both infected and non infected"
   ]
  },
  {
   "cell_type": "code",
   "execution_count": 10,
   "id": "ea8a8f27",
   "metadata": {},
   "outputs": [
    {
     "data": {
      "image/png": "[encoded data removed]",
      "text/plain": [
       "<Figure size 1300x1300 with 10 Axes>"
      ]
     },
     "metadata": {},
     "output_type": "display_data"
    }
   ],
   "source": [
    "fig, axes = plt.subplots(1, 10, figsize=(13,13))\n",
    "for index, ax in enumerate(axes.flat):\n",
    "    ax.set_title(f'Cell {index}')\n",
    "    ax.imshow(dataset[index], cmap='cool')    \n",
    "    ax.axis('off')\n",
    "plt.show()"
   ]
  },
  {
   "cell_type": "markdown",
   "id": "841d9fee",
   "metadata": {},
   "source": [
    "### Data preparation"
   ]
  },
  {
   "cell_type": "markdown",
   "id": "b00ec17e",
   "metadata": {},
   "source": [
    "#### Split the images into train, validation and test data"
   ]
  },
  {
   "cell_type": "code",
   "execution_count": 11,
   "id": "aa42531e",
   "metadata": {},
   "outputs": [],
   "source": [
    "X_train, X_val, X_test, y_train, y_val, y_test = data_load(dataset, label)"
   ]
  },
  {
   "cell_type": "code",
   "execution_count": 12,
   "id": "64e93e3e",
   "metadata": {},
   "outputs": [
    {
     "name": "stdout",
     "output_type": "stream",
     "text": [
      "X_train Shape : (314, 150, 150, 3)\n",
      "X_val Shape : (79, 150, 150, 3)\n",
      "X_test Shape : (99, 150, 150, 3)\n",
      "Y_train Shape : (314,)\n",
      "Y_val Shape : (79,)\n",
      "Y_test Shape : (99,)\n"
     ]
    }
   ],
   "source": [
    "print(f'X_train Shape : {X_train.shape}')\n",
    "print(f'X_val Shape : {X_val.shape}')\n",
    "print(f'X_test Shape : {X_test.shape}')\n",
    "print(f'Y_train Shape : {y_train.shape}')\n",
    "print(f'Y_val Shape : {y_val.shape}')\n",
    "print(f'Y_test Shape : {y_test.shape}')"
   ]
  },
  {
   "cell_type": "markdown",
   "id": "89066be2",
   "metadata": {},
   "source": [
    "##### Normalizing the data"
   ]
  },
  {
   "cell_type": "code",
   "execution_count": 13,
   "id": "76de3754",
   "metadata": {},
   "outputs": [],
   "source": [
    "X_train_norm, X_val_norm, X_test_norm, Y_train_norm, Y_val_norm, Y_test_norm = data_normalize(X_train, X_val, X_test, y_train, y_val, y_test)"
   ]
  },
  {
   "cell_type": "code",
   "execution_count": 14,
   "id": "8a15ffbd",
   "metadata": {},
   "outputs": [
    {
     "name": "stdout",
     "output_type": "stream",
     "text": [
      "X_train_norm Shape : (314, 150, 150, 3)\n",
      "X_val_norm Shape : (79, 150, 150, 3)\n",
      "X_test_norm Shape : (99, 150, 150, 3)\n",
      "Y_train_norm Shape : (314,)\n",
      "Y_val_norm Shape : (79,)\n",
      "Y_test_norm Shape : (99,)\n"
     ]
    }
   ],
   "source": [
    "print(f'X_train_norm Shape : {X_train_norm.shape}')\n",
    "print(f'X_val_norm Shape : {X_val_norm.shape}')\n",
    "print(f'X_test_norm Shape : {X_test_norm.shape}')\n",
    "print(f'Y_train_norm Shape : {Y_train_norm.shape}')\n",
    "print(f'Y_val_norm Shape : {Y_val_norm.shape}')\n",
    "print(f'Y_test_norm Shape : {Y_test_norm.shape}')"
   ]
  },
  {
   "cell_type": "markdown",
   "id": "ecd91911",
   "metadata": {},
   "source": [
    "#### Q(a) Build a Convolutional Neural Network model that can predict the input image as uninfected or parasite. Note that the dataset could be highly imbalanced. (Hint: Use weighted sampling (or) weighted loss function (or) augment the dataset to generate more samples of the imbalanced class)"
   ]
  },
  {
   "cell_type": "markdown",
   "id": "4e89ae61",
   "metadata": {},
   "source": [
    "### ----------------------------------------------------------Start of Question (a) ----------------------------------------------------------"
   ]
  },
  {
   "cell_type": "markdown",
   "id": "4bd20d07",
   "metadata": {},
   "source": [
    "### Pytorch implementation of CNN model for given dataset"
   ]
  },
  {
   "cell_type": "markdown",
   "id": "bcdf1fb0",
   "metadata": {},
   "source": [
    "#### CNN model representation using pytorch"
   ]
  },
  {
   "cell_type": "code",
   "execution_count": 15,
   "id": "4ff4fe85",
   "metadata": {},
   "outputs": [
    {
     "name": "stdout",
     "output_type": "stream",
     "text": [
      "MalariaCellNet(\n",
      "  (conv1): Conv2d(3, 16, kernel_size=(3, 3), stride=(1, 1))\n",
      "  (pool): MaxPool2d(kernel_size=2, stride=2, padding=0, dilation=1, ceil_mode=False)\n",
      "  (conv2): Conv2d(16, 32, kernel_size=(3, 3), stride=(1, 1))\n",
      "  (fc1): Linear(in_features=6272, out_features=128, bias=True)\n",
      "  (fc2): Linear(in_features=128, out_features=2, bias=True)\n",
      ")\n"
     ]
    }
   ],
   "source": [
    "model_net = MalariaCellNet()\n",
    "print(model_net)"
   ]
  },
  {
   "cell_type": "markdown",
   "id": "5d20141a",
   "metadata": {},
   "source": [
    "##### Trainer class implementation"
   ]
  },
  {
   "cell_type": "code",
   "execution_count": 28,
   "id": "536c7315",
   "metadata": {},
   "outputs": [],
   "source": [
    "class Trainer:\n",
    "    \n",
    "    def __init__(self, model, train_dl, val_dl, len_train_ds, len_val_ds, class_weight = None):\n",
    "        self.model = model\n",
    "        self.train_dl = train_dl\n",
    "        self.val_dl = val_dl\n",
    "        self.len_train_ds = len_train_ds\n",
    "        self.len_val_ds = len_val_ds\n",
    "        self.optimizer = optim.Adam(self.model.parameters(), lr=0.001)\n",
    "        self.class_weights = class_weight\n",
    "        if(self.class_weights != None):\n",
    "            self.criterion = nn.CrossEntropyLoss(weight=torch.Tensor(self.class_weights))# for handling imbalanced dataset\n",
    "        else:\n",
    "            self.criterion = nn.CrossEntropyLoss()\n",
    "\n",
    "    def train(self, epochs):\n",
    "        device = torch.device('cuda' if torch.cuda.is_available() else 'cpu')\n",
    "        self.model.to(device)\n",
    "        for epoch in range(epochs):\n",
    "            running_loss = 0.0\n",
    "            running_acc = 0.0\n",
    "            for i, (inputs, labels) in enumerate(tqdm(self.train_dl)):\n",
    "                inputs = inputs.to(device)\n",
    "                labels = labels.to(device)\n",
    "                self.optimizer.zero_grad()\n",
    "                outputs = self.model(inputs)\n",
    "                loss = self.criterion(outputs, labels)\n",
    "                loss.backward()\n",
    "                self.optimizer.step()\n",
    "                running_loss += loss.item() * inputs.size(0)\n",
    "                _, preds = torch.max(outputs, 1)\n",
    "                running_acc += torch.sum(preds == labels.data)\n",
    "            epoch_loss = running_loss / self.len_train_ds\n",
    "            epoch_acc = running_acc.double() / self.len_train_ds\n",
    "            print('Epoch [{}/{}], Loss: {:.4f}, Accuracy: {:.4f}'.format(epoch+1, epochs, epoch_loss, epoch_acc))            \n",
    "\n",
    "    def test(self, data, len_data_dl):\n",
    "        with torch.no_grad():\n",
    "            running_loss = 0.0\n",
    "            running_corrects = 0.0\n",
    "            true_labels = []\n",
    "            pred_labels = []\n",
    "            for inputs, labels in data:\n",
    "                outputs = self.model(inputs)\n",
    "                loss = self.criterion(outputs, labels)\n",
    "                running_loss += loss.item() * inputs.size(0)\n",
    "                _, preds = torch.max(outputs, 1)\n",
    "                running_corrects += torch.sum(preds == labels.data)\n",
    "                true_labels += labels.cpu().numpy().tolist()\n",
    "                pred_labels += preds.cpu().numpy().tolist()\n",
    "            acc = accuracy_score(true_labels, pred_labels)\n",
    "            weighted_acc, report = get_classification_metrics(true_labels, pred_labels)\n",
    "            return acc, weighted_acc, report   "
   ]
  },
  {
   "cell_type": "markdown",
   "id": "6daef50d",
   "metadata": {},
   "source": [
    "#### Dataloader creation from the given dataset"
   ]
  },
  {
   "cell_type": "code",
   "execution_count": 29,
   "id": "e3462117",
   "metadata": {},
   "outputs": [],
   "source": [
    "malaria_dataset = MalariaDataset(workingDir) \n",
    "train_malaria_ds, validation_malaria_ds, test_malaria_ds = malaria_dataset.split_data()"
   ]
  },
  {
   "cell_type": "code",
   "execution_count": 30,
   "id": "1f79f11d",
   "metadata": {},
   "outputs": [],
   "source": [
    "len_train_ds = len(train_malaria_ds)\n",
    "len_validation_ds = len(validation_malaria_ds)\n",
    "len_test_ds = len(test_malaria_ds)"
   ]
  },
  {
   "cell_type": "markdown",
   "id": "23061b1f",
   "metadata": {},
   "source": [
    "##### Verifying the dimension of the different dataset"
   ]
  },
  {
   "cell_type": "code",
   "execution_count": 31,
   "id": "10749061",
   "metadata": {},
   "outputs": [
    {
     "name": "stdout",
     "output_type": "stream",
     "text": [
      "Length of train_malaria_ds: 315\n",
      "Length of validation_malaria_ds: 79\n",
      "Length of test_malaria_ds: 98\n"
     ]
    }
   ],
   "source": [
    "print(f'Length of train_malaria_ds: {len_train_ds}')\n",
    "print(f'Length of validation_malaria_ds: {len_validation_ds}')\n",
    "print(f'Length of test_malaria_ds: {len_test_ds}')"
   ]
  },
  {
   "cell_type": "markdown",
   "id": "c6104625",
   "metadata": {},
   "source": [
    "#### Generating dataloader from prepared dataset"
   ]
  },
  {
   "cell_type": "code",
   "execution_count": 32,
   "id": "ce62c8a7",
   "metadata": {},
   "outputs": [],
   "source": [
    "train_malaria_dl = DataLoader(train_malaria_ds, batch_size=64, shuffle=True)\n",
    "validation_malaria_dl = DataLoader(validation_malaria_ds, batch_size=64, shuffle=True)\n",
    "test_malaria_dl = DataLoader(test_malaria_ds, batch_size=64, shuffle=True)"
   ]
  },
  {
   "cell_type": "code",
   "execution_count": 33,
   "id": "accec98c",
   "metadata": {},
   "outputs": [
    {
     "data": {
      "text/plain": [
       "([0.9800796812749004, 1.020746887966805],\n",
       " {0: 0.9800796812749004, 1: 1.020746887966805})"
      ]
     },
     "execution_count": 33,
     "metadata": {},
     "output_type": "execute_result"
    }
   ],
   "source": [
    "positive_freq = positive_class / (positive_class + negative_class)\n",
    "negative_freq = negative_class / (positive_class + negative_class)\n",
    "positive_weight = (positive_class + negative_class) / (2 * positive_class)\n",
    "negative_weight = (positive_class + negative_class) / (2 * negative_class)\n",
    "class_weights = list([negative_weight,positive_weight])\n",
    "class_weight_dict = {0: negative_weight, 1: positive_weight}\n",
    "class_weights,class_weight_dict"
   ]
  },
  {
   "cell_type": "markdown",
   "id": "1728fc40",
   "metadata": {},
   "source": [
    "#### Train the CNN model using Pytorch "
   ]
  },
  {
   "cell_type": "code",
   "execution_count": 34,
   "id": "4c160cb3",
   "metadata": {},
   "outputs": [],
   "source": [
    "trainer = Trainer(model_net, train_malaria_dl, validation_malaria_dl, len_train_ds, len_validation_ds, class_weights)"
   ]
  },
  {
   "cell_type": "code",
   "execution_count": 35,
   "id": "e6b7e9d1",
   "metadata": {},
   "outputs": [
    {
     "name": "stderr",
     "output_type": "stream",
     "text": [
      "100%|██████████| 5/5 [00:01<00:00,  4.76it/s]\n"
     ]
    },
    {
     "name": "stdout",
     "output_type": "stream",
     "text": [
      "Epoch [1/100], Loss: 0.2889, Accuracy: 0.9175\n"
     ]
    },
    {
     "name": "stderr",
     "output_type": "stream",
     "text": [
      "100%|██████████| 5/5 [00:01<00:00,  4.80it/s]\n"
     ]
    },
    {
     "name": "stdout",
     "output_type": "stream",
     "text": [
      "Epoch [2/100], Loss: 0.1943, Accuracy: 0.9302\n"
     ]
    },
    {
     "name": "stderr",
     "output_type": "stream",
     "text": [
      "100%|██████████| 5/5 [00:01<00:00,  4.30it/s]\n"
     ]
    },
    {
     "name": "stdout",
     "output_type": "stream",
     "text": [
      "Epoch [3/100], Loss: 0.1326, Accuracy: 0.9524\n"
     ]
    },
    {
     "name": "stderr",
     "output_type": "stream",
     "text": [
      "100%|██████████| 5/5 [00:01<00:00,  3.78it/s]\n"
     ]
    },
    {
     "name": "stdout",
     "output_type": "stream",
     "text": [
      "Epoch [4/100], Loss: 0.1226, Accuracy: 0.9587\n"
     ]
    },
    {
     "name": "stderr",
     "output_type": "stream",
     "text": [
      "100%|██████████| 5/5 [00:01<00:00,  4.22it/s]\n"
     ]
    },
    {
     "name": "stdout",
     "output_type": "stream",
     "text": [
      "Epoch [5/100], Loss: 0.0682, Accuracy: 0.9778\n"
     ]
    },
    {
     "name": "stderr",
     "output_type": "stream",
     "text": [
      "100%|██████████| 5/5 [00:01<00:00,  4.33it/s]\n"
     ]
    },
    {
     "name": "stdout",
     "output_type": "stream",
     "text": [
      "Epoch [6/100], Loss: 0.0891, Accuracy: 0.9714\n"
     ]
    },
    {
     "name": "stderr",
     "output_type": "stream",
     "text": [
      "100%|██████████| 5/5 [00:01<00:00,  4.54it/s]\n"
     ]
    },
    {
     "name": "stdout",
     "output_type": "stream",
     "text": [
      "Epoch [7/100], Loss: 0.0848, Accuracy: 0.9746\n"
     ]
    },
    {
     "name": "stderr",
     "output_type": "stream",
     "text": [
      "100%|██████████| 5/5 [00:01<00:00,  4.64it/s]\n"
     ]
    },
    {
     "name": "stdout",
     "output_type": "stream",
     "text": [
      "Epoch [8/100], Loss: 0.0486, Accuracy: 0.9810\n"
     ]
    },
    {
     "name": "stderr",
     "output_type": "stream",
     "text": [
      "100%|██████████| 5/5 [00:01<00:00,  4.24it/s]\n"
     ]
    },
    {
     "name": "stdout",
     "output_type": "stream",
     "text": [
      "Epoch [9/100], Loss: 0.0762, Accuracy: 0.9714\n"
     ]
    },
    {
     "name": "stderr",
     "output_type": "stream",
     "text": [
      "100%|██████████| 5/5 [00:01<00:00,  4.18it/s]\n"
     ]
    },
    {
     "name": "stdout",
     "output_type": "stream",
     "text": [
      "Epoch [10/100], Loss: 0.0481, Accuracy: 0.9873\n"
     ]
    },
    {
     "name": "stderr",
     "output_type": "stream",
     "text": [
      "100%|██████████| 5/5 [00:01<00:00,  4.18it/s]\n"
     ]
    },
    {
     "name": "stdout",
     "output_type": "stream",
     "text": [
      "Epoch [11/100], Loss: 0.0590, Accuracy: 0.9841\n"
     ]
    },
    {
     "name": "stderr",
     "output_type": "stream",
     "text": [
      "100%|██████████| 5/5 [00:01<00:00,  4.45it/s]\n"
     ]
    },
    {
     "name": "stdout",
     "output_type": "stream",
     "text": [
      "Epoch [12/100], Loss: 0.0498, Accuracy: 0.9778\n"
     ]
    },
    {
     "name": "stderr",
     "output_type": "stream",
     "text": [
      "100%|██████████| 5/5 [00:01<00:00,  4.72it/s]\n"
     ]
    },
    {
     "name": "stdout",
     "output_type": "stream",
     "text": [
      "Epoch [13/100], Loss: 0.0301, Accuracy: 0.9937\n"
     ]
    },
    {
     "name": "stderr",
     "output_type": "stream",
     "text": [
      "100%|██████████| 5/5 [00:01<00:00,  4.47it/s]\n"
     ]
    },
    {
     "name": "stdout",
     "output_type": "stream",
     "text": [
      "Epoch [14/100], Loss: 0.0351, Accuracy: 0.9905\n"
     ]
    },
    {
     "name": "stderr",
     "output_type": "stream",
     "text": [
      "100%|██████████| 5/5 [00:01<00:00,  4.52it/s]\n"
     ]
    },
    {
     "name": "stdout",
     "output_type": "stream",
     "text": [
      "Epoch [15/100], Loss: 0.0326, Accuracy: 0.9937\n"
     ]
    },
    {
     "name": "stderr",
     "output_type": "stream",
     "text": [
      "100%|██████████| 5/5 [00:01<00:00,  4.91it/s]\n"
     ]
    },
    {
     "name": "stdout",
     "output_type": "stream",
     "text": [
      "Epoch [16/100], Loss: 0.0263, Accuracy: 0.9937\n"
     ]
    },
    {
     "name": "stderr",
     "output_type": "stream",
     "text": [
      "100%|██████████| 5/5 [00:01<00:00,  4.75it/s]\n"
     ]
    },
    {
     "name": "stdout",
     "output_type": "stream",
     "text": [
      "Epoch [17/100], Loss: 0.0261, Accuracy: 0.9937\n"
     ]
    },
    {
     "name": "stderr",
     "output_type": "stream",
     "text": [
      "100%|██████████| 5/5 [00:01<00:00,  4.80it/s]\n"
     ]
    },
    {
     "name": "stdout",
     "output_type": "stream",
     "text": [
      "Epoch [18/100], Loss: 0.0317, Accuracy: 0.9841\n"
     ]
    },
    {
     "name": "stderr",
     "output_type": "stream",
     "text": [
      "100%|██████████| 5/5 [00:00<00:00,  5.03it/s]\n"
     ]
    },
    {
     "name": "stdout",
     "output_type": "stream",
     "text": [
      "Epoch [19/100], Loss: 0.0238, Accuracy: 0.9968\n"
     ]
    },
    {
     "name": "stderr",
     "output_type": "stream",
     "text": [
      "100%|██████████| 5/5 [00:00<00:00,  5.11it/s]\n"
     ]
    },
    {
     "name": "stdout",
     "output_type": "stream",
     "text": [
      "Epoch [20/100], Loss: 0.0240, Accuracy: 0.9937\n"
     ]
    },
    {
     "name": "stderr",
     "output_type": "stream",
     "text": [
      "100%|██████████| 5/5 [00:01<00:00,  4.98it/s]\n"
     ]
    },
    {
     "name": "stdout",
     "output_type": "stream",
     "text": [
      "Epoch [21/100], Loss: 0.0162, Accuracy: 0.9968\n"
     ]
    },
    {
     "name": "stderr",
     "output_type": "stream",
     "text": [
      "100%|██████████| 5/5 [00:01<00:00,  4.75it/s]\n"
     ]
    },
    {
     "name": "stdout",
     "output_type": "stream",
     "text": [
      "Epoch [22/100], Loss: 0.0160, Accuracy: 0.9968\n"
     ]
    },
    {
     "name": "stderr",
     "output_type": "stream",
     "text": [
      "100%|██████████| 5/5 [00:01<00:00,  4.68it/s]\n"
     ]
    },
    {
     "name": "stdout",
     "output_type": "stream",
     "text": [
      "Epoch [23/100], Loss: 0.0170, Accuracy: 0.9968\n"
     ]
    },
    {
     "name": "stderr",
     "output_type": "stream",
     "text": [
      "100%|██████████| 5/5 [00:01<00:00,  4.46it/s]\n"
     ]
    },
    {
     "name": "stdout",
     "output_type": "stream",
     "text": [
      "Epoch [24/100], Loss: 0.0192, Accuracy: 0.9968\n"
     ]
    },
    {
     "name": "stderr",
     "output_type": "stream",
     "text": [
      "100%|██████████| 5/5 [00:01<00:00,  4.37it/s]\n"
     ]
    },
    {
     "name": "stdout",
     "output_type": "stream",
     "text": [
      "Epoch [25/100], Loss: 0.0185, Accuracy: 0.9905\n"
     ]
    },
    {
     "name": "stderr",
     "output_type": "stream",
     "text": [
      "100%|██████████| 5/5 [00:01<00:00,  4.08it/s]\n"
     ]
    },
    {
     "name": "stdout",
     "output_type": "stream",
     "text": [
      "Epoch [26/100], Loss: 0.0206, Accuracy: 0.9937\n"
     ]
    },
    {
     "name": "stderr",
     "output_type": "stream",
     "text": [
      "100%|██████████| 5/5 [00:01<00:00,  4.88it/s]\n"
     ]
    },
    {
     "name": "stdout",
     "output_type": "stream",
     "text": [
      "Epoch [27/100], Loss: 0.0209, Accuracy: 0.9968\n"
     ]
    },
    {
     "name": "stderr",
     "output_type": "stream",
     "text": [
      "100%|██████████| 5/5 [00:01<00:00,  4.95it/s]\n"
     ]
    },
    {
     "name": "stdout",
     "output_type": "stream",
     "text": [
      "Epoch [28/100], Loss: 0.0192, Accuracy: 0.9968\n"
     ]
    },
    {
     "name": "stderr",
     "output_type": "stream",
     "text": [
      "100%|██████████| 5/5 [00:01<00:00,  4.99it/s]\n"
     ]
    },
    {
     "name": "stdout",
     "output_type": "stream",
     "text": [
      "Epoch [29/100], Loss: 0.0228, Accuracy: 0.9905\n"
     ]
    },
    {
     "name": "stderr",
     "output_type": "stream",
     "text": [
      "100%|██████████| 5/5 [00:01<00:00,  4.84it/s]\n"
     ]
    },
    {
     "name": "stdout",
     "output_type": "stream",
     "text": [
      "Epoch [30/100], Loss: 0.0186, Accuracy: 0.9937\n"
     ]
    },
    {
     "name": "stderr",
     "output_type": "stream",
     "text": [
      "100%|██████████| 5/5 [00:00<00:00,  5.03it/s]\n"
     ]
    },
    {
     "name": "stdout",
     "output_type": "stream",
     "text": [
      "Epoch [31/100], Loss: 0.0160, Accuracy: 1.0000\n"
     ]
    },
    {
     "name": "stderr",
     "output_type": "stream",
     "text": [
      "100%|██████████| 5/5 [00:01<00:00,  4.89it/s]\n"
     ]
    },
    {
     "name": "stdout",
     "output_type": "stream",
     "text": [
      "Epoch [32/100], Loss: 0.0101, Accuracy: 1.0000\n"
     ]
    },
    {
     "name": "stderr",
     "output_type": "stream",
     "text": [
      "100%|██████████| 5/5 [00:01<00:00,  4.66it/s]\n"
     ]
    },
    {
     "name": "stdout",
     "output_type": "stream",
     "text": [
      "Epoch [33/100], Loss: 0.0103, Accuracy: 1.0000\n"
     ]
    },
    {
     "name": "stderr",
     "output_type": "stream",
     "text": [
      "100%|██████████| 5/5 [00:01<00:00,  4.81it/s]\n"
     ]
    },
    {
     "name": "stdout",
     "output_type": "stream",
     "text": [
      "Epoch [34/100], Loss: 0.0111, Accuracy: 0.9968\n"
     ]
    },
    {
     "name": "stderr",
     "output_type": "stream",
     "text": [
      "100%|██████████| 5/5 [00:01<00:00,  4.91it/s]\n"
     ]
    },
    {
     "name": "stdout",
     "output_type": "stream",
     "text": [
      "Epoch [35/100], Loss: 0.0067, Accuracy: 1.0000\n"
     ]
    },
    {
     "name": "stderr",
     "output_type": "stream",
     "text": [
      "100%|██████████| 5/5 [00:01<00:00,  4.86it/s]\n"
     ]
    },
    {
     "name": "stdout",
     "output_type": "stream",
     "text": [
      "Epoch [36/100], Loss: 0.0087, Accuracy: 0.9968\n"
     ]
    },
    {
     "name": "stderr",
     "output_type": "stream",
     "text": [
      "100%|██████████| 5/5 [00:01<00:00,  4.84it/s]\n"
     ]
    },
    {
     "name": "stdout",
     "output_type": "stream",
     "text": [
      "Epoch [37/100], Loss: 0.0067, Accuracy: 1.0000\n"
     ]
    },
    {
     "name": "stderr",
     "output_type": "stream",
     "text": [
      "100%|██████████| 5/5 [00:01<00:00,  4.75it/s]\n"
     ]
    },
    {
     "name": "stdout",
     "output_type": "stream",
     "text": [
      "Epoch [38/100], Loss: 0.0076, Accuracy: 1.0000\n"
     ]
    },
    {
     "name": "stderr",
     "output_type": "stream",
     "text": [
      "100%|██████████| 5/5 [00:01<00:00,  4.50it/s]\n"
     ]
    },
    {
     "name": "stdout",
     "output_type": "stream",
     "text": [
      "Epoch [39/100], Loss: 0.0051, Accuracy: 1.0000\n"
     ]
    },
    {
     "name": "stderr",
     "output_type": "stream",
     "text": [
      "100%|██████████| 5/5 [00:01<00:00,  4.46it/s]\n"
     ]
    },
    {
     "name": "stdout",
     "output_type": "stream",
     "text": [
      "Epoch [40/100], Loss: 0.0050, Accuracy: 1.0000\n"
     ]
    },
    {
     "name": "stderr",
     "output_type": "stream",
     "text": [
      "100%|██████████| 5/5 [00:01<00:00,  4.41it/s]\n"
     ]
    },
    {
     "name": "stdout",
     "output_type": "stream",
     "text": [
      "Epoch [41/100], Loss: 0.0048, Accuracy: 1.0000\n"
     ]
    },
    {
     "name": "stderr",
     "output_type": "stream",
     "text": [
      "100%|██████████| 5/5 [00:01<00:00,  4.84it/s]\n"
     ]
    },
    {
     "name": "stdout",
     "output_type": "stream",
     "text": [
      "Epoch [42/100], Loss: 0.0035, Accuracy: 1.0000\n"
     ]
    },
    {
     "name": "stderr",
     "output_type": "stream",
     "text": [
      "100%|██████████| 5/5 [00:00<00:00,  5.03it/s]\n"
     ]
    },
    {
     "name": "stdout",
     "output_type": "stream",
     "text": [
      "Epoch [43/100], Loss: 0.0034, Accuracy: 1.0000\n"
     ]
    },
    {
     "name": "stderr",
     "output_type": "stream",
     "text": [
      "100%|██████████| 5/5 [00:00<00:00,  5.02it/s]\n"
     ]
    },
    {
     "name": "stdout",
     "output_type": "stream",
     "text": [
      "Epoch [44/100], Loss: 0.0045, Accuracy: 1.0000\n"
     ]
    },
    {
     "name": "stderr",
     "output_type": "stream",
     "text": [
      "100%|██████████| 5/5 [00:00<00:00,  5.08it/s]\n"
     ]
    },
    {
     "name": "stdout",
     "output_type": "stream",
     "text": [
      "Epoch [45/100], Loss: 0.0033, Accuracy: 1.0000\n"
     ]
    },
    {
     "name": "stderr",
     "output_type": "stream",
     "text": [
      "100%|██████████| 5/5 [00:01<00:00,  4.83it/s]\n"
     ]
    },
    {
     "name": "stdout",
     "output_type": "stream",
     "text": [
      "Epoch [46/100], Loss: 0.0044, Accuracy: 1.0000\n"
     ]
    },
    {
     "name": "stderr",
     "output_type": "stream",
     "text": [
      "100%|██████████| 5/5 [00:01<00:00,  4.82it/s]\n"
     ]
    },
    {
     "name": "stdout",
     "output_type": "stream",
     "text": [
      "Epoch [47/100], Loss: 0.0035, Accuracy: 1.0000\n"
     ]
    },
    {
     "name": "stderr",
     "output_type": "stream",
     "text": [
      "100%|██████████| 5/5 [00:01<00:00,  4.77it/s]\n"
     ]
    },
    {
     "name": "stdout",
     "output_type": "stream",
     "text": [
      "Epoch [48/100], Loss: 0.0067, Accuracy: 1.0000\n"
     ]
    },
    {
     "name": "stderr",
     "output_type": "stream",
     "text": [
      "100%|██████████| 5/5 [00:01<00:00,  4.84it/s]\n"
     ]
    },
    {
     "name": "stdout",
     "output_type": "stream",
     "text": [
      "Epoch [49/100], Loss: 0.0030, Accuracy: 1.0000\n"
     ]
    },
    {
     "name": "stderr",
     "output_type": "stream",
     "text": [
      "100%|██████████| 5/5 [00:01<00:00,  4.88it/s]\n"
     ]
    },
    {
     "name": "stdout",
     "output_type": "stream",
     "text": [
      "Epoch [50/100], Loss: 0.0099, Accuracy: 0.9968\n"
     ]
    },
    {
     "name": "stderr",
     "output_type": "stream",
     "text": [
      "100%|██████████| 5/5 [00:01<00:00,  4.74it/s]\n"
     ]
    },
    {
     "name": "stdout",
     "output_type": "stream",
     "text": [
      "Epoch [51/100], Loss: 0.0104, Accuracy: 0.9968\n"
     ]
    },
    {
     "name": "stderr",
     "output_type": "stream",
     "text": [
      "100%|██████████| 5/5 [00:01<00:00,  4.80it/s]\n"
     ]
    },
    {
     "name": "stdout",
     "output_type": "stream",
     "text": [
      "Epoch [52/100], Loss: 0.0095, Accuracy: 0.9937\n"
     ]
    },
    {
     "name": "stderr",
     "output_type": "stream",
     "text": [
      "100%|██████████| 5/5 [00:01<00:00,  4.84it/s]\n"
     ]
    },
    {
     "name": "stdout",
     "output_type": "stream",
     "text": [
      "Epoch [53/100], Loss: 0.0045, Accuracy: 1.0000\n"
     ]
    },
    {
     "name": "stderr",
     "output_type": "stream",
     "text": [
      "100%|██████████| 5/5 [00:01<00:00,  4.42it/s]\n"
     ]
    },
    {
     "name": "stdout",
     "output_type": "stream",
     "text": [
      "Epoch [54/100], Loss: 0.0027, Accuracy: 1.0000\n"
     ]
    },
    {
     "name": "stderr",
     "output_type": "stream",
     "text": [
      "100%|██████████| 5/5 [00:01<00:00,  4.34it/s]\n"
     ]
    },
    {
     "name": "stdout",
     "output_type": "stream",
     "text": [
      "Epoch [55/100], Loss: 0.0038, Accuracy: 1.0000\n"
     ]
    },
    {
     "name": "stderr",
     "output_type": "stream",
     "text": [
      "100%|██████████| 5/5 [00:01<00:00,  4.44it/s]\n"
     ]
    },
    {
     "name": "stdout",
     "output_type": "stream",
     "text": [
      "Epoch [56/100], Loss: 0.0030, Accuracy: 1.0000\n"
     ]
    },
    {
     "name": "stderr",
     "output_type": "stream",
     "text": [
      "100%|██████████| 5/5 [00:01<00:00,  4.66it/s]\n"
     ]
    },
    {
     "name": "stdout",
     "output_type": "stream",
     "text": [
      "Epoch [57/100], Loss: 0.0032, Accuracy: 1.0000\n"
     ]
    },
    {
     "name": "stderr",
     "output_type": "stream",
     "text": [
      "100%|██████████| 5/5 [00:01<00:00,  4.96it/s]\n"
     ]
    },
    {
     "name": "stdout",
     "output_type": "stream",
     "text": [
      "Epoch [58/100], Loss: 0.0019, Accuracy: 1.0000\n"
     ]
    },
    {
     "name": "stderr",
     "output_type": "stream",
     "text": [
      "100%|██████████| 5/5 [00:00<00:00,  5.13it/s]\n"
     ]
    },
    {
     "name": "stdout",
     "output_type": "stream",
     "text": [
      "Epoch [59/100], Loss: 0.0017, Accuracy: 1.0000\n"
     ]
    },
    {
     "name": "stderr",
     "output_type": "stream",
     "text": [
      "100%|██████████| 5/5 [00:01<00:00,  4.85it/s]\n"
     ]
    },
    {
     "name": "stdout",
     "output_type": "stream",
     "text": [
      "Epoch [60/100], Loss: 0.0018, Accuracy: 1.0000\n"
     ]
    },
    {
     "name": "stderr",
     "output_type": "stream",
     "text": [
      "100%|██████████| 5/5 [00:01<00:00,  4.87it/s]\n"
     ]
    },
    {
     "name": "stdout",
     "output_type": "stream",
     "text": [
      "Epoch [61/100], Loss: 0.0021, Accuracy: 1.0000\n"
     ]
    },
    {
     "name": "stderr",
     "output_type": "stream",
     "text": [
      "100%|██████████| 5/5 [00:01<00:00,  4.75it/s]\n"
     ]
    },
    {
     "name": "stdout",
     "output_type": "stream",
     "text": [
      "Epoch [62/100], Loss: 0.0031, Accuracy: 1.0000\n"
     ]
    },
    {
     "name": "stderr",
     "output_type": "stream",
     "text": [
      "100%|██████████| 5/5 [00:01<00:00,  4.95it/s]\n"
     ]
    },
    {
     "name": "stdout",
     "output_type": "stream",
     "text": [
      "Epoch [63/100], Loss: 0.0017, Accuracy: 1.0000\n"
     ]
    },
    {
     "name": "stderr",
     "output_type": "stream",
     "text": [
      "100%|██████████| 5/5 [00:01<00:00,  4.80it/s]\n"
     ]
    },
    {
     "name": "stdout",
     "output_type": "stream",
     "text": [
      "Epoch [64/100], Loss: 0.0017, Accuracy: 1.0000\n"
     ]
    },
    {
     "name": "stderr",
     "output_type": "stream",
     "text": [
      "100%|██████████| 5/5 [00:00<00:00,  5.07it/s]\n"
     ]
    },
    {
     "name": "stdout",
     "output_type": "stream",
     "text": [
      "Epoch [65/100], Loss: 0.0014, Accuracy: 1.0000\n"
     ]
    },
    {
     "name": "stderr",
     "output_type": "stream",
     "text": [
      "100%|██████████| 5/5 [00:00<00:00,  5.02it/s]\n"
     ]
    },
    {
     "name": "stdout",
     "output_type": "stream",
     "text": [
      "Epoch [66/100], Loss: 0.0022, Accuracy: 1.0000\n"
     ]
    },
    {
     "name": "stderr",
     "output_type": "stream",
     "text": [
      "100%|██████████| 5/5 [00:01<00:00,  4.77it/s]\n"
     ]
    },
    {
     "name": "stdout",
     "output_type": "stream",
     "text": [
      "Epoch [67/100], Loss: 0.0080, Accuracy: 1.0000\n"
     ]
    },
    {
     "name": "stderr",
     "output_type": "stream",
     "text": [
      "100%|██████████| 5/5 [00:01<00:00,  4.40it/s]\n"
     ]
    },
    {
     "name": "stdout",
     "output_type": "stream",
     "text": [
      "Epoch [68/100], Loss: 0.0052, Accuracy: 1.0000\n"
     ]
    },
    {
     "name": "stderr",
     "output_type": "stream",
     "text": [
      "100%|██████████| 5/5 [00:01<00:00,  4.29it/s]\n"
     ]
    },
    {
     "name": "stdout",
     "output_type": "stream",
     "text": [
      "Epoch [69/100], Loss: 0.0023, Accuracy: 1.0000\n"
     ]
    },
    {
     "name": "stderr",
     "output_type": "stream",
     "text": [
      "100%|██████████| 5/5 [00:01<00:00,  4.21it/s]\n"
     ]
    },
    {
     "name": "stdout",
     "output_type": "stream",
     "text": [
      "Epoch [70/100], Loss: 0.0039, Accuracy: 1.0000\n"
     ]
    },
    {
     "name": "stderr",
     "output_type": "stream",
     "text": [
      "100%|██████████| 5/5 [00:01<00:00,  4.41it/s]\n"
     ]
    },
    {
     "name": "stdout",
     "output_type": "stream",
     "text": [
      "Epoch [71/100], Loss: 0.0048, Accuracy: 1.0000\n"
     ]
    },
    {
     "name": "stderr",
     "output_type": "stream",
     "text": [
      "100%|██████████| 5/5 [00:01<00:00,  4.56it/s]\n"
     ]
    },
    {
     "name": "stdout",
     "output_type": "stream",
     "text": [
      "Epoch [72/100], Loss: 0.0040, Accuracy: 1.0000\n"
     ]
    },
    {
     "name": "stderr",
     "output_type": "stream",
     "text": [
      "100%|██████████| 5/5 [00:01<00:00,  4.92it/s]\n"
     ]
    },
    {
     "name": "stdout",
     "output_type": "stream",
     "text": [
      "Epoch [73/100], Loss: 0.0016, Accuracy: 1.0000\n"
     ]
    },
    {
     "name": "stderr",
     "output_type": "stream",
     "text": [
      "100%|██████████| 5/5 [00:01<00:00,  4.71it/s]\n"
     ]
    },
    {
     "name": "stdout",
     "output_type": "stream",
     "text": [
      "Epoch [74/100], Loss: 0.0015, Accuracy: 1.0000\n"
     ]
    },
    {
     "name": "stderr",
     "output_type": "stream",
     "text": [
      "100%|██████████| 5/5 [00:00<00:00,  5.04it/s]\n"
     ]
    },
    {
     "name": "stdout",
     "output_type": "stream",
     "text": [
      "Epoch [75/100], Loss: 0.0016, Accuracy: 1.0000\n"
     ]
    },
    {
     "name": "stderr",
     "output_type": "stream",
     "text": [
      "100%|██████████| 5/5 [00:00<00:00,  5.01it/s]\n"
     ]
    },
    {
     "name": "stdout",
     "output_type": "stream",
     "text": [
      "Epoch [76/100], Loss: 0.0014, Accuracy: 1.0000\n"
     ]
    },
    {
     "name": "stderr",
     "output_type": "stream",
     "text": [
      "100%|██████████| 5/5 [00:01<00:00,  4.98it/s]\n"
     ]
    },
    {
     "name": "stdout",
     "output_type": "stream",
     "text": [
      "Epoch [77/100], Loss: 0.0012, Accuracy: 1.0000\n"
     ]
    },
    {
     "name": "stderr",
     "output_type": "stream",
     "text": [
      "100%|██████████| 5/5 [00:01<00:00,  4.91it/s]\n"
     ]
    },
    {
     "name": "stdout",
     "output_type": "stream",
     "text": [
      "Epoch [78/100], Loss: 0.0014, Accuracy: 1.0000\n"
     ]
    },
    {
     "name": "stderr",
     "output_type": "stream",
     "text": [
      "100%|██████████| 5/5 [00:01<00:00,  4.86it/s]\n"
     ]
    },
    {
     "name": "stdout",
     "output_type": "stream",
     "text": [
      "Epoch [79/100], Loss: 0.0010, Accuracy: 1.0000\n"
     ]
    },
    {
     "name": "stderr",
     "output_type": "stream",
     "text": [
      "100%|██████████| 5/5 [00:01<00:00,  4.84it/s]\n"
     ]
    },
    {
     "name": "stdout",
     "output_type": "stream",
     "text": [
      "Epoch [80/100], Loss: 0.0017, Accuracy: 1.0000\n"
     ]
    },
    {
     "name": "stderr",
     "output_type": "stream",
     "text": [
      "100%|██████████| 5/5 [00:01<00:00,  4.74it/s]\n"
     ]
    },
    {
     "name": "stdout",
     "output_type": "stream",
     "text": [
      "Epoch [81/100], Loss: 0.0019, Accuracy: 1.0000\n"
     ]
    },
    {
     "name": "stderr",
     "output_type": "stream",
     "text": [
      "100%|██████████| 5/5 [00:01<00:00,  4.86it/s]\n"
     ]
    },
    {
     "name": "stdout",
     "output_type": "stream",
     "text": [
      "Epoch [82/100], Loss: 0.0014, Accuracy: 1.0000\n"
     ]
    },
    {
     "name": "stderr",
     "output_type": "stream",
     "text": [
      "100%|██████████| 5/5 [00:01<00:00,  4.95it/s]\n"
     ]
    },
    {
     "name": "stdout",
     "output_type": "stream",
     "text": [
      "Epoch [83/100], Loss: 0.0014, Accuracy: 1.0000\n"
     ]
    },
    {
     "name": "stderr",
     "output_type": "stream",
     "text": [
      "100%|██████████| 5/5 [00:01<00:00,  4.52it/s]\n"
     ]
    },
    {
     "name": "stdout",
     "output_type": "stream",
     "text": [
      "Epoch [84/100], Loss: 0.0009, Accuracy: 1.0000\n"
     ]
    },
    {
     "name": "stderr",
     "output_type": "stream",
     "text": [
      "100%|██████████| 5/5 [00:01<00:00,  4.08it/s]\n"
     ]
    },
    {
     "name": "stdout",
     "output_type": "stream",
     "text": [
      "Epoch [85/100], Loss: 0.0015, Accuracy: 1.0000\n"
     ]
    },
    {
     "name": "stderr",
     "output_type": "stream",
     "text": [
      "100%|██████████| 5/5 [00:01<00:00,  4.21it/s]\n"
     ]
    },
    {
     "name": "stdout",
     "output_type": "stream",
     "text": [
      "Epoch [86/100], Loss: 0.0011, Accuracy: 1.0000\n"
     ]
    },
    {
     "name": "stderr",
     "output_type": "stream",
     "text": [
      "100%|██████████| 5/5 [00:01<00:00,  4.30it/s]\n"
     ]
    },
    {
     "name": "stdout",
     "output_type": "stream",
     "text": [
      "Epoch [87/100], Loss: 0.0008, Accuracy: 1.0000\n"
     ]
    },
    {
     "name": "stderr",
     "output_type": "stream",
     "text": [
      "100%|██████████| 5/5 [00:01<00:00,  4.89it/s]\n"
     ]
    },
    {
     "name": "stdout",
     "output_type": "stream",
     "text": [
      "Epoch [88/100], Loss: 0.0008, Accuracy: 1.0000\n"
     ]
    },
    {
     "name": "stderr",
     "output_type": "stream",
     "text": [
      "100%|██████████| 5/5 [00:01<00:00,  4.81it/s]\n"
     ]
    },
    {
     "name": "stdout",
     "output_type": "stream",
     "text": [
      "Epoch [89/100], Loss: 0.0006, Accuracy: 1.0000\n"
     ]
    },
    {
     "name": "stderr",
     "output_type": "stream",
     "text": [
      "100%|██████████| 5/5 [00:01<00:00,  4.68it/s]\n"
     ]
    },
    {
     "name": "stdout",
     "output_type": "stream",
     "text": [
      "Epoch [90/100], Loss: 0.0006, Accuracy: 1.0000\n"
     ]
    },
    {
     "name": "stderr",
     "output_type": "stream",
     "text": [
      "100%|██████████| 5/5 [00:01<00:00,  4.00it/s]\n"
     ]
    },
    {
     "name": "stdout",
     "output_type": "stream",
     "text": [
      "Epoch [91/100], Loss: 0.0011, Accuracy: 1.0000\n"
     ]
    },
    {
     "name": "stderr",
     "output_type": "stream",
     "text": [
      "100%|██████████| 5/5 [00:01<00:00,  4.34it/s]\n"
     ]
    },
    {
     "name": "stdout",
     "output_type": "stream",
     "text": [
      "Epoch [92/100], Loss: 0.0007, Accuracy: 1.0000\n"
     ]
    },
    {
     "name": "stderr",
     "output_type": "stream",
     "text": [
      "100%|██████████| 5/5 [00:01<00:00,  4.27it/s]\n"
     ]
    },
    {
     "name": "stdout",
     "output_type": "stream",
     "text": [
      "Epoch [93/100], Loss: 0.0008, Accuracy: 1.0000\n"
     ]
    },
    {
     "name": "stderr",
     "output_type": "stream",
     "text": [
      "100%|██████████| 5/5 [00:01<00:00,  4.00it/s]\n"
     ]
    },
    {
     "name": "stdout",
     "output_type": "stream",
     "text": [
      "Epoch [94/100], Loss: 0.0009, Accuracy: 1.0000\n"
     ]
    },
    {
     "name": "stderr",
     "output_type": "stream",
     "text": [
      "100%|██████████| 5/5 [00:01<00:00,  4.16it/s]\n"
     ]
    },
    {
     "name": "stdout",
     "output_type": "stream",
     "text": [
      "Epoch [95/100], Loss: 0.0007, Accuracy: 1.0000\n"
     ]
    },
    {
     "name": "stderr",
     "output_type": "stream",
     "text": [
      "100%|██████████| 5/5 [00:01<00:00,  4.19it/s]\n"
     ]
    },
    {
     "name": "stdout",
     "output_type": "stream",
     "text": [
      "Epoch [96/100], Loss: 0.0008, Accuracy: 1.0000\n"
     ]
    },
    {
     "name": "stderr",
     "output_type": "stream",
     "text": [
      "100%|██████████| 5/5 [00:01<00:00,  4.51it/s]\n"
     ]
    },
    {
     "name": "stdout",
     "output_type": "stream",
     "text": [
      "Epoch [97/100], Loss: 0.0007, Accuracy: 1.0000\n"
     ]
    },
    {
     "name": "stderr",
     "output_type": "stream",
     "text": [
      "100%|██████████| 5/5 [00:01<00:00,  4.56it/s]\n"
     ]
    },
    {
     "name": "stdout",
     "output_type": "stream",
     "text": [
      "Epoch [98/100], Loss: 0.0008, Accuracy: 1.0000\n"
     ]
    },
    {
     "name": "stderr",
     "output_type": "stream",
     "text": [
      "100%|██████████| 5/5 [00:01<00:00,  4.33it/s]\n"
     ]
    },
    {
     "name": "stdout",
     "output_type": "stream",
     "text": [
      "Epoch [99/100], Loss: 0.0006, Accuracy: 1.0000\n"
     ]
    },
    {
     "name": "stderr",
     "output_type": "stream",
     "text": [
      "100%|██████████| 5/5 [00:01<00:00,  4.40it/s]"
     ]
    },
    {
     "name": "stdout",
     "output_type": "stream",
     "text": [
      "Epoch [100/100], Loss: 0.0009, Accuracy: 1.0000\n"
     ]
    },
    {
     "name": "stderr",
     "output_type": "stream",
     "text": [
      "\n"
     ]
    }
   ],
   "source": [
    "trainer.train(epochs)"
   ]
  },
  {
   "cell_type": "markdown",
   "id": "2674f681",
   "metadata": {},
   "source": [
    "### ----------------------------------------------------------End of Question (a) ----------------------------------------------------------"
   ]
  },
  {
   "cell_type": "markdown",
   "id": "f157331a",
   "metadata": {},
   "source": [
    "#### Q(b). Report the prediction accuracy, precision, recall, and F1 score in the test dataset."
   ]
  },
  {
   "cell_type": "markdown",
   "id": "2e985243",
   "metadata": {},
   "source": [
    "### ----------------------------------------------------------Start of Question (b) ----------------------------------------------------------"
   ]
  },
  {
   "cell_type": "markdown",
   "id": "750ff0c1",
   "metadata": {},
   "source": [
    "### Performance metrices representation for Train, Validation and Test set"
   ]
  },
  {
   "cell_type": "markdown",
   "id": "f7122523",
   "metadata": {},
   "source": [
    "### Using Pytorch with class weighting"
   ]
  },
  {
   "cell_type": "code",
   "execution_count": 24,
   "id": "588e5aa2",
   "metadata": {},
   "outputs": [],
   "source": [
    "#Train\n",
    "train_accuracy, train_weighted_acc, train_report = trainer.test(train_malaria_dl, len_train_ds)\n",
    "#Validation\n",
    "val_accuracy, val_weighted_acc, val_report = trainer.test(validation_malaria_dl, len_validation_ds)\n",
    "#Test\n",
    "test_accuracy, test_weighted_acc, test_report = trainer.test(test_malaria_dl, len_test_ds)"
   ]
  },
  {
   "cell_type": "code",
   "execution_count": 25,
   "id": "938d140e",
   "metadata": {},
   "outputs": [
    {
     "name": "stdout",
     "output_type": "stream",
     "text": [
      "Train Accuracy 1.0\n",
      "Train Weighted Accuracy 1.0\n"
     ]
    },
    {
     "data": {
      "text/html": [
       "<div>\n",
       "<style scoped>\n",
       "    .dataframe tbody tr th:only-of-type {\n",
       "        vertical-align: middle;\n",
       "    }\n",
       "\n",
       "    .dataframe tbody tr th {\n",
       "        vertical-align: top;\n",
       "    }\n",
       "\n",
       "    .dataframe thead th {\n",
       "        text-align: right;\n",
       "    }\n",
       "</style>\n",
       "<table border=\"1\" class=\"dataframe\">\n",
       "  <thead>\n",
       "    <tr style=\"text-align: right;\">\n",
       "      <th></th>\n",
       "      <th>Precision</th>\n",
       "      <th>Recall</th>\n",
       "      <th>F1 - Score</th>\n",
       "      <th>Accuracy - Category wise</th>\n",
       "      <th>Count - Category wise</th>\n",
       "    </tr>\n",
       "  </thead>\n",
       "  <tbody>\n",
       "    <tr>\n",
       "      <th>0</th>\n",
       "      <td>1.0</td>\n",
       "      <td>1.0</td>\n",
       "      <td>1.0</td>\n",
       "      <td>1.0</td>\n",
       "      <td>159.0</td>\n",
       "    </tr>\n",
       "    <tr>\n",
       "      <th>1</th>\n",
       "      <td>1.0</td>\n",
       "      <td>1.0</td>\n",
       "      <td>1.0</td>\n",
       "      <td>1.0</td>\n",
       "      <td>156.0</td>\n",
       "    </tr>\n",
       "  </tbody>\n",
       "</table>\n",
       "</div>"
      ],
      "text/plain": [
       "   Precision  Recall  F1 - Score  Accuracy - Category wise  \\\n",
       "0        1.0     1.0         1.0                       1.0   \n",
       "1        1.0     1.0         1.0                       1.0   \n",
       "\n",
       "   Count - Category wise  \n",
       "0                  159.0  \n",
       "1                  156.0  "
      ]
     },
     "metadata": {},
     "output_type": "display_data"
    }
   ],
   "source": [
    "summerize_metrics_torch(train_accuracy ,train_weighted_acc, train_report, instance = 'Train')"
   ]
  },
  {
   "cell_type": "code",
   "execution_count": 26,
   "id": "35f6d1df",
   "metadata": {},
   "outputs": [
    {
     "name": "stdout",
     "output_type": "stream",
     "text": [
      "Validation Accuracy 0.8860759493670886\n",
      "Validation Weighted Accuracy 0.8858904355246641\n"
     ]
    },
    {
     "data": {
      "text/html": [
       "<div>\n",
       "<style scoped>\n",
       "    .dataframe tbody tr th:only-of-type {\n",
       "        vertical-align: middle;\n",
       "    }\n",
       "\n",
       "    .dataframe tbody tr th {\n",
       "        vertical-align: top;\n",
       "    }\n",
       "\n",
       "    .dataframe thead th {\n",
       "        text-align: right;\n",
       "    }\n",
       "</style>\n",
       "<table border=\"1\" class=\"dataframe\">\n",
       "  <thead>\n",
       "    <tr style=\"text-align: right;\">\n",
       "      <th></th>\n",
       "      <th>Precision</th>\n",
       "      <th>Recall</th>\n",
       "      <th>F1 - Score</th>\n",
       "      <th>Accuracy - Category wise</th>\n",
       "      <th>Count - Category wise</th>\n",
       "    </tr>\n",
       "  </thead>\n",
       "  <tbody>\n",
       "    <tr>\n",
       "      <th>0</th>\n",
       "      <td>0.89</td>\n",
       "      <td>0.91</td>\n",
       "      <td>0.90</td>\n",
       "      <td>0.91</td>\n",
       "      <td>44.0</td>\n",
       "    </tr>\n",
       "    <tr>\n",
       "      <th>1</th>\n",
       "      <td>0.88</td>\n",
       "      <td>0.86</td>\n",
       "      <td>0.87</td>\n",
       "      <td>0.86</td>\n",
       "      <td>35.0</td>\n",
       "    </tr>\n",
       "  </tbody>\n",
       "</table>\n",
       "</div>"
      ],
      "text/plain": [
       "   Precision  Recall  F1 - Score  Accuracy - Category wise  \\\n",
       "0       0.89    0.91        0.90                      0.91   \n",
       "1       0.88    0.86        0.87                      0.86   \n",
       "\n",
       "   Count - Category wise  \n",
       "0                   44.0  \n",
       "1                   35.0  "
      ]
     },
     "metadata": {},
     "output_type": "display_data"
    }
   ],
   "source": [
    "summerize_metrics_torch(val_accuracy ,val_weighted_acc, val_report, instance = 'Validation')"
   ]
  },
  {
   "cell_type": "code",
   "execution_count": 27,
   "id": "a822ebac",
   "metadata": {},
   "outputs": [
    {
     "name": "stdout",
     "output_type": "stream",
     "text": [
      "Test Accuracy 0.8571428571428571\n",
      "Test Weighted Accuracy 0.8571428571428571\n"
     ]
    },
    {
     "data": {
      "text/html": [
       "<div>\n",
       "<style scoped>\n",
       "    .dataframe tbody tr th:only-of-type {\n",
       "        vertical-align: middle;\n",
       "    }\n",
       "\n",
       "    .dataframe tbody tr th {\n",
       "        vertical-align: top;\n",
       "    }\n",
       "\n",
       "    .dataframe thead th {\n",
       "        text-align: right;\n",
       "    }\n",
       "</style>\n",
       "<table border=\"1\" class=\"dataframe\">\n",
       "  <thead>\n",
       "    <tr style=\"text-align: right;\">\n",
       "      <th></th>\n",
       "      <th>Precision</th>\n",
       "      <th>Recall</th>\n",
       "      <th>F1 - Score</th>\n",
       "      <th>Accuracy - Category wise</th>\n",
       "      <th>Count - Category wise</th>\n",
       "    </tr>\n",
       "  </thead>\n",
       "  <tbody>\n",
       "    <tr>\n",
       "      <th>0</th>\n",
       "      <td>0.84</td>\n",
       "      <td>0.88</td>\n",
       "      <td>0.86</td>\n",
       "      <td>0.88</td>\n",
       "      <td>48.0</td>\n",
       "    </tr>\n",
       "    <tr>\n",
       "      <th>1</th>\n",
       "      <td>0.88</td>\n",
       "      <td>0.84</td>\n",
       "      <td>0.86</td>\n",
       "      <td>0.84</td>\n",
       "      <td>50.0</td>\n",
       "    </tr>\n",
       "  </tbody>\n",
       "</table>\n",
       "</div>"
      ],
      "text/plain": [
       "   Precision  Recall  F1 - Score  Accuracy - Category wise  \\\n",
       "0       0.84    0.88        0.86                      0.88   \n",
       "1       0.88    0.84        0.86                      0.84   \n",
       "\n",
       "   Count - Category wise  \n",
       "0                   48.0  \n",
       "1                   50.0  "
      ]
     },
     "metadata": {},
     "output_type": "display_data"
    }
   ],
   "source": [
    "summerize_metrics_torch(test_accuracy ,test_weighted_acc, test_report, instance = 'Test')"
   ]
  },
  {
   "cell_type": "markdown",
   "id": "d2cac377",
   "metadata": {},
   "source": [
    "#### We have displayed the performance metrics  (like accuracy, precision, recall etc) for train, validation and test set. \n",
    "### Conclusion : \n",
    "1. We have created CNN using Pytorch considering the effect of imbalance dataset.\n",
    "2. Given dataset is highly imbalance, and we have calculated class weighting to handle the effect of imbalance dataset along with that we have done data augmentation during the transformation of the dataset.\n",
    "3. Model created using Pytorch is coded to handled the effect of imbalance dataset using class weighting and different data augmentation.\n",
    "4. Looking at the performance metrics it is evident that accuracy for two label is in a balanced state.\n",
    "5. We have achieved good accuracy in test set indicating that the model is good in prediction on unseen dataset."
   ]
  },
  {
   "cell_type": "code",
   "execution_count": null,
   "id": "3761fe79",
   "metadata": {},
   "outputs": [],
   "source": [
    " "
   ]
  },
  {
   "cell_type": "code",
   "execution_count": null,
   "id": "3f74e176",
   "metadata": {},
   "outputs": [],
   "source": []
  },
  {
   "cell_type": "code",
   "execution_count": null,
   "id": "38ce3abe",
   "metadata": {},
   "outputs": [],
   "source": []
  },
  {
   "cell_type": "code",
   "execution_count": null,
   "id": "4cc87ccb",
   "metadata": {},
   "outputs": [],
   "source": []
  }
 ],
 "metadata": {
  "kernelspec": {
   "display_name": "Python 3 (ipykernel)",
   "language": "python",
   "name": "python3"
  },
  "language_info": {
   "codemirror_mode": {
    "name": "ipython",
    "version": 3
   },
   "file_extension": ".py",
   "mimetype": "text/x-python",
   "name": "python",
   "nbconvert_exporter": "python",
   "pygments_lexer": "ipython3",
   "version": "3.9.16"
  }
 },
 "nbformat": 4,
 "nbformat_minor": 5
}
