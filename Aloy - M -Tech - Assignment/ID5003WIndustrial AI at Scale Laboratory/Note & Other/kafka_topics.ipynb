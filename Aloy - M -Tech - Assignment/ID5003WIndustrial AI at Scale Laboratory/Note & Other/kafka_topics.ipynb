{
  "nbformat": 4,
  "nbformat_minor": 0,
  "metadata": {
    "colab": {
      "provenance": []
    },
    "kernelspec": {
      "display_name": "Python 3",
      "name": "python3"
    }
  },
  "cells": [
    {
      "cell_type": "markdown",
      "source": [
        "[link text](https://)## Install Kafka and Zookeeper\n",
        "\n"
      ],
      "metadata": {
        "id": "ydFjA-kcJRR6"
      }
    },
    {
      "cell_type": "code",
      "source": [
        "!curl -sSOL https://downloads.apache.org/kafka/3.5.0/kafka_2.12-3.5.0.tgz\n",
        "!tar -xzf kafka_2.12-3.5.0.tgz"
      ],
      "metadata": {
        "id": "ooK-iJhnJaJ9"
      },
      "execution_count": null,
      "outputs": []
    },
    {
      "cell_type": "code",
      "metadata": {
        "id": "n9ujlunrWgRx",
        "colab": {
          "base_uri": "https://localhost:8080/"
        },
        "outputId": "377ae566-6d28-4622-85b9-078769c005ee"
      },
      "source": [
        "!echo \"Starting ZooKeeper service...\"\n",
        "!./kafka_2.12-3.5.0/bin/zookeeper-server-start.sh -daemon ./kafka_2.12-3.5.0/config/zookeeper.properties\n",
        "\n",
        "!echo \"Starting Kafka service...\"\n",
        "!./kafka_2.12-3.5.0/bin/kafka-server-start.sh -daemon ./kafka_2.12-3.5.0/config/server.properties\n",
        "\n",
        "!echo \"Waiting for 10 secs until Kafka and ZooKeeper services are up and running...\"\n",
        "\n",
        "!sleep 10\n",
        "\n",
        "!ps -ef | grep kafka\n"
      ],
      "execution_count": null,
      "outputs": [
        {
          "output_type": "stream",
          "name": "stdout",
          "text": [
            "Starting ZooKeeper service...\n",
            "Starting Kafka service...\n",
            "Waiting for 10 secs until Kafka and ZooKeeper services are up and running...\n",
            "root        3684       1 19 13:46 ?        00:00:02 java -Xmx512M -Xms512M -server -XX:+UseG1GC -XX:MaxGCPauseMillis=20 -XX:InitiatingHeapOccupancyPercent=35 -XX:+ExplicitGCInvokesConcurrent -XX:MaxInlineLevel=15 -Djava.awt.headless=true -Xlog:gc*:file=/content/kafka_2.12-3.5.0/bin/../logs/zookeeper-gc.log:time,tags:filecount=10,filesize=100M -Dcom.sun.management.jmxremote -Dcom.sun.management.jmxremote.authenticate=false -Dcom.sun.management.jmxremote.ssl=false -Dkafka.logs.dir=/content/kafka_2.12-3.5.0/bin/../logs -Dlog4j.configuration=file:./kafka_2.12-3.5.0/bin/../config/log4j.properties -cp /content/kafka_2.12-3.5.0/bin/../libs/activation-1.1.1.jar:/content/kafka_2.12-3.5.0/bin/../libs/aopalliance-repackaged-2.6.1.jar:/content/kafka_2.12-3.5.0/bin/../libs/argparse4j-0.7.0.jar:/content/kafka_2.12-3.5.0/bin/../libs/audience-annotations-0.13.0.jar:/content/kafka_2.12-3.5.0/bin/../libs/commons-cli-1.4.jar:/content/kafka_2.12-3.5.0/bin/../libs/commons-lang3-3.8.1.jar:/content/kafka_2.12-3.5.0/bin/../libs/connect-api-3.5.0.jar:/content/kafka_2.12-3.5.0/bin/../libs/connect-basic-auth-extension-3.5.0.jar:/content/kafka_2.12-3.5.0/bin/../libs/connect-json-3.5.0.jar:/content/kafka_2.12-3.5.0/bin/../libs/connect-mirror-3.5.0.jar:/content/kafka_2.12-3.5.0/bin/../libs/connect-mirror-client-3.5.0.jar:/content/kafka_2.12-3.5.0/bin/../libs/connect-runtime-3.5.0.jar:/content/kafka_2.12-3.5.0/bin/../libs/connect-transforms-3.5.0.jar:/content/kafka_2.12-3.5.0/bin/../libs/hk2-api-2.6.1.jar:/content/kafka_2.12-3.5.0/bin/../libs/hk2-locator-2.6.1.jar:/content/kafka_2.12-3.5.0/bin/../libs/hk2-utils-2.6.1.jar:/content/kafka_2.12-3.5.0/bin/../libs/jackson-annotations-2.13.5.jar:/content/kafka_2.12-3.5.0/bin/../libs/jackson-core-2.13.5.jar:/content/kafka_2.12-3.5.0/bin/../libs/jackson-databind-2.13.5.jar:/content/kafka_2.12-3.5.0/bin/../libs/jackson-dataformat-csv-2.13.5.jar:/content/kafka_2.12-3.5.0/bin/../libs/jackson-datatype-jdk8-2.13.5.jar:/content/kafka_2.12-3.5.0/bin/../libs/jackson-jaxrs-base-2.13.5.jar:/content/kafka_2.12-3.5.0/bin/../libs/jackson-jaxrs-json-provider-2.13.5.jar:/content/kafka_2.12-3.5.0/bin/../libs/jackson-module-jaxb-annotations-2.13.5.jar:/content/kafka_2.12-3.5.0/bin/../libs/jackson-module-scala_2.12-2.13.5.jar:/content/kafka_2.12-3.5.0/bin/../libs/jakarta.activation-api-1.2.2.jar:/content/kafka_2.12-3.5.0/bin/../libs/jakarta.annotation-api-1.3.5.jar:/content/kafka_2.12-3.5.0/bin/../libs/jakarta.inject-2.6.1.jar:/content/kafka_2.12-3.5.0/bin/../libs/jakarta.validation-api-2.0.2.jar:/content/kafka_2.12-3.5.0/bin/../libs/jakarta.ws.rs-api-2.1.6.jar:/content/kafka_2.12-3.5.0/bin/../libs/jakarta.xml.bind-api-2.3.3.jar:/content/kafka_2.12-3.5.0/bin/../libs/javassist-3.29.2-GA.jar:/content/kafka_2.12-3.5.0/bin/../libs/javax.activation-api-1.2.0.jar:/content/kafka_2.12-3.5.0/bin/../libs/javax.annotation-api-1.3.2.jar:/content/kafka_2.12-3.5.0/bin/../libs/javax.servlet-api-3.1.0.jar:/content/kafka_2.12-3.5.0/bin/../libs/javax.ws.rs-api-2.1.1.jar:/content/kafka_2.12-3.5.0/bin/../libs/jaxb-api-2.3.1.jar:/content/kafka_2.12-3.5.0/bin/../libs/jersey-client-2.39.1.jar:/content/kafka_2.12-3.5.0/bin/../libs/jersey-common-2.39.1.jar:/content/kafka_2.12-3.5.0/bin/../libs/jersey-container-servlet-2.39.1.jar:/content/kafka_2.12-3.5.0/bin/../libs/jersey-container-servlet-core-2.39.1.jar:/content/kafka_2.12-3.5.0/bin/../libs/jersey-hk2-2.39.1.jar:/content/kafka_2.12-3.5.0/bin/../libs/jersey-server-2.39.1.jar:/content/kafka_2.12-3.5.0/bin/../libs/jetty-client-9.4.51.v20230217.jar:/content/kafka_2.12-3.5.0/bin/../libs/jetty-continuation-9.4.51.v20230217.jar:/content/kafka_2.12-3.5.0/bin/../libs/jetty-http-9.4.51.v20230217.jar:/content/kafka_2.12-3.5.0/bin/../libs/jetty-io-9.4.51.v20230217.jar:/content/kafka_2.12-3.5.0/bin/../libs/jetty-security-9.4.51.v20230217.jar:/content/kafka_2.12-3.5.0/bin/../libs/jetty-server-9.4.51.v20230217.jar:/content/kafka_2.12-3.5.0/bin/../libs/jetty-servlet-9.4.51.v20230217.jar:/content/kafka_2.12-3.5.0/bin/../libs/jetty-servlets-9.4.51.v20230217.jar:/content/kafka_2.12-3.5.0/bin/../libs/jetty-util-9.4.51.v20230217.jar:/content/kafka_2.12-3.5.0/bin/../libs/jetty-util-ajax-9.4.51.v20230217.jar:/content/kafka_2.12-3.5.0/bin/../libs/jline-3.22.0.jar:/content/kafka_2.12-3.5.0/bin/../libs/jopt-simple-5.0.4.jar:/content/kafka_2.12-3.5.0/bin/../libs/jose4j-0.9.3.jar:/content/kafka_2.12-3.5.0/bin/../libs/kafka_2.12-3.5.0.jar:/content/kafka_2.12-3.5.0/bin/../libs/kafka-clients-3.5.0.jar:/content/kafka_2.12-3.5.0/bin/../libs/kafka-group-coordinator-3.5.0.jar:/content/kafka_2.12-3.5.0/bin/../libs/kafka-log4j-appender-3.5.0.jar:/content/kafka_2.12-3.5.0/bin/../libs/kafka-metadata-3.5.0.jar:/content/kafka_2.12-3.5.0/bin/../libs/kafka-raft-3.5.0.jar:/content/kafka_2.12-3.5.0/bin/../libs/kafka-server-common-3.5.0.jar:/content/kafka_2.12-3.5.0/bin/../libs/kafka-shell-3.5.0.jar:/content/kafka_2.12-3.5.0/bin/../libs/kafka-storage-3.5.0.jar:/content/kafka_2.12-3.5.0/bin/../libs/kafka-storage-api-3.5.0.jar:/content/kafka_2.12-3.5.0/bin/../libs/kafka-streams-3.5.0.jar:/content/kafka_2.12-3.5.0/bin/../libs/kafka-streams-examples-3.5.0.jar:/content/kafka_2.12-3.5.0/bin/../libs/kafka-streams-scala_2.12-3.5.0.jar:/content/kafka_2.12-3.5.0/bin/../libs/kafka-streams-test-utils-3.5.0.jar:/content/kafka_2.12-3.5.0/bin/../libs/kafka-tools-3.5.0.jar:/content/kafka_2.12-3.5.0/bin/../libs/kafka-tools-api-3.5.0.jar:/content/kafka_2.12-3.5.0/bin/../libs/lz4-java-1.8.0.jar:/content/kafka_2.12-3.5.0/bin/../libs/maven-artifact-3.8.4.jar:/content/kafka_2.12-3.5.0/bin/../libs/metrics-core-2.2.0.jar:/content/kafka_2.12-3.5.0/bin/../libs/metrics-core-4.1.12.1.jar:/content/kafka_2.12-3.5.0/bin/../libs/netty-buffer-4.1.92.Final.jar:/content/kafka_2.12-3.5.0/bin/../libs/netty-codec-4.1.92.Final.jar:/content/kafka_2.12-3.5.0/bin/../libs/netty-common-4.1.92.Final.jar:/content/kafka_2.12-3.5.0/bin/../libs/netty-handler-4.1.92.Final.jar:/content/kafka_2.12-3.5.0/bin/../libs/netty-resolver-4.1.92.Final.jar:/content/kafka_2.12-3.5.0/bin/../libs/netty-transport-4.1.92.Final.jar:/content/kafka_2.12-3.5.0/bin/../libs/netty-transport-classes-epoll-4.1.92.Final.jar:/content/kafka_2.12-3.5.0/bin/../libs/netty-transport-native-epoll-4.1.92.Final.jar:/content/kafka_2.12-3.5.0/bin/../libs/netty-transport-native-unix-common-4.1.92.Final.jar:/content/kafka_2.12-3.5.0/bin/../libs/osgi-resource-locator-1.0.3.jar:/content/kafka_2.12-3.5.0/bin/../libs/paranamer-2.8.jar:/content/kafka_2.12-3.5.0/bin/../libs/plexus-utils-3.3.0.jar:/content/kafka_2.12-3.5.0/bin/../libs/reflections-0.9.12.jar:/content/kafka_2.12-3.5.0/bin/../libs/reload4j-1.2.25.jar:/content/kafka_2.12-3.5.0/bin/../libs/rocksdbjni-7.1.2.jar:/content/kafka_2.12-3.5.0/bin/../libs/scala-collection-compat_2.12-2.10.0.jar:/content/kafka_2.12-3.5.0/bin/../libs/scala-java8-compat_2.12-1.0.2.jar:/content/kafka_2.12-3.5.0/bin/../libs/scala-library-2.12.15.jar:/content/kafka_2.12-3.5.0/bin/../libs/scala-logging_2.12-3.9.4.jar:/content/kafka_2.12-3.5.0/bin/../libs/scala-reflect-2.12.15.jar:/content/kafka_2.12-3.5.0/bin/../libs/slf4j-api-1.7.36.jar:/content/kafka_2.12-3.5.0/bin/../libs/slf4j-reload4j-1.7.36.jar:/content/kafka_2.12-3.5.0/bin/../libs/snappy-java-1.1.10.0.jar:/content/kafka_2.12-3.5.0/bin/../libs/swagger-annotations-2.2.8.jar:/content/kafka_2.12-3.5.0/bin/../libs/trogdor-3.5.0.jar:/content/kafka_2.12-3.5.0/bin/../libs/zookeeper-3.6.4.jar:/content/kafka_2.12-3.5.0/bin/../libs/zookeeper-jute-3.6.4.jar:/content/kafka_2.12-3.5.0/bin/../libs/zstd-jni-1.5.5-1.jar org.apache.zookeeper.server.quorum.QuorumPeerMain ./kafka_2.12-3.5.0/config/zookeeper.properties\n",
            "root        4048       1 66 13:46 ?        00:00:07 java -Xmx1G -Xms1G -server -XX:+UseG1GC -XX:MaxGCPauseMillis=20 -XX:InitiatingHeapOccupancyPercent=35 -XX:+ExplicitGCInvokesConcurrent -XX:MaxInlineLevel=15 -Djava.awt.headless=true -Xlog:gc*:file=/content/kafka_2.12-3.5.0/bin/../logs/kafkaServer-gc.log:time,tags:filecount=10,filesize=100M -Dcom.sun.management.jmxremote -Dcom.sun.management.jmxremote.authenticate=false -Dcom.sun.management.jmxremote.ssl=false -Dkafka.logs.dir=/content/kafka_2.12-3.5.0/bin/../logs -Dlog4j.configuration=file:./kafka_2.12-3.5.0/bin/../config/log4j.properties -cp /content/kafka_2.12-3.5.0/bin/../libs/activation-1.1.1.jar:/content/kafka_2.12-3.5.0/bin/../libs/aopalliance-repackaged-2.6.1.jar:/content/kafka_2.12-3.5.0/bin/../libs/argparse4j-0.7.0.jar:/content/kafka_2.12-3.5.0/bin/../libs/audience-annotations-0.13.0.jar:/content/kafka_2.12-3.5.0/bin/../libs/commons-cli-1.4.jar:/content/kafka_2.12-3.5.0/bin/../libs/commons-lang3-3.8.1.jar:/content/kafka_2.12-3.5.0/bin/../libs/connect-api-3.5.0.jar:/content/kafka_2.12-3.5.0/bin/../libs/connect-basic-auth-extension-3.5.0.jar:/content/kafka_2.12-3.5.0/bin/../libs/connect-json-3.5.0.jar:/content/kafka_2.12-3.5.0/bin/../libs/connect-mirror-3.5.0.jar:/content/kafka_2.12-3.5.0/bin/../libs/connect-mirror-client-3.5.0.jar:/content/kafka_2.12-3.5.0/bin/../libs/connect-runtime-3.5.0.jar:/content/kafka_2.12-3.5.0/bin/../libs/connect-transforms-3.5.0.jar:/content/kafka_2.12-3.5.0/bin/../libs/hk2-api-2.6.1.jar:/content/kafka_2.12-3.5.0/bin/../libs/hk2-locator-2.6.1.jar:/content/kafka_2.12-3.5.0/bin/../libs/hk2-utils-2.6.1.jar:/content/kafka_2.12-3.5.0/bin/../libs/jackson-annotations-2.13.5.jar:/content/kafka_2.12-3.5.0/bin/../libs/jackson-core-2.13.5.jar:/content/kafka_2.12-3.5.0/bin/../libs/jackson-databind-2.13.5.jar:/content/kafka_2.12-3.5.0/bin/../libs/jackson-dataformat-csv-2.13.5.jar:/content/kafka_2.12-3.5.0/bin/../libs/jackson-datatype-jdk8-2.13.5.jar:/content/kafka_2.12-3.5.0/bin/../libs/jackson-jaxrs-base-2.13.5.jar:/content/kafka_2.12-3.5.0/bin/../libs/jackson-jaxrs-json-provider-2.13.5.jar:/content/kafka_2.12-3.5.0/bin/../libs/jackson-module-jaxb-annotations-2.13.5.jar:/content/kafka_2.12-3.5.0/bin/../libs/jackson-module-scala_2.12-2.13.5.jar:/content/kafka_2.12-3.5.0/bin/../libs/jakarta.activation-api-1.2.2.jar:/content/kafka_2.12-3.5.0/bin/../libs/jakarta.annotation-api-1.3.5.jar:/content/kafka_2.12-3.5.0/bin/../libs/jakarta.inject-2.6.1.jar:/content/kafka_2.12-3.5.0/bin/../libs/jakarta.validation-api-2.0.2.jar:/content/kafka_2.12-3.5.0/bin/../libs/jakarta.ws.rs-api-2.1.6.jar:/content/kafka_2.12-3.5.0/bin/../libs/jakarta.xml.bind-api-2.3.3.jar:/content/kafka_2.12-3.5.0/bin/../libs/javassist-3.29.2-GA.jar:/content/kafka_2.12-3.5.0/bin/../libs/javax.activation-api-1.2.0.jar:/content/kafka_2.12-3.5.0/bin/../libs/javax.annotation-api-1.3.2.jar:/content/kafka_2.12-3.5.0/bin/../libs/javax.servlet-api-3.1.0.jar:/content/kafka_2.12-3.5.0/bin/../libs/javax.ws.rs-api-2.1.1.jar:/content/kafka_2.12-3.5.0/bin/../libs/jaxb-api-2.3.1.jar:/content/kafka_2.12-3.5.0/bin/../libs/jersey-client-2.39.1.jar:/content/kafka_2.12-3.5.0/bin/../libs/jersey-common-2.39.1.jar:/content/kafka_2.12-3.5.0/bin/../libs/jersey-container-servlet-2.39.1.jar:/content/kafka_2.12-3.5.0/bin/../libs/jersey-container-servlet-core-2.39.1.jar:/content/kafka_2.12-3.5.0/bin/../libs/jersey-hk2-2.39.1.jar:/content/kafka_2.12-3.5.0/bin/../libs/jersey-server-2.39.1.jar:/content/kafka_2.12-3.5.0/bin/../libs/jetty-client-9.4.51.v20230217.jar:/content/kafka_2.12-3.5.0/bin/../libs/jetty-continuation-9.4.51.v20230217.jar:/content/kafka_2.12-3.5.0/bin/../libs/jetty-http-9.4.51.v20230217.jar:/content/kafka_2.12-3.5.0/bin/../libs/jetty-io-9.4.51.v20230217.jar:/content/kafka_2.12-3.5.0/bin/../libs/jetty-security-9.4.51.v20230217.jar:/content/kafka_2.12-3.5.0/bin/../libs/jetty-server-9.4.51.v20230217.jar:/content/kafka_2.12-3.5.0/bin/../libs/jetty-servlet-9.4.51.v20230217.jar:/content/kafka_2.12-3.5.0/bin/../libs/jetty-servlets-9.4.51.v20230217.jar:/content/kafka_2.12-3.5.0/bin/../libs/jetty-util-9.4.51.v20230217.jar:/content/kafka_2.12-3.5.0/bin/../libs/jetty-util-ajax-9.4.51.v20230217.jar:/content/kafka_2.12-3.5.0/bin/../libs/jline-3.22.0.jar:/content/kafka_2.12-3.5.0/bin/../libs/jopt-simple-5.0.4.jar:/content/kafka_2.12-3.5.0/bin/../libs/jose4j-0.9.3.jar:/content/kafka_2.12-3.5.0/bin/../libs/kafka_2.12-3.5.0.jar:/content/kafka_2.12-3.5.0/bin/../libs/kafka-clients-3.5.0.jar:/content/kafka_2.12-3.5.0/bin/../libs/kafka-group-coordinator-3.5.0.jar:/content/kafka_2.12-3.5.0/bin/../libs/kafka-log4j-appender-3.5.0.jar:/content/kafka_2.12-3.5.0/bin/../libs/kafka-metadata-3.5.0.jar:/content/kafka_2.12-3.5.0/bin/../libs/kafka-raft-3.5.0.jar:/content/kafka_2.12-3.5.0/bin/../libs/kafka-server-common-3.5.0.jar:/content/kafka_2.12-3.5.0/bin/../libs/kafka-shell-3.5.0.jar:/content/kafka_2.12-3.5.0/bin/../libs/kafka-storage-3.5.0.jar:/content/kafka_2.12-3.5.0/bin/../libs/kafka-storage-api-3.5.0.jar:/content/kafka_2.12-3.5.0/bin/../libs/kafka-streams-3.5.0.jar:/content/kafka_2.12-3.5.0/bin/../libs/kafka-streams-examples-3.5.0.jar:/content/kafka_2.12-3.5.0/bin/../libs/kafka-streams-scala_2.12-3.5.0.jar:/content/kafka_2.12-3.5.0/bin/../libs/kafka-streams-test-utils-3.5.0.jar:/content/kafka_2.12-3.5.0/bin/../libs/kafka-tools-3.5.0.jar:/content/kafka_2.12-3.5.0/bin/../libs/kafka-tools-api-3.5.0.jar:/content/kafka_2.12-3.5.0/bin/../libs/lz4-java-1.8.0.jar:/content/kafka_2.12-3.5.0/bin/../libs/maven-artifact-3.8.4.jar:/content/kafka_2.12-3.5.0/bin/../libs/metrics-core-2.2.0.jar:/content/kafka_2.12-3.5.0/bin/../libs/metrics-core-4.1.12.1.jar:/content/kafka_2.12-3.5.0/bin/../libs/netty-buffer-4.1.92.Final.jar:/content/kafka_2.12-3.5.0/bin/../libs/netty-codec-4.1.92.Final.jar:/content/kafka_2.12-3.5.0/bin/../libs/netty-common-4.1.92.Final.jar:/content/kafka_2.12-3.5.0/bin/../libs/netty-handler-4.1.92.Final.jar:/content/kafka_2.12-3.5.0/bin/../libs/netty-resolver-4.1.92.Final.jar:/content/kafka_2.12-3.5.0/bin/../libs/netty-transport-4.1.92.Final.jar:/content/kafka_2.12-3.5.0/bin/../libs/netty-transport-classes-epoll-4.1.92.Final.jar:/content/kafka_2.12-3.5.0/bin/../libs/netty-transport-native-epoll-4.1.92.Final.jar:/content/kafka_2.12-3.5.0/bin/../libs/netty-transport-native-unix-common-4.1.92.Final.jar:/content/kafka_2.12-3.5.0/bin/../libs/osgi-resource-locator-1.0.3.jar:/content/kafka_2.12-3.5.0/bin/../libs/paranamer-2.8.jar:/content/kafka_2.12-3.5.0/bin/../libs/plexus-utils-3.3.0.jar:/content/kafka_2.12-3.5.0/bin/../libs/reflections-0.9.12.jar:/content/kafka_2.12-3.5.0/bin/../libs/reload4j-1.2.25.jar:/content/kafka_2.12-3.5.0/bin/../libs/rocksdbjni-7.1.2.jar:/content/kafka_2.12-3.5.0/bin/../libs/scala-collection-compat_2.12-2.10.0.jar:/content/kafka_2.12-3.5.0/bin/../libs/scala-java8-compat_2.12-1.0.2.jar:/content/kafka_2.12-3.5.0/bin/../libs/scala-library-2.12.15.jar:/content/kafka_2.12-3.5.0/bin/../libs/scala-logging_2.12-3.9.4.jar:/content/kafka_2.12-3.5.0/bin/../libs/scala-reflect-2.12.15.jar:/content/kafka_2.12-3.5.0/bin/../libs/slf4j-api-1.7.36.jar:/content/kafka_2.12-3.5.0/bin/../libs/slf4j-reload4j-1.7.36.jar:/content/kafka_2.12-3.5.0/bin/../libs/snappy-java-1.1.10.0.jar:/content/kafka_2.12-3.5.0/bin/../libs/swagger-annotations-2.2.8.jar:/content/kafka_2.12-3.5.0/bin/../libs/trogdor-3.5.0.jar:/content/kafka_2.12-3.5.0/bin/../libs/zookeeper-3.6.4.jar:/content/kafka_2.12-3.5.0/bin/../libs/zookeeper-jute-3.6.4.jar:/content/kafka_2.12-3.5.0/bin/../libs/zstd-jni-1.5.5-1.jar kafka.Kafka ./kafka_2.12-3.5.0/config/server.properties\n",
            "root        4175     543  0 13:46 ?        00:00:00 /bin/bash -c ps -ef | grep kafka\n",
            "root        4177    4175  0 13:46 ?        00:00:00 grep kafka\n"
          ]
        }
      ]
    },
    {
      "cell_type": "markdown",
      "source": [
        "## Run Kafka and Zookeeper in daemon mode on port 9092\n"
      ],
      "metadata": {
        "id": "nTOX5oD6Jfvq"
      }
    },
    {
      "cell_type": "code",
      "metadata": {
        "id": "lXJWqMmWnPyP",
        "colab": {
          "base_uri": "https://localhost:8080/"
        },
        "outputId": "5b05bbb1-cd51-4485-9396-16e7272ffd56"
      },
      "source": [
        "!./kafka_2.12-3.5.0/bin/kafka-topics.sh --create --bootstrap-server 127.0.0.1:9092 --replication-factor 1 --partitions 1 --topic housing_data"
      ],
      "execution_count": null,
      "outputs": [
        {
          "output_type": "stream",
          "name": "stdout",
          "text": [
            "WARNING: Due to limitations in metric names, topics with a period ('.') or underscore ('_') could collide. To avoid issues it is best to use either, but not both.\n",
            "Created topic housing_data.\n"
          ]
        }
      ]
    },
    {
      "cell_type": "code",
      "source": [],
      "metadata": {
        "id": "647Pd3nIOghi"
      },
      "execution_count": null,
      "outputs": []
    },
    {
      "cell_type": "markdown",
      "source": [
        "## Create new topics in kafka\n"
      ],
      "metadata": {
        "id": "fvq7OUczJwCS"
      }
    },
    {
      "cell_type": "code",
      "metadata": {
        "id": "apCf9pfVnwn7",
        "colab": {
          "base_uri": "https://localhost:8080/"
        },
        "outputId": "94ab8f2a-73da-4fab-e783-5003f4a70d45"
      },
      "source": [
        "!./kafka_2.12-3.5.0/bin/kafka-topics.sh --describe --bootstrap-server 127.0.0.1:9092 --topic housing_data"
      ],
      "execution_count": null,
      "outputs": [
        {
          "output_type": "stream",
          "name": "stdout",
          "text": [
            "Topic: housing_data\tTopicId: 1UqpTFA1SLysPVj7b9SpaA\tPartitionCount: 1\tReplicationFactor: 1\tConfigs: \n",
            "\tTopic: housing_data\tPartition: 0\tLeader: 0\tReplicas: 0\tIsr: 0\n"
          ]
        }
      ]
    },
    {
      "cell_type": "code",
      "source": [],
      "metadata": {
        "id": "XTYWjIq3Ksap"
      },
      "execution_count": null,
      "outputs": []
    },
    {
      "cell_type": "markdown",
      "source": [
        "## Install OpenJDK"
      ],
      "metadata": {
        "id": "txODX9YKJ70o"
      }
    },
    {
      "cell_type": "code",
      "source": [
        "!echo \"Installing OpenJDK 8 JDK...\"\n",
        "\n",
        "!apt-get install openjdk-8-jdk-headless -qq > /dev/null"
      ],
      "metadata": {
        "id": "pqakT6EsPQcK",
        "colab": {
          "base_uri": "https://localhost:8080/"
        },
        "outputId": "09db0386-4727-4506-9985-1ae7735c7b9f"
      },
      "execution_count": null,
      "outputs": [
        {
          "output_type": "stream",
          "name": "stdout",
          "text": [
            "Installing OpenJDK 8 JDK...\n"
          ]
        }
      ]
    },
    {
      "cell_type": "markdown",
      "source": [
        "## Install Kafka's client\n"
      ],
      "metadata": {
        "id": "B_Qiee3bKEDy"
      }
    },
    {
      "cell_type": "code",
      "source": [
        "!pip install kafka-python"
      ],
      "metadata": {
        "colab": {
          "base_uri": "https://localhost:8080/"
        },
        "id": "cDPYgB5OUF1k",
        "outputId": "4eb3ad43-8caf-4da0-a4ed-6baa0ff9a18b"
      },
      "execution_count": null,
      "outputs": [
        {
          "output_type": "stream",
          "name": "stdout",
          "text": [
            "Collecting kafka-python\n",
            "  Downloading kafka_python-2.0.2-py2.py3-none-any.whl (246 kB)\n",
            "\u001b[2K     \u001b[90m━━━━━━━━━━━━━━━━━━━━━━━━━━━━━━━━━━━━━━━\u001b[0m \u001b[32m246.5/246.5 kB\u001b[0m \u001b[31m2.4 MB/s\u001b[0m eta \u001b[36m0:00:00\u001b[0m\n",
            "\u001b[?25hInstalling collected packages: kafka-python\n",
            "Successfully installed kafka-python-2.0.2\n"
          ]
        }
      ]
    },
    {
      "cell_type": "markdown",
      "source": [
        "## Import the packages."
      ],
      "metadata": {
        "id": "gPJUP5KyKi38"
      }
    },
    {
      "cell_type": "code",
      "source": [
        "import pandas as pd\n",
        "from kafka import KafkaProducer\n",
        "import json"
      ],
      "metadata": {
        "id": "fgvDW0smTFRb"
      },
      "execution_count": null,
      "outputs": []
    },
    {
      "cell_type": "code",
      "source": [
        "\n",
        "    with open(json_file, 'r') as file:\n",
        "        data = [json.loads(line) for line in file]\n"
      ],
      "metadata": {
        "id": "IjSgURVshYAr",
        "colab": {
          "base_uri": "https://localhost:8080/",
          "height": 192
        },
        "outputId": "7bb0fa78-8bb6-405c-87d8-13012baf39e3"
      },
      "execution_count": null,
      "outputs": [
        {
          "output_type": "error",
          "ename": "NameError",
          "evalue": "ignored",
          "traceback": [
            "\u001b[0;31m---------------------------------------------------------------------------\u001b[0m",
            "\u001b[0;31mNameError\u001b[0m                                 Traceback (most recent call last)",
            "\u001b[0;32m<ipython-input-22-c3c911ceb444>\u001b[0m in \u001b[0;36m<cell line: 1>\u001b[0;34m()\u001b[0m\n\u001b[0;32m----> 1\u001b[0;31m \u001b[0;32mwith\u001b[0m \u001b[0mopen\u001b[0m\u001b[0;34m(\u001b[0m\u001b[0mjson_file\u001b[0m\u001b[0;34m,\u001b[0m \u001b[0;34m'r'\u001b[0m\u001b[0;34m)\u001b[0m \u001b[0;32mas\u001b[0m \u001b[0mfile\u001b[0m\u001b[0;34m:\u001b[0m\u001b[0;34m\u001b[0m\u001b[0;34m\u001b[0m\u001b[0m\n\u001b[0m\u001b[1;32m      2\u001b[0m     \u001b[0mdata\u001b[0m \u001b[0;34m=\u001b[0m \u001b[0;34m[\u001b[0m\u001b[0mjson\u001b[0m\u001b[0;34m.\u001b[0m\u001b[0mloads\u001b[0m\u001b[0;34m(\u001b[0m\u001b[0mline\u001b[0m\u001b[0;34m)\u001b[0m \u001b[0;32mfor\u001b[0m \u001b[0mline\u001b[0m \u001b[0;32min\u001b[0m \u001b[0mfile\u001b[0m\u001b[0;34m]\u001b[0m\u001b[0;34m\u001b[0m\u001b[0;34m\u001b[0m\u001b[0m\n",
            "\u001b[0;31mNameError\u001b[0m: name 'json_file' is not defined"
          ]
        }
      ]
    },
    {
      "cell_type": "markdown",
      "source": [
        "#Read json"
      ],
      "metadata": {
        "id": "RROWOFQ16wNF"
      }
    },
    {
      "cell_type": "code",
      "source": [
        "#Is the below code correct, looks like shuffling is done to whole data\n",
        "import time\n",
        "import json\n",
        "\n",
        "def send_batch_to_kafka(batch):\n",
        "    for record in batch:\n",
        "        print(json.dumps(record))\n",
        "\n",
        "def stream_data(json_file, batch_size=10, max_records=100, sleep_time=10):\n",
        "    with open(json_file, 'r') as file:\n",
        "        data = json.load(file)\n",
        "\n",
        "    record_count = 0\n",
        "    while record_count < max_records:\n",
        "        # Shuffle the data to simulate real-time streaming\n",
        "        random.shuffle(data)\n",
        "        batches = [data[i:i+batch_size] for i in range(0, len(data), batch_size)]\n",
        "        for batch in batches:\n",
        "            send_batch_to_kafka(batch)\n",
        "            record_count += len(batch)\n",
        "            if record_count >= max_records:\n",
        "                break\n",
        "            time.sleep(sleep_time)\n",
        "\n",
        "if __name__ == \"__main__\":\n",
        "    # Replace \"data.json\" with the path to your JSON file\n",
        "    json_file_path = \"data.json\"\n",
        "\n",
        "    stream_data(json_file_path)\n"
      ],
      "metadata": {
        "id": "779bhrA36zjA",
        "colab": {
          "base_uri": "https://localhost:8080/",
          "height": 331
        },
        "outputId": "42c2f091-670b-4de5-ccbd-f42e601c0b39"
      },
      "execution_count": null,
      "outputs": [
        {
          "output_type": "error",
          "ename": "FileNotFoundError",
          "evalue": "ignored",
          "traceback": [
            "\u001b[0;31m---------------------------------------------------------------------------\u001b[0m",
            "\u001b[0;31mFileNotFoundError\u001b[0m                         Traceback (most recent call last)",
            "\u001b[0;32m<ipython-input-23-5203659ac0bb>\u001b[0m in \u001b[0;36m<cell line: 25>\u001b[0;34m()\u001b[0m\n\u001b[1;32m     27\u001b[0m     \u001b[0mjson_file_path\u001b[0m \u001b[0;34m=\u001b[0m \u001b[0;34m\"data.json\"\u001b[0m\u001b[0;34m\u001b[0m\u001b[0;34m\u001b[0m\u001b[0m\n\u001b[1;32m     28\u001b[0m \u001b[0;34m\u001b[0m\u001b[0m\n\u001b[0;32m---> 29\u001b[0;31m     \u001b[0mstream_data\u001b[0m\u001b[0;34m(\u001b[0m\u001b[0mjson_file_path\u001b[0m\u001b[0;34m)\u001b[0m\u001b[0;34m\u001b[0m\u001b[0;34m\u001b[0m\u001b[0m\n\u001b[0m",
            "\u001b[0;32m<ipython-input-23-5203659ac0bb>\u001b[0m in \u001b[0;36mstream_data\u001b[0;34m(json_file, batch_size, max_records, sleep_time)\u001b[0m\n\u001b[1;32m      8\u001b[0m \u001b[0;34m\u001b[0m\u001b[0m\n\u001b[1;32m      9\u001b[0m \u001b[0;32mdef\u001b[0m \u001b[0mstream_data\u001b[0m\u001b[0;34m(\u001b[0m\u001b[0mjson_file\u001b[0m\u001b[0;34m,\u001b[0m \u001b[0mbatch_size\u001b[0m\u001b[0;34m=\u001b[0m\u001b[0;36m10\u001b[0m\u001b[0;34m,\u001b[0m \u001b[0mmax_records\u001b[0m\u001b[0;34m=\u001b[0m\u001b[0;36m100\u001b[0m\u001b[0;34m,\u001b[0m \u001b[0msleep_time\u001b[0m\u001b[0;34m=\u001b[0m\u001b[0;36m10\u001b[0m\u001b[0;34m)\u001b[0m\u001b[0;34m:\u001b[0m\u001b[0;34m\u001b[0m\u001b[0;34m\u001b[0m\u001b[0m\n\u001b[0;32m---> 10\u001b[0;31m     \u001b[0;32mwith\u001b[0m \u001b[0mopen\u001b[0m\u001b[0;34m(\u001b[0m\u001b[0mjson_file\u001b[0m\u001b[0;34m,\u001b[0m \u001b[0;34m'r'\u001b[0m\u001b[0;34m)\u001b[0m \u001b[0;32mas\u001b[0m \u001b[0mfile\u001b[0m\u001b[0;34m:\u001b[0m\u001b[0;34m\u001b[0m\u001b[0;34m\u001b[0m\u001b[0m\n\u001b[0m\u001b[1;32m     11\u001b[0m         \u001b[0mdata\u001b[0m \u001b[0;34m=\u001b[0m \u001b[0mjson\u001b[0m\u001b[0;34m.\u001b[0m\u001b[0mload\u001b[0m\u001b[0;34m(\u001b[0m\u001b[0mfile\u001b[0m\u001b[0;34m)\u001b[0m\u001b[0;34m\u001b[0m\u001b[0;34m\u001b[0m\u001b[0m\n\u001b[1;32m     12\u001b[0m \u001b[0;34m\u001b[0m\u001b[0m\n",
            "\u001b[0;31mFileNotFoundError\u001b[0m: [Errno 2] No such file or directory: 'data.json'"
          ]
        }
      ]
    },
    {
      "cell_type": "code",
      "source": [
        "# Read CSV file\n",
        "\n",
        "#Read the csv file\n",
        "housing_df = pd.read_csv('/content/sample_data/california_housing_test.csv')\n",
        "\n",
        "# Display only two columns and select 10 rows\n",
        "housing_df = housing_df.loc[:9]\n",
        "data = housing_df.to_dict(\"records\")\n"
      ],
      "metadata": {
        "id": "z0FOhZQ9TKbe"
      },
      "execution_count": null,
      "outputs": []
    },
    {
      "cell_type": "code",
      "source": [
        "housing_df.head()"
      ],
      "metadata": {
        "id": "EDQ8HcoI8AlP",
        "outputId": "614d9c97-3e2d-4cf1-b231-e6b2821ce593",
        "colab": {
          "base_uri": "https://localhost:8080/",
          "height": 206
        }
      },
      "execution_count": null,
      "outputs": [
        {
          "output_type": "execute_result",
          "data": {
            "text/plain": [
              "   longitude  latitude  housing_median_age  total_rooms  total_bedrooms  \\\n",
              "0    -122.05     37.37                27.0       3885.0           661.0   \n",
              "1    -118.30     34.26                43.0       1510.0           310.0   \n",
              "2    -117.81     33.78                27.0       3589.0           507.0   \n",
              "3    -118.36     33.82                28.0         67.0            15.0   \n",
              "4    -119.67     36.33                19.0       1241.0           244.0   \n",
              "\n",
              "   population  households  median_income  median_house_value  \n",
              "0      1537.0       606.0         6.6085            344700.0  \n",
              "1       809.0       277.0         3.5990            176500.0  \n",
              "2      1484.0       495.0         5.7934            270500.0  \n",
              "3        49.0        11.0         6.1359            330000.0  \n",
              "4       850.0       237.0         2.9375             81700.0  "
            ],
            "text/html": [
              "\n",
              "\n",
              "  <div id=\"df-1dd6cd0b-0d62-47b9-82de-fb1eb77f333a\">\n",
              "    <div class=\"colab-df-container\">\n",
              "      <div>\n",
              "<style scoped>\n",
              "    .dataframe tbody tr th:only-of-type {\n",
              "        vertical-align: middle;\n",
              "    }\n",
              "\n",
              "    .dataframe tbody tr th {\n",
              "        vertical-align: top;\n",
              "    }\n",
              "\n",
              "    .dataframe thead th {\n",
              "        text-align: right;\n",
              "    }\n",
              "</style>\n",
              "<table border=\"1\" class=\"dataframe\">\n",
              "  <thead>\n",
              "    <tr style=\"text-align: right;\">\n",
              "      <th></th>\n",
              "      <th>longitude</th>\n",
              "      <th>latitude</th>\n",
              "      <th>housing_median_age</th>\n",
              "      <th>total_rooms</th>\n",
              "      <th>total_bedrooms</th>\n",
              "      <th>population</th>\n",
              "      <th>households</th>\n",
              "      <th>median_income</th>\n",
              "      <th>median_house_value</th>\n",
              "    </tr>\n",
              "  </thead>\n",
              "  <tbody>\n",
              "    <tr>\n",
              "      <th>0</th>\n",
              "      <td>-122.05</td>\n",
              "      <td>37.37</td>\n",
              "      <td>27.0</td>\n",
              "      <td>3885.0</td>\n",
              "      <td>661.0</td>\n",
              "      <td>1537.0</td>\n",
              "      <td>606.0</td>\n",
              "      <td>6.6085</td>\n",
              "      <td>344700.0</td>\n",
              "    </tr>\n",
              "    <tr>\n",
              "      <th>1</th>\n",
              "      <td>-118.30</td>\n",
              "      <td>34.26</td>\n",
              "      <td>43.0</td>\n",
              "      <td>1510.0</td>\n",
              "      <td>310.0</td>\n",
              "      <td>809.0</td>\n",
              "      <td>277.0</td>\n",
              "      <td>3.5990</td>\n",
              "      <td>176500.0</td>\n",
              "    </tr>\n",
              "    <tr>\n",
              "      <th>2</th>\n",
              "      <td>-117.81</td>\n",
              "      <td>33.78</td>\n",
              "      <td>27.0</td>\n",
              "      <td>3589.0</td>\n",
              "      <td>507.0</td>\n",
              "      <td>1484.0</td>\n",
              "      <td>495.0</td>\n",
              "      <td>5.7934</td>\n",
              "      <td>270500.0</td>\n",
              "    </tr>\n",
              "    <tr>\n",
              "      <th>3</th>\n",
              "      <td>-118.36</td>\n",
              "      <td>33.82</td>\n",
              "      <td>28.0</td>\n",
              "      <td>67.0</td>\n",
              "      <td>15.0</td>\n",
              "      <td>49.0</td>\n",
              "      <td>11.0</td>\n",
              "      <td>6.1359</td>\n",
              "      <td>330000.0</td>\n",
              "    </tr>\n",
              "    <tr>\n",
              "      <th>4</th>\n",
              "      <td>-119.67</td>\n",
              "      <td>36.33</td>\n",
              "      <td>19.0</td>\n",
              "      <td>1241.0</td>\n",
              "      <td>244.0</td>\n",
              "      <td>850.0</td>\n",
              "      <td>237.0</td>\n",
              "      <td>2.9375</td>\n",
              "      <td>81700.0</td>\n",
              "    </tr>\n",
              "  </tbody>\n",
              "</table>\n",
              "</div>\n",
              "      <button class=\"colab-df-convert\" onclick=\"convertToInteractive('df-1dd6cd0b-0d62-47b9-82de-fb1eb77f333a')\"\n",
              "              title=\"Convert this dataframe to an interactive table.\"\n",
              "              style=\"display:none;\">\n",
              "\n",
              "  <svg xmlns=\"http://www.w3.org/2000/svg\" height=\"24px\"viewBox=\"0 0 24 24\"\n",
              "       width=\"24px\">\n",
              "    <path d=\"M0 0h24v24H0V0z\" fill=\"none\"/>\n",
              "    <path d=\"M18.56 5.44l.94 2.06.94-2.06 2.06-.94-2.06-.94-.94-2.06-.94 2.06-2.06.94zm-11 1L8.5 8.5l.94-2.06 2.06-.94-2.06-.94L8.5 2.5l-.94 2.06-2.06.94zm10 10l.94 2.06.94-2.06 2.06-.94-2.06-.94-.94-2.06-.94 2.06-2.06.94z\"/><path d=\"M17.41 7.96l-1.37-1.37c-.4-.4-.92-.59-1.43-.59-.52 0-1.04.2-1.43.59L10.3 9.45l-7.72 7.72c-.78.78-.78 2.05 0 2.83L4 21.41c.39.39.9.59 1.41.59.51 0 1.02-.2 1.41-.59l7.78-7.78 2.81-2.81c.8-.78.8-2.07 0-2.86zM5.41 20L4 18.59l7.72-7.72 1.47 1.35L5.41 20z\"/>\n",
              "  </svg>\n",
              "      </button>\n",
              "\n",
              "\n",
              "\n",
              "    <div id=\"df-c3cc5b7b-e599-4a6a-976f-937ac28a44d5\">\n",
              "      <button class=\"colab-df-quickchart\" onclick=\"quickchart('df-c3cc5b7b-e599-4a6a-976f-937ac28a44d5')\"\n",
              "              title=\"Suggest charts.\"\n",
              "              style=\"display:none;\">\n",
              "\n",
              "<svg xmlns=\"http://www.w3.org/2000/svg\" height=\"24px\"viewBox=\"0 0 24 24\"\n",
              "     width=\"24px\">\n",
              "    <g>\n",
              "        <path d=\"M19 3H5c-1.1 0-2 .9-2 2v14c0 1.1.9 2 2 2h14c1.1 0 2-.9 2-2V5c0-1.1-.9-2-2-2zM9 17H7v-7h2v7zm4 0h-2V7h2v10zm4 0h-2v-4h2v4z\"/>\n",
              "    </g>\n",
              "</svg>\n",
              "      </button>\n",
              "    </div>\n",
              "\n",
              "<style>\n",
              "  .colab-df-quickchart {\n",
              "    background-color: #E8F0FE;\n",
              "    border: none;\n",
              "    border-radius: 50%;\n",
              "    cursor: pointer;\n",
              "    display: none;\n",
              "    fill: #1967D2;\n",
              "    height: 32px;\n",
              "    padding: 0 0 0 0;\n",
              "    width: 32px;\n",
              "  }\n",
              "\n",
              "  .colab-df-quickchart:hover {\n",
              "    background-color: #E2EBFA;\n",
              "    box-shadow: 0px 1px 2px rgba(60, 64, 67, 0.3), 0px 1px 3px 1px rgba(60, 64, 67, 0.15);\n",
              "    fill: #174EA6;\n",
              "  }\n",
              "\n",
              "  [theme=dark] .colab-df-quickchart {\n",
              "    background-color: #3B4455;\n",
              "    fill: #D2E3FC;\n",
              "  }\n",
              "\n",
              "  [theme=dark] .colab-df-quickchart:hover {\n",
              "    background-color: #434B5C;\n",
              "    box-shadow: 0px 1px 3px 1px rgba(0, 0, 0, 0.15);\n",
              "    filter: drop-shadow(0px 1px 2px rgba(0, 0, 0, 0.3));\n",
              "    fill: #FFFFFF;\n",
              "  }\n",
              "</style>\n",
              "\n",
              "    <script>\n",
              "      async function quickchart(key) {\n",
              "        const containerElement = document.querySelector('#' + key);\n",
              "        const charts = await google.colab.kernel.invokeFunction(\n",
              "            'suggestCharts', [key], {});\n",
              "      }\n",
              "    </script>\n",
              "\n",
              "      <script>\n",
              "\n",
              "function displayQuickchartButton(domScope) {\n",
              "  let quickchartButtonEl =\n",
              "    domScope.querySelector('#df-c3cc5b7b-e599-4a6a-976f-937ac28a44d5 button.colab-df-quickchart');\n",
              "  quickchartButtonEl.style.display =\n",
              "    google.colab.kernel.accessAllowed ? 'block' : 'none';\n",
              "}\n",
              "\n",
              "        displayQuickchartButton(document);\n",
              "      </script>\n",
              "      <style>\n",
              "    .colab-df-container {\n",
              "      display:flex;\n",
              "      flex-wrap:wrap;\n",
              "      gap: 12px;\n",
              "    }\n",
              "\n",
              "    .colab-df-convert {\n",
              "      background-color: #E8F0FE;\n",
              "      border: none;\n",
              "      border-radius: 50%;\n",
              "      cursor: pointer;\n",
              "      display: none;\n",
              "      fill: #1967D2;\n",
              "      height: 32px;\n",
              "      padding: 0 0 0 0;\n",
              "      width: 32px;\n",
              "    }\n",
              "\n",
              "    .colab-df-convert:hover {\n",
              "      background-color: #E2EBFA;\n",
              "      box-shadow: 0px 1px 2px rgba(60, 64, 67, 0.3), 0px 1px 3px 1px rgba(60, 64, 67, 0.15);\n",
              "      fill: #174EA6;\n",
              "    }\n",
              "\n",
              "    [theme=dark] .colab-df-convert {\n",
              "      background-color: #3B4455;\n",
              "      fill: #D2E3FC;\n",
              "    }\n",
              "\n",
              "    [theme=dark] .colab-df-convert:hover {\n",
              "      background-color: #434B5C;\n",
              "      box-shadow: 0px 1px 3px 1px rgba(0, 0, 0, 0.15);\n",
              "      filter: drop-shadow(0px 1px 2px rgba(0, 0, 0, 0.3));\n",
              "      fill: #FFFFFF;\n",
              "    }\n",
              "  </style>\n",
              "\n",
              "      <script>\n",
              "        const buttonEl =\n",
              "          document.querySelector('#df-1dd6cd0b-0d62-47b9-82de-fb1eb77f333a button.colab-df-convert');\n",
              "        buttonEl.style.display =\n",
              "          google.colab.kernel.accessAllowed ? 'block' : 'none';\n",
              "\n",
              "        async function convertToInteractive(key) {\n",
              "          const element = document.querySelector('#df-1dd6cd0b-0d62-47b9-82de-fb1eb77f333a');\n",
              "          const dataTable =\n",
              "            await google.colab.kernel.invokeFunction('convertToInteractive',\n",
              "                                                     [key], {});\n",
              "          if (!dataTable) return;\n",
              "\n",
              "          const docLinkHtml = 'Like what you see? Visit the ' +\n",
              "            '<a target=\"_blank\" href=https://colab.research.google.com/notebooks/data_table.ipynb>data table notebook</a>'\n",
              "            + ' to learn more about interactive tables.';\n",
              "          element.innerHTML = '';\n",
              "          dataTable['output_type'] = 'display_data';\n",
              "          await google.colab.output.renderOutput(dataTable, element);\n",
              "          const docLink = document.createElement('div');\n",
              "          docLink.innerHTML = docLinkHtml;\n",
              "          element.appendChild(docLink);\n",
              "        }\n",
              "      </script>\n",
              "    </div>\n",
              "  </div>\n"
            ]
          },
          "metadata": {},
          "execution_count": 13
        }
      ]
    },
    {
      "cell_type": "code",
      "source": [
        "data[0]"
      ],
      "metadata": {
        "colab": {
          "base_uri": "https://localhost:8080/"
        },
        "id": "3v8W8Utunbf0",
        "outputId": "4f68653c-dae8-4875-e127-4ff3c7324f54"
      },
      "execution_count": null,
      "outputs": [
        {
          "output_type": "execute_result",
          "data": {
            "text/plain": [
              "{'longitude': -122.05,\n",
              " 'latitude': 37.37,\n",
              " 'housing_median_age': 27.0,\n",
              " 'total_rooms': 3885.0,\n",
              " 'total_bedrooms': 661.0,\n",
              " 'population': 1537.0,\n",
              " 'households': 606.0,\n",
              " 'median_income': 6.6085,\n",
              " 'median_house_value': 344700.0}"
            ]
          },
          "metadata": {},
          "execution_count": 14
        }
      ]
    },
    {
      "cell_type": "code",
      "source": [
        "# Number of datapoints and columns\n",
        "num_datapoints, num_columns = len(housing_df), len(housing_df.columns)\n",
        "print(\"Number of datapoints: \", num_datapoints)\n",
        "print(\"Number of columns: \", num_columns)\n"
      ],
      "metadata": {
        "colab": {
          "base_uri": "https://localhost:8080/"
        },
        "id": "BReEj1eOTLaA",
        "outputId": "5359e105-4bbd-471e-9793-837f413dec1c"
      },
      "execution_count": null,
      "outputs": [
        {
          "output_type": "stream",
          "name": "stdout",
          "text": [
            "Number of datapoints:  10\n",
            "Number of columns:  9\n"
          ]
        }
      ]
    },
    {
      "cell_type": "code",
      "source": [
        "from time import sleep"
      ],
      "metadata": {
        "id": "aRtKNK_4eX2Z"
      },
      "execution_count": null,
      "outputs": []
    },
    {
      "cell_type": "code",
      "source": [
        "# # Define the Kafka topic\n",
        "# topic = \"housing_data\"\n",
        "\n",
        "# # Create a Kafka producer\n",
        "# producer = KafkaProducer(bootstrap_servers=\"localhost:9092\")\n",
        "\n",
        "# # Iterate over the data and send each row to Kafka\n",
        "# # for row in data:\n",
        "# #     print(row)\n",
        "# message = json.dumps(data).encode(\"utf-8\")\n",
        "# producer.send(topic, message)\n",
        "# #     sleep(2)\n",
        "# # # Flush the producer\n",
        "# # producer.flush()"
      ],
      "metadata": {
        "id": "NbzpdNNr3cuc"
      },
      "execution_count": null,
      "outputs": []
    },
    {
      "cell_type": "code",
      "source": [
        "# Define the Kafka topic\n",
        "topic = \"housing_data\"\n",
        "\n",
        "# Create a Kafka producer\n",
        "producer = KafkaProducer(bootstrap_servers=\"localhost:9092\")\n",
        "\n",
        "# Iterate over the data and send each row to Kafka\n",
        "for row in data:\n",
        "    print(row)\n",
        "    message = json.dumps(row).encode(\"utf-8\")\n",
        "    producer.send(topic, message)\n",
        "    sleep(2)\n",
        "# Flush the producer\n",
        "producer.flush()"
      ],
      "metadata": {
        "id": "qC6-N4vqTY_B",
        "colab": {
          "base_uri": "https://localhost:8080/"
        },
        "outputId": "de945465-e7c8-4dc0-f3a5-4500cafd6c55"
      },
      "execution_count": null,
      "outputs": [
        {
          "output_type": "stream",
          "name": "stdout",
          "text": [
            "{'longitude': -122.05, 'latitude': 37.37, 'housing_median_age': 27.0, 'total_rooms': 3885.0, 'total_bedrooms': 661.0, 'population': 1537.0, 'households': 606.0, 'median_income': 6.6085, 'median_house_value': 344700.0}\n",
            "{'longitude': -118.3, 'latitude': 34.26, 'housing_median_age': 43.0, 'total_rooms': 1510.0, 'total_bedrooms': 310.0, 'population': 809.0, 'households': 277.0, 'median_income': 3.599, 'median_house_value': 176500.0}\n",
            "{'longitude': -117.81, 'latitude': 33.78, 'housing_median_age': 27.0, 'total_rooms': 3589.0, 'total_bedrooms': 507.0, 'population': 1484.0, 'households': 495.0, 'median_income': 5.7934, 'median_house_value': 270500.0}\n",
            "{'longitude': -118.36, 'latitude': 33.82, 'housing_median_age': 28.0, 'total_rooms': 67.0, 'total_bedrooms': 15.0, 'population': 49.0, 'households': 11.0, 'median_income': 6.1359, 'median_house_value': 330000.0}\n",
            "{'longitude': -119.67, 'latitude': 36.33, 'housing_median_age': 19.0, 'total_rooms': 1241.0, 'total_bedrooms': 244.0, 'population': 850.0, 'households': 237.0, 'median_income': 2.9375, 'median_house_value': 81700.0}\n",
            "{'longitude': -119.56, 'latitude': 36.51, 'housing_median_age': 37.0, 'total_rooms': 1018.0, 'total_bedrooms': 213.0, 'population': 663.0, 'households': 204.0, 'median_income': 1.6635, 'median_house_value': 67000.0}\n",
            "{'longitude': -121.43, 'latitude': 38.63, 'housing_median_age': 43.0, 'total_rooms': 1009.0, 'total_bedrooms': 225.0, 'population': 604.0, 'households': 218.0, 'median_income': 1.6641, 'median_house_value': 67000.0}\n",
            "{'longitude': -120.65, 'latitude': 35.48, 'housing_median_age': 19.0, 'total_rooms': 2310.0, 'total_bedrooms': 471.0, 'population': 1341.0, 'households': 441.0, 'median_income': 3.225, 'median_house_value': 166900.0}\n",
            "{'longitude': -122.84, 'latitude': 38.4, 'housing_median_age': 15.0, 'total_rooms': 3080.0, 'total_bedrooms': 617.0, 'population': 1446.0, 'households': 599.0, 'median_income': 3.6696, 'median_house_value': 194400.0}\n",
            "{'longitude': -118.02, 'latitude': 34.08, 'housing_median_age': 31.0, 'total_rooms': 2402.0, 'total_bedrooms': 632.0, 'population': 2830.0, 'households': 603.0, 'median_income': 2.3333, 'median_house_value': 164200.0}\n"
          ]
        }
      ]
    },
    {
      "cell_type": "markdown",
      "source": [
        "## View the data from the topic"
      ],
      "metadata": {
        "id": "wakKLkr9L7rX"
      }
    },
    {
      "cell_type": "markdown",
      "source": [
        "# New Section"
      ],
      "metadata": {
        "id": "S-I-7dQozo6c"
      }
    },
    {
      "cell_type": "code",
      "source": [
        "from google.colab import drive\n",
        "drive.mount('/content/drive')"
      ],
      "metadata": {
        "id": "Bhsoa3GvzrYk",
        "colab": {
          "base_uri": "https://localhost:8080/"
        },
        "outputId": "363c8fd0-bb0b-4e84-909a-a3d02eea045e"
      },
      "execution_count": null,
      "outputs": [
        {
          "output_type": "stream",
          "name": "stdout",
          "text": [
            "Drive already mounted at /content/drive; to attempt to forcibly remount, call drive.mount(\"/content/drive\", force_remount=True).\n"
          ]
        }
      ]
    },
    {
      "cell_type": "code",
      "source": [
        "!./kafka_2.12-3.5.0/bin/kafka-console-consumer.sh --bootstrap-server localhost:9092 --topic housing_data --from-beginning --max-messages 10"
      ],
      "metadata": {
        "colab": {
          "base_uri": "https://localhost:8080/"
        },
        "id": "REgwdWKLYZJb",
        "outputId": "906001ad-ddc2-4bcb-d825-0660b3b9778a"
      },
      "execution_count": null,
      "outputs": [
        {
          "output_type": "stream",
          "name": "stdout",
          "text": [
            "{\"longitude\": -122.05, \"latitude\": 37.37, \"housing_median_age\": 27.0, \"total_rooms\": 3885.0, \"total_bedrooms\": 661.0, \"population\": 1537.0, \"households\": 606.0, \"median_income\": 6.6085, \"median_house_value\": 344700.0}\n",
            "{\"longitude\": -118.3, \"latitude\": 34.26, \"housing_median_age\": 43.0, \"total_rooms\": 1510.0, \"total_bedrooms\": 310.0, \"population\": 809.0, \"households\": 277.0, \"median_income\": 3.599, \"median_house_value\": 176500.0}\n",
            "{\"longitude\": -117.81, \"latitude\": 33.78, \"housing_median_age\": 27.0, \"total_rooms\": 3589.0, \"total_bedrooms\": 507.0, \"population\": 1484.0, \"households\": 495.0, \"median_income\": 5.7934, \"median_house_value\": 270500.0}\n",
            "{\"longitude\": -118.36, \"latitude\": 33.82, \"housing_median_age\": 28.0, \"total_rooms\": 67.0, \"total_bedrooms\": 15.0, \"population\": 49.0, \"households\": 11.0, \"median_income\": 6.1359, \"median_house_value\": 330000.0}\n",
            "{\"longitude\": -119.67, \"latitude\": 36.33, \"housing_median_age\": 19.0, \"total_rooms\": 1241.0, \"total_bedrooms\": 244.0, \"population\": 850.0, \"households\": 237.0, \"median_income\": 2.9375, \"median_house_value\": 81700.0}\n",
            "{\"longitude\": -119.56, \"latitude\": 36.51, \"housing_median_age\": 37.0, \"total_rooms\": 1018.0, \"total_bedrooms\": 213.0, \"population\": 663.0, \"households\": 204.0, \"median_income\": 1.6635, \"median_house_value\": 67000.0}\n",
            "{\"longitude\": -121.43, \"latitude\": 38.63, \"housing_median_age\": 43.0, \"total_rooms\": 1009.0, \"total_bedrooms\": 225.0, \"population\": 604.0, \"households\": 218.0, \"median_income\": 1.6641, \"median_house_value\": 67000.0}\n",
            "{\"longitude\": -120.65, \"latitude\": 35.48, \"housing_median_age\": 19.0, \"total_rooms\": 2310.0, \"total_bedrooms\": 471.0, \"population\": 1341.0, \"households\": 441.0, \"median_income\": 3.225, \"median_house_value\": 166900.0}\n",
            "{\"longitude\": -122.84, \"latitude\": 38.4, \"housing_median_age\": 15.0, \"total_rooms\": 3080.0, \"total_bedrooms\": 617.0, \"population\": 1446.0, \"households\": 599.0, \"median_income\": 3.6696, \"median_house_value\": 194400.0}\n",
            "{\"longitude\": -118.02, \"latitude\": 34.08, \"housing_median_age\": 31.0, \"total_rooms\": 2402.0, \"total_bedrooms\": 632.0, \"population\": 2830.0, \"households\": 603.0, \"median_income\": 2.3333, \"median_house_value\": 164200.0}\n",
            "Processed a total of 10 messages\n"
          ]
        }
      ]
    },
    {
      "cell_type": "code",
      "source": [],
      "metadata": {
        "id": "6OLcfHmGeceU"
      },
      "execution_count": null,
      "outputs": []
    }
  ]
}